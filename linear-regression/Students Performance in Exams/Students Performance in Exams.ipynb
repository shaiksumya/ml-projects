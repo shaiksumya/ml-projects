{
 "cells": [
  {
   "cell_type": "code",
   "execution_count": 1,
   "id": "2cd76a12",
   "metadata": {},
   "outputs": [
    {
     "data": {
      "text/html": [
       "<div>\n",
       "<style scoped>\n",
       "    .dataframe tbody tr th:only-of-type {\n",
       "        vertical-align: middle;\n",
       "    }\n",
       "\n",
       "    .dataframe tbody tr th {\n",
       "        vertical-align: top;\n",
       "    }\n",
       "\n",
       "    .dataframe thead th {\n",
       "        text-align: right;\n",
       "    }\n",
       "</style>\n",
       "<table border=\"1\" class=\"dataframe\">\n",
       "  <thead>\n",
       "    <tr style=\"text-align: right;\">\n",
       "      <th></th>\n",
       "      <th>gender</th>\n",
       "      <th>race/ethnicity</th>\n",
       "      <th>parental level of education</th>\n",
       "      <th>lunch</th>\n",
       "      <th>test preparation course</th>\n",
       "      <th>math score</th>\n",
       "      <th>reading score</th>\n",
       "      <th>writing score</th>\n",
       "    </tr>\n",
       "  </thead>\n",
       "  <tbody>\n",
       "    <tr>\n",
       "      <th>0</th>\n",
       "      <td>female</td>\n",
       "      <td>group B</td>\n",
       "      <td>bachelor's degree</td>\n",
       "      <td>standard</td>\n",
       "      <td>none</td>\n",
       "      <td>72</td>\n",
       "      <td>72</td>\n",
       "      <td>74</td>\n",
       "    </tr>\n",
       "    <tr>\n",
       "      <th>1</th>\n",
       "      <td>female</td>\n",
       "      <td>group C</td>\n",
       "      <td>some college</td>\n",
       "      <td>standard</td>\n",
       "      <td>completed</td>\n",
       "      <td>69</td>\n",
       "      <td>90</td>\n",
       "      <td>88</td>\n",
       "    </tr>\n",
       "    <tr>\n",
       "      <th>2</th>\n",
       "      <td>female</td>\n",
       "      <td>group B</td>\n",
       "      <td>master's degree</td>\n",
       "      <td>standard</td>\n",
       "      <td>none</td>\n",
       "      <td>90</td>\n",
       "      <td>95</td>\n",
       "      <td>93</td>\n",
       "    </tr>\n",
       "    <tr>\n",
       "      <th>3</th>\n",
       "      <td>male</td>\n",
       "      <td>group A</td>\n",
       "      <td>associate's degree</td>\n",
       "      <td>free/reduced</td>\n",
       "      <td>none</td>\n",
       "      <td>47</td>\n",
       "      <td>57</td>\n",
       "      <td>44</td>\n",
       "    </tr>\n",
       "    <tr>\n",
       "      <th>4</th>\n",
       "      <td>male</td>\n",
       "      <td>group C</td>\n",
       "      <td>some college</td>\n",
       "      <td>standard</td>\n",
       "      <td>none</td>\n",
       "      <td>76</td>\n",
       "      <td>78</td>\n",
       "      <td>75</td>\n",
       "    </tr>\n",
       "  </tbody>\n",
       "</table>\n",
       "</div>"
      ],
      "text/plain": [
       "   gender race/ethnicity parental level of education         lunch  \\\n",
       "0  female        group B           bachelor's degree      standard   \n",
       "1  female        group C                some college      standard   \n",
       "2  female        group B             master's degree      standard   \n",
       "3    male        group A          associate's degree  free/reduced   \n",
       "4    male        group C                some college      standard   \n",
       "\n",
       "  test preparation course  math score  reading score  writing score  \n",
       "0                    none          72             72             74  \n",
       "1               completed          69             90             88  \n",
       "2                    none          90             95             93  \n",
       "3                    none          47             57             44  \n",
       "4                    none          76             78             75  "
      ]
     },
     "execution_count": 1,
     "metadata": {},
     "output_type": "execute_result"
    }
   ],
   "source": [
    "#importing the dataset \n",
    "\n",
    "import pandas as pd\n",
    "\n",
    "df = pd.read_csv(r'C:\\Users\\shaik\\OneDrive\\Desktop\\DATA_SETS\\StudentsPerformance.csv')\n",
    "\n",
    "# Display the first 5 rows to check if it's loaded correctly\n",
    "df.head()\n"
   ]
  },
  {
   "cell_type": "code",
   "execution_count": 2,
   "id": "92efe53c-1158-45e8-9705-ef0565f70aaf",
   "metadata": {},
   "outputs": [
    {
     "name": "stdout",
     "output_type": "stream",
     "text": [
      "<class 'pandas.core.frame.DataFrame'>\n",
      "RangeIndex: 1000 entries, 0 to 999\n",
      "Data columns (total 8 columns):\n",
      " #   Column                       Non-Null Count  Dtype \n",
      "---  ------                       --------------  ----- \n",
      " 0   gender                       1000 non-null   object\n",
      " 1   race/ethnicity               1000 non-null   object\n",
      " 2   parental level of education  1000 non-null   object\n",
      " 3   lunch                        1000 non-null   object\n",
      " 4   test preparation course      1000 non-null   object\n",
      " 5   math score                   1000 non-null   int64 \n",
      " 6   reading score                1000 non-null   int64 \n",
      " 7   writing score                1000 non-null   int64 \n",
      "dtypes: int64(3), object(5)\n",
      "memory usage: 62.6+ KB\n",
      "None\n",
      " \n",
      "-------------------------------------------------------------------------------------- \n",
      "       math score  reading score  writing score\n",
      "count  1000.00000    1000.000000    1000.000000\n",
      "mean     66.08900      69.169000      68.054000\n",
      "std      15.16308      14.600192      15.195657\n",
      "min       0.00000      17.000000      10.000000\n",
      "25%      57.00000      59.000000      57.750000\n",
      "50%      66.00000      70.000000      69.000000\n",
      "75%      77.00000      79.000000      79.000000\n",
      "max     100.00000     100.000000     100.000000\n",
      " \n",
      "-------------------------------------------------------------------------------------- \n",
      "gender                         0\n",
      "race/ethnicity                 0\n",
      "parental level of education    0\n",
      "lunch                          0\n",
      "test preparation course        0\n",
      "math score                     0\n",
      "reading score                  0\n",
      "writing score                  0\n",
      "dtype: int64\n"
     ]
    }
   ],
   "source": [
    "# Basic info\n",
    "print(df.info())\n",
    "print(\" \")\n",
    "print(\"-------------------------------------------------------------------------------------- \")\n",
    "print(df.describe())\n",
    "print(\" \")\n",
    "print(\"-------------------------------------------------------------------------------------- \")\n",
    "# Check for nulls\n",
    "#the below code prints total null values \n",
    "print(df.isnull().sum())"
   ]
  },
  {
   "cell_type": "code",
   "execution_count": 3,
   "id": "72e81f70-196e-4b95-a00f-4353664b41ef",
   "metadata": {},
   "outputs": [
    {
     "data": {
      "text/html": [
       "<div>\n",
       "<style scoped>\n",
       "    .dataframe tbody tr th:only-of-type {\n",
       "        vertical-align: middle;\n",
       "    }\n",
       "\n",
       "    .dataframe tbody tr th {\n",
       "        vertical-align: top;\n",
       "    }\n",
       "\n",
       "    .dataframe thead th {\n",
       "        text-align: right;\n",
       "    }\n",
       "</style>\n",
       "<table border=\"1\" class=\"dataframe\">\n",
       "  <thead>\n",
       "    <tr style=\"text-align: right;\">\n",
       "      <th></th>\n",
       "      <th>parental level of education</th>\n",
       "      <th>lunch</th>\n",
       "      <th>test preparation course</th>\n",
       "      <th>math score</th>\n",
       "      <th>reading score</th>\n",
       "      <th>writing score</th>\n",
       "    </tr>\n",
       "  </thead>\n",
       "  <tbody>\n",
       "    <tr>\n",
       "      <th>0</th>\n",
       "      <td>bachelor's degree</td>\n",
       "      <td>standard</td>\n",
       "      <td>none</td>\n",
       "      <td>72</td>\n",
       "      <td>72</td>\n",
       "      <td>74</td>\n",
       "    </tr>\n",
       "    <tr>\n",
       "      <th>1</th>\n",
       "      <td>some college</td>\n",
       "      <td>standard</td>\n",
       "      <td>completed</td>\n",
       "      <td>69</td>\n",
       "      <td>90</td>\n",
       "      <td>88</td>\n",
       "    </tr>\n",
       "    <tr>\n",
       "      <th>2</th>\n",
       "      <td>master's degree</td>\n",
       "      <td>standard</td>\n",
       "      <td>none</td>\n",
       "      <td>90</td>\n",
       "      <td>95</td>\n",
       "      <td>93</td>\n",
       "    </tr>\n",
       "    <tr>\n",
       "      <th>3</th>\n",
       "      <td>associate's degree</td>\n",
       "      <td>free/reduced</td>\n",
       "      <td>none</td>\n",
       "      <td>47</td>\n",
       "      <td>57</td>\n",
       "      <td>44</td>\n",
       "    </tr>\n",
       "    <tr>\n",
       "      <th>4</th>\n",
       "      <td>some college</td>\n",
       "      <td>standard</td>\n",
       "      <td>none</td>\n",
       "      <td>76</td>\n",
       "      <td>78</td>\n",
       "      <td>75</td>\n",
       "    </tr>\n",
       "  </tbody>\n",
       "</table>\n",
       "</div>"
      ],
      "text/plain": [
       "  parental level of education         lunch test preparation course  \\\n",
       "0           bachelor's degree      standard                    none   \n",
       "1                some college      standard               completed   \n",
       "2             master's degree      standard                    none   \n",
       "3          associate's degree  free/reduced                    none   \n",
       "4                some college      standard                    none   \n",
       "\n",
       "   math score  reading score  writing score  \n",
       "0          72             72             74  \n",
       "1          69             90             88  \n",
       "2          90             95             93  \n",
       "3          47             57             44  \n",
       "4          76             78             75  "
      ]
     },
     "execution_count": 3,
     "metadata": {},
     "output_type": "execute_result"
    }
   ],
   "source": [
    "# If you want to drop multiple columns:\n",
    "\n",
    "df = df.drop(['gender', 'race/ethnicity'], axis=1)\n",
    "\n",
    "#axis=1 → means column (axis=0 would mean row)\n",
    "\n",
    "df.head()"
   ]
  },
  {
   "cell_type": "code",
   "execution_count": 4,
   "id": "2cf74e1d-f75e-4deb-a066-f8875a972bcd",
   "metadata": {},
   "outputs": [
    {
     "name": "stdout",
     "output_type": "stream",
     "text": [
      "[\"bachelor's degree\" 'some college' \"master's degree\" \"associate's degree\"\n",
      " 'high school' 'some high school']\n"
     ]
    }
   ],
   "source": [
    "#. How to tell if a column is categorical\n",
    "''' method 1:➤ Method 1: df.info()\n",
    "df.info()\n",
    "If the parental level of education column shows as object or category, it’s categorical.'''\n",
    "# method 2 below  Check number of unique values\n",
    "print(df['parental level of education'].unique())\n"
   ]
  },
  {
   "cell_type": "code",
   "execution_count": 5,
   "id": "3b51641e-929e-4954-b937-1523ef42e722",
   "metadata": {},
   "outputs": [],
   "source": [
    "#throught the below two code we can clearly understand that parents education level effect the student scores"
   ]
  },
  {
   "cell_type": "code",
   "execution_count": 6,
   "id": "8dbe9530-dba1-484b-aef6-9cb663ba129d",
   "metadata": {},
   "outputs": [
    {
     "data": {
      "text/plain": [
       "\" info from chatgpt\\n🎓 Parental Education Levels (High → Low)\\n\\nMaster's degree\\n\\nBachelor's degree\\n\\nAssociate's degree\\n\\nSome college\\n\\nHigh school\""
      ]
     },
     "execution_count": 6,
     "metadata": {},
     "output_type": "execute_result"
    }
   ],
   "source": [
    "''' info from chatgpt\n",
    "🎓 Parental Education Levels (High → Low)\n",
    "\n",
    "Master's degree\n",
    "\n",
    "Bachelor's degree\n",
    "\n",
    "Associate's degree\n",
    "\n",
    "Some college\n",
    "\n",
    "High school'''\n"
   ]
  },
  {
   "cell_type": "code",
   "execution_count": 7,
   "id": "d3dedeb2-6ef4-490c-8912-af6b619ad71c",
   "metadata": {},
   "outputs": [
    {
     "data": {
      "text/html": [
       "<div>\n",
       "<style scoped>\n",
       "    .dataframe tbody tr th:only-of-type {\n",
       "        vertical-align: middle;\n",
       "    }\n",
       "\n",
       "    .dataframe tbody tr th {\n",
       "        vertical-align: top;\n",
       "    }\n",
       "\n",
       "    .dataframe thead th {\n",
       "        text-align: right;\n",
       "    }\n",
       "</style>\n",
       "<table border=\"1\" class=\"dataframe\">\n",
       "  <thead>\n",
       "    <tr style=\"text-align: right;\">\n",
       "      <th></th>\n",
       "      <th>math score</th>\n",
       "      <th>reading score</th>\n",
       "      <th>writing score</th>\n",
       "    </tr>\n",
       "    <tr>\n",
       "      <th>parental level of education</th>\n",
       "      <th></th>\n",
       "      <th></th>\n",
       "      <th></th>\n",
       "    </tr>\n",
       "  </thead>\n",
       "  <tbody>\n",
       "    <tr>\n",
       "      <th>associate's degree</th>\n",
       "      <td>67.882883</td>\n",
       "      <td>70.927928</td>\n",
       "      <td>69.896396</td>\n",
       "    </tr>\n",
       "    <tr>\n",
       "      <th>bachelor's degree</th>\n",
       "      <td>69.389831</td>\n",
       "      <td>73.000000</td>\n",
       "      <td>73.381356</td>\n",
       "    </tr>\n",
       "    <tr>\n",
       "      <th>high school</th>\n",
       "      <td>62.137755</td>\n",
       "      <td>64.704082</td>\n",
       "      <td>62.448980</td>\n",
       "    </tr>\n",
       "    <tr>\n",
       "      <th>master's degree</th>\n",
       "      <td>69.745763</td>\n",
       "      <td>75.372881</td>\n",
       "      <td>75.677966</td>\n",
       "    </tr>\n",
       "    <tr>\n",
       "      <th>some college</th>\n",
       "      <td>67.128319</td>\n",
       "      <td>69.460177</td>\n",
       "      <td>68.840708</td>\n",
       "    </tr>\n",
       "    <tr>\n",
       "      <th>some high school</th>\n",
       "      <td>63.497207</td>\n",
       "      <td>66.938547</td>\n",
       "      <td>64.888268</td>\n",
       "    </tr>\n",
       "  </tbody>\n",
       "</table>\n",
       "</div>"
      ],
      "text/plain": [
       "                             math score  reading score  writing score\n",
       "parental level of education                                          \n",
       "associate's degree            67.882883      70.927928      69.896396\n",
       "bachelor's degree             69.389831      73.000000      73.381356\n",
       "high school                   62.137755      64.704082      62.448980\n",
       "master's degree               69.745763      75.372881      75.677966\n",
       "some college                  67.128319      69.460177      68.840708\n",
       "some high school              63.497207      66.938547      64.888268"
      ]
     },
     "execution_count": 7,
     "metadata": {},
     "output_type": "execute_result"
    }
   ],
   "source": [
    "#Can a parent’s education level be used to understand or predict how well a student scores?\n",
    "\n",
    "'''✅ Here's how to check if parental education affects student scores\n",
    "\n",
    "1. 📊 Group by education level and take mean scores '''\n",
    "\n",
    "\n",
    "df.groupby('parental level of education')[['math score', 'reading score', 'writing score']].mean()\n"
   ]
  },
  {
   "cell_type": "code",
   "execution_count": 8,
   "id": "febbbc92-ad8d-41d3-8b89-775777870e13",
   "metadata": {},
   "outputs": [
    {
     "data": {
      "image/png": "[encoded data removed]",
      "text/plain": [
       "<Figure size 1000x500 with 1 Axes>"
      ]
     },
     "metadata": {},
     "output_type": "display_data"
    }
   ],
   "source": [
    "#✅ Sorted Bar Plot (Descending by Math Score)\n",
    "\n",
    "import seaborn as sns\n",
    "import matplotlib.pyplot as plt\n",
    "\n",
    "# Group by education level and calculate the mean math score, then sort it\n",
    "sorted_df = df.groupby('parental level of education', as_index=False)['math score'].mean().sort_values(by='math score', ascending=False)\n",
    "\n",
    "# Plot using the sorted DataFrame\n",
    "plt.figure(figsize=(10, 5))\n",
    "sns.barplot(data=sorted_df, x='parental level of education', y='math score')\n",
    "plt.xticks(rotation=45)\n",
    "plt.title('Math Score by Parental Education Level (Descending Order)')\n",
    "plt.show()\n"
   ]
  },
  {
   "cell_type": "code",
   "execution_count": 9,
   "id": "f34d8fea-4daa-48a2-a6e9-ad24ec292b69",
   "metadata": {},
   "outputs": [
    {
     "data": {
      "text/plain": [
       "parental level of education      int8\n",
       "lunch                          object\n",
       "test preparation course        object\n",
       "math score                      int64\n",
       "reading score                   int64\n",
       "writing score                   int64\n",
       "dtype: object"
      ]
     },
     "execution_count": 9,
     "metadata": {},
     "output_type": "execute_result"
    }
   ],
   "source": [
    "#so from above we understood the order of education \n",
    "# so now ,This helps a lot when plotting or modeling — it tells pandas/seaborn to treat the categories in that specific order.\n",
    "\n",
    "import pandas as pd\n",
    "\n",
    "education_order = [\n",
    "    \"master's degree\", \n",
    "    \"bachelor's degree\", \n",
    "    \"associate's degree\", \n",
    "    \"some college\", \n",
    "    \"high school\"\n",
    "]\n",
    "\n",
    "df['parental level of education'] = pd.Categorical(\n",
    "    df['parental level of education'],\n",
    "    categories=education_order,\n",
    "    ordered=True\n",
    ")\n",
    "#How to convert to category?\n",
    "df['parental level of education'] = df['parental level of education'].cat.codes\n",
    "\n",
    "df.dtypes\n"
   ]
  },
  {
   "cell_type": "code",
   "execution_count": 10,
   "id": "76a461a9-0571-4199-92ee-4743723af350",
   "metadata": {},
   "outputs": [
    {
     "data": {
      "text/html": [
       "<div>\n",
       "<style scoped>\n",
       "    .dataframe tbody tr th:only-of-type {\n",
       "        vertical-align: middle;\n",
       "    }\n",
       "\n",
       "    .dataframe tbody tr th {\n",
       "        vertical-align: top;\n",
       "    }\n",
       "\n",
       "    .dataframe thead th {\n",
       "        text-align: right;\n",
       "    }\n",
       "</style>\n",
       "<table border=\"1\" class=\"dataframe\">\n",
       "  <thead>\n",
       "    <tr style=\"text-align: right;\">\n",
       "      <th></th>\n",
       "      <th>parental level of education</th>\n",
       "      <th>lunch</th>\n",
       "      <th>test preparation course</th>\n",
       "      <th>math score</th>\n",
       "      <th>reading score</th>\n",
       "      <th>writing score</th>\n",
       "    </tr>\n",
       "  </thead>\n",
       "  <tbody>\n",
       "    <tr>\n",
       "      <th>0</th>\n",
       "      <td>1</td>\n",
       "      <td>standard</td>\n",
       "      <td>none</td>\n",
       "      <td>72</td>\n",
       "      <td>72</td>\n",
       "      <td>74</td>\n",
       "    </tr>\n",
       "    <tr>\n",
       "      <th>1</th>\n",
       "      <td>3</td>\n",
       "      <td>standard</td>\n",
       "      <td>completed</td>\n",
       "      <td>69</td>\n",
       "      <td>90</td>\n",
       "      <td>88</td>\n",
       "    </tr>\n",
       "    <tr>\n",
       "      <th>2</th>\n",
       "      <td>0</td>\n",
       "      <td>standard</td>\n",
       "      <td>none</td>\n",
       "      <td>90</td>\n",
       "      <td>95</td>\n",
       "      <td>93</td>\n",
       "    </tr>\n",
       "    <tr>\n",
       "      <th>3</th>\n",
       "      <td>2</td>\n",
       "      <td>free/reduced</td>\n",
       "      <td>none</td>\n",
       "      <td>47</td>\n",
       "      <td>57</td>\n",
       "      <td>44</td>\n",
       "    </tr>\n",
       "    <tr>\n",
       "      <th>4</th>\n",
       "      <td>3</td>\n",
       "      <td>standard</td>\n",
       "      <td>none</td>\n",
       "      <td>76</td>\n",
       "      <td>78</td>\n",
       "      <td>75</td>\n",
       "    </tr>\n",
       "  </tbody>\n",
       "</table>\n",
       "</div>"
      ],
      "text/plain": [
       "   parental level of education         lunch test preparation course  \\\n",
       "0                            1      standard                    none   \n",
       "1                            3      standard               completed   \n",
       "2                            0      standard                    none   \n",
       "3                            2  free/reduced                    none   \n",
       "4                            3      standard                    none   \n",
       "\n",
       "   math score  reading score  writing score  \n",
       "0          72             72             74  \n",
       "1          69             90             88  \n",
       "2          90             95             93  \n",
       "3          47             57             44  \n",
       "4          76             78             75  "
      ]
     },
     "execution_count": 10,
     "metadata": {},
     "output_type": "execute_result"
    }
   ],
   "source": [
    "df.head()"
   ]
  },
  {
   "cell_type": "code",
   "execution_count": 11,
   "id": "fa7f7472-e7dd-492c-ad51-a4e624faff17",
   "metadata": {},
   "outputs": [],
   "source": [
    "#now just like \"parental level of education\" lets work on \"lunch\""
   ]
  },
  {
   "cell_type": "code",
   "execution_count": 12,
   "id": "74b9e61c-d9a7-4272-bf1d-456e9f04e42e",
   "metadata": {},
   "outputs": [
    {
     "name": "stdout",
     "output_type": "stream",
     "text": [
      "['standard' 'free/reduced']\n"
     ]
    }
   ],
   "source": [
    "print(df['lunch'].unique())"
   ]
  },
  {
   "cell_type": "code",
   "execution_count": 13,
   "id": "05c8ccd8-536a-4644-8076-ffd5bd749e34",
   "metadata": {},
   "outputs": [
    {
     "name": "stdout",
     "output_type": "stream",
     "text": [
      "              math score  reading score  writing score\n",
      "lunch                                                 \n",
      "free/reduced   58.921127      64.653521      63.022535\n",
      "standard       70.034109      71.654264      70.823256\n"
     ]
    }
   ],
   "source": [
    "# lets check whether score depends on lunch or not\n",
    "\n",
    "print(df.groupby('lunch')[['math score', 'reading score', 'writing score']].mean())"
   ]
  },
  {
   "cell_type": "code",
   "execution_count": 14,
   "id": "c4f4bc0c-4290-4ff9-9630-aa18b885f24b",
   "metadata": {},
   "outputs": [
    {
     "data": {
      "image/png": "[encoded data removed]",
      "text/plain": [
       "<Figure size 1200x400 with 3 Axes>"
      ]
     },
     "metadata": {},
     "output_type": "display_data"
    }
   ],
   "source": [
    "#yes absolutely score depends on lunch \n",
    "#lets plot it \n",
    "import seaborn as sns\n",
    "import matplotlib.pyplot as plt\n",
    "\n",
    "plt.figure(figsize=(12, 4))\n",
    "\n",
    "# Math Score vs Lunch\n",
    "plt.subplot(1, 3, 1)\n",
    "sns.barplot(data=df, x='lunch', y='math score')\n",
    "plt.title('Math Score vs Lunch')\n",
    "\n",
    "# Reading Score vs Lunch\n",
    "plt.subplot(1, 3, 2)\n",
    "sns.barplot(data=df, x='lunch', y='reading score')\n",
    "plt.title('Reading Score vs Lunch')\n",
    "\n",
    "# Writing Score vs Lunch\n",
    "plt.subplot(1, 3, 3)\n",
    "sns.barplot(data=df, x='lunch', y='writing score')\n",
    "plt.title('Writing Score vs Lunch')\n",
    "\n",
    "plt.tight_layout()\n",
    "plt.show()"
   ]
  },
  {
   "cell_type": "code",
   "execution_count": 15,
   "id": "7e516763-7aff-4f70-9c42-a37f23daafc7",
   "metadata": {},
   "outputs": [
    {
     "data": {
      "text/plain": [
       "'This way:\\n\\nstandard lunch = 1 → possibly better nutrition = better performance\\n\\nfree/reduced = 0 → may represent disadvantaged background'"
      ]
     },
     "execution_count": 15,
     "metadata": {},
     "output_type": "execute_result"
    }
   ],
   "source": [
    "#✅ Label Encoding (Binary → 0 and 1)\n",
    "'''This way:\n",
    "\n",
    "standard lunch = 1 → possibly better nutrition = better performance\n",
    "\n",
    "free/reduced = 0 → may represent disadvantaged background'''\n",
    "\n",
    "#in previous 'parental level of education' we just assigned unique values but here in lunch we are using binary 0 and 1\n",
    "#1 gets high value and 0 gets low  \n",
    "#whatever we just converted"
   ]
  },
  {
   "cell_type": "code",
   "execution_count": 16,
   "id": "6c20d935-f044-4359-a710-af1beb9acaee",
   "metadata": {},
   "outputs": [
    {
     "name": "stdout",
     "output_type": "stream",
     "text": [
      "   lunch\n",
      "0      1\n",
      "1      1\n",
      "2      1\n",
      "3      0\n",
      "4      1\n"
     ]
    }
   ],
   "source": [
    "# Encoding lunch: standard = 1, free/reduced = 0\n",
    "df['lunch'] = df['lunch'].map({\n",
    "    'standard': 1,\n",
    "    'free/reduced': 0\n",
    "})\n",
    "\n",
    "# Confirm the result\n",
    "print(df[['lunch']].head())\n"
   ]
  },
  {
   "cell_type": "code",
   "execution_count": 17,
   "id": "8b04d30a-910d-4adf-be53-a2b19a0b8e4d",
   "metadata": {},
   "outputs": [
    {
     "data": {
      "text/html": [
       "<div>\n",
       "<style scoped>\n",
       "    .dataframe tbody tr th:only-of-type {\n",
       "        vertical-align: middle;\n",
       "    }\n",
       "\n",
       "    .dataframe tbody tr th {\n",
       "        vertical-align: top;\n",
       "    }\n",
       "\n",
       "    .dataframe thead th {\n",
       "        text-align: right;\n",
       "    }\n",
       "</style>\n",
       "<table border=\"1\" class=\"dataframe\">\n",
       "  <thead>\n",
       "    <tr style=\"text-align: right;\">\n",
       "      <th></th>\n",
       "      <th>parental level of education</th>\n",
       "      <th>lunch</th>\n",
       "      <th>test preparation course</th>\n",
       "      <th>math score</th>\n",
       "      <th>reading score</th>\n",
       "      <th>writing score</th>\n",
       "    </tr>\n",
       "  </thead>\n",
       "  <tbody>\n",
       "    <tr>\n",
       "      <th>0</th>\n",
       "      <td>1</td>\n",
       "      <td>1</td>\n",
       "      <td>none</td>\n",
       "      <td>72</td>\n",
       "      <td>72</td>\n",
       "      <td>74</td>\n",
       "    </tr>\n",
       "    <tr>\n",
       "      <th>1</th>\n",
       "      <td>3</td>\n",
       "      <td>1</td>\n",
       "      <td>completed</td>\n",
       "      <td>69</td>\n",
       "      <td>90</td>\n",
       "      <td>88</td>\n",
       "    </tr>\n",
       "    <tr>\n",
       "      <th>2</th>\n",
       "      <td>0</td>\n",
       "      <td>1</td>\n",
       "      <td>none</td>\n",
       "      <td>90</td>\n",
       "      <td>95</td>\n",
       "      <td>93</td>\n",
       "    </tr>\n",
       "    <tr>\n",
       "      <th>3</th>\n",
       "      <td>2</td>\n",
       "      <td>0</td>\n",
       "      <td>none</td>\n",
       "      <td>47</td>\n",
       "      <td>57</td>\n",
       "      <td>44</td>\n",
       "    </tr>\n",
       "    <tr>\n",
       "      <th>4</th>\n",
       "      <td>3</td>\n",
       "      <td>1</td>\n",
       "      <td>none</td>\n",
       "      <td>76</td>\n",
       "      <td>78</td>\n",
       "      <td>75</td>\n",
       "    </tr>\n",
       "  </tbody>\n",
       "</table>\n",
       "</div>"
      ],
      "text/plain": [
       "   parental level of education  lunch test preparation course  math score  \\\n",
       "0                            1      1                    none          72   \n",
       "1                            3      1               completed          69   \n",
       "2                            0      1                    none          90   \n",
       "3                            2      0                    none          47   \n",
       "4                            3      1                    none          76   \n",
       "\n",
       "   reading score  writing score  \n",
       "0             72             74  \n",
       "1             90             88  \n",
       "2             95             93  \n",
       "3             57             44  \n",
       "4             78             75  "
      ]
     },
     "execution_count": 17,
     "metadata": {},
     "output_type": "execute_result"
    }
   ],
   "source": [
    "df.head()"
   ]
  },
  {
   "cell_type": "code",
   "execution_count": 18,
   "id": "eb3eca4f-d834-4b59-bca9-fed23fd9d4c1",
   "metadata": {},
   "outputs": [],
   "source": [
    "#######################################################################################################\n",
    "#in the same way lets go to test preparation course"
   ]
  },
  {
   "cell_type": "code",
   "execution_count": 19,
   "id": "82dd734a-8332-4064-894c-ec06b9d5619c",
   "metadata": {},
   "outputs": [
    {
     "name": "stdout",
     "output_type": "stream",
     "text": [
      "['none' 'completed']\n"
     ]
    }
   ],
   "source": [
    "print(df['test preparation course'].unique())"
   ]
  },
  {
   "cell_type": "code",
   "execution_count": 20,
   "id": "60bc65bd-1a0e-4450-b952-f81ab07357d9",
   "metadata": {},
   "outputs": [
    {
     "name": "stdout",
     "output_type": "stream",
     "text": [
      "                         math score  reading score  writing score\n",
      "test preparation course                                          \n",
      "completed                 69.695531      73.893855      74.418994\n",
      "none                      64.077882      66.534268      64.504673\n"
     ]
    }
   ],
   "source": [
    "print(df.groupby('test preparation course')[['math score', 'reading score', 'writing score']].mean())"
   ]
  },
  {
   "cell_type": "code",
   "execution_count": 21,
   "id": "3b05f613-fbc9-4f3e-8b63-f754a9ce308c",
   "metadata": {},
   "outputs": [
    {
     "data": {
      "image/png": "[encoded data removed]",
      "text/plain": [
       "<Figure size 1200x400 with 3 Axes>"
      ]
     },
     "metadata": {},
     "output_type": "display_data"
    }
   ],
   "source": [
    "import seaborn as sns\n",
    "import matplotlib.pyplot as plt\n",
    "\n",
    "plt.figure(figsize=(12, 4))\n",
    "\n",
    "# Math Score\n",
    "plt.subplot(1, 3, 1)\n",
    "sns.barplot(data=df, x='test preparation course', y='math score')\n",
    "plt.title('Math Score vs Test Preparation')\n",
    "\n",
    "# Reading Score\n",
    "plt.subplot(1, 3, 2)\n",
    "sns.barplot(data=df, x='test preparation course', y='reading score')\n",
    "plt.title('Reading Score vs Test Preparation')\n",
    "\n",
    "# Writing Score\n",
    "plt.subplot(1, 3, 3)\n",
    "sns.barplot(data=df, x='test preparation course', y='writing score')\n",
    "plt.title('Writing Score vs Test Preparation')\n",
    "\n",
    "plt.tight_layout()\n",
    "plt.show()"
   ]
  },
  {
   "cell_type": "code",
   "execution_count": 22,
   "id": "30af481f-2029-40da-b1a4-f42ef6dbd6dc",
   "metadata": {},
   "outputs": [
    {
     "name": "stdout",
     "output_type": "stream",
     "text": [
      "   test preparation course\n",
      "0                        0\n",
      "1                        1\n",
      "2                        0\n",
      "3                        0\n",
      "4                        0\n"
     ]
    }
   ],
   "source": [
    "# Encode test preparation course\n",
    "df['test preparation course'] = df['test preparation course'].map({\n",
    "    'completed': 1,\n",
    "    'none': 0\n",
    "})\n",
    "\n",
    "# Confirm result\n",
    "print(df[['test preparation course']].head())\n"
   ]
  },
  {
   "cell_type": "code",
   "execution_count": 23,
   "id": "de814e68-4f30-453b-917c-ccef529f84ca",
   "metadata": {},
   "outputs": [
    {
     "data": {
      "text/html": [
       "<div>\n",
       "<style scoped>\n",
       "    .dataframe tbody tr th:only-of-type {\n",
       "        vertical-align: middle;\n",
       "    }\n",
       "\n",
       "    .dataframe tbody tr th {\n",
       "        vertical-align: top;\n",
       "    }\n",
       "\n",
       "    .dataframe thead th {\n",
       "        text-align: right;\n",
       "    }\n",
       "</style>\n",
       "<table border=\"1\" class=\"dataframe\">\n",
       "  <thead>\n",
       "    <tr style=\"text-align: right;\">\n",
       "      <th></th>\n",
       "      <th>parental level of education</th>\n",
       "      <th>lunch</th>\n",
       "      <th>test preparation course</th>\n",
       "      <th>math score</th>\n",
       "      <th>reading score</th>\n",
       "      <th>writing score</th>\n",
       "    </tr>\n",
       "  </thead>\n",
       "  <tbody>\n",
       "    <tr>\n",
       "      <th>0</th>\n",
       "      <td>1</td>\n",
       "      <td>1</td>\n",
       "      <td>0</td>\n",
       "      <td>72</td>\n",
       "      <td>72</td>\n",
       "      <td>74</td>\n",
       "    </tr>\n",
       "    <tr>\n",
       "      <th>1</th>\n",
       "      <td>3</td>\n",
       "      <td>1</td>\n",
       "      <td>1</td>\n",
       "      <td>69</td>\n",
       "      <td>90</td>\n",
       "      <td>88</td>\n",
       "    </tr>\n",
       "    <tr>\n",
       "      <th>2</th>\n",
       "      <td>0</td>\n",
       "      <td>1</td>\n",
       "      <td>0</td>\n",
       "      <td>90</td>\n",
       "      <td>95</td>\n",
       "      <td>93</td>\n",
       "    </tr>\n",
       "    <tr>\n",
       "      <th>3</th>\n",
       "      <td>2</td>\n",
       "      <td>0</td>\n",
       "      <td>0</td>\n",
       "      <td>47</td>\n",
       "      <td>57</td>\n",
       "      <td>44</td>\n",
       "    </tr>\n",
       "    <tr>\n",
       "      <th>4</th>\n",
       "      <td>3</td>\n",
       "      <td>1</td>\n",
       "      <td>0</td>\n",
       "      <td>76</td>\n",
       "      <td>78</td>\n",
       "      <td>75</td>\n",
       "    </tr>\n",
       "  </tbody>\n",
       "</table>\n",
       "</div>"
      ],
      "text/plain": [
       "   parental level of education  lunch  test preparation course  math score  \\\n",
       "0                            1      1                        0          72   \n",
       "1                            3      1                        1          69   \n",
       "2                            0      1                        0          90   \n",
       "3                            2      0                        0          47   \n",
       "4                            3      1                        0          76   \n",
       "\n",
       "   reading score  writing score  \n",
       "0             72             74  \n",
       "1             90             88  \n",
       "2             95             93  \n",
       "3             57             44  \n",
       "4             78             75  "
      ]
     },
     "execution_count": 23,
     "metadata": {},
     "output_type": "execute_result"
    }
   ],
   "source": [
    "df.head()"
   ]
  },
  {
   "cell_type": "code",
   "execution_count": 24,
   "id": "6d2bbd7a-c40c-40ad-a97d-1a11a99c9f5f",
   "metadata": {},
   "outputs": [
    {
     "data": {
      "image/png": "[encoded data removed]",
      "text/plain": [
       "<Figure size 1000x400 with 2 Axes>"
      ]
     },
     "metadata": {},
     "output_type": "display_data"
    }
   ],
   "source": [
    "import seaborn as sns\n",
    "import matplotlib.pyplot as plt\n",
    "\n",
    "plt.figure(figsize=(10,4))\n",
    "\n",
    "# Reading vs Math\n",
    "plt.subplot(1, 2, 1)\n",
    "sns.scatterplot(data=df, x='reading score', y='math score')\n",
    "plt.title('Reading Score vs Math Score')\n",
    "\n",
    "# Writing vs Math\n",
    "plt.subplot(1, 2, 2)\n",
    "sns.scatterplot(data=df, x='writing score', y='math score')\n",
    "plt.title('Writing Score vs Math Score')\n",
    "\n",
    "plt.tight_layout()\n",
    "plt.show()\n"
   ]
  },
  {
   "cell_type": "code",
   "execution_count": 25,
   "id": "1f958d1f-a2e1-46cf-94b5-d5dddaf61342",
   "metadata": {},
   "outputs": [
    {
     "name": "stdout",
     "output_type": "stream",
     "text": [
      "               math score  reading score  writing score\n",
      "math score       1.000000       0.817580       0.802642\n",
      "reading score    0.817580       1.000000       0.954598\n",
      "writing score    0.802642       0.954598       1.000000\n"
     ]
    }
   ],
   "source": [
    "# Step 2: Correlation Check\n",
    "\n",
    "print(df[['math score', 'reading score', 'writing score']].corr())\n"
   ]
  },
  {
   "cell_type": "code",
   "execution_count": 26,
   "id": "dfaf5ed6-2123-4785-b2f2-d2e48423bc28",
   "metadata": {},
   "outputs": [
    {
     "data": {
      "text/plain": [
       "\"Great question! Let’s break it down in a super simple way, like a smart friend explaining it at a chai break ☕️😄\\n\\n---\\n\\n### 🧠 What is Correlation?\\n\\n**Correlation** tells you how **strongly two things are related.**\\n\\nFor example:\\n\\n* When students read more, do they also score more in math?\\n* When writing scores go up, do math scores also go up?\\n\\n📈 Correlation gives a number between **-1 and +1**:\\n\\n| Correlation Value | Meaning                       |\\n| ----------------- | ----------------------------- |\\n| **+1**            | Perfect positive relationship |\\n| **0**             | No relationship               |\\n| **-1**            | Perfect negative relationship |\\n\\n---\\n\\n### 🧪 Example (from your dataset):\\n\\n```python\\nprint(df[['math score', 'reading score', 'writing score']].corr())\\n```\\n\\nThis will show something like:\\n\\n```\\n                math score  reading score  writing score\\nmath score         1.00         0.82            0.78\\nreading score      0.82         1.00            0.95\\nwriting score      0.78         0.95            1.00\\n```\\n\\nNow let's interpret 👇\\n\\n* `math score` and `reading score` = **0.82** → **strong positive correlation**\\n* `math score` and `writing score` = **0.78** → also **strong**\\n* `reading` and `writing` = **0.95** → **very strongly related**\\n\\n---\\n\\n### 💡 What It Means:\\n\\n* 🟢 Use reading/writing as input features because they help predict math score.\\n* ⚠️ Since reading & writing are almost twins (0.95), you **can** drop one if you're doing *simple* linear regression, but in most cases, it's fine to keep both.\\n\\n---\\n\\n### 📌 Summary:\\n\\n| Check             | Why Do It?                          |\\n| ----------------- | ----------------------------------- |\\n| `.corr()`         | To find which features are useful   |\\n| Correlation > 0.7 | Good signal to **keep the feature** |\\n| Correlation \\\\~ 0  | Feature is likely **not useful**    |\\n\\n---\\n\""
      ]
     },
     "execution_count": 26,
     "metadata": {},
     "output_type": "execute_result"
    }
   ],
   "source": [
    "'''Great question! Let’s break it down in a super simple way, like a smart friend explaining it at a chai break ☕️😄\n",
    "\n",
    "---\n",
    "\n",
    "### 🧠 What is Correlation?\n",
    "\n",
    "**Correlation** tells you how **strongly two things are related.**\n",
    "\n",
    "For example:\n",
    "\n",
    "* When students read more, do they also score more in math?\n",
    "* When writing scores go up, do math scores also go up?\n",
    "\n",
    "📈 Correlation gives a number between **-1 and +1**:\n",
    "\n",
    "| Correlation Value | Meaning                       |\n",
    "| ----------------- | ----------------------------- |\n",
    "| **+1**            | Perfect positive relationship |\n",
    "| **0**             | No relationship               |\n",
    "| **-1**            | Perfect negative relationship |\n",
    "\n",
    "---\n",
    "\n",
    "### 🧪 Example (from your dataset):\n",
    "\n",
    "```python\n",
    "print(df[['math score', 'reading score', 'writing score']].corr())\n",
    "```\n",
    "\n",
    "This will show something like:\n",
    "\n",
    "```\n",
    "                math score  reading score  writing score\n",
    "math score         1.00         0.82            0.78\n",
    "reading score      0.82         1.00            0.95\n",
    "writing score      0.78         0.95            1.00\n",
    "```\n",
    "\n",
    "Now let's interpret 👇\n",
    "\n",
    "* `math score` and `reading score` = **0.82** → **strong positive correlation**\n",
    "* `math score` and `writing score` = **0.78** → also **strong**\n",
    "* `reading` and `writing` = **0.95** → **very strongly related**\n",
    "\n",
    "---\n",
    "\n",
    "### 💡 What It Means:\n",
    "\n",
    "* 🟢 Use reading/writing as input features because they help predict math score.\n",
    "* ⚠️ Since reading & writing are almost twins (0.95), you **can** drop one if you're doing *simple* linear regression, but in most cases, it's fine to keep both.\n",
    "\n",
    "---\n",
    "\n",
    "### 📌 Summary:\n",
    "\n",
    "| Check             | Why Do It?                          |\n",
    "| ----------------- | ----------------------------------- |\n",
    "| `.corr()`         | To find which features are useful   |\n",
    "| Correlation > 0.7 | Good signal to **keep the feature** |\n",
    "| Correlation \\~ 0  | Feature is likely **not useful**    |\n",
    "\n",
    "---\n",
    "'''\n"
   ]
  },
  {
   "cell_type": "code",
   "execution_count": 27,
   "id": "f3b1c650-d4d4-4910-94ea-5c90dc28ff23",
   "metadata": {},
   "outputs": [],
   "source": [
    "#✅ Step 1: Train-Test Split\n",
    "\n",
    "from sklearn.model_selection import train_test_split\n",
    "\n",
    "# Features and Target\n",
    "X = df.drop('math score', axis=1)\n",
    "y = df['math score']\n",
    "\n",
    "# Split: 80% train, 20% test\n",
    "X_train, X_test, y_train, y_test = train_test_split(X, y, test_size=0.2, random_state=42)\n"
   ]
  },
  {
   "cell_type": "code",
   "execution_count": 28,
   "id": "4f5a0d6d-921b-4320-82de-19b37118cc9f",
   "metadata": {},
   "outputs": [],
   "source": [
    "#✅ Step 2: Feature Scaling (Optional for Linear Regression but Recommended)\n",
    "from sklearn.preprocessing import StandardScaler\n",
    "\n",
    "scaler = StandardScaler()\n",
    "X_train_scaled = scaler.fit_transform(X_train)\n",
    "X_test_scaled = scaler.transform(X_test)\n"
   ]
  },
  {
   "cell_type": "code",
   "execution_count": 31,
   "id": "bfd1fae0-1dbf-4667-a598-7eab57976119",
   "metadata": {},
   "outputs": [
    {
     "name": "stdout",
     "output_type": "stream",
     "text": [
      "📈 Model Evaluation:\n",
      "Mean Absolute Error (MAE): 6.99\n",
      "Mean Squared Error (MSE): 73.00\n",
      "R-squared (R² Score): 0.70\n"
     ]
    }
   ],
   "source": [
    "from sklearn.linear_model import LinearRegression\n",
    "from sklearn.metrics import mean_absolute_error, mean_squared_error, r2_score\n",
    "\n",
    "# 1. Initialize the model\n",
    "model = LinearRegression()\n",
    "\n",
    "# 2. Train the model\n",
    "model.fit(X_train_scaled, y_train)\n",
    "\n",
    "# 3. Make predictions on test data\n",
    "y_pred = model.predict(X_test_scaled)\n",
    "\n",
    "# 4. Evaluate the model\n",
    "mae = mean_absolute_error(y_test, y_pred)\n",
    "mse = mean_squared_error(y_test, y_pred)\n",
    "r2 = r2_score(y_test, y_pred)\n",
    "\n",
    "# 5. Print the results\n",
    "print(\"📈 Model Evaluation:\")\n",
    "print(f\"Mean Absolute Error (MAE): {mae:.2f}\")\n",
    "print(f\"Mean Squared Error (MSE): {mse:.2f}\")\n",
    "print(f\"R-squared (R² Score): {r2:.2f}\")\n"
   ]
  },
  {
   "cell_type": "code",
   "execution_count": null,
   "id": "c4007787-d121-4cdf-aded-9823f865f7d3",
   "metadata": {},
   "outputs": [],
   "source": []
  }
 ],
 "metadata": {
  "kernelspec": {
   "display_name": "Python 3 (ipykernel)",
   "language": "python",
   "name": "python3"
  },
  "language_info": {
   "codemirror_mode": {
    "name": "ipython",
    "version": 3
   },
   "file_extension": ".py",
   "mimetype": "text/x-python",
   "name": "python",
   "nbconvert_exporter": "python",
   "pygments_lexer": "ipython3",
   "version": "3.11.13"
  }
 },
 "nbformat": 4,
 "nbformat_minor": 5
}

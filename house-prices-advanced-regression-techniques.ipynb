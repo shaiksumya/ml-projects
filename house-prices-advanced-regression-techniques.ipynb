{
 "cells": [
  {
   "cell_type": "code",
   "execution_count": 1,
   "id": "5a93d6ff",
   "metadata": {
    "_cell_guid": "b1076dfc-b9ad-4769-8c92-a6c4dae69d19",
    "_uuid": "8f2839f25d086af736a60e9eeb907d3b93b6e0e5",
    "execution": {
     "iopub.execute_input": "2025-07-06T16:44:43.296212Z",
     "iopub.status.busy": "2025-07-06T16:44:43.295900Z",
     "iopub.status.idle": "2025-07-06T16:44:45.146713Z",
     "shell.execute_reply": "2025-07-06T16:44:45.145380Z"
    },
    "papermill": {
     "duration": 1.889454,
     "end_time": "2025-07-06T16:44:45.149004",
     "exception": false,
     "start_time": "2025-07-06T16:44:43.259550",
     "status": "completed"
    },
    "tags": []
   },
   "outputs": [
    {
     "name": "stdout",
     "output_type": "stream",
     "text": [
      "/kaggle/input/house-prices-advanced-regression-techniques/sample_submission.csv\n",
      "/kaggle/input/house-prices-advanced-regression-techniques/data_description.txt\n",
      "/kaggle/input/house-prices-advanced-regression-techniques/train.csv\n",
      "/kaggle/input/house-prices-advanced-regression-techniques/test.csv\n"
     ]
    }
   ],
   "source": [
    "# This Python 3 environment comes with many helpful analytics libraries installed\n",
    "# It is defined by the kaggle/python Docker image: https://github.com/kaggle/docker-python\n",
    "# For example, here's several helpful packages to load\n",
    "\n",
    "import numpy as np # linear algebra\n",
    "import pandas as pd # data processing, CSV file I/O (e.g. pd.read_csv)\n",
    "\n",
    "# Input data files are available in the read-only \"../input/\" directory\n",
    "# For example, running this (by clicking run or pressing Shift+Enter) will list all files under the input directory\n",
    "\n",
    "import os\n",
    "for dirname, _, filenames in os.walk('/kaggle/input'):\n",
    "    for filename in filenames:\n",
    "        print(os.path.join(dirname, filename))\n",
    "\n",
    "# You can write up to 20GB to the current directory (/kaggle/working/) that gets preserved as output when you create a version using \"Save & Run All\" \n",
    "# You can also write temporary files to /kaggle/temp/, but they won't be saved outside of the current session"
   ]
  },
  {
   "cell_type": "code",
   "execution_count": 2,
   "id": "cbad5360",
   "metadata": {
    "execution": {
     "iopub.execute_input": "2025-07-06T16:44:45.211724Z",
     "iopub.status.busy": "2025-07-06T16:44:45.210596Z",
     "iopub.status.idle": "2025-07-06T16:44:45.215637Z",
     "shell.execute_reply": "2025-07-06T16:44:45.214627Z"
    },
    "papermill": {
     "duration": 0.037348,
     "end_time": "2025-07-06T16:44:45.217393",
     "exception": false,
     "start_time": "2025-07-06T16:44:45.180045",
     "status": "completed"
    },
    "tags": []
   },
   "outputs": [],
   "source": [
    "#the above cell describes about data,input and output"
   ]
  },
  {
   "cell_type": "code",
   "execution_count": 3,
   "id": "ac98deaa",
   "metadata": {
    "execution": {
     "iopub.execute_input": "2025-07-06T16:44:45.277618Z",
     "iopub.status.busy": "2025-07-06T16:44:45.277083Z",
     "iopub.status.idle": "2025-07-06T16:44:45.391258Z",
     "shell.execute_reply": "2025-07-06T16:44:45.390247Z"
    },
    "papermill": {
     "duration": 0.145872,
     "end_time": "2025-07-06T16:44:45.392895",
     "exception": false,
     "start_time": "2025-07-06T16:44:45.247023",
     "status": "completed"
    },
    "tags": []
   },
   "outputs": [
    {
     "data": {
      "text/html": [
       "<div>\n",
       "<style scoped>\n",
       "    .dataframe tbody tr th:only-of-type {\n",
       "        vertical-align: middle;\n",
       "    }\n",
       "\n",
       "    .dataframe tbody tr th {\n",
       "        vertical-align: top;\n",
       "    }\n",
       "\n",
       "    .dataframe thead th {\n",
       "        text-align: right;\n",
       "    }\n",
       "</style>\n",
       "<table border=\"1\" class=\"dataframe\">\n",
       "  <thead>\n",
       "    <tr style=\"text-align: right;\">\n",
       "      <th></th>\n",
       "      <th>Id</th>\n",
       "      <th>MSSubClass</th>\n",
       "      <th>MSZoning</th>\n",
       "      <th>LotFrontage</th>\n",
       "      <th>LotArea</th>\n",
       "      <th>Street</th>\n",
       "      <th>Alley</th>\n",
       "      <th>LotShape</th>\n",
       "      <th>LandContour</th>\n",
       "      <th>Utilities</th>\n",
       "      <th>...</th>\n",
       "      <th>PoolArea</th>\n",
       "      <th>PoolQC</th>\n",
       "      <th>Fence</th>\n",
       "      <th>MiscFeature</th>\n",
       "      <th>MiscVal</th>\n",
       "      <th>MoSold</th>\n",
       "      <th>YrSold</th>\n",
       "      <th>SaleType</th>\n",
       "      <th>SaleCondition</th>\n",
       "      <th>SalePrice</th>\n",
       "    </tr>\n",
       "  </thead>\n",
       "  <tbody>\n",
       "    <tr>\n",
       "      <th>0</th>\n",
       "      <td>1</td>\n",
       "      <td>60</td>\n",
       "      <td>RL</td>\n",
       "      <td>65.0</td>\n",
       "      <td>8450</td>\n",
       "      <td>Pave</td>\n",
       "      <td>NaN</td>\n",
       "      <td>Reg</td>\n",
       "      <td>Lvl</td>\n",
       "      <td>AllPub</td>\n",
       "      <td>...</td>\n",
       "      <td>0</td>\n",
       "      <td>NaN</td>\n",
       "      <td>NaN</td>\n",
       "      <td>NaN</td>\n",
       "      <td>0</td>\n",
       "      <td>2</td>\n",
       "      <td>2008</td>\n",
       "      <td>WD</td>\n",
       "      <td>Normal</td>\n",
       "      <td>208500</td>\n",
       "    </tr>\n",
       "    <tr>\n",
       "      <th>1</th>\n",
       "      <td>2</td>\n",
       "      <td>20</td>\n",
       "      <td>RL</td>\n",
       "      <td>80.0</td>\n",
       "      <td>9600</td>\n",
       "      <td>Pave</td>\n",
       "      <td>NaN</td>\n",
       "      <td>Reg</td>\n",
       "      <td>Lvl</td>\n",
       "      <td>AllPub</td>\n",
       "      <td>...</td>\n",
       "      <td>0</td>\n",
       "      <td>NaN</td>\n",
       "      <td>NaN</td>\n",
       "      <td>NaN</td>\n",
       "      <td>0</td>\n",
       "      <td>5</td>\n",
       "      <td>2007</td>\n",
       "      <td>WD</td>\n",
       "      <td>Normal</td>\n",
       "      <td>181500</td>\n",
       "    </tr>\n",
       "    <tr>\n",
       "      <th>2</th>\n",
       "      <td>3</td>\n",
       "      <td>60</td>\n",
       "      <td>RL</td>\n",
       "      <td>68.0</td>\n",
       "      <td>11250</td>\n",
       "      <td>Pave</td>\n",
       "      <td>NaN</td>\n",
       "      <td>IR1</td>\n",
       "      <td>Lvl</td>\n",
       "      <td>AllPub</td>\n",
       "      <td>...</td>\n",
       "      <td>0</td>\n",
       "      <td>NaN</td>\n",
       "      <td>NaN</td>\n",
       "      <td>NaN</td>\n",
       "      <td>0</td>\n",
       "      <td>9</td>\n",
       "      <td>2008</td>\n",
       "      <td>WD</td>\n",
       "      <td>Normal</td>\n",
       "      <td>223500</td>\n",
       "    </tr>\n",
       "    <tr>\n",
       "      <th>3</th>\n",
       "      <td>4</td>\n",
       "      <td>70</td>\n",
       "      <td>RL</td>\n",
       "      <td>60.0</td>\n",
       "      <td>9550</td>\n",
       "      <td>Pave</td>\n",
       "      <td>NaN</td>\n",
       "      <td>IR1</td>\n",
       "      <td>Lvl</td>\n",
       "      <td>AllPub</td>\n",
       "      <td>...</td>\n",
       "      <td>0</td>\n",
       "      <td>NaN</td>\n",
       "      <td>NaN</td>\n",
       "      <td>NaN</td>\n",
       "      <td>0</td>\n",
       "      <td>2</td>\n",
       "      <td>2006</td>\n",
       "      <td>WD</td>\n",
       "      <td>Abnorml</td>\n",
       "      <td>140000</td>\n",
       "    </tr>\n",
       "    <tr>\n",
       "      <th>4</th>\n",
       "      <td>5</td>\n",
       "      <td>60</td>\n",
       "      <td>RL</td>\n",
       "      <td>84.0</td>\n",
       "      <td>14260</td>\n",
       "      <td>Pave</td>\n",
       "      <td>NaN</td>\n",
       "      <td>IR1</td>\n",
       "      <td>Lvl</td>\n",
       "      <td>AllPub</td>\n",
       "      <td>...</td>\n",
       "      <td>0</td>\n",
       "      <td>NaN</td>\n",
       "      <td>NaN</td>\n",
       "      <td>NaN</td>\n",
       "      <td>0</td>\n",
       "      <td>12</td>\n",
       "      <td>2008</td>\n",
       "      <td>WD</td>\n",
       "      <td>Normal</td>\n",
       "      <td>250000</td>\n",
       "    </tr>\n",
       "  </tbody>\n",
       "</table>\n",
       "<p>5 rows × 81 columns</p>\n",
       "</div>"
      ],
      "text/plain": [
       "   Id  MSSubClass MSZoning  LotFrontage  LotArea Street Alley LotShape  \\\n",
       "0   1          60       RL         65.0     8450   Pave   NaN      Reg   \n",
       "1   2          20       RL         80.0     9600   Pave   NaN      Reg   \n",
       "2   3          60       RL         68.0    11250   Pave   NaN      IR1   \n",
       "3   4          70       RL         60.0     9550   Pave   NaN      IR1   \n",
       "4   5          60       RL         84.0    14260   Pave   NaN      IR1   \n",
       "\n",
       "  LandContour Utilities  ... PoolArea PoolQC Fence MiscFeature MiscVal MoSold  \\\n",
       "0         Lvl    AllPub  ...        0    NaN   NaN         NaN       0      2   \n",
       "1         Lvl    AllPub  ...        0    NaN   NaN         NaN       0      5   \n",
       "2         Lvl    AllPub  ...        0    NaN   NaN         NaN       0      9   \n",
       "3         Lvl    AllPub  ...        0    NaN   NaN         NaN       0      2   \n",
       "4         Lvl    AllPub  ...        0    NaN   NaN         NaN       0     12   \n",
       "\n",
       "  YrSold  SaleType  SaleCondition  SalePrice  \n",
       "0   2008        WD         Normal     208500  \n",
       "1   2007        WD         Normal     181500  \n",
       "2   2008        WD         Normal     223500  \n",
       "3   2006        WD        Abnorml     140000  \n",
       "4   2008        WD         Normal     250000  \n",
       "\n",
       "[5 rows x 81 columns]"
      ]
     },
     "execution_count": 3,
     "metadata": {},
     "output_type": "execute_result"
    }
   ],
   "source": [
    "#✅ To load and view the dataset\n",
    "import pandas as pd\n",
    "\n",
    "# Load training and test datasets\n",
    "train = pd.read_csv('/kaggle/input/house-prices-advanced-regression-techniques/train.csv')\n",
    "test = pd.read_csv('/kaggle/input/house-prices-advanced-regression-techniques/test.csv')\n",
    "\n",
    "# Display the first few rows of the training data\n",
    "train.head()\n"
   ]
  },
  {
   "cell_type": "code",
   "execution_count": 4,
   "id": "ada66206",
   "metadata": {
    "execution": {
     "iopub.execute_input": "2025-07-06T16:44:45.528236Z",
     "iopub.status.busy": "2025-07-06T16:44:45.527886Z",
     "iopub.status.idle": "2025-07-06T16:44:45.537565Z",
     "shell.execute_reply": "2025-07-06T16:44:45.536560Z"
    },
    "papermill": {
     "duration": 0.118005,
     "end_time": "2025-07-06T16:44:45.540689",
     "exception": false,
     "start_time": "2025-07-06T16:44:45.422684",
     "status": "completed"
    },
    "tags": []
   },
   "outputs": [
    {
     "name": "stdout",
     "output_type": "stream",
     "text": [
      "MSSubClass: Identifies the type of dwelling involved in the sale.\t\n",
      "\n",
      "        20\t1-STORY 1946 & NEWER ALL STYLES\n",
      "        30\t1-STORY 1945 & OLDER\n",
      "        40\t1-STORY W/FINISHED ATTIC ALL AGES\n",
      "        45\t1-1/2 STORY - UNFINISHED ALL AGES\n",
      "        50\t1-1/2 STORY FINISHED ALL AGES\n",
      "        60\t2-STORY 1946 & NEWER\n",
      "        70\t2-STORY 1945 & OLDER\n",
      "        75\t2-1/2 STORY ALL AGES\n",
      "        80\tSPLIT OR MULTI-LEVEL\n",
      "        85\tSPLIT FOYER\n",
      "        90\tDUPLEX - ALL STYLES AND AGES\n",
      "       120\t1-STORY PUD (Planned Unit Development) - 1946 & NEWER\n",
      "       150\t1-1/2 STORY PUD - ALL AGES\n",
      "       160\t2-STORY PUD - 1946 & NEWER\n",
      "       180\tPUD - MULTILEVEL - INCL SPLIT LEV/FOYER\n",
      "       190\t2 FAMILY CONVERSION - ALL STYLES AND AGES\n",
      "\n",
      "MSZoning: Identifies the general zoning classification of the sale.\n",
      "\t\t\n",
      "       A\tAgriculture\n",
      "       C\tCommercial\n",
      "       FV\tFloating Village Residential\n",
      "       I\tIndustrial\n",
      "       RH\tResidential High Density\n",
      "       RL\tResidential Low Density\n",
      "       RP\tResidential Low Density Park \n",
      "       RM\tResidential Medium Density\n",
      "\t\n",
      "LotFrontage: Linear feet of street connected to property\n",
      "\n",
      "LotArea: Lot size in square feet\n",
      "\n",
      "Street: Type of road access to property\n",
      "\n",
      "       Grvl\tGravel\t\n",
      "       Pave\tPaved\n",
      "       \t\n",
      "Alley: Type of alley access to property\n",
      "\n",
      "       Grvl\tGravel\n",
      "       Pave\tPaved\n",
      "       NA \tNo alley access\n",
      "\t\t\n",
      "LotShape: General shape of property\n",
      "\n",
      "       Reg\tRegular\t\n",
      "       IR1\tSlightly irregular\n",
      "       IR2\tModerately Irregular\n",
      "       IR3\tIrregular\n",
      "       \n",
      "LandContour: Flatness of the property\n",
      "\n",
      "       Lvl\tNear Flat/Level\t\n",
      "       Bnk\tBanked - Quick and significant rise from street grade to building\n",
      "       HLS\tHillside - Significant slope from side to side\n",
      "       Low\tDepression\n",
      "\t\t\n",
      "Utilities: Type of utilities available\n",
      "\t\t\n",
      "       AllPub\tAll public Utilities (E,G,W,& S)\t\n",
      "       NoSewr\tElectricity, Gas, and Water (Septic Tank)\n",
      "       NoSeWa\tElectricity and Gas Only\n",
      "       ELO\tElectricity only\t\n",
      "\t\n",
      "LotConfig: Lot configuration\n",
      "\n",
      "       Inside\tInside lot\n",
      "       Corner\tCorner lot\n",
      "       CulDSac\tCul-de-sac\n",
      "       FR2\tFrontage on 2 sides of property\n",
      "       FR3\tFrontage on 3 sides of property\n",
      "\t\n",
      "LandSlope: Slope of property\n",
      "\t\t\n",
      "       Gtl\tGentle slope\n",
      "       Mod\tModerate Slope\t\n",
      "       Sev\tSevere Slope\n",
      "\t\n",
      "Neighborhood: Physical locations within Ames city limits\n",
      "\n",
      "       Blmngtn\tBloomington Heights\n",
      "       Blueste\tBluestem\n",
      "       BrDale\tBriardale\n",
      "       BrkSide\tBrookside\n",
      "       ClearCr\tClear Creek\n",
      "       CollgCr\tCollege Creek\n",
      "       Crawfor\tCrawford\n",
      "       Edwards\tEdwards\n",
      "       Gilbert\tGilbert\n",
      "       IDOTRR\tIowa DOT and Rail Road\n",
      "       MeadowV\tMeadow Village\n",
      "       Mitchel\tMitchell\n",
      "       Names\tNorth Ames\n",
      "       NoRidge\tNorthridge\n",
      "       NPkVill\tNorthpark Villa\n",
      "       NridgHt\tNorthridge Heights\n",
      "       NWAmes\tNorthwest Ames\n",
      "       OldTown\tOld Town\n",
      "       SWISU\tSouth & West of Iowa State University\n",
      "       Sawyer\tSawyer\n",
      "       SawyerW\tSawyer West\n",
      "       Somerst\tSomerset\n",
      "       StoneBr\tStone Brook\n",
      "       Timber\tTimberland\n",
      "       Veenker\tVeenker\n",
      "\t\t\t\n",
      "Condition1: Proximity to various conditions\n",
      "\t\n",
      "       Artery\tAdjacent to arterial street\n",
      "       Feedr\tAdjacent to feeder street\t\n",
      "       Norm\tNormal\t\n",
      "       RRNn\tWithin 200' of North-South Railroad\n",
      "       RRAn\tAdjacent to North-South Railroad\n",
      "       PosN\tNear positive off-site feature--park, greenbelt, etc.\n",
      "       PosA\tAdjacent to postive off-site feature\n",
      "       RRNe\tWithin 200' of East-West Railroad\n",
      "       RRAe\tAdjacent to East-West Railroad\n",
      "\t\n",
      "Condition2: Proximity to various conditions (if more than one is present)\n",
      "\t\t\n",
      "       Artery\tAdjacent to arterial street\n",
      "       Feedr\tAdjacent to feeder street\t\n",
      "       Norm\tNormal\t\n",
      "       RRNn\tWithin 200' of North-South Railroad\n",
      "       RRAn\tAdjacent to North-South Railroad\n",
      "       PosN\tNear positive off-site feature--park, greenbelt, etc.\n",
      "       PosA\tAdjacent to postive off-site feature\n",
      "       RRNe\tWithin 200' of East-West Railroad\n",
      "       RRAe\tAdjacent to East-West Railroad\n",
      "\t\n",
      "BldgType: Type of dwelling\n",
      "\t\t\n",
      "       1Fam\tSingle-family Detached\t\n",
      "       2FmCon\tTwo-family Conversion; originally built as one-family dwelling\n",
      "       Duplx\tDuplex\n",
      "       TwnhsE\tTownhouse End Unit\n",
      "       TwnhsI\tTownhouse Inside Unit\n",
      "\t\n",
      "HouseStyle: Style of dwelling\n",
      "\t\n",
      "       1Story\tOne story\n",
      "       1.5Fin\tOne and one-half story: 2nd level finished\n",
      "       1.5Unf\tOne and one-half story: 2nd level unfinished\n",
      "       2Story\tTwo story\n",
      "       2.5Fin\tTwo and one-half story: 2nd level finished\n",
      "       2.5Unf\tTwo and one-half story: 2nd level unfinished\n",
      "       SFoyer\tSplit Foyer\n",
      "       SLvl\tSplit Level\n",
      "\t\n",
      "OverallQual: Rates the overall material and finish of the house\n",
      "\n",
      "       10\tVery Excellent\n",
      "       9\tExcellent\n",
      "       8\tVery Good\n",
      "       7\tGood\n",
      "       6\tAbove Average\n",
      "       5\tAverage\n",
      "       4\tBelow Average\n",
      "       3\tFair\n",
      "       2\tPoor\n",
      "       1\tVery Poor\n",
      "\t\n",
      "OverallCond: Rates the overall condition of the house\n",
      "\n",
      "       10\tVery Excellent\n",
      "       9\tExcellent\n",
      "       8\tVery Good\n",
      "       7\tGood\n",
      "       6\tAbove Average\t\n",
      "       5\tAverage\n",
      "       4\tBelow Average\t\n",
      "       3\tFair\n",
      "       2\tPoor\n",
      "       1\tVery Poor\n",
      "\t\t\n",
      "YearBuilt: Original construction date\n",
      "\n",
      "YearRemodAdd: Remodel date (same as construction date if no remodeling or additions)\n",
      "\n",
      "RoofStyle: Type of roof\n",
      "\n",
      "       Flat\tFlat\n",
      "       Gable\tGable\n",
      "       Gambrel\tGabrel (Barn)\n",
      "       Hip\tHip\n",
      "       Mansard\tMansard\n",
      "       Shed\tShed\n",
      "\t\t\n",
      "RoofMatl: Roof material\n",
      "\n",
      "       ClyTile\tClay or Tile\n",
      "       CompShg\tStandard (Composite) Shingle\n",
      "       Membran\tMembrane\n",
      "       Metal\tMetal\n",
      "       Roll\tRoll\n",
      "       Tar&Grv\tGravel & Tar\n",
      "       WdShake\tWood Shakes\n",
      "       WdShngl\tWood Shingles\n",
      "\t\t\n",
      "Exterior1st: Exterior covering on house\n",
      "\n",
      "       AsbShng\tAsbestos Shingles\n",
      "       AsphShn\tAsphalt Shingles\n",
      "       BrkComm\tBrick Common\n",
      "       BrkFace\tBrick Face\n",
      "       CBlock\tCinder Block\n",
      "       CemntBd\tCement Board\n",
      "       HdBoard\tHard Board\n",
      "       ImStucc\tImitation Stucco\n",
      "       MetalSd\tMetal Siding\n",
      "       Other\tOther\n",
      "       Plywood\tPlywood\n",
      "       PreCast\tPreCast\t\n",
      "       Stone\tStone\n",
      "       Stucco\tStucco\n",
      "       VinylSd\tVinyl Siding\n",
      "       Wd Sdng\tWood Siding\n",
      "       WdShing\tWood Shingles\n",
      "\t\n",
      "Exterior2nd: Exterior covering on house (if more than one material)\n",
      "\n",
      "       AsbShng\tAsbestos Shingles\n",
      "       AsphShn\tAsphalt Shingles\n",
      "       BrkComm\tBrick Common\n",
      "       BrkFace\tBrick Face\n",
      "       CBlock\tCinder Block\n",
      "       CemntBd\tCement Board\n",
      "       HdBoard\tHard Board\n",
      "       ImStucc\tImitation Stucco\n",
      "       MetalSd\tMetal Siding\n",
      "       Other\tOther\n",
      "       Plywood\tPlywood\n",
      "       PreCast\tPreCast\n",
      "       Stone\tStone\n",
      "       Stucco\tStucco\n",
      "       VinylSd\tVinyl Siding\n",
      "       Wd Sdng\tWood Siding\n",
      "       WdShing\tWood Shingles\n",
      "\t\n",
      "MasVnrType: Masonry veneer type\n",
      "\n",
      "       BrkCmn\tBrick Common\n",
      "       BrkFace\tBrick Face\n",
      "       CBlock\tCinder Block\n",
      "       None\tNone\n",
      "       Stone\tStone\n",
      "\t\n",
      "MasVnrArea: Masonry veneer area in square feet\n",
      "\n",
      "ExterQual: Evaluates the quality of the material on the exterior \n",
      "\t\t\n",
      "       Ex\tExcellent\n",
      "       Gd\tGood\n",
      "       TA\tAverage/Typical\n",
      "       Fa\tFair\n",
      "       Po\tPoor\n",
      "\t\t\n",
      "ExterCond: Evaluates the present condition of the material on the exterior\n",
      "\t\t\n",
      "       Ex\tExcellent\n",
      "       Gd\tGood\n",
      "       TA\tAverage/Typical\n",
      "       Fa\tFair\n",
      "       Po\tPoor\n",
      "\t\t\n",
      "Foundation: Type of foundation\n",
      "\t\t\n",
      "       BrkTil\tBrick & Tile\n",
      "       CBlock\tCinder Block\n",
      "       PConc\tPoured Contrete\t\n",
      "       Slab\tSlab\n",
      "       Stone\tStone\n",
      "       Wood\tWood\n",
      "\t\t\n",
      "BsmtQual: Evaluates the height of the basement\n",
      "\n",
      "       Ex\tExcellent (100+ inches)\t\n",
      "       Gd\tGood (90-99 inches)\n",
      "       TA\tTypical (80-89 inches)\n",
      "       Fa\tFair (70-79 inches)\n",
      "       Po\tPoor (<70 inches\n",
      "       NA\tNo Basement\n",
      "\t\t\n",
      "BsmtCond: Evaluates the general condition of the basement\n",
      "\n",
      "       Ex\tExcellent\n",
      "       Gd\tGood\n",
      "       TA\tTypical - slight dampness allowed\n",
      "       Fa\tFair - dampness or some cracking or settling\n",
      "       Po\tPoor - Severe cracking, settling, or wetness\n",
      "       NA\tNo Basement\n",
      "\t\n",
      "BsmtExposure: Refers to walkout or garden level walls\n",
      "\n",
      "       Gd\tGood Exposure\n",
      "       Av\tAverage Exposure (split levels or foyers typically score average or above)\t\n",
      "       Mn\tMimimum Exposure\n",
      "       No\tNo Exposure\n",
      "       NA\tNo Basement\n",
      "\t\n",
      "BsmtFinType1: Rating of basement finished area\n",
      "\n",
      "       GLQ\tGood Living Quarters\n",
      "       ALQ\tAverage Living Quarters\n",
      "       BLQ\tBelow Average Living Quarters\t\n",
      "       Rec\tAverage Rec Room\n",
      "       LwQ\tLow Quality\n",
      "       Unf\tUnfinshed\n",
      "       NA\tNo Basement\n",
      "\t\t\n",
      "BsmtFinSF1: Type 1 finished square feet\n",
      "\n",
      "BsmtFinType2: Rating of basement finished area (if multiple types)\n",
      "\n",
      "       GLQ\tGood Living Quarters\n",
      "       ALQ\tAverage Living Quarters\n",
      "       BLQ\tBelow Average Living Quarters\t\n",
      "       Rec\tAverage Rec Room\n",
      "       LwQ\tLow Quality\n",
      "       Unf\tUnfinshed\n",
      "       NA\tNo Basement\n",
      "\n",
      "BsmtFinSF2: Type 2 finished square feet\n",
      "\n",
      "BsmtUnfSF: Unfinished square feet of basement area\n",
      "\n",
      "TotalBsmtSF: Total square feet of basement area\n",
      "\n",
      "Heating: Type of heating\n",
      "\t\t\n",
      "       Floor\tFloor Furnace\n",
      "       GasA\tGas forced warm air furnace\n",
      "       GasW\tGas hot water or steam heat\n",
      "       Grav\tGravity furnace\t\n",
      "       OthW\tHot water or steam heat other than gas\n",
      "       Wall\tWall furnace\n",
      "\t\t\n",
      "HeatingQC: Heating quality and condition\n",
      "\n",
      "       Ex\tExcellent\n",
      "       Gd\tGood\n",
      "       TA\tAverage/Typical\n",
      "       Fa\tFair\n",
      "       Po\tPoor\n",
      "\t\t\n",
      "CentralAir: Central air conditioning\n",
      "\n",
      "       N\tNo\n",
      "       Y\tYes\n",
      "\t\t\n",
      "Electrical: Electrical system\n",
      "\n",
      "       SBrkr\tStandard Circuit Breakers & Romex\n",
      "       FuseA\tFuse Box over 60 AMP and all Romex wiring (Average)\t\n",
      "       FuseF\t60 AMP Fuse Box and mostly Romex wiring (Fair)\n",
      "       FuseP\t60 AMP Fuse Box and mostly knob & tube wiring (poor)\n",
      "       Mix\tMixed\n",
      "\t\t\n",
      "1stFlrSF: First Floor square feet\n",
      " \n",
      "2ndFlrSF: Second floor square feet\n",
      "\n",
      "LowQualFinSF: Low quality finished square feet (all floors)\n",
      "\n",
      "GrLivArea: Above grade (ground) living area square feet\n",
      "\n",
      "BsmtFullBath: Basement full bathrooms\n",
      "\n",
      "BsmtHalfBath: Basement half bathrooms\n",
      "\n",
      "FullBath: Full bathrooms above grade\n",
      "\n",
      "HalfBath: Half baths above grade\n",
      "\n",
      "Bedroom: Bedrooms above grade (does NOT include basement bedrooms)\n",
      "\n",
      "Kitchen: Kitchens above grade\n",
      "\n",
      "KitchenQual: Kitchen quality\n",
      "\n",
      "       Ex\tExcellent\n",
      "       Gd\tGood\n",
      "       TA\tTypical/Average\n",
      "       Fa\tFair\n",
      "       Po\tPoor\n",
      "       \t\n",
      "TotRmsAbvGrd: Total rooms above grade (does not include bathrooms)\n",
      "\n",
      "Functional: Home functionality (Assume typical unless deductions are warranted)\n",
      "\n",
      "       Typ\tTypical Functionality\n",
      "       Min1\tMinor Deductions 1\n",
      "       Min2\tMinor Deductions 2\n",
      "       Mod\tModerate Deductions\n",
      "       Maj1\tMajor Deductions 1\n",
      "       Maj2\tMajor Deductions 2\n",
      "       Sev\tSeverely Damaged\n",
      "       Sal\tSalvage only\n",
      "\t\t\n",
      "Fireplaces: Number of fireplaces\n",
      "\n",
      "FireplaceQu: Fireplace quality\n",
      "\n",
      "       Ex\tExcellent - Exceptional Masonry Fireplace\n",
      "       Gd\tGood - Masonry Fireplace in main level\n",
      "       TA\tAverage - Prefabricated Fireplace in main living area or Masonry Fireplace in basement\n",
      "       Fa\tFair - Prefabricated Fireplace in basement\n",
      "       Po\tPoor - Ben Franklin Stove\n",
      "       NA\tNo Fireplace\n",
      "\t\t\n",
      "GarageType: Garage location\n",
      "\t\t\n",
      "       2Types\tMore than one type of garage\n",
      "       Attchd\tAttached to home\n",
      "       Basment\tBasement Garage\n",
      "       BuiltIn\tBuilt-In (Garage part of house - typically has room above garage)\n",
      "       CarPort\tCar Port\n",
      "       Detchd\tDetached from home\n",
      "       NA\tNo Garage\n",
      "\t\t\n",
      "GarageYrBlt: Year garage was built\n",
      "\t\t\n",
      "GarageFinish: Interior finish of the garage\n",
      "\n",
      "       Fin\tFinished\n",
      "       RFn\tRough Finished\t\n",
      "       Unf\tUnfinished\n",
      "       NA\tNo Garage\n",
      "\t\t\n",
      "GarageCars: Size of garage in car capacity\n",
      "\n",
      "GarageArea: Size of garage in square feet\n",
      "\n",
      "GarageQual: Garage quality\n",
      "\n",
      "       Ex\tExcellent\n",
      "       Gd\tGood\n",
      "       TA\tTypical/Average\n",
      "       Fa\tFair\n",
      "       Po\tPoor\n",
      "       NA\tNo Garage\n",
      "\t\t\n",
      "GarageCond: Garage condition\n",
      "\n",
      "       Ex\tExcellent\n",
      "       Gd\tGood\n",
      "       TA\tTypical/Average\n",
      "       Fa\tFair\n",
      "       Po\tPoor\n",
      "       NA\tNo Garage\n",
      "\t\t\n",
      "PavedDrive: Paved driveway\n",
      "\n",
      "       Y\tPaved \n",
      "       P\tPartial Pavement\n",
      "       N\tDirt/Gravel\n",
      "\t\t\n",
      "WoodDeckSF: Wood deck area in square feet\n",
      "\n",
      "OpenPorchSF: Open porch area in square feet\n",
      "\n",
      "EnclosedPorch: Enclosed porch area in square feet\n",
      "\n",
      "3SsnPorch: Three season porch area in square feet\n",
      "\n",
      "ScreenPorch: Screen porch area in square feet\n",
      "\n",
      "PoolArea: Pool area in square feet\n",
      "\n",
      "PoolQC: Pool quality\n",
      "\t\t\n",
      "       Ex\tExcellent\n",
      "       Gd\tGood\n",
      "       TA\tAverage/Typical\n",
      "       Fa\tFair\n",
      "       NA\tNo Pool\n",
      "\t\t\n",
      "Fence: Fence quality\n",
      "\t\t\n",
      "       GdPrv\tGood Privacy\n",
      "       MnPrv\tMinimum Privacy\n",
      "       GdWo\tGood Wood\n",
      "       MnWw\tMinimum Wood/Wire\n",
      "       NA\tNo Fence\n",
      "\t\n",
      "MiscFeature: Miscellaneous feature not covered in other categories\n",
      "\t\t\n",
      "       Elev\tElevator\n",
      "       Gar2\t2nd Garage (if not described in garage section)\n",
      "       Othr\tOther\n",
      "       Shed\tShed (over 100 SF)\n",
      "       TenC\tTennis Court\n",
      "       NA\tNone\n",
      "\t\t\n",
      "MiscVal: $Value of miscellaneous feature\n",
      "\n",
      "MoSold: Month Sold (MM)\n",
      "\n",
      "YrSold: Year Sold (YYYY)\n",
      "\n",
      "SaleType: Type of sale\n",
      "\t\t\n",
      "       WD \tWarranty Deed - Conventional\n",
      "       CWD\tWarranty Deed - Cash\n",
      "       VWD\tWarranty Deed - VA Loan\n",
      "       New\tHome just constructed and sold\n",
      "       COD\tCourt Officer Deed/Estate\n",
      "       Con\tContract 15% Down payment regular terms\n",
      "       ConLw\tContract Low Down payment and low interest\n",
      "       ConLI\tContract Low Interest\n",
      "       ConLD\tContract Low Down\n",
      "       Oth\tOther\n",
      "\t\t\n",
      "SaleCondition: Condition of sale\n",
      "\n",
      "       Normal\tNormal Sale\n",
      "       Abnorml\tAbnormal Sale -  trade, foreclosure, short sale\n",
      "       AdjLand\tAdjoining Land Purchase\n",
      "       Alloca\tAllocation - two linked properties with separate deeds, typically condo with a garage unit\t\n",
      "       Family\tSale between family members\n",
      "       Partial\tHome was not completed when last assessed (associated with New Homes)\n",
      "\n"
     ]
    }
   ],
   "source": [
    "#description about data\n",
    "# Open and read the contents of data_description.txt\n",
    "with open('/kaggle/input/house-prices-advanced-regression-techniques/data_description.txt', 'r') as file:\n",
    "    description = file.read()\n",
    "\n",
    "# Display the text\n",
    "print(description)\n"
   ]
  },
  {
   "cell_type": "code",
   "execution_count": 5,
   "id": "a86e1ac7",
   "metadata": {
    "execution": {
     "iopub.execute_input": "2025-07-06T16:44:45.615710Z",
     "iopub.status.busy": "2025-07-06T16:44:45.615207Z",
     "iopub.status.idle": "2025-07-06T16:44:45.717969Z",
     "shell.execute_reply": "2025-07-06T16:44:45.716991Z"
    },
    "papermill": {
     "duration": 0.146362,
     "end_time": "2025-07-06T16:44:45.720680",
     "exception": false,
     "start_time": "2025-07-06T16:44:45.574318",
     "status": "completed"
    },
    "tags": []
   },
   "outputs": [
    {
     "name": "stdout",
     "output_type": "stream",
     "text": [
      "📋 Dataset Info:\n",
      "<class 'pandas.core.frame.DataFrame'>\n",
      "RangeIndex: 1460 entries, 0 to 1459\n",
      "Data columns (total 81 columns):\n",
      " #   Column         Non-Null Count  Dtype  \n",
      "---  ------         --------------  -----  \n",
      " 0   Id             1460 non-null   int64  \n",
      " 1   MSSubClass     1460 non-null   int64  \n",
      " 2   MSZoning       1460 non-null   object \n",
      " 3   LotFrontage    1201 non-null   float64\n",
      " 4   LotArea        1460 non-null   int64  \n",
      " 5   Street         1460 non-null   object \n",
      " 6   Alley          91 non-null     object \n",
      " 7   LotShape       1460 non-null   object \n",
      " 8   LandContour    1460 non-null   object \n",
      " 9   Utilities      1460 non-null   object \n",
      " 10  LotConfig      1460 non-null   object \n",
      " 11  LandSlope      1460 non-null   object \n",
      " 12  Neighborhood   1460 non-null   object \n",
      " 13  Condition1     1460 non-null   object \n",
      " 14  Condition2     1460 non-null   object \n",
      " 15  BldgType       1460 non-null   object \n",
      " 16  HouseStyle     1460 non-null   object \n",
      " 17  OverallQual    1460 non-null   int64  \n",
      " 18  OverallCond    1460 non-null   int64  \n",
      " 19  YearBuilt      1460 non-null   int64  \n",
      " 20  YearRemodAdd   1460 non-null   int64  \n",
      " 21  RoofStyle      1460 non-null   object \n",
      " 22  RoofMatl       1460 non-null   object \n",
      " 23  Exterior1st    1460 non-null   object \n",
      " 24  Exterior2nd    1460 non-null   object \n",
      " 25  MasVnrType     588 non-null    object \n",
      " 26  MasVnrArea     1452 non-null   float64\n",
      " 27  ExterQual      1460 non-null   object \n",
      " 28  ExterCond      1460 non-null   object \n",
      " 29  Foundation     1460 non-null   object \n",
      " 30  BsmtQual       1423 non-null   object \n",
      " 31  BsmtCond       1423 non-null   object \n",
      " 32  BsmtExposure   1422 non-null   object \n",
      " 33  BsmtFinType1   1423 non-null   object \n",
      " 34  BsmtFinSF1     1460 non-null   int64  \n",
      " 35  BsmtFinType2   1422 non-null   object \n",
      " 36  BsmtFinSF2     1460 non-null   int64  \n",
      " 37  BsmtUnfSF      1460 non-null   int64  \n",
      " 38  TotalBsmtSF    1460 non-null   int64  \n",
      " 39  Heating        1460 non-null   object \n",
      " 40  HeatingQC      1460 non-null   object \n",
      " 41  CentralAir     1460 non-null   object \n",
      " 42  Electrical     1459 non-null   object \n",
      " 43  1stFlrSF       1460 non-null   int64  \n",
      " 44  2ndFlrSF       1460 non-null   int64  \n",
      " 45  LowQualFinSF   1460 non-null   int64  \n",
      " 46  GrLivArea      1460 non-null   int64  \n",
      " 47  BsmtFullBath   1460 non-null   int64  \n",
      " 48  BsmtHalfBath   1460 non-null   int64  \n",
      " 49  FullBath       1460 non-null   int64  \n",
      " 50  HalfBath       1460 non-null   int64  \n",
      " 51  BedroomAbvGr   1460 non-null   int64  \n",
      " 52  KitchenAbvGr   1460 non-null   int64  \n",
      " 53  KitchenQual    1460 non-null   object \n",
      " 54  TotRmsAbvGrd   1460 non-null   int64  \n",
      " 55  Functional     1460 non-null   object \n",
      " 56  Fireplaces     1460 non-null   int64  \n",
      " 57  FireplaceQu    770 non-null    object \n",
      " 58  GarageType     1379 non-null   object \n",
      " 59  GarageYrBlt    1379 non-null   float64\n",
      " 60  GarageFinish   1379 non-null   object \n",
      " 61  GarageCars     1460 non-null   int64  \n",
      " 62  GarageArea     1460 non-null   int64  \n",
      " 63  GarageQual     1379 non-null   object \n",
      " 64  GarageCond     1379 non-null   object \n",
      " 65  PavedDrive     1460 non-null   object \n",
      " 66  WoodDeckSF     1460 non-null   int64  \n",
      " 67  OpenPorchSF    1460 non-null   int64  \n",
      " 68  EnclosedPorch  1460 non-null   int64  \n",
      " 69  3SsnPorch      1460 non-null   int64  \n",
      " 70  ScreenPorch    1460 non-null   int64  \n",
      " 71  PoolArea       1460 non-null   int64  \n",
      " 72  PoolQC         7 non-null      object \n",
      " 73  Fence          281 non-null    object \n",
      " 74  MiscFeature    54 non-null     object \n",
      " 75  MiscVal        1460 non-null   int64  \n",
      " 76  MoSold         1460 non-null   int64  \n",
      " 77  YrSold         1460 non-null   int64  \n",
      " 78  SaleType       1460 non-null   object \n",
      " 79  SaleCondition  1460 non-null   object \n",
      " 80  SalePrice      1460 non-null   int64  \n",
      "dtypes: float64(3), int64(35), object(43)\n",
      "memory usage: 924.0+ KB\n",
      "None\n",
      "\n",
      "----------------------------------------------------------------------------------------------------\n",
      "📈 Summary Statistics:\n",
      "                Id   MSSubClass  LotFrontage        LotArea  OverallQual  \\\n",
      "count  1460.000000  1460.000000  1201.000000    1460.000000  1460.000000   \n",
      "mean    730.500000    56.897260    70.049958   10516.828082     6.099315   \n",
      "std     421.610009    42.300571    24.284752    9981.264932     1.382997   \n",
      "min       1.000000    20.000000    21.000000    1300.000000     1.000000   \n",
      "25%     365.750000    20.000000    59.000000    7553.500000     5.000000   \n",
      "50%     730.500000    50.000000    69.000000    9478.500000     6.000000   \n",
      "75%    1095.250000    70.000000    80.000000   11601.500000     7.000000   \n",
      "max    1460.000000   190.000000   313.000000  215245.000000    10.000000   \n",
      "\n",
      "       OverallCond    YearBuilt  YearRemodAdd   MasVnrArea   BsmtFinSF1  ...  \\\n",
      "count  1460.000000  1460.000000   1460.000000  1452.000000  1460.000000  ...   \n",
      "mean      5.575342  1971.267808   1984.865753   103.685262   443.639726  ...   \n",
      "std       1.112799    30.202904     20.645407   181.066207   456.098091  ...   \n",
      "min       1.000000  1872.000000   1950.000000     0.000000     0.000000  ...   \n",
      "25%       5.000000  1954.000000   1967.000000     0.000000     0.000000  ...   \n",
      "50%       5.000000  1973.000000   1994.000000     0.000000   383.500000  ...   \n",
      "75%       6.000000  2000.000000   2004.000000   166.000000   712.250000  ...   \n",
      "max       9.000000  2010.000000   2010.000000  1600.000000  5644.000000  ...   \n",
      "\n",
      "        WoodDeckSF  OpenPorchSF  EnclosedPorch    3SsnPorch  ScreenPorch  \\\n",
      "count  1460.000000  1460.000000    1460.000000  1460.000000  1460.000000   \n",
      "mean     94.244521    46.660274      21.954110     3.409589    15.060959   \n",
      "std     125.338794    66.256028      61.119149    29.317331    55.757415   \n",
      "min       0.000000     0.000000       0.000000     0.000000     0.000000   \n",
      "25%       0.000000     0.000000       0.000000     0.000000     0.000000   \n",
      "50%       0.000000    25.000000       0.000000     0.000000     0.000000   \n",
      "75%     168.000000    68.000000       0.000000     0.000000     0.000000   \n",
      "max     857.000000   547.000000     552.000000   508.000000   480.000000   \n",
      "\n",
      "          PoolArea       MiscVal       MoSold       YrSold      SalePrice  \n",
      "count  1460.000000   1460.000000  1460.000000  1460.000000    1460.000000  \n",
      "mean      2.758904     43.489041     6.321918  2007.815753  180921.195890  \n",
      "std      40.177307    496.123024     2.703626     1.328095   79442.502883  \n",
      "min       0.000000      0.000000     1.000000  2006.000000   34900.000000  \n",
      "25%       0.000000      0.000000     5.000000  2007.000000  129975.000000  \n",
      "50%       0.000000      0.000000     6.000000  2008.000000  163000.000000  \n",
      "75%       0.000000      0.000000     8.000000  2009.000000  214000.000000  \n",
      "max     738.000000  15500.000000    12.000000  2010.000000  755000.000000  \n",
      "\n",
      "[8 rows x 38 columns]\n",
      "\n",
      "----------------------------------------------------------------------------------------------------\n",
      "🕳️ Missing Values:\n",
      "Id                 0\n",
      "MSSubClass         0\n",
      "MSZoning           0\n",
      "LotFrontage      259\n",
      "LotArea            0\n",
      "                ... \n",
      "MoSold             0\n",
      "YrSold             0\n",
      "SaleType           0\n",
      "SaleCondition      0\n",
      "SalePrice          0\n",
      "Length: 81, dtype: int64\n"
     ]
    }
   ],
   "source": [
    "# Basic structure and data types\n",
    "print(\"📋 Dataset Info:\")\n",
    "print(train.info())\n",
    "print(\"\\n\" + \"-\"*100)\n",
    "\n",
    "# Summary statistics for numerical columns\n",
    "print(\"📈 Summary Statistics:\")\n",
    "print(train.describe())\n",
    "print(\"\\n\" + \"-\"*100)\n",
    "\n",
    "# Null value check\n",
    "print(\"🕳️ Missing Values:\")\n",
    "print(train.isnull().sum())\n",
    "\n"
   ]
  },
  {
   "cell_type": "code",
   "execution_count": 6,
   "id": "5e2cc2f4",
   "metadata": {
    "execution": {
     "iopub.execute_input": "2025-07-06T16:44:45.806439Z",
     "iopub.status.busy": "2025-07-06T16:44:45.804808Z",
     "iopub.status.idle": "2025-07-06T16:44:45.814527Z",
     "shell.execute_reply": "2025-07-06T16:44:45.812948Z"
    },
    "papermill": {
     "duration": 0.054571,
     "end_time": "2025-07-06T16:44:45.816238",
     "exception": false,
     "start_time": "2025-07-06T16:44:45.761667",
     "status": "completed"
    },
    "tags": []
   },
   "outputs": [
    {
     "data": {
      "text/plain": [
       "\"Let’s start by working on the MSSubClass feature.\\n\\nMSSubClass is a numerical code that represents the type of house or dwelling being sold.\\n\\nSince house prices are often influenced by the type of dwelling, this feature could be important for predicting the target variable (SalePrice).\\n\\nTo prepare it for modeling:\\n\\nWe'll group the data by MSSubClass and calculate the average SalePrice for each category.\\n\\nThen, we’ll sort the categories based on their average prices — from highest to lowest.\\n\\nAfter that, we’ll apply Label Encoding, assigning smaller numeric values to lower-price categories and higher values to higher-price categories.\\n\\nWe choose Label Encoding here (instead of One-Hot Encoding) because there appears to be a natural order in house prices based on the subclass. One-Hot Encoding treats all categories as \\nequally different, while Label Encoding can help the model capture this price-based ranking.\""
      ]
     },
     "execution_count": 6,
     "metadata": {},
     "output_type": "execute_result"
    }
   ],
   "source": [
    "'''Let’s start by working on the MSSubClass feature.\n",
    "\n",
    "MSSubClass is a numerical code that represents the type of house or dwelling being sold.\n",
    "\n",
    "Since house prices are often influenced by the type of dwelling, this feature could be important for predicting the target variable (SalePrice).\n",
    "\n",
    "To prepare it for modeling:\n",
    "\n",
    "We'll group the data by MSSubClass and calculate the average SalePrice for each category.\n",
    "\n",
    "Then, we’ll sort the categories based on their average prices — from highest to lowest.\n",
    "\n",
    "After that, we’ll apply Label Encoding, assigning smaller numeric values to lower-price categories and higher values to higher-price categories.\n",
    "\n",
    "We choose Label Encoding here (instead of One-Hot Encoding) because there appears to be a natural order in house prices based on the subclass. One-Hot Encoding treats all categories as \n",
    "equally different, while Label Encoding can help the model capture this price-based ranking.'''"
   ]
  },
  {
   "cell_type": "code",
   "execution_count": 7,
   "id": "f8e7663f",
   "metadata": {
    "execution": {
     "iopub.execute_input": "2025-07-06T16:44:45.895216Z",
     "iopub.status.busy": "2025-07-06T16:44:45.894467Z",
     "iopub.status.idle": "2025-07-06T16:44:45.907322Z",
     "shell.execute_reply": "2025-07-06T16:44:45.906265Z"
    },
    "papermill": {
     "duration": 0.053625,
     "end_time": "2025-07-06T16:44:45.908950",
     "exception": false,
     "start_time": "2025-07-06T16:44:45.855325",
     "status": "completed"
    },
    "tags": []
   },
   "outputs": [
    {
     "data": {
      "text/plain": [
       "MSSubClass\n",
       "30      95829.724638\n",
       "180    102300.000000\n",
       "45     108591.666667\n",
       "190    129613.333333\n",
       "90     133541.076923\n",
       "160    138647.380952\n",
       "50     143302.972222\n",
       "85     147810.000000\n",
       "40     156125.000000\n",
       "70     166772.416667\n",
       "80     169736.551724\n",
       "20     185224.811567\n",
       "75     192437.500000\n",
       "120    200779.080460\n",
       "60     239948.501672\n",
       "Name: SalePrice, dtype: float64"
      ]
     },
     "execution_count": 7,
     "metadata": {},
     "output_type": "execute_result"
    }
   ],
   "source": [
    "# Group by MSSubClass and calculate average SalePrice\n",
    "\n",
    "subclass_price = train.groupby('MSSubClass')['SalePrice'].mean().sort_values(ascending=True)\n",
    "\n",
    "# Display the sorted result\n",
    "subclass_price"
   ]
  },
  {
   "cell_type": "code",
   "execution_count": 8,
   "id": "a129dce0",
   "metadata": {
    "execution": {
     "iopub.execute_input": "2025-07-06T16:44:45.973244Z",
     "iopub.status.busy": "2025-07-06T16:44:45.972370Z",
     "iopub.status.idle": "2025-07-06T16:44:46.409186Z",
     "shell.execute_reply": "2025-07-06T16:44:46.408260Z"
    },
    "papermill": {
     "duration": 0.470965,
     "end_time": "2025-07-06T16:44:46.411043",
     "exception": false,
     "start_time": "2025-07-06T16:44:45.940078",
     "status": "completed"
    },
    "tags": []
   },
   "outputs": [
    {
     "data": {
      "image/png": "[encoded data removed]",
      "text/plain": [
       "<Figure size 1000x500 with 1 Axes>"
      ]
     },
     "metadata": {},
     "output_type": "display_data"
    }
   ],
   "source": [
    "import matplotlib.pyplot as plt\n",
    "\n",
    "subclass_price.plot(kind='bar', figsize=(10,5))\n",
    "plt.title('Average SalePrice by MSSubClass')\n",
    "plt.xlabel('MSSubClass')\n",
    "plt.ylabel('Average SalePrice')\n",
    "plt.xticks(rotation=45)\n",
    "plt.show()\n"
   ]
  },
  {
   "cell_type": "code",
   "execution_count": 9,
   "id": "ae96531b",
   "metadata": {
    "execution": {
     "iopub.execute_input": "2025-07-06T16:44:46.473837Z",
     "iopub.status.busy": "2025-07-06T16:44:46.473491Z",
     "iopub.status.idle": "2025-07-06T16:44:46.478767Z",
     "shell.execute_reply": "2025-07-06T16:44:46.477553Z"
    },
    "papermill": {
     "duration": 0.038584,
     "end_time": "2025-07-06T16:44:46.480548",
     "exception": false,
     "start_time": "2025-07-06T16:44:46.441964",
     "status": "completed"
    },
    "tags": []
   },
   "outputs": [],
   "source": [
    "\n",
    "# Create a dictionary mapping MSSubClass to labels\n",
    "subclass_label_map = {subclass: idx for idx, subclass in enumerate(subclass_price.index)}\n"
   ]
  },
  {
   "cell_type": "code",
   "execution_count": 10,
   "id": "80f50180",
   "metadata": {
    "execution": {
     "iopub.execute_input": "2025-07-06T16:44:46.548464Z",
     "iopub.status.busy": "2025-07-06T16:44:46.547243Z",
     "iopub.status.idle": "2025-07-06T16:44:46.558573Z",
     "shell.execute_reply": "2025-07-06T16:44:46.557321Z"
    },
    "papermill": {
     "duration": 0.047662,
     "end_time": "2025-07-06T16:44:46.560492",
     "exception": false,
     "start_time": "2025-07-06T16:44:46.512830",
     "status": "completed"
    },
    "tags": []
   },
   "outputs": [],
   "source": [
    "# Step 3: Replace the original MSSubClass in both datasets\n",
    "train['MSSubClass'] = train['MSSubClass'].map(subclass_label_map)\n",
    "test['MSSubClass'] = test['MSSubClass'].map(subclass_label_map)\n"
   ]
  },
  {
   "cell_type": "code",
   "execution_count": 11,
   "id": "4097a647",
   "metadata": {
    "execution": {
     "iopub.execute_input": "2025-07-06T16:44:46.626712Z",
     "iopub.status.busy": "2025-07-06T16:44:46.626375Z",
     "iopub.status.idle": "2025-07-06T16:44:46.646206Z",
     "shell.execute_reply": "2025-07-06T16:44:46.645198Z"
    },
    "papermill": {
     "duration": 0.055294,
     "end_time": "2025-07-06T16:44:46.647714",
     "exception": false,
     "start_time": "2025-07-06T16:44:46.592420",
     "status": "completed"
    },
    "tags": []
   },
   "outputs": [
    {
     "data": {
      "text/html": [
       "<div>\n",
       "<style scoped>\n",
       "    .dataframe tbody tr th:only-of-type {\n",
       "        vertical-align: middle;\n",
       "    }\n",
       "\n",
       "    .dataframe tbody tr th {\n",
       "        vertical-align: top;\n",
       "    }\n",
       "\n",
       "    .dataframe thead th {\n",
       "        text-align: right;\n",
       "    }\n",
       "</style>\n",
       "<table border=\"1\" class=\"dataframe\">\n",
       "  <thead>\n",
       "    <tr style=\"text-align: right;\">\n",
       "      <th></th>\n",
       "      <th>Id</th>\n",
       "      <th>MSSubClass</th>\n",
       "      <th>MSZoning</th>\n",
       "      <th>LotFrontage</th>\n",
       "      <th>LotArea</th>\n",
       "      <th>Street</th>\n",
       "      <th>Alley</th>\n",
       "      <th>LotShape</th>\n",
       "      <th>LandContour</th>\n",
       "      <th>Utilities</th>\n",
       "      <th>...</th>\n",
       "      <th>PoolArea</th>\n",
       "      <th>PoolQC</th>\n",
       "      <th>Fence</th>\n",
       "      <th>MiscFeature</th>\n",
       "      <th>MiscVal</th>\n",
       "      <th>MoSold</th>\n",
       "      <th>YrSold</th>\n",
       "      <th>SaleType</th>\n",
       "      <th>SaleCondition</th>\n",
       "      <th>SalePrice</th>\n",
       "    </tr>\n",
       "  </thead>\n",
       "  <tbody>\n",
       "    <tr>\n",
       "      <th>0</th>\n",
       "      <td>1</td>\n",
       "      <td>14</td>\n",
       "      <td>RL</td>\n",
       "      <td>65.0</td>\n",
       "      <td>8450</td>\n",
       "      <td>Pave</td>\n",
       "      <td>NaN</td>\n",
       "      <td>Reg</td>\n",
       "      <td>Lvl</td>\n",
       "      <td>AllPub</td>\n",
       "      <td>...</td>\n",
       "      <td>0</td>\n",
       "      <td>NaN</td>\n",
       "      <td>NaN</td>\n",
       "      <td>NaN</td>\n",
       "      <td>0</td>\n",
       "      <td>2</td>\n",
       "      <td>2008</td>\n",
       "      <td>WD</td>\n",
       "      <td>Normal</td>\n",
       "      <td>208500</td>\n",
       "    </tr>\n",
       "    <tr>\n",
       "      <th>1</th>\n",
       "      <td>2</td>\n",
       "      <td>11</td>\n",
       "      <td>RL</td>\n",
       "      <td>80.0</td>\n",
       "      <td>9600</td>\n",
       "      <td>Pave</td>\n",
       "      <td>NaN</td>\n",
       "      <td>Reg</td>\n",
       "      <td>Lvl</td>\n",
       "      <td>AllPub</td>\n",
       "      <td>...</td>\n",
       "      <td>0</td>\n",
       "      <td>NaN</td>\n",
       "      <td>NaN</td>\n",
       "      <td>NaN</td>\n",
       "      <td>0</td>\n",
       "      <td>5</td>\n",
       "      <td>2007</td>\n",
       "      <td>WD</td>\n",
       "      <td>Normal</td>\n",
       "      <td>181500</td>\n",
       "    </tr>\n",
       "    <tr>\n",
       "      <th>2</th>\n",
       "      <td>3</td>\n",
       "      <td>14</td>\n",
       "      <td>RL</td>\n",
       "      <td>68.0</td>\n",
       "      <td>11250</td>\n",
       "      <td>Pave</td>\n",
       "      <td>NaN</td>\n",
       "      <td>IR1</td>\n",
       "      <td>Lvl</td>\n",
       "      <td>AllPub</td>\n",
       "      <td>...</td>\n",
       "      <td>0</td>\n",
       "      <td>NaN</td>\n",
       "      <td>NaN</td>\n",
       "      <td>NaN</td>\n",
       "      <td>0</td>\n",
       "      <td>9</td>\n",
       "      <td>2008</td>\n",
       "      <td>WD</td>\n",
       "      <td>Normal</td>\n",
       "      <td>223500</td>\n",
       "    </tr>\n",
       "    <tr>\n",
       "      <th>3</th>\n",
       "      <td>4</td>\n",
       "      <td>9</td>\n",
       "      <td>RL</td>\n",
       "      <td>60.0</td>\n",
       "      <td>9550</td>\n",
       "      <td>Pave</td>\n",
       "      <td>NaN</td>\n",
       "      <td>IR1</td>\n",
       "      <td>Lvl</td>\n",
       "      <td>AllPub</td>\n",
       "      <td>...</td>\n",
       "      <td>0</td>\n",
       "      <td>NaN</td>\n",
       "      <td>NaN</td>\n",
       "      <td>NaN</td>\n",
       "      <td>0</td>\n",
       "      <td>2</td>\n",
       "      <td>2006</td>\n",
       "      <td>WD</td>\n",
       "      <td>Abnorml</td>\n",
       "      <td>140000</td>\n",
       "    </tr>\n",
       "    <tr>\n",
       "      <th>4</th>\n",
       "      <td>5</td>\n",
       "      <td>14</td>\n",
       "      <td>RL</td>\n",
       "      <td>84.0</td>\n",
       "      <td>14260</td>\n",
       "      <td>Pave</td>\n",
       "      <td>NaN</td>\n",
       "      <td>IR1</td>\n",
       "      <td>Lvl</td>\n",
       "      <td>AllPub</td>\n",
       "      <td>...</td>\n",
       "      <td>0</td>\n",
       "      <td>NaN</td>\n",
       "      <td>NaN</td>\n",
       "      <td>NaN</td>\n",
       "      <td>0</td>\n",
       "      <td>12</td>\n",
       "      <td>2008</td>\n",
       "      <td>WD</td>\n",
       "      <td>Normal</td>\n",
       "      <td>250000</td>\n",
       "    </tr>\n",
       "  </tbody>\n",
       "</table>\n",
       "<p>5 rows × 81 columns</p>\n",
       "</div>"
      ],
      "text/plain": [
       "   Id  MSSubClass MSZoning  LotFrontage  LotArea Street Alley LotShape  \\\n",
       "0   1          14       RL         65.0     8450   Pave   NaN      Reg   \n",
       "1   2          11       RL         80.0     9600   Pave   NaN      Reg   \n",
       "2   3          14       RL         68.0    11250   Pave   NaN      IR1   \n",
       "3   4           9       RL         60.0     9550   Pave   NaN      IR1   \n",
       "4   5          14       RL         84.0    14260   Pave   NaN      IR1   \n",
       "\n",
       "  LandContour Utilities  ... PoolArea PoolQC Fence MiscFeature MiscVal MoSold  \\\n",
       "0         Lvl    AllPub  ...        0    NaN   NaN         NaN       0      2   \n",
       "1         Lvl    AllPub  ...        0    NaN   NaN         NaN       0      5   \n",
       "2         Lvl    AllPub  ...        0    NaN   NaN         NaN       0      9   \n",
       "3         Lvl    AllPub  ...        0    NaN   NaN         NaN       0      2   \n",
       "4         Lvl    AllPub  ...        0    NaN   NaN         NaN       0     12   \n",
       "\n",
       "  YrSold  SaleType  SaleCondition  SalePrice  \n",
       "0   2008        WD         Normal     208500  \n",
       "1   2007        WD         Normal     181500  \n",
       "2   2008        WD         Normal     223500  \n",
       "3   2006        WD        Abnorml     140000  \n",
       "4   2008        WD         Normal     250000  \n",
       "\n",
       "[5 rows x 81 columns]"
      ]
     },
     "execution_count": 11,
     "metadata": {},
     "output_type": "execute_result"
    }
   ],
   "source": [
    "train.head()\n"
   ]
  },
  {
   "cell_type": "code",
   "execution_count": 12,
   "id": "cede3986",
   "metadata": {
    "execution": {
     "iopub.execute_input": "2025-07-06T16:44:46.709733Z",
     "iopub.status.busy": "2025-07-06T16:44:46.709403Z",
     "iopub.status.idle": "2025-07-06T16:44:46.714978Z",
     "shell.execute_reply": "2025-07-06T16:44:46.713833Z"
    },
    "papermill": {
     "duration": 0.038244,
     "end_time": "2025-07-06T16:44:46.716501",
     "exception": false,
     "start_time": "2025-07-06T16:44:46.678257",
     "status": "completed"
    },
    "tags": []
   },
   "outputs": [
    {
     "name": "stdout",
     "output_type": "stream",
     "text": [
      "int64\n"
     ]
    }
   ],
   "source": [
    "#if the output is int then there is no null values \n",
    "print(train['MSSubClass'].dtype)"
   ]
  },
  {
   "cell_type": "code",
   "execution_count": 13,
   "id": "4ce2bf1e",
   "metadata": {
    "execution": {
     "iopub.execute_input": "2025-07-06T16:44:46.780062Z",
     "iopub.status.busy": "2025-07-06T16:44:46.779780Z",
     "iopub.status.idle": "2025-07-06T16:44:46.786688Z",
     "shell.execute_reply": "2025-07-06T16:44:46.785525Z"
    },
    "papermill": {
     "duration": 0.041094,
     "end_time": "2025-07-06T16:44:46.788611",
     "exception": false,
     "start_time": "2025-07-06T16:44:46.747517",
     "status": "completed"
    },
    "tags": []
   },
   "outputs": [
    {
     "data": {
      "text/plain": [
       "'MSZoning: Identifies the general zoning classification of the sale.\\n\\t\\t\\n       A\\tAgriculture\\n       C\\tCommercial\\n       FV\\tFloating Village Residential\\n       I\\tIndustrial\\n       RH\\tResidential High Density\\n       RL\\tResidential Low Density\\n       RP\\tResidential Low Density Park \\n       RM\\tResidential Medium Density '"
      ]
     },
     "execution_count": 13,
     "metadata": {},
     "output_type": "execute_result"
    }
   ],
   "source": [
    "#now lets go to next feature \"MSZoning\"\n",
    "#description about that particular feature\n",
    "'''MSZoning: Identifies the general zoning classification of the sale.\n",
    "\t\t\n",
    "       A\tAgriculture\n",
    "       C\tCommercial\n",
    "       FV\tFloating Village Residential\n",
    "       I\tIndustrial\n",
    "       RH\tResidential High Density\n",
    "       RL\tResidential Low Density\n",
    "       RP\tResidential Low Density Park \n",
    "       RM\tResidential Medium Density '''"
   ]
  },
  {
   "cell_type": "code",
   "execution_count": 14,
   "id": "40b3df04",
   "metadata": {
    "execution": {
     "iopub.execute_input": "2025-07-06T16:44:46.856732Z",
     "iopub.status.busy": "2025-07-06T16:44:46.856289Z",
     "iopub.status.idle": "2025-07-06T16:44:46.863624Z",
     "shell.execute_reply": "2025-07-06T16:44:46.862251Z"
    },
    "papermill": {
     "duration": 0.043033,
     "end_time": "2025-07-06T16:44:46.865559",
     "exception": false,
     "start_time": "2025-07-06T16:44:46.822526",
     "status": "completed"
    },
    "tags": []
   },
   "outputs": [
    {
     "name": "stdout",
     "output_type": "stream",
     "text": [
      "📦 Data type of MSZoning: object\n",
      "🕳️ Null values in MSZoning: 0\n"
     ]
    }
   ],
   "source": [
    "# Check data type\n",
    "print(\"📦 Data type of MSZoning:\", train['MSZoning'].dtype)\n",
    "\n",
    "# Check number of null values\n",
    "print(\"🕳️ Null values in MSZoning:\", train['MSZoning'].isnull().sum())"
   ]
  },
  {
   "cell_type": "code",
   "execution_count": 15,
   "id": "007f5fb1",
   "metadata": {
    "execution": {
     "iopub.execute_input": "2025-07-06T16:44:46.929719Z",
     "iopub.status.busy": "2025-07-06T16:44:46.929293Z",
     "iopub.status.idle": "2025-07-06T16:44:46.938189Z",
     "shell.execute_reply": "2025-07-06T16:44:46.937175Z"
    },
    "papermill": {
     "duration": 0.04281,
     "end_time": "2025-07-06T16:44:46.939842",
     "exception": false,
     "start_time": "2025-07-06T16:44:46.897032",
     "status": "completed"
    },
    "tags": []
   },
   "outputs": [
    {
     "name": "stdout",
     "output_type": "stream",
     "text": [
      "MSZoning\n",
      "C (all)     74528.000000\n",
      "RM         126316.830275\n",
      "RH         131558.375000\n",
      "RL         191004.994787\n",
      "FV         214014.061538\n",
      "Name: SalePrice, dtype: float64\n"
     ]
    }
   ],
   "source": [
    "#flow same like mssubclass\n",
    "# Group by MSZoning and calculate average SalePrice\n",
    "\n",
    "zoning_price = train.groupby('MSZoning')['SalePrice'].mean().sort_values(ascending=True)\n",
    "\n",
    "# Display it\n",
    "print(zoning_price)\n"
   ]
  },
  {
   "cell_type": "code",
   "execution_count": 16,
   "id": "411ad7a5",
   "metadata": {
    "execution": {
     "iopub.execute_input": "2025-07-06T16:44:47.003162Z",
     "iopub.status.busy": "2025-07-06T16:44:47.002784Z",
     "iopub.status.idle": "2025-07-06T16:44:47.008984Z",
     "shell.execute_reply": "2025-07-06T16:44:47.007654Z"
    },
    "papermill": {
     "duration": 0.04006,
     "end_time": "2025-07-06T16:44:47.010880",
     "exception": false,
     "start_time": "2025-07-06T16:44:46.970820",
     "status": "completed"
    },
    "tags": []
   },
   "outputs": [
    {
     "name": "stdout",
     "output_type": "stream",
     "text": [
      "{'C (all)': 0, 'RM': 1, 'RH': 2, 'RL': 3, 'FV': 4}\n"
     ]
    }
   ],
   "source": [
    "# Create a mapping: higher price → higher label\n",
    "zoning_label_map = {zone: idx for idx, zone in enumerate(zoning_price.index)}\n",
    "\n",
    "# Show the map (optional)\n",
    "print(zoning_label_map)\n"
   ]
  },
  {
   "cell_type": "code",
   "execution_count": 17,
   "id": "46f87129",
   "metadata": {
    "execution": {
     "iopub.execute_input": "2025-07-06T16:44:47.078981Z",
     "iopub.status.busy": "2025-07-06T16:44:47.078654Z",
     "iopub.status.idle": "2025-07-06T16:44:47.086730Z",
     "shell.execute_reply": "2025-07-06T16:44:47.085603Z"
    },
    "papermill": {
     "duration": 0.045268,
     "end_time": "2025-07-06T16:44:47.088595",
     "exception": false,
     "start_time": "2025-07-06T16:44:47.043327",
     "status": "completed"
    },
    "tags": []
   },
   "outputs": [],
   "source": [
    "# Apply label encoding to train and test datasets\n",
    "train['MSZoning'] = train['MSZoning'].map(zoning_label_map)\n",
    "test['MSZoning'] = test['MSZoning'].map(zoning_label_map)\n"
   ]
  },
  {
   "cell_type": "code",
   "execution_count": 18,
   "id": "4b5c23c9",
   "metadata": {
    "execution": {
     "iopub.execute_input": "2025-07-06T16:44:47.152411Z",
     "iopub.status.busy": "2025-07-06T16:44:47.152016Z",
     "iopub.status.idle": "2025-07-06T16:44:47.172066Z",
     "shell.execute_reply": "2025-07-06T16:44:47.170952Z"
    },
    "papermill": {
     "duration": 0.053703,
     "end_time": "2025-07-06T16:44:47.173665",
     "exception": false,
     "start_time": "2025-07-06T16:44:47.119962",
     "status": "completed"
    },
    "tags": []
   },
   "outputs": [
    {
     "data": {
      "text/html": [
       "<div>\n",
       "<style scoped>\n",
       "    .dataframe tbody tr th:only-of-type {\n",
       "        vertical-align: middle;\n",
       "    }\n",
       "\n",
       "    .dataframe tbody tr th {\n",
       "        vertical-align: top;\n",
       "    }\n",
       "\n",
       "    .dataframe thead th {\n",
       "        text-align: right;\n",
       "    }\n",
       "</style>\n",
       "<table border=\"1\" class=\"dataframe\">\n",
       "  <thead>\n",
       "    <tr style=\"text-align: right;\">\n",
       "      <th></th>\n",
       "      <th>Id</th>\n",
       "      <th>MSSubClass</th>\n",
       "      <th>MSZoning</th>\n",
       "      <th>LotFrontage</th>\n",
       "      <th>LotArea</th>\n",
       "      <th>Street</th>\n",
       "      <th>Alley</th>\n",
       "      <th>LotShape</th>\n",
       "      <th>LandContour</th>\n",
       "      <th>Utilities</th>\n",
       "      <th>...</th>\n",
       "      <th>PoolArea</th>\n",
       "      <th>PoolQC</th>\n",
       "      <th>Fence</th>\n",
       "      <th>MiscFeature</th>\n",
       "      <th>MiscVal</th>\n",
       "      <th>MoSold</th>\n",
       "      <th>YrSold</th>\n",
       "      <th>SaleType</th>\n",
       "      <th>SaleCondition</th>\n",
       "      <th>SalePrice</th>\n",
       "    </tr>\n",
       "  </thead>\n",
       "  <tbody>\n",
       "    <tr>\n",
       "      <th>0</th>\n",
       "      <td>1</td>\n",
       "      <td>14</td>\n",
       "      <td>3</td>\n",
       "      <td>65.0</td>\n",
       "      <td>8450</td>\n",
       "      <td>Pave</td>\n",
       "      <td>NaN</td>\n",
       "      <td>Reg</td>\n",
       "      <td>Lvl</td>\n",
       "      <td>AllPub</td>\n",
       "      <td>...</td>\n",
       "      <td>0</td>\n",
       "      <td>NaN</td>\n",
       "      <td>NaN</td>\n",
       "      <td>NaN</td>\n",
       "      <td>0</td>\n",
       "      <td>2</td>\n",
       "      <td>2008</td>\n",
       "      <td>WD</td>\n",
       "      <td>Normal</td>\n",
       "      <td>208500</td>\n",
       "    </tr>\n",
       "    <tr>\n",
       "      <th>1</th>\n",
       "      <td>2</td>\n",
       "      <td>11</td>\n",
       "      <td>3</td>\n",
       "      <td>80.0</td>\n",
       "      <td>9600</td>\n",
       "      <td>Pave</td>\n",
       "      <td>NaN</td>\n",
       "      <td>Reg</td>\n",
       "      <td>Lvl</td>\n",
       "      <td>AllPub</td>\n",
       "      <td>...</td>\n",
       "      <td>0</td>\n",
       "      <td>NaN</td>\n",
       "      <td>NaN</td>\n",
       "      <td>NaN</td>\n",
       "      <td>0</td>\n",
       "      <td>5</td>\n",
       "      <td>2007</td>\n",
       "      <td>WD</td>\n",
       "      <td>Normal</td>\n",
       "      <td>181500</td>\n",
       "    </tr>\n",
       "    <tr>\n",
       "      <th>2</th>\n",
       "      <td>3</td>\n",
       "      <td>14</td>\n",
       "      <td>3</td>\n",
       "      <td>68.0</td>\n",
       "      <td>11250</td>\n",
       "      <td>Pave</td>\n",
       "      <td>NaN</td>\n",
       "      <td>IR1</td>\n",
       "      <td>Lvl</td>\n",
       "      <td>AllPub</td>\n",
       "      <td>...</td>\n",
       "      <td>0</td>\n",
       "      <td>NaN</td>\n",
       "      <td>NaN</td>\n",
       "      <td>NaN</td>\n",
       "      <td>0</td>\n",
       "      <td>9</td>\n",
       "      <td>2008</td>\n",
       "      <td>WD</td>\n",
       "      <td>Normal</td>\n",
       "      <td>223500</td>\n",
       "    </tr>\n",
       "    <tr>\n",
       "      <th>3</th>\n",
       "      <td>4</td>\n",
       "      <td>9</td>\n",
       "      <td>3</td>\n",
       "      <td>60.0</td>\n",
       "      <td>9550</td>\n",
       "      <td>Pave</td>\n",
       "      <td>NaN</td>\n",
       "      <td>IR1</td>\n",
       "      <td>Lvl</td>\n",
       "      <td>AllPub</td>\n",
       "      <td>...</td>\n",
       "      <td>0</td>\n",
       "      <td>NaN</td>\n",
       "      <td>NaN</td>\n",
       "      <td>NaN</td>\n",
       "      <td>0</td>\n",
       "      <td>2</td>\n",
       "      <td>2006</td>\n",
       "      <td>WD</td>\n",
       "      <td>Abnorml</td>\n",
       "      <td>140000</td>\n",
       "    </tr>\n",
       "    <tr>\n",
       "      <th>4</th>\n",
       "      <td>5</td>\n",
       "      <td>14</td>\n",
       "      <td>3</td>\n",
       "      <td>84.0</td>\n",
       "      <td>14260</td>\n",
       "      <td>Pave</td>\n",
       "      <td>NaN</td>\n",
       "      <td>IR1</td>\n",
       "      <td>Lvl</td>\n",
       "      <td>AllPub</td>\n",
       "      <td>...</td>\n",
       "      <td>0</td>\n",
       "      <td>NaN</td>\n",
       "      <td>NaN</td>\n",
       "      <td>NaN</td>\n",
       "      <td>0</td>\n",
       "      <td>12</td>\n",
       "      <td>2008</td>\n",
       "      <td>WD</td>\n",
       "      <td>Normal</td>\n",
       "      <td>250000</td>\n",
       "    </tr>\n",
       "  </tbody>\n",
       "</table>\n",
       "<p>5 rows × 81 columns</p>\n",
       "</div>"
      ],
      "text/plain": [
       "   Id  MSSubClass  MSZoning  LotFrontage  LotArea Street Alley LotShape  \\\n",
       "0   1          14         3         65.0     8450   Pave   NaN      Reg   \n",
       "1   2          11         3         80.0     9600   Pave   NaN      Reg   \n",
       "2   3          14         3         68.0    11250   Pave   NaN      IR1   \n",
       "3   4           9         3         60.0     9550   Pave   NaN      IR1   \n",
       "4   5          14         3         84.0    14260   Pave   NaN      IR1   \n",
       "\n",
       "  LandContour Utilities  ... PoolArea PoolQC Fence MiscFeature MiscVal MoSold  \\\n",
       "0         Lvl    AllPub  ...        0    NaN   NaN         NaN       0      2   \n",
       "1         Lvl    AllPub  ...        0    NaN   NaN         NaN       0      5   \n",
       "2         Lvl    AllPub  ...        0    NaN   NaN         NaN       0      9   \n",
       "3         Lvl    AllPub  ...        0    NaN   NaN         NaN       0      2   \n",
       "4         Lvl    AllPub  ...        0    NaN   NaN         NaN       0     12   \n",
       "\n",
       "  YrSold  SaleType  SaleCondition  SalePrice  \n",
       "0   2008        WD         Normal     208500  \n",
       "1   2007        WD         Normal     181500  \n",
       "2   2008        WD         Normal     223500  \n",
       "3   2006        WD        Abnorml     140000  \n",
       "4   2008        WD         Normal     250000  \n",
       "\n",
       "[5 rows x 81 columns]"
      ]
     },
     "execution_count": 18,
     "metadata": {},
     "output_type": "execute_result"
    }
   ],
   "source": [
    "train.head()"
   ]
  },
  {
   "cell_type": "code",
   "execution_count": 19,
   "id": "57710045",
   "metadata": {
    "execution": {
     "iopub.execute_input": "2025-07-06T16:44:47.237673Z",
     "iopub.status.busy": "2025-07-06T16:44:47.237213Z",
     "iopub.status.idle": "2025-07-06T16:44:47.244276Z",
     "shell.execute_reply": "2025-07-06T16:44:47.243120Z"
    },
    "papermill": {
     "duration": 0.040867,
     "end_time": "2025-07-06T16:44:47.245796",
     "exception": false,
     "start_time": "2025-07-06T16:44:47.204929",
     "status": "completed"
    },
    "tags": []
   },
   "outputs": [
    {
     "name": "stdout",
     "output_type": "stream",
     "text": [
      "Updated dtype: int64\n",
      "Nulls after encoding: 0\n"
     ]
    }
   ],
   "source": [
    "print(\"Updated dtype:\", train['MSZoning'].dtype)\n",
    "print(\"Nulls after encoding:\", train['MSZoning'].isnull().sum())\n"
   ]
  },
  {
   "cell_type": "code",
   "execution_count": 20,
   "id": "f2a9f870",
   "metadata": {
    "execution": {
     "iopub.execute_input": "2025-07-06T16:44:47.309052Z",
     "iopub.status.busy": "2025-07-06T16:44:47.308695Z",
     "iopub.status.idle": "2025-07-06T16:44:47.313577Z",
     "shell.execute_reply": "2025-07-06T16:44:47.312509Z"
    },
    "papermill": {
     "duration": 0.038502,
     "end_time": "2025-07-06T16:44:47.315320",
     "exception": false,
     "start_time": "2025-07-06T16:44:47.276818",
     "status": "completed"
    },
    "tags": []
   },
   "outputs": [],
   "source": [
    "#lets go to next feature \"LotFrontage\""
   ]
  },
  {
   "cell_type": "code",
   "execution_count": 21,
   "id": "a62211cb",
   "metadata": {
    "execution": {
     "iopub.execute_input": "2025-07-06T16:44:47.385293Z",
     "iopub.status.busy": "2025-07-06T16:44:47.384279Z",
     "iopub.status.idle": "2025-07-06T16:44:47.390700Z",
     "shell.execute_reply": "2025-07-06T16:44:47.389553Z"
    },
    "papermill": {
     "duration": 0.042163,
     "end_time": "2025-07-06T16:44:47.392431",
     "exception": false,
     "start_time": "2025-07-06T16:44:47.350268",
     "status": "completed"
    },
    "tags": []
   },
   "outputs": [
    {
     "name": "stdout",
     "output_type": "stream",
     "text": [
      "Total rows: 1460\n",
      "Missing values in LotFrontage: 259\n"
     ]
    }
   ],
   "source": [
    "# Total number of rows\n",
    "print(\"Total rows:\", train.shape[0])\n",
    "\n",
    "# Total number of null values in LotFrontage\n",
    "print(\"Missing values in LotFrontage:\", train['LotFrontage'].isnull().sum())\n"
   ]
  },
  {
   "cell_type": "code",
   "execution_count": 22,
   "id": "af44652c",
   "metadata": {
    "execution": {
     "iopub.execute_input": "2025-07-06T16:44:47.458564Z",
     "iopub.status.busy": "2025-07-06T16:44:47.457193Z",
     "iopub.status.idle": "2025-07-06T16:44:47.464039Z",
     "shell.execute_reply": "2025-07-06T16:44:47.462928Z"
    },
    "papermill": {
     "duration": 0.041166,
     "end_time": "2025-07-06T16:44:47.465717",
     "exception": false,
     "start_time": "2025-07-06T16:44:47.424551",
     "status": "completed"
    },
    "tags": []
   },
   "outputs": [
    {
     "data": {
      "text/plain": [
       "' Regression-Based Imputation\\nTrain a regression model (like LinearRegression) to predict LotFrontage using features like LotArea, LotShape, etc.\\n\\nMore powerful, but a bit more complex '"
      ]
     },
     "execution_count": 22,
     "metadata": {},
     "output_type": "execute_result"
    }
   ],
   "source": [
    "#to fill the null values\n",
    "#LotFrontage basically depends on  LotArea, LotShape, LotConfig, etc.\n",
    "''' Regression-Based Imputation\n",
    "Train a regression model (like LinearRegression) to predict LotFrontage using features like LotArea, LotShape, etc.\n",
    "\n",
    "More powerful, but a bit more complex '''"
   ]
  },
  {
   "cell_type": "code",
   "execution_count": 23,
   "id": "f25357e5",
   "metadata": {
    "execution": {
     "iopub.execute_input": "2025-07-06T16:44:47.533085Z",
     "iopub.status.busy": "2025-07-06T16:44:47.532725Z",
     "iopub.status.idle": "2025-07-06T16:44:47.537670Z",
     "shell.execute_reply": "2025-07-06T16:44:47.536560Z"
    },
    "papermill": {
     "duration": 0.040353,
     "end_time": "2025-07-06T16:44:47.539482",
     "exception": false,
     "start_time": "2025-07-06T16:44:47.499129",
     "status": "completed"
    },
    "tags": []
   },
   "outputs": [],
   "source": [
    "#Let’s build a mini regression model to predict missing values of LotFrontage \n",
    "#using related features like LotArea, LotConfig, LotShape, Neighborhood, etc."
   ]
  },
  {
   "cell_type": "markdown",
   "id": "593b1255",
   "metadata": {
    "papermill": {
     "duration": 0.034037,
     "end_time": "2025-07-06T16:44:47.607297",
     "exception": false,
     "start_time": "2025-07-06T16:44:47.573260",
     "status": "completed"
    },
    "tags": []
   },
   "source": []
  },
  {
   "cell_type": "code",
   "execution_count": 24,
   "id": "398895c2",
   "metadata": {
    "execution": {
     "iopub.execute_input": "2025-07-06T16:44:47.676325Z",
     "iopub.status.busy": "2025-07-06T16:44:47.675386Z",
     "iopub.status.idle": "2025-07-06T16:44:49.505934Z",
     "shell.execute_reply": "2025-07-06T16:44:49.505015Z"
    },
    "papermill": {
     "duration": 1.867527,
     "end_time": "2025-07-06T16:44:49.508151",
     "exception": false,
     "start_time": "2025-07-06T16:44:47.640624",
     "status": "completed"
    },
    "tags": []
   },
   "outputs": [
    {
     "name": "stdout",
     "output_type": "stream",
     "text": [
      "✅ Missing LotFrontage values predicted and filled.\n",
      "Remaining missing LotFrontage values: 0\n"
     ]
    },
    {
     "name": "stderr",
     "output_type": "stream",
     "text": [
      "/tmp/ipykernel_13/3193597276.py:8: FutureWarning: A value is trying to be set on a copy of a DataFrame or Series through chained assignment using an inplace method.\n",
      "The behavior will change in pandas 3.0. This inplace method will never work because the intermediate object on which we are setting values always behaves as a copy.\n",
      "\n",
      "For example, when doing 'df[col].method(value, inplace=True)', try using 'df.method({col: value}, inplace=True)' or df[col] = df[col].method(value) instead, to perform the operation inplace on the original object.\n",
      "\n",
      "\n",
      "  train['LotShape'].fillna(train['LotShape'].mode()[0], inplace=True)\n",
      "/tmp/ipykernel_13/3193597276.py:9: FutureWarning: A value is trying to be set on a copy of a DataFrame or Series through chained assignment using an inplace method.\n",
      "The behavior will change in pandas 3.0. This inplace method will never work because the intermediate object on which we are setting values always behaves as a copy.\n",
      "\n",
      "For example, when doing 'df[col].method(value, inplace=True)', try using 'df.method({col: value}, inplace=True)' or df[col] = df[col].method(value) instead, to perform the operation inplace on the original object.\n",
      "\n",
      "\n",
      "  train['LotConfig'].fillna(train['LotConfig'].mode()[0], inplace=True)\n",
      "/tmp/ipykernel_13/3193597276.py:10: FutureWarning: A value is trying to be set on a copy of a DataFrame or Series through chained assignment using an inplace method.\n",
      "The behavior will change in pandas 3.0. This inplace method will never work because the intermediate object on which we are setting values always behaves as a copy.\n",
      "\n",
      "For example, when doing 'df[col].method(value, inplace=True)', try using 'df.method({col: value}, inplace=True)' or df[col] = df[col].method(value) instead, to perform the operation inplace on the original object.\n",
      "\n",
      "\n",
      "  train['Neighborhood'].fillna(train['Neighborhood'].mode()[0], inplace=True)\n",
      "/tmp/ipykernel_13/3193597276.py:11: FutureWarning: A value is trying to be set on a copy of a DataFrame or Series through chained assignment using an inplace method.\n",
      "The behavior will change in pandas 3.0. This inplace method will never work because the intermediate object on which we are setting values always behaves as a copy.\n",
      "\n",
      "For example, when doing 'df[col].method(value, inplace=True)', try using 'df.method({col: value}, inplace=True)' or df[col] = df[col].method(value) instead, to perform the operation inplace on the original object.\n",
      "\n",
      "\n",
      "  train['LotArea'].fillna(train['LotArea'].median(), inplace=True)\n"
     ]
    }
   ],
   "source": [
    "from sklearn.pipeline import Pipeline\n",
    "from sklearn.compose import ColumnTransformer\n",
    "from sklearn.preprocessing import OneHotEncoder\n",
    "from sklearn.linear_model import LinearRegression\n",
    "import pandas as pd\n",
    "\n",
    "# Step 1: Fill missing values in the input features\n",
    "train['LotShape'].fillna(train['LotShape'].mode()[0], inplace=True)\n",
    "train['LotConfig'].fillna(train['LotConfig'].mode()[0], inplace=True)\n",
    "train['Neighborhood'].fillna(train['Neighborhood'].mode()[0], inplace=True)\n",
    "train['LotArea'].fillna(train['LotArea'].median(), inplace=True)\n",
    "\n",
    "# Step 2: Define input features and dropna only for LotFrontage\n",
    "features = ['LotArea', 'LotShape', 'LotConfig', 'Neighborhood']\n",
    "clean_df = train[features + ['LotFrontage']].dropna()\n",
    "\n",
    "# Step 3: Split into X and y\n",
    "X_train = clean_df[features]\n",
    "y_train = clean_df['LotFrontage']\n",
    "\n",
    "# Step 4: Create preprocessing for categorical features\n",
    "categorical_cols = X_train.select_dtypes(include='object').columns.tolist()\n",
    "\n",
    "preprocessor = ColumnTransformer(\n",
    "    transformers=[\n",
    "        ('cat', OneHotEncoder(handle_unknown='ignore'), categorical_cols)\n",
    "    ],\n",
    "    remainder='passthrough'  # Keep numeric columns as-is\n",
    ")\n",
    "\n",
    "# Step 5: Build pipeline\n",
    "pipeline = Pipeline(steps=[\n",
    "    ('preprocessor', preprocessor),\n",
    "    ('model', LinearRegression())\n",
    "])\n",
    "\n",
    "# Step 6: Train the model\n",
    "pipeline.fit(X_train, y_train)\n",
    "\n",
    "# Step 7: Predict missing LotFrontage\n",
    "missing_df = train[train['LotFrontage'].isnull()]\n",
    "X_missing = missing_df[features]\n",
    "\n",
    "# Step 8: Predict only if we have rows\n",
    "if not X_missing.empty:\n",
    "    predicted_lotfrontage = pipeline.predict(X_missing)\n",
    "    train.loc[X_missing.index, 'LotFrontage'] = predicted_lotfrontage\n",
    "    print(\"✅ Missing LotFrontage values predicted and filled.\")\n",
    "else:\n",
    "    print(\"⚠️ No rows available for LotFrontage prediction.\")\n",
    "\n",
    "# Step 9: Check remaining nulls\n",
    "print(\"Remaining missing LotFrontage values:\", train['LotFrontage'].isnull().sum())\n"
   ]
  },
  {
   "cell_type": "code",
   "execution_count": 25,
   "id": "cc1d8689",
   "metadata": {
    "execution": {
     "iopub.execute_input": "2025-07-06T16:44:49.578263Z",
     "iopub.status.busy": "2025-07-06T16:44:49.577209Z",
     "iopub.status.idle": "2025-07-06T16:44:49.583811Z",
     "shell.execute_reply": "2025-07-06T16:44:49.582811Z"
    },
    "papermill": {
     "duration": 0.041678,
     "end_time": "2025-07-06T16:44:49.585306",
     "exception": false,
     "start_time": "2025-07-06T16:44:49.543628",
     "status": "completed"
    },
    "tags": []
   },
   "outputs": [
    {
     "name": "stdout",
     "output_type": "stream",
     "text": [
      "LotArea type: int64\n",
      "Missing values: 0\n"
     ]
    }
   ],
   "source": [
    "print(\"LotArea type:\", train['LotArea'].dtype)\n",
    "print(\"Missing values:\", train['LotArea'].isnull().sum())"
   ]
  },
  {
   "cell_type": "code",
   "execution_count": 26,
   "id": "609f5509",
   "metadata": {
    "execution": {
     "iopub.execute_input": "2025-07-06T16:44:49.662483Z",
     "iopub.status.busy": "2025-07-06T16:44:49.661691Z",
     "iopub.status.idle": "2025-07-06T16:44:49.667602Z",
     "shell.execute_reply": "2025-07-06T16:44:49.666360Z"
    },
    "papermill": {
     "duration": 0.044312,
     "end_time": "2025-07-06T16:44:49.669324",
     "exception": false,
     "start_time": "2025-07-06T16:44:49.625012",
     "status": "completed"
    },
    "tags": []
   },
   "outputs": [
    {
     "name": "stdout",
     "output_type": "stream",
     "text": [
      "street type: object\n",
      "Missing values: 0\n"
     ]
    }
   ],
   "source": [
    "print(\"street type:\", train['Street'].dtype)\n",
    "print(\"Missing values:\", train['Street'].isnull().sum())"
   ]
  },
  {
   "cell_type": "code",
   "execution_count": 27,
   "id": "c7081cbd",
   "metadata": {
    "execution": {
     "iopub.execute_input": "2025-07-06T16:44:49.737502Z",
     "iopub.status.busy": "2025-07-06T16:44:49.737045Z",
     "iopub.status.idle": "2025-07-06T16:44:49.743432Z",
     "shell.execute_reply": "2025-07-06T16:44:49.742186Z"
    },
    "papermill": {
     "duration": 0.042025,
     "end_time": "2025-07-06T16:44:49.745022",
     "exception": false,
     "start_time": "2025-07-06T16:44:49.702997",
     "status": "completed"
    },
    "tags": []
   },
   "outputs": [
    {
     "name": "stdout",
     "output_type": "stream",
     "text": [
      "\n",
      "Unique values in Street: ['Pave' 'Grvl']\n"
     ]
    }
   ],
   "source": [
    "# Unique categories\n",
    "print(\"\\nUnique values in Street:\", train['Street'].unique())"
   ]
  },
  {
   "cell_type": "code",
   "execution_count": 28,
   "id": "291ecbef",
   "metadata": {
    "execution": {
     "iopub.execute_input": "2025-07-06T16:44:49.815169Z",
     "iopub.status.busy": "2025-07-06T16:44:49.814838Z",
     "iopub.status.idle": "2025-07-06T16:44:49.823437Z",
     "shell.execute_reply": "2025-07-06T16:44:49.822132Z"
    },
    "papermill": {
     "duration": 0.045351,
     "end_time": "2025-07-06T16:44:49.825049",
     "exception": false,
     "start_time": "2025-07-06T16:44:49.779698",
     "status": "completed"
    },
    "tags": []
   },
   "outputs": [
    {
     "name": "stdout",
     "output_type": "stream",
     "text": [
      "\n",
      "Average SalePrice by Street type:\n",
      " Street\n",
      "Pave    181130.538514\n",
      "Grvl    130190.500000\n",
      "Name: SalePrice, dtype: float64\n"
     ]
    }
   ],
   "source": [
    "# Compare average SalePrice\n",
    "street_price = train.groupby('Street')['SalePrice'].mean().sort_values(ascending=False)\n",
    "print(\"\\nAverage SalePrice by Street type:\\n\", street_price)\n"
   ]
  },
  {
   "cell_type": "code",
   "execution_count": 29,
   "id": "11db225c",
   "metadata": {
    "execution": {
     "iopub.execute_input": "2025-07-06T16:44:49.895182Z",
     "iopub.status.busy": "2025-07-06T16:44:49.894826Z",
     "iopub.status.idle": "2025-07-06T16:44:50.685964Z",
     "shell.execute_reply": "2025-07-06T16:44:50.685010Z"
    },
    "papermill": {
     "duration": 0.828335,
     "end_time": "2025-07-06T16:44:50.687908",
     "exception": false,
     "start_time": "2025-07-06T16:44:49.859573",
     "status": "completed"
    },
    "tags": []
   },
   "outputs": [
    {
     "data": {
      "image/png": "[encoded data removed]",
      "text/plain": [
       "<Figure size 600x400 with 1 Axes>"
      ]
     },
     "metadata": {},
     "output_type": "display_data"
    }
   ],
   "source": [
    "# Optional: Plot\n",
    "import seaborn as sns\n",
    "import matplotlib.pyplot as plt\n",
    "\n",
    "plt.figure(figsize=(6,4))\n",
    "sns.barplot(x=street_price.index, y=street_price.values)\n",
    "plt.title(\"Average SalePrice by Street Type\")\n",
    "plt.ylabel(\"SalePrice\")\n",
    "plt.xlabel(\"Street Type\")\n",
    "plt.show()"
   ]
  },
  {
   "cell_type": "code",
   "execution_count": 30,
   "id": "ecff9943",
   "metadata": {
    "execution": {
     "iopub.execute_input": "2025-07-06T16:44:50.772376Z",
     "iopub.status.busy": "2025-07-06T16:44:50.771736Z",
     "iopub.status.idle": "2025-07-06T16:44:50.790411Z",
     "shell.execute_reply": "2025-07-06T16:44:50.788889Z"
    },
    "papermill": {
     "duration": 0.059168,
     "end_time": "2025-07-06T16:44:50.792233",
     "exception": false,
     "start_time": "2025-07-06T16:44:50.733065",
     "status": "completed"
    },
    "tags": []
   },
   "outputs": [
    {
     "name": "stdout",
     "output_type": "stream",
     "text": [
      "Encoding applied:\n",
      " {'Grvl': 0, 'Pave': 1}\n",
      "  Street  Street_encoded\n",
      "0   Pave               1\n",
      "1   Pave               1\n",
      "2   Pave               1\n",
      "3   Pave               1\n",
      "4   Pave               1\n"
     ]
    }
   ],
   "source": [
    "#✅ Code to do Label Encoding on Street:\n",
    "# Group by 'Street' and calculate mean SalePrice\n",
    "street_price = train.groupby('Street')['SalePrice'].mean().sort_values()\n",
    "\n",
    "# Create a mapping: lower price gets 0, higher price gets 1\n",
    "street_mapping = {category: idx for idx, category in enumerate(street_price.index)}\n",
    "\n",
    "# Apply encoding to both train and test\n",
    "train['Street_encoded'] = train['Street'].map(street_mapping)\n",
    "test['Street_encoded'] = test['Street'].map(street_mapping)\n",
    "\n",
    "# Check result\n",
    "print(\"Encoding applied:\\n\", street_mapping)\n",
    "print(train[['Street', 'Street_encoded']].head())\n"
   ]
  },
  {
   "cell_type": "code",
   "execution_count": 31,
   "id": "7c7003e5",
   "metadata": {
    "execution": {
     "iopub.execute_input": "2025-07-06T16:44:50.873541Z",
     "iopub.status.busy": "2025-07-06T16:44:50.873100Z",
     "iopub.status.idle": "2025-07-06T16:44:50.883283Z",
     "shell.execute_reply": "2025-07-06T16:44:50.882094Z"
    },
    "papermill": {
     "duration": 0.048806,
     "end_time": "2025-07-06T16:44:50.885491",
     "exception": false,
     "start_time": "2025-07-06T16:44:50.836685",
     "status": "completed"
    },
    "tags": []
   },
   "outputs": [
    {
     "name": "stdout",
     "output_type": "stream",
     "text": [
      "Data Type: object\n",
      "Missing Values: 1369\n"
     ]
    },
    {
     "data": {
      "text/plain": [
       "\"🧱 Real-world meaning:\\nValue\\tMeaning\\nGrvl\\tHouse has alley access with a gravel road\\nPave\\tHouse has alley access with a paved road\\nNaN\\t🅰️ No alley access (the majority of houses) \\n\\nIn our model:\\n\\nWe treat NaN as a valid category called 'NoAlley'\\n\\nThen we check which category usually has higher SalePrice, and encode accordingly. \""
      ]
     },
     "execution_count": 31,
     "metadata": {},
     "output_type": "execute_result"
    }
   ],
   "source": [
    "# Check data type of 'Alley'\n",
    "print(\"Data Type:\", train['Alley'].dtype)\n",
    "\n",
    "# Check number of missing (null) values in 'Alley'\n",
    "print(\"Missing Values:\", train['Alley'].isnull().sum())\n",
    "'''🧱 Real-world meaning:\n",
    "Value\tMeaning\n",
    "Grvl\tHouse has alley access with a gravel road\n",
    "Pave\tHouse has alley access with a paved road\n",
    "NaN\t🅰️ No alley access (the majority of houses) \n",
    "\n",
    "In our model:\n",
    "\n",
    "We treat NaN as a valid category called 'NoAlley'\n",
    "\n",
    "Then we check which category usually has higher SalePrice, and encode accordingly. '''"
   ]
  },
  {
   "cell_type": "code",
   "execution_count": 32,
   "id": "abbb151c",
   "metadata": {
    "execution": {
     "iopub.execute_input": "2025-07-06T16:44:50.966374Z",
     "iopub.status.busy": "2025-07-06T16:44:50.965415Z",
     "iopub.status.idle": "2025-07-06T16:44:50.973009Z",
     "shell.execute_reply": "2025-07-06T16:44:50.972102Z"
    },
    "papermill": {
     "duration": 0.052138,
     "end_time": "2025-07-06T16:44:50.974723",
     "exception": false,
     "start_time": "2025-07-06T16:44:50.922585",
     "status": "completed"
    },
    "tags": []
   },
   "outputs": [],
   "source": [
    "# Step 1: Fill NaNs with a meaningful category\n",
    "train['Alley'] = train['Alley'].fillna('NoAlley')\n",
    "test['Alley'] = test['Alley'].fillna('NoAlley')"
   ]
  },
  {
   "cell_type": "code",
   "execution_count": 33,
   "id": "5ed6073c",
   "metadata": {
    "execution": {
     "iopub.execute_input": "2025-07-06T16:44:51.050638Z",
     "iopub.status.busy": "2025-07-06T16:44:51.049297Z",
     "iopub.status.idle": "2025-07-06T16:44:51.059519Z",
     "shell.execute_reply": "2025-07-06T16:44:51.058121Z"
    },
    "papermill": {
     "duration": 0.050397,
     "end_time": "2025-07-06T16:44:51.061745",
     "exception": false,
     "start_time": "2025-07-06T16:44:51.011348",
     "status": "completed"
    },
    "tags": []
   },
   "outputs": [
    {
     "name": "stdout",
     "output_type": "stream",
     "text": [
      "Average SalePrice by Alley type:\n",
      " Alley\n",
      "Grvl       122219.080000\n",
      "Pave       168000.585366\n",
      "NoAlley    183452.131483\n",
      "Name: SalePrice, dtype: float64\n"
     ]
    }
   ],
   "source": [
    "\n",
    "# Step 2: Group by Alley and calculate average SalePrice\n",
    "alley_price = train.groupby('Alley')['SalePrice'].mean().sort_values()\n",
    "\n",
    "# Display the average prices\n",
    "print(\"Average SalePrice by Alley type:\\n\", alley_price)"
   ]
  },
  {
   "cell_type": "code",
   "execution_count": 34,
   "id": "7e37b36e",
   "metadata": {
    "execution": {
     "iopub.execute_input": "2025-07-06T16:44:51.134898Z",
     "iopub.status.busy": "2025-07-06T16:44:51.134528Z",
     "iopub.status.idle": "2025-07-06T16:44:51.149886Z",
     "shell.execute_reply": "2025-07-06T16:44:51.148266Z"
    },
    "papermill": {
     "duration": 0.054427,
     "end_time": "2025-07-06T16:44:51.151692",
     "exception": false,
     "start_time": "2025-07-06T16:44:51.097265",
     "status": "completed"
    },
    "tags": []
   },
   "outputs": [
    {
     "name": "stdout",
     "output_type": "stream",
     "text": [
      "\n",
      "Label encoding mapping:\n",
      " {'Grvl': 0, 'Pave': 1, 'NoAlley': 2}\n",
      "     Alley  Alley_encoded\n",
      "0  NoAlley              2\n",
      "1  NoAlley              2\n",
      "2  NoAlley              2\n",
      "3  NoAlley              2\n",
      "4  NoAlley              2\n"
     ]
    }
   ],
   "source": [
    "# Step 3: Create label encoding based on ascending price\n",
    "alley_mapping = {category: idx for idx, category in enumerate(alley_price.index)}\n",
    "\n",
    "# Step 4: Apply the mapping to train and test sets\n",
    "train['Alley_encoded'] = train['Alley'].map(alley_mapping)\n",
    "test['Alley_encoded'] = test['Alley'].map(alley_mapping)\n",
    "\n",
    "# Step 5: Verify\n",
    "print(\"\\nLabel encoding mapping:\\n\", alley_mapping)\n",
    "print(train[['Alley', 'Alley_encoded']].head())"
   ]
  },
  {
   "cell_type": "code",
   "execution_count": 35,
   "id": "9f298eb0",
   "metadata": {
    "execution": {
     "iopub.execute_input": "2025-07-06T16:44:51.234908Z",
     "iopub.status.busy": "2025-07-06T16:44:51.234447Z",
     "iopub.status.idle": "2025-07-06T16:44:51.242814Z",
     "shell.execute_reply": "2025-07-06T16:44:51.241795Z"
    },
    "papermill": {
     "duration": 0.044865,
     "end_time": "2025-07-06T16:44:51.244253",
     "exception": false,
     "start_time": "2025-07-06T16:44:51.199388",
     "status": "completed"
    },
    "tags": []
   },
   "outputs": [
    {
     "name": "stdout",
     "output_type": "stream",
     "text": [
      "Data Type: object\n",
      "Missing Values: 0\n",
      "Unique Values: ['Reg' 'IR1' 'IR2' 'IR3']\n"
     ]
    }
   ],
   "source": [
    "# Check data type\n",
    "print(\"Data Type:\", train['LotShape'].dtype)\n",
    "\n",
    "# Check for missing (null) values\n",
    "print(\"Missing Values:\", train['LotShape'].isnull().sum())\n",
    "\n",
    "# Check unique values\n",
    "print(\"Unique Values:\", train['LotShape'].unique())\n"
   ]
  },
  {
   "cell_type": "code",
   "execution_count": 36,
   "id": "bb82a8ec",
   "metadata": {
    "execution": {
     "iopub.execute_input": "2025-07-06T16:44:51.313886Z",
     "iopub.status.busy": "2025-07-06T16:44:51.313560Z",
     "iopub.status.idle": "2025-07-06T16:44:51.321704Z",
     "shell.execute_reply": "2025-07-06T16:44:51.320655Z"
    },
    "papermill": {
     "duration": 0.045568,
     "end_time": "2025-07-06T16:44:51.323138",
     "exception": false,
     "start_time": "2025-07-06T16:44:51.277570",
     "status": "completed"
    },
    "tags": []
   },
   "outputs": [
    {
     "name": "stdout",
     "output_type": "stream",
     "text": [
      "LotShape\n",
      "Reg    164754.818378\n",
      "IR1    206101.665289\n",
      "IR3    216036.500000\n",
      "IR2    239833.365854\n",
      "Name: SalePrice, dtype: float64\n"
     ]
    }
   ],
   "source": [
    "# Check average price for each shape\n",
    "lotshape_price = train.groupby('LotShape')['SalePrice'].mean().sort_values()\n",
    "print(lotshape_price)\n"
   ]
  },
  {
   "cell_type": "code",
   "execution_count": 37,
   "id": "be6c898c",
   "metadata": {
    "execution": {
     "iopub.execute_input": "2025-07-06T16:44:51.391312Z",
     "iopub.status.busy": "2025-07-06T16:44:51.390206Z",
     "iopub.status.idle": "2025-07-06T16:44:51.406217Z",
     "shell.execute_reply": "2025-07-06T16:44:51.405034Z"
    },
    "papermill": {
     "duration": 0.051848,
     "end_time": "2025-07-06T16:44:51.408127",
     "exception": false,
     "start_time": "2025-07-06T16:44:51.356279",
     "status": "completed"
    },
    "tags": []
   },
   "outputs": [
    {
     "name": "stdout",
     "output_type": "stream",
     "text": [
      "LotShape → Label Mapping:\n",
      " {'Reg': 0, 'IR1': 1, 'IR3': 2, 'IR2': 3}\n",
      "\n",
      "Sample Encoded Column:\n",
      "  LotShape  LotShape_encoded\n",
      "0      Reg                 0\n",
      "1      Reg                 0\n",
      "2      IR1                 1\n",
      "3      IR1                 1\n",
      "4      IR1                 1\n"
     ]
    }
   ],
   "source": [
    "# Step 2: Create a mapping from category to label\n",
    "lotshape_mapping = {category: idx for idx, category in enumerate(lotshape_price.index)}\n",
    "\n",
    "# Step 3: Apply mapping to train and test datasets\n",
    "train['LotShape_encoded'] = train['LotShape'].map(lotshape_mapping)\n",
    "test['LotShape_encoded'] = test['LotShape'].map(lotshape_mapping)\n",
    "\n",
    "# Step 4: Display the mapping and a sample\n",
    "print(\"LotShape → Label Mapping:\\n\", lotshape_mapping)\n",
    "print(\"\\nSample Encoded Column:\")\n",
    "print(train[['LotShape', 'LotShape_encoded']].head())\n"
   ]
  },
  {
   "cell_type": "code",
   "execution_count": 38,
   "id": "a5fb71fa",
   "metadata": {
    "execution": {
     "iopub.execute_input": "2025-07-06T16:44:51.475846Z",
     "iopub.status.busy": "2025-07-06T16:44:51.475382Z",
     "iopub.status.idle": "2025-07-06T16:44:51.483541Z",
     "shell.execute_reply": "2025-07-06T16:44:51.482710Z"
    },
    "papermill": {
     "duration": 0.044407,
     "end_time": "2025-07-06T16:44:51.485470",
     "exception": false,
     "start_time": "2025-07-06T16:44:51.441063",
     "status": "completed"
    },
    "tags": []
   },
   "outputs": [
    {
     "name": "stdout",
     "output_type": "stream",
     "text": [
      "Data Type: object\n",
      "Missing Values: 0\n",
      "Unique Values: ['Lvl' 'Bnk' 'Low' 'HLS']\n"
     ]
    }
   ],
   "source": [
    "print(\"Data Type:\", train['LandContour'].dtype)\n",
    "print(\"Missing Values:\", train['LandContour'].isnull().sum())\n",
    "print(\"Unique Values:\", train['LandContour'].unique())\n"
   ]
  },
  {
   "cell_type": "code",
   "execution_count": 39,
   "id": "735e6c9c",
   "metadata": {
    "execution": {
     "iopub.execute_input": "2025-07-06T16:44:51.560391Z",
     "iopub.status.busy": "2025-07-06T16:44:51.560057Z",
     "iopub.status.idle": "2025-07-06T16:44:51.567895Z",
     "shell.execute_reply": "2025-07-06T16:44:51.566760Z"
    },
    "papermill": {
     "duration": 0.043673,
     "end_time": "2025-07-06T16:44:51.569363",
     "exception": false,
     "start_time": "2025-07-06T16:44:51.525690",
     "status": "completed"
    },
    "tags": []
   },
   "outputs": [
    {
     "name": "stdout",
     "output_type": "stream",
     "text": [
      "LandContour\n",
      "Bnk    143104.079365\n",
      "Lvl    180183.746758\n",
      "Low    203661.111111\n",
      "HLS    231533.940000\n",
      "Name: SalePrice, dtype: float64\n"
     ]
    }
   ],
   "source": [
    "contour_price = train.groupby('LandContour')['SalePrice'].mean().sort_values()\n",
    "print(contour_price)\n"
   ]
  },
  {
   "cell_type": "code",
   "execution_count": 40,
   "id": "61c2f948",
   "metadata": {
    "execution": {
     "iopub.execute_input": "2025-07-06T16:44:51.642968Z",
     "iopub.status.busy": "2025-07-06T16:44:51.642618Z",
     "iopub.status.idle": "2025-07-06T16:44:51.655090Z",
     "shell.execute_reply": "2025-07-06T16:44:51.653843Z"
    },
    "papermill": {
     "duration": 0.05379,
     "end_time": "2025-07-06T16:44:51.657524",
     "exception": false,
     "start_time": "2025-07-06T16:44:51.603734",
     "status": "completed"
    },
    "tags": []
   },
   "outputs": [
    {
     "name": "stdout",
     "output_type": "stream",
     "text": [
      "LandContour → Label Mapping:\n",
      " {'Bnk': 0, 'Lvl': 1, 'Low': 2, 'HLS': 3}\n",
      "  LandContour  LandContour_encoded\n",
      "0         Lvl                    1\n",
      "1         Lvl                    1\n",
      "2         Lvl                    1\n",
      "3         Lvl                    1\n",
      "4         Lvl                    1\n"
     ]
    }
   ],
   "source": [
    "# Create mapping\n",
    "landcontour_mapping = {cat: i for i, cat in enumerate(contour_price.index)}\n",
    "\n",
    "# Apply mapping\n",
    "train['LandContour_encoded'] = train['LandContour'].map(landcontour_mapping)\n",
    "test['LandContour_encoded'] = test['LandContour'].map(landcontour_mapping)\n",
    "\n",
    "# Show the result\n",
    "print(\"LandContour → Label Mapping:\\n\", landcontour_mapping)\n",
    "print(train[['LandContour', 'LandContour_encoded']].head())\n"
   ]
  },
  {
   "cell_type": "code",
   "execution_count": 41,
   "id": "1c055b6f",
   "metadata": {
    "execution": {
     "iopub.execute_input": "2025-07-06T16:44:51.743786Z",
     "iopub.status.busy": "2025-07-06T16:44:51.743420Z",
     "iopub.status.idle": "2025-07-06T16:44:51.750872Z",
     "shell.execute_reply": "2025-07-06T16:44:51.749481Z"
    },
    "papermill": {
     "duration": 0.049853,
     "end_time": "2025-07-06T16:44:51.752698",
     "exception": false,
     "start_time": "2025-07-06T16:44:51.702845",
     "status": "completed"
    },
    "tags": []
   },
   "outputs": [
    {
     "name": "stdout",
     "output_type": "stream",
     "text": [
      "📌 Data Type: object\n",
      "❓ Missing Values: 0\n",
      "🔎 Unique Values: ['AllPub' 'NoSeWa']\n"
     ]
    }
   ],
   "source": [
    "print(\"📌 Data Type:\", train['Utilities'].dtype)\n",
    "print(\"❓ Missing Values:\", train['Utilities'].isnull().sum())\n",
    "print(\"🔎 Unique Values:\", train['Utilities'].unique())\n"
   ]
  },
  {
   "cell_type": "code",
   "execution_count": 42,
   "id": "0ab19432",
   "metadata": {
    "execution": {
     "iopub.execute_input": "2025-07-06T16:44:51.827439Z",
     "iopub.status.busy": "2025-07-06T16:44:51.826973Z",
     "iopub.status.idle": "2025-07-06T16:44:51.835486Z",
     "shell.execute_reply": "2025-07-06T16:44:51.834135Z"
    },
    "papermill": {
     "duration": 0.046388,
     "end_time": "2025-07-06T16:44:51.837212",
     "exception": false,
     "start_time": "2025-07-06T16:44:51.790824",
     "status": "completed"
    },
    "tags": []
   },
   "outputs": [
    {
     "name": "stdout",
     "output_type": "stream",
     "text": [
      "Utilities\n",
      "AllPub    1459\n",
      "NoSeWa       1\n",
      "Name: count, dtype: int64\n"
     ]
    }
   ],
   "source": [
    "print(train['Utilities'].value_counts())\n",
    "\n",
    "#lets drop this column because there is only one single input for nosewa"
   ]
  },
  {
   "cell_type": "code",
   "execution_count": 43,
   "id": "f7afda45",
   "metadata": {
    "execution": {
     "iopub.execute_input": "2025-07-06T16:44:51.911284Z",
     "iopub.status.busy": "2025-07-06T16:44:51.910879Z",
     "iopub.status.idle": "2025-07-06T16:44:51.915945Z",
     "shell.execute_reply": "2025-07-06T16:44:51.914806Z"
    },
    "papermill": {
     "duration": 0.044911,
     "end_time": "2025-07-06T16:44:51.918221",
     "exception": false,
     "start_time": "2025-07-06T16:44:51.873310",
     "status": "completed"
    },
    "tags": []
   },
   "outputs": [],
   "source": [
    "#i am training the model with AllPub,NoSeWa .but what if the test case contains  NoSewr or ELO\n",
    "#for that we used get() as shown\n"
   ]
  },
  {
   "cell_type": "code",
   "execution_count": 44,
   "id": "b9b943c9",
   "metadata": {
    "execution": {
     "iopub.execute_input": "2025-07-06T16:44:51.998498Z",
     "iopub.status.busy": "2025-07-06T16:44:51.998101Z",
     "iopub.status.idle": "2025-07-06T16:44:52.007600Z",
     "shell.execute_reply": "2025-07-06T16:44:52.006524Z"
    },
    "papermill": {
     "duration": 0.04775,
     "end_time": "2025-07-06T16:44:52.009275",
     "exception": false,
     "start_time": "2025-07-06T16:44:51.961525",
     "status": "completed"
    },
    "tags": []
   },
   "outputs": [],
   "source": [
    "# Safe mapping for Utilities feature\n",
    "utilities_map = {'AllPub': 1, 'NoSeWa': 0}\n",
    "\n",
    "# Apply to train set\n",
    "train['Utilities'] = train['Utilities'].map(lambda x: utilities_map.get(x, 0)).astype(bool)\n",
    "\n",
    "# Apply to test set\n",
    "test['Utilities'] = test['Utilities'].map(lambda x: utilities_map.get(x, 0)).astype(bool)\n"
   ]
  },
  {
   "cell_type": "code",
   "execution_count": 45,
   "id": "94301b15",
   "metadata": {
    "execution": {
     "iopub.execute_input": "2025-07-06T16:44:52.081101Z",
     "iopub.status.busy": "2025-07-06T16:44:52.080749Z",
     "iopub.status.idle": "2025-07-06T16:44:52.085785Z",
     "shell.execute_reply": "2025-07-06T16:44:52.084651Z"
    },
    "papermill": {
     "duration": 0.043623,
     "end_time": "2025-07-06T16:44:52.087633",
     "exception": false,
     "start_time": "2025-07-06T16:44:52.044010",
     "status": "completed"
    },
    "tags": []
   },
   "outputs": [],
   "source": [
    "#what about previous feature we didn't cared about unknown features\n",
    "#lets work on it"
   ]
  },
  {
   "cell_type": "code",
   "execution_count": 46,
   "id": "a8782d12",
   "metadata": {
    "execution": {
     "iopub.execute_input": "2025-07-06T16:44:52.162275Z",
     "iopub.status.busy": "2025-07-06T16:44:52.161930Z",
     "iopub.status.idle": "2025-07-06T16:44:52.192121Z",
     "shell.execute_reply": "2025-07-06T16:44:52.191109Z"
    },
    "papermill": {
     "duration": 0.06876,
     "end_time": "2025-07-06T16:44:52.193993",
     "exception": false,
     "start_time": "2025-07-06T16:44:52.125233",
     "status": "completed"
    },
    "tags": []
   },
   "outputs": [],
   "source": [
    "# Function to create safe mapping based on SalePrice and apply label encoding\n",
    "def safe_label_encoding(df_train, df_test, column):\n",
    "    # Create mapping from lowest to highest average SalePrice\n",
    "    order = df_train.groupby(column)['SalePrice'].mean().sort_values().index\n",
    "    mapping = {k: v for v, k in enumerate(order)}\n",
    "    \n",
    "    # Apply mapping safely (fallback to 0 if unknown)\n",
    "    df_train[column] = df_train[column].map(lambda x: mapping.get(x, 0))\n",
    "    df_test[column] = df_test[column].map(lambda x: mapping.get(x, 0))\n",
    "\n",
    "# -------------------------\n",
    "# 1. MSSubClass\n",
    "# (Special case: numerical values, so we treat as categories temporarily)\n",
    "train['MSSubClass'] = train['MSSubClass'].astype(str)\n",
    "test['MSSubClass'] = test['MSSubClass'].astype(str)\n",
    "safe_label_encoding(train, test, 'MSSubClass')\n",
    "\n",
    "# -------------------------\n",
    "# 2. MSZoning\n",
    "safe_label_encoding(train, test, 'MSZoning')\n",
    "\n",
    "# -------------------------\n",
    "# 3. Street\n",
    "safe_label_encoding(train, test, 'Street')\n",
    "\n",
    "# -------------------------\n",
    "# 4. Alley\n",
    "safe_label_encoding(train, test, 'Alley')\n",
    "\n",
    "# -------------------------\n",
    "# 5. LotShape\n",
    "safe_label_encoding(train, test, 'LotShape')\n",
    "\n",
    "# -------------------------\n",
    "# 6. LandContour\n",
    "safe_label_encoding(train, test, 'LandContour')\n",
    "\n",
    "# -------------------------\n",
    "# 7. Utilities — Custom handling (convert to boolean)\n",
    "utilities_map = {'AllPub': 1, 'NoSeWa': 0}\n",
    "train['Utilities'] = train['Utilities'].map(lambda x: utilities_map.get(x, 0)).astype(bool)\n",
    "test['Utilities'] = test['Utilities'].map(lambda x: utilities_map.get(x, 0)).astype(bool)\n"
   ]
  },
  {
   "cell_type": "code",
   "execution_count": 47,
   "id": "c0bd5313",
   "metadata": {
    "execution": {
     "iopub.execute_input": "2025-07-06T16:44:52.267508Z",
     "iopub.status.busy": "2025-07-06T16:44:52.267130Z",
     "iopub.status.idle": "2025-07-06T16:44:52.274308Z",
     "shell.execute_reply": "2025-07-06T16:44:52.273323Z"
    },
    "papermill": {
     "duration": 0.044664,
     "end_time": "2025-07-06T16:44:52.275823",
     "exception": false,
     "start_time": "2025-07-06T16:44:52.231159",
     "status": "completed"
    },
    "tags": []
   },
   "outputs": [
    {
     "name": "stdout",
     "output_type": "stream",
     "text": [
      "Datatype: object\n",
      "Null values: 0\n",
      "Unique values: ['Inside' 'FR2' 'Corner' 'CulDSac' 'FR3']\n"
     ]
    }
   ],
   "source": [
    "print(\"Datatype:\", train['LotConfig'].dtype)\n",
    "print(\"Null values:\", train['LotConfig'].isnull().sum())\n",
    "print(\"Unique values:\", train['LotConfig'].unique())\n"
   ]
  },
  {
   "cell_type": "code",
   "execution_count": 48,
   "id": "2e20a6a3",
   "metadata": {
    "execution": {
     "iopub.execute_input": "2025-07-06T16:44:52.348995Z",
     "iopub.status.busy": "2025-07-06T16:44:52.348673Z",
     "iopub.status.idle": "2025-07-06T16:44:52.356448Z",
     "shell.execute_reply": "2025-07-06T16:44:52.355268Z"
    },
    "papermill": {
     "duration": 0.047002,
     "end_time": "2025-07-06T16:44:52.358114",
     "exception": false,
     "start_time": "2025-07-06T16:44:52.311112",
     "status": "completed"
    },
    "tags": []
   },
   "outputs": [
    {
     "name": "stdout",
     "output_type": "stream",
     "text": [
      "LotConfig\n",
      "Inside     176938.047529\n",
      "FR2        177934.574468\n",
      "Corner     181623.425856\n",
      "FR3        208475.000000\n",
      "CulDSac    223854.617021\n",
      "Name: SalePrice, dtype: float64\n"
     ]
    }
   ],
   "source": [
    "# Step 1: Group by LotConfig and compute average SalePrice\n",
    "lotconfig_price = train.groupby('LotConfig')['SalePrice'].mean().sort_values()\n",
    "\n",
    "# Step 2: Print the sorted prices by LotConfig category\n",
    "print(lotconfig_price)\n"
   ]
  },
  {
   "cell_type": "code",
   "execution_count": 49,
   "id": "618cee7d",
   "metadata": {
    "execution": {
     "iopub.execute_input": "2025-07-06T16:44:52.429920Z",
     "iopub.status.busy": "2025-07-06T16:44:52.429572Z",
     "iopub.status.idle": "2025-07-06T16:44:52.438285Z",
     "shell.execute_reply": "2025-07-06T16:44:52.437383Z"
    },
    "papermill": {
     "duration": 0.046664,
     "end_time": "2025-07-06T16:44:52.440070",
     "exception": false,
     "start_time": "2025-07-06T16:44:52.393406",
     "status": "completed"
    },
    "tags": []
   },
   "outputs": [
    {
     "name": "stdout",
     "output_type": "stream",
     "text": [
      "LotConfig encoding: {'Inside': 0, 'FR2': 1, 'Corner': 2, 'FR3': 3, 'CulDSac': 4}\n"
     ]
    }
   ],
   "source": [
    "# Step 2: Create label encoding based on increasing average price\n",
    "lotconfig_mapping = {k: i for i, k in enumerate(lotconfig_price.index)}\n",
    "\n",
    "# Step 3: Apply encoding safely (if category not found in test data, use 0 as fallback)\n",
    "train['LotConfig'] = train['LotConfig'].map(lambda x: lotconfig_mapping.get(x, 0))\n",
    "test['LotConfig'] = test['LotConfig'].map(lambda x: lotconfig_mapping.get(x, 0))\n",
    "\n",
    "# (Optional) Check mapping\n",
    "print(\"LotConfig encoding:\", lotconfig_mapping)"
   ]
  },
  {
   "cell_type": "code",
   "execution_count": 50,
   "id": "9fe0f684",
   "metadata": {
    "execution": {
     "iopub.execute_input": "2025-07-06T16:44:52.512402Z",
     "iopub.status.busy": "2025-07-06T16:44:52.512043Z",
     "iopub.status.idle": "2025-07-06T16:44:52.518450Z",
     "shell.execute_reply": "2025-07-06T16:44:52.517577Z"
    },
    "papermill": {
     "duration": 0.044081,
     "end_time": "2025-07-06T16:44:52.520012",
     "exception": false,
     "start_time": "2025-07-06T16:44:52.475931",
     "status": "completed"
    },
    "tags": []
   },
   "outputs": [
    {
     "name": "stdout",
     "output_type": "stream",
     "text": [
      "Datatype: object\n",
      "Null values: 0\n",
      "Unique values: ['Gtl' 'Mod' 'Sev']\n"
     ]
    }
   ],
   "source": [
    "print(\"Datatype:\", train['LandSlope'].dtype)\n",
    "print(\"Null values:\", train['LandSlope'].isnull().sum())\n",
    "print(\"Unique values:\", train['LandSlope'].unique())\n"
   ]
  },
  {
   "cell_type": "code",
   "execution_count": 51,
   "id": "2e90dd52",
   "metadata": {
    "execution": {
     "iopub.execute_input": "2025-07-06T16:44:52.594166Z",
     "iopub.status.busy": "2025-07-06T16:44:52.593840Z",
     "iopub.status.idle": "2025-07-06T16:44:52.605620Z",
     "shell.execute_reply": "2025-07-06T16:44:52.604608Z"
    },
    "papermill": {
     "duration": 0.051907,
     "end_time": "2025-07-06T16:44:52.607439",
     "exception": false,
     "start_time": "2025-07-06T16:44:52.555532",
     "status": "completed"
    },
    "tags": []
   },
   "outputs": [
    {
     "name": "stdout",
     "output_type": "stream",
     "text": [
      "Label Encoding Mapping for LandSlope: {'Gtl': 0, 'Mod': 1, 'Sev': 2}\n"
     ]
    }
   ],
   "source": [
    "# Step 1: Create mapping based on average SalePrice\n",
    "slope_price = train.groupby('LandSlope')['SalePrice'].mean().sort_values()\n",
    "landslope_mapping = {k: i for i, k in enumerate(slope_price.index)}\n",
    "\n",
    "# Optional: Display the mapping\n",
    "print(\"Label Encoding Mapping for LandSlope:\", landslope_mapping)\n",
    "\n",
    "# Step 2: Apply encoding safely (fallback to 0 if unknown)\n",
    "train['LandSlope'] = train['LandSlope'].map(lambda x: landslope_mapping.get(x, 0))\n",
    "test['LandSlope'] = test['LandSlope'].map(lambda x: landslope_mapping.get(x, 0))\n"
   ]
  },
  {
   "cell_type": "code",
   "execution_count": 52,
   "id": "682e51cd",
   "metadata": {
    "execution": {
     "iopub.execute_input": "2025-07-06T16:44:52.684087Z",
     "iopub.status.busy": "2025-07-06T16:44:52.683754Z",
     "iopub.status.idle": "2025-07-06T16:44:52.690866Z",
     "shell.execute_reply": "2025-07-06T16:44:52.689641Z"
    },
    "papermill": {
     "duration": 0.045489,
     "end_time": "2025-07-06T16:44:52.692535",
     "exception": false,
     "start_time": "2025-07-06T16:44:52.647046",
     "status": "completed"
    },
    "tags": []
   },
   "outputs": [
    {
     "name": "stdout",
     "output_type": "stream",
     "text": [
      "Datatype: object\n",
      "Null values: 0\n",
      "Unique values: ['CollgCr' 'Veenker' 'Crawfor' 'NoRidge' 'Mitchel' 'Somerst' 'NWAmes'\n",
      " 'OldTown' 'BrkSide' 'Sawyer' 'NridgHt' 'NAmes' 'SawyerW' 'IDOTRR'\n",
      " 'MeadowV' 'Edwards' 'Timber' 'Gilbert' 'StoneBr' 'ClearCr' 'NPkVill'\n",
      " 'Blmngtn' 'BrDale' 'SWISU' 'Blueste']\n"
     ]
    }
   ],
   "source": [
    "print(\"Datatype:\", train['Neighborhood'].dtype)\n",
    "print(\"Null values:\", train['Neighborhood'].isnull().sum())\n",
    "print(\"Unique values:\", train['Neighborhood'].unique())\n"
   ]
  },
  {
   "cell_type": "code",
   "execution_count": 53,
   "id": "83c0865d",
   "metadata": {
    "execution": {
     "iopub.execute_input": "2025-07-06T16:44:52.767717Z",
     "iopub.status.busy": "2025-07-06T16:44:52.767372Z",
     "iopub.status.idle": "2025-07-06T16:44:52.776375Z",
     "shell.execute_reply": "2025-07-06T16:44:52.775134Z"
    },
    "papermill": {
     "duration": 0.048714,
     "end_time": "2025-07-06T16:44:52.778358",
     "exception": false,
     "start_time": "2025-07-06T16:44:52.729644",
     "status": "completed"
    },
    "tags": []
   },
   "outputs": [
    {
     "name": "stdout",
     "output_type": "stream",
     "text": [
      "Neighborhood\n",
      "MeadowV     98576.470588\n",
      "IDOTRR     100123.783784\n",
      "BrDale     104493.750000\n",
      "BrkSide    124834.051724\n",
      "Edwards    128219.700000\n",
      "OldTown    128225.300885\n",
      "Sawyer     136793.135135\n",
      "Blueste    137500.000000\n",
      "SWISU      142591.360000\n",
      "NPkVill    142694.444444\n",
      "NAmes      145847.080000\n",
      "Mitchel    156270.122449\n",
      "SawyerW    186555.796610\n",
      "NWAmes     189050.068493\n",
      "Gilbert    192854.506329\n",
      "Blmngtn    194870.882353\n",
      "CollgCr    197965.773333\n",
      "Crawfor    210624.725490\n",
      "ClearCr    212565.428571\n",
      "Somerst    225379.837209\n",
      "Veenker    238772.727273\n",
      "Timber     242247.447368\n",
      "StoneBr    310499.000000\n",
      "NridgHt    316270.623377\n",
      "NoRidge    335295.317073\n",
      "Name: SalePrice, dtype: float64\n"
     ]
    }
   ],
   "source": [
    "neighborhood_price = train.groupby('Neighborhood')['SalePrice'].mean().sort_values()\n",
    "print(neighborhood_price)\n"
   ]
  },
  {
   "cell_type": "code",
   "execution_count": 54,
   "id": "68eb1f7b",
   "metadata": {
    "execution": {
     "iopub.execute_input": "2025-07-06T16:44:52.848307Z",
     "iopub.status.busy": "2025-07-06T16:44:52.848026Z",
     "iopub.status.idle": "2025-07-06T16:44:52.856717Z",
     "shell.execute_reply": "2025-07-06T16:44:52.855516Z"
    },
    "papermill": {
     "duration": 0.044991,
     "end_time": "2025-07-06T16:44:52.858292",
     "exception": false,
     "start_time": "2025-07-06T16:44:52.813301",
     "status": "completed"
    },
    "tags": []
   },
   "outputs": [
    {
     "name": "stdout",
     "output_type": "stream",
     "text": [
      "Neighborhood mapping: {'MeadowV': 0, 'IDOTRR': 1, 'BrDale': 2, 'BrkSide': 3, 'Edwards': 4, 'OldTown': 5, 'Sawyer': 6, 'Blueste': 7, 'SWISU': 8, 'NPkVill': 9, 'NAmes': 10, 'Mitchel': 11, 'SawyerW': 12, 'NWAmes': 13, 'Gilbert': 14, 'Blmngtn': 15, 'CollgCr': 16, 'Crawfor': 17, 'ClearCr': 18, 'Somerst': 19, 'Veenker': 20, 'Timber': 21, 'StoneBr': 22, 'NridgHt': 23, 'NoRidge': 24}\n"
     ]
    }
   ],
   "source": [
    "# Step 1: Create mapping from price (low to high)\n",
    "neighborhood_mapping = {k: i for i, k in enumerate(neighborhood_price.index)}\n",
    "\n",
    "# Step 2: Apply mapping safely\n",
    "train['Neighborhood'] = train['Neighborhood'].map(lambda x: neighborhood_mapping.get(x, 0))\n",
    "test['Neighborhood'] = test['Neighborhood'].map(lambda x: neighborhood_mapping.get(x, 0))\n",
    "\n",
    "# (Optional) Show mapping\n",
    "print(\"Neighborhood mapping:\", neighborhood_mapping)\n"
   ]
  },
  {
   "cell_type": "code",
   "execution_count": 55,
   "id": "7a2a6ef8",
   "metadata": {
    "execution": {
     "iopub.execute_input": "2025-07-06T16:44:52.928406Z",
     "iopub.status.busy": "2025-07-06T16:44:52.928086Z",
     "iopub.status.idle": "2025-07-06T16:44:52.934425Z",
     "shell.execute_reply": "2025-07-06T16:44:52.933309Z"
    },
    "papermill": {
     "duration": 0.043688,
     "end_time": "2025-07-06T16:44:52.935969",
     "exception": false,
     "start_time": "2025-07-06T16:44:52.892281",
     "status": "completed"
    },
    "tags": []
   },
   "outputs": [
    {
     "name": "stdout",
     "output_type": "stream",
     "text": [
      "Datatype: object\n",
      "Null values: 0\n",
      "Unique values: ['Norm' 'Feedr' 'PosN' 'Artery' 'RRAe' 'RRNn' 'RRAn' 'PosA' 'RRNe']\n"
     ]
    }
   ],
   "source": [
    "print(\"Datatype:\", train['Condition1'].dtype)\n",
    "print(\"Null values:\", train['Condition1'].isnull().sum())\n",
    "print(\"Unique values:\", train['Condition1'].unique())\n"
   ]
  },
  {
   "cell_type": "code",
   "execution_count": 56,
   "id": "ab4a9cea",
   "metadata": {
    "execution": {
     "iopub.execute_input": "2025-07-06T16:44:53.006258Z",
     "iopub.status.busy": "2025-07-06T16:44:53.005882Z",
     "iopub.status.idle": "2025-07-06T16:44:53.014807Z",
     "shell.execute_reply": "2025-07-06T16:44:53.013679Z"
    },
    "papermill": {
     "duration": 0.045584,
     "end_time": "2025-07-06T16:44:53.016424",
     "exception": false,
     "start_time": "2025-07-06T16:44:52.970840",
     "status": "completed"
    },
    "tags": []
   },
   "outputs": [
    {
     "name": "stdout",
     "output_type": "stream",
     "text": [
      "Condition1\n",
      "Artery    135091.666667\n",
      "RRAe      138400.000000\n",
      "Feedr     142475.481481\n",
      "RRAn      184396.615385\n",
      "Norm      184495.492063\n",
      "RRNe      190750.000000\n",
      "RRNn      212400.000000\n",
      "PosN      215184.210526\n",
      "PosA      225875.000000\n",
      "Name: SalePrice, dtype: float64\n"
     ]
    }
   ],
   "source": [
    "condition1_price = train.groupby('Condition1')['SalePrice'].mean().sort_values()\n",
    "print(condition1_price)\n"
   ]
  },
  {
   "cell_type": "code",
   "execution_count": 57,
   "id": "ded40786",
   "metadata": {
    "execution": {
     "iopub.execute_input": "2025-07-06T16:44:53.087188Z",
     "iopub.status.busy": "2025-07-06T16:44:53.086039Z",
     "iopub.status.idle": "2025-07-06T16:44:53.095361Z",
     "shell.execute_reply": "2025-07-06T16:44:53.094264Z"
    },
    "papermill": {
     "duration": 0.04604,
     "end_time": "2025-07-06T16:44:53.096848",
     "exception": false,
     "start_time": "2025-07-06T16:44:53.050808",
     "status": "completed"
    },
    "tags": []
   },
   "outputs": [
    {
     "name": "stdout",
     "output_type": "stream",
     "text": [
      "Condition1 mapping: {'Artery': 0, 'RRAe': 1, 'Feedr': 2, 'RRAn': 3, 'Norm': 4, 'RRNe': 5, 'RRNn': 6, 'PosN': 7, 'PosA': 8}\n"
     ]
    }
   ],
   "source": [
    "# Step 1: Create mapping based on price\n",
    "condition1_mapping = {k: i for i, k in enumerate(condition1_price.index)}\n",
    "\n",
    "# Step 2: Apply safely\n",
    "train['Condition1'] = train['Condition1'].map(lambda x: condition1_mapping.get(x, 0))\n",
    "test['Condition1'] = test['Condition1'].map(lambda x: condition1_mapping.get(x, 0))\n",
    "\n",
    "# Optional: Show mapping\n",
    "print(\"Condition1 mapping:\", condition1_mapping)\n"
   ]
  },
  {
   "cell_type": "code",
   "execution_count": 58,
   "id": "1b0af66e",
   "metadata": {
    "execution": {
     "iopub.execute_input": "2025-07-06T16:44:53.166869Z",
     "iopub.status.busy": "2025-07-06T16:44:53.166534Z",
     "iopub.status.idle": "2025-07-06T16:44:53.173763Z",
     "shell.execute_reply": "2025-07-06T16:44:53.172575Z"
    },
    "papermill": {
     "duration": 0.04453,
     "end_time": "2025-07-06T16:44:53.175669",
     "exception": false,
     "start_time": "2025-07-06T16:44:53.131139",
     "status": "completed"
    },
    "tags": []
   },
   "outputs": [
    {
     "name": "stdout",
     "output_type": "stream",
     "text": [
      "Datatype: object\n",
      "Null values: 0\n",
      "Unique values: ['Norm' 'Artery' 'RRNn' 'Feedr' 'PosN' 'PosA' 'RRAn' 'RRAe']\n"
     ]
    }
   ],
   "source": [
    "print(\"Datatype:\", train['Condition2'].dtype)\n",
    "print(\"Null values:\", train['Condition2'].isnull().sum())\n",
    "print(\"Unique values:\", train['Condition2'].unique())\n"
   ]
  },
  {
   "cell_type": "code",
   "execution_count": 59,
   "id": "4a164c5b",
   "metadata": {
    "execution": {
     "iopub.execute_input": "2025-07-06T16:44:53.249947Z",
     "iopub.status.busy": "2025-07-06T16:44:53.249074Z",
     "iopub.status.idle": "2025-07-06T16:44:53.258235Z",
     "shell.execute_reply": "2025-07-06T16:44:53.257054Z"
    },
    "papermill": {
     "duration": 0.047987,
     "end_time": "2025-07-06T16:44:53.259969",
     "exception": false,
     "start_time": "2025-07-06T16:44:53.211982",
     "status": "completed"
    },
    "tags": []
   },
   "outputs": [
    {
     "name": "stdout",
     "output_type": "stream",
     "text": [
      "Condition2\n",
      "RRNn       96750.000000\n",
      "Artery    106500.000000\n",
      "Feedr     121166.666667\n",
      "RRAn      136905.000000\n",
      "Norm      181169.405536\n",
      "RRAe      190000.000000\n",
      "PosN      284875.000000\n",
      "PosA      325000.000000\n",
      "Name: SalePrice, dtype: float64\n"
     ]
    }
   ],
   "source": [
    "condition2_price = train.groupby('Condition2')['SalePrice'].mean().sort_values()\n",
    "print(condition2_price)\n"
   ]
  },
  {
   "cell_type": "code",
   "execution_count": 60,
   "id": "bb49c0ae",
   "metadata": {
    "execution": {
     "iopub.execute_input": "2025-07-06T16:44:53.331952Z",
     "iopub.status.busy": "2025-07-06T16:44:53.331597Z",
     "iopub.status.idle": "2025-07-06T16:44:53.340815Z",
     "shell.execute_reply": "2025-07-06T16:44:53.339616Z"
    },
    "papermill": {
     "duration": 0.04751,
     "end_time": "2025-07-06T16:44:53.342271",
     "exception": false,
     "start_time": "2025-07-06T16:44:53.294761",
     "status": "completed"
    },
    "tags": []
   },
   "outputs": [
    {
     "name": "stdout",
     "output_type": "stream",
     "text": [
      "Condition2 Mapping: {'RRNn': 0, 'Artery': 1, 'Feedr': 2, 'RRAn': 3, 'Norm': 4, 'RRAe': 5, 'PosN': 6, 'PosA': 7}\n"
     ]
    }
   ],
   "source": [
    "# Step 1: Mapping\n",
    "condition2_mapping = {k: i for i, k in enumerate(condition2_price.index)}\n",
    "\n",
    "# Step 2: Safe encoding\n",
    "train['Condition2'] = train['Condition2'].map(lambda x: condition2_mapping.get(x, 0))\n",
    "test['Condition2'] = test['Condition2'].map(lambda x: condition2_mapping.get(x, 0))\n",
    "\n",
    "# Optional: See the mapping\n",
    "print(\"Condition2 Mapping:\", condition2_mapping)\n"
   ]
  },
  {
   "cell_type": "code",
   "execution_count": 61,
   "id": "90318d10",
   "metadata": {
    "execution": {
     "iopub.execute_input": "2025-07-06T16:44:53.410935Z",
     "iopub.status.busy": "2025-07-06T16:44:53.410621Z",
     "iopub.status.idle": "2025-07-06T16:44:53.417161Z",
     "shell.execute_reply": "2025-07-06T16:44:53.416016Z"
    },
    "papermill": {
     "duration": 0.043104,
     "end_time": "2025-07-06T16:44:53.419034",
     "exception": false,
     "start_time": "2025-07-06T16:44:53.375930",
     "status": "completed"
    },
    "tags": []
   },
   "outputs": [
    {
     "name": "stdout",
     "output_type": "stream",
     "text": [
      "🧐 Houses with two different conditions: 199\n",
      "📊 Percentage of such rows: 13.63%\n"
     ]
    }
   ],
   "source": [
    "# Count how many rows have different Condition1 and Condition2\n",
    "condition_diff = (train['Condition1'] != train['Condition2']).sum()\n",
    "\n",
    "# Total number of rows\n",
    "total_rows = len(train)\n",
    "\n",
    "# Print the result\n",
    "print(f\"🧐 Houses with two different conditions: {condition_diff}\")\n",
    "print(f\"📊 Percentage of such rows: {condition_diff / total_rows * 100:.2f}%\")\n"
   ]
  },
  {
   "cell_type": "code",
   "execution_count": 62,
   "id": "346eee4e",
   "metadata": {
    "execution": {
     "iopub.execute_input": "2025-07-06T16:44:53.491949Z",
     "iopub.status.busy": "2025-07-06T16:44:53.491575Z",
     "iopub.status.idle": "2025-07-06T16:44:53.514299Z",
     "shell.execute_reply": "2025-07-06T16:44:53.513361Z"
    },
    "papermill": {
     "duration": 0.061047,
     "end_time": "2025-07-06T16:44:53.515963",
     "exception": false,
     "start_time": "2025-07-06T16:44:53.454916",
     "status": "completed"
    },
    "tags": []
   },
   "outputs": [
    {
     "name": "stderr",
     "output_type": "stream",
     "text": [
      "/usr/local/lib/python3.11/dist-packages/sklearn/preprocessing/_encoders.py:868: FutureWarning: `sparse` was renamed to `sparse_output` in version 1.2 and will be removed in 1.4. `sparse_output` is ignored unless you leave `sparse` to its default value.\n",
      "  warnings.warn(\n"
     ]
    }
   ],
   "source": [
    "#✅ Code Example Using OneHotEncoder (Safe for Unknowns)\n",
    "from sklearn.preprocessing import OneHotEncoder\n",
    "\n",
    "# Step 1: Initialize encoder\n",
    "ohe = OneHotEncoder(handle_unknown='ignore', drop='first', sparse=False)\n",
    "\n",
    "# Step 2: Fit on train\n",
    "ohe.fit(train[['Condition2']])\n",
    "\n",
    "# Step 3: Transform both train and test\n",
    "train_ohe = pd.DataFrame(ohe.transform(train[['Condition2']]), columns=ohe.get_feature_names_out(['Condition2']))\n",
    "test_ohe = pd.DataFrame(ohe.transform(test[['Condition2']]), columns=ohe.get_feature_names_out(['Condition2']))\n",
    "\n",
    "# Step 4: Reset index and concat back to original\n",
    "train = pd.concat([train.reset_index(drop=True), train_ohe], axis=1)\n",
    "test = pd.concat([test.reset_index(drop=True), test_ohe], axis=1)\n",
    "\n",
    "# Step 5: Drop original\n",
    "train.drop('Condition2', axis=1, inplace=True)\n",
    "test.drop('Condition2', axis=1, inplace=True)\n"
   ]
  },
  {
   "cell_type": "code",
   "execution_count": 63,
   "id": "79130752",
   "metadata": {
    "execution": {
     "iopub.execute_input": "2025-07-06T16:44:53.589406Z",
     "iopub.status.busy": "2025-07-06T16:44:53.589021Z",
     "iopub.status.idle": "2025-07-06T16:44:53.596374Z",
     "shell.execute_reply": "2025-07-06T16:44:53.595284Z"
    },
    "papermill": {
     "duration": 0.046432,
     "end_time": "2025-07-06T16:44:53.598046",
     "exception": false,
     "start_time": "2025-07-06T16:44:53.551614",
     "status": "completed"
    },
    "tags": []
   },
   "outputs": [
    {
     "name": "stdout",
     "output_type": "stream",
     "text": [
      "Datatype: object\n",
      "Null values: 0\n",
      "Unique values: ['1Fam' '2fmCon' 'Duplex' 'TwnhsE' 'Twnhs']\n"
     ]
    }
   ],
   "source": [
    "print(\"Datatype:\", train['BldgType'].dtype)\n",
    "print(\"Null values:\", train['BldgType'].isnull().sum())\n",
    "print(\"Unique values:\", train['BldgType'].unique())\n"
   ]
  },
  {
   "cell_type": "code",
   "execution_count": 64,
   "id": "b60b4f1d",
   "metadata": {
    "execution": {
     "iopub.execute_input": "2025-07-06T16:44:53.674985Z",
     "iopub.status.busy": "2025-07-06T16:44:53.674616Z",
     "iopub.status.idle": "2025-07-06T16:44:53.683605Z",
     "shell.execute_reply": "2025-07-06T16:44:53.682452Z"
    },
    "papermill": {
     "duration": 0.048779,
     "end_time": "2025-07-06T16:44:53.685104",
     "exception": false,
     "start_time": "2025-07-06T16:44:53.636325",
     "status": "completed"
    },
    "tags": []
   },
   "outputs": [
    {
     "name": "stdout",
     "output_type": "stream",
     "text": [
      "BldgType\n",
      "2fmCon    128432.258065\n",
      "Duplex    133541.076923\n",
      "Twnhs     135911.627907\n",
      "TwnhsE    181959.342105\n",
      "1Fam      185763.807377\n",
      "Name: SalePrice, dtype: float64\n"
     ]
    }
   ],
   "source": [
    "bldgtype_price = train.groupby('BldgType')['SalePrice'].mean().sort_values()\n",
    "print(bldgtype_price)\n"
   ]
  },
  {
   "cell_type": "code",
   "execution_count": 65,
   "id": "06b0be6d",
   "metadata": {
    "execution": {
     "iopub.execute_input": "2025-07-06T16:44:53.756469Z",
     "iopub.status.busy": "2025-07-06T16:44:53.756074Z",
     "iopub.status.idle": "2025-07-06T16:44:53.766257Z",
     "shell.execute_reply": "2025-07-06T16:44:53.765043Z"
    },
    "papermill": {
     "duration": 0.047694,
     "end_time": "2025-07-06T16:44:53.768113",
     "exception": false,
     "start_time": "2025-07-06T16:44:53.720419",
     "status": "completed"
    },
    "tags": []
   },
   "outputs": [
    {
     "name": "stdout",
     "output_type": "stream",
     "text": [
      "Datatype: int64\n"
     ]
    }
   ],
   "source": [
    "bldgtype_mapping = {k: i for i, k in enumerate(bldgtype_price.index)}\n",
    "train['BldgType'] = train['BldgType'].map(lambda x: bldgtype_mapping.get(x, 0))\n",
    "test['BldgType'] = test['BldgType'].map(lambda x: bldgtype_mapping.get(x, 0))\n",
    "print(\"Datatype:\", train['BldgType'].dtype)"
   ]
  },
  {
   "cell_type": "code",
   "execution_count": 66,
   "id": "78cbda8c",
   "metadata": {
    "execution": {
     "iopub.execute_input": "2025-07-06T16:44:53.839443Z",
     "iopub.status.busy": "2025-07-06T16:44:53.839033Z",
     "iopub.status.idle": "2025-07-06T16:44:53.846451Z",
     "shell.execute_reply": "2025-07-06T16:44:53.845416Z"
    },
    "papermill": {
     "duration": 0.044785,
     "end_time": "2025-07-06T16:44:53.848022",
     "exception": false,
     "start_time": "2025-07-06T16:44:53.803237",
     "status": "completed"
    },
    "tags": []
   },
   "outputs": [
    {
     "name": "stdout",
     "output_type": "stream",
     "text": [
      "Datatype: object\n",
      "Null values: 0\n",
      "Unique values: ['2Story' '1Story' '1.5Fin' '1.5Unf' 'SFoyer' 'SLvl' '2.5Unf' '2.5Fin']\n"
     ]
    }
   ],
   "source": [
    "print(\"Datatype:\", train['HouseStyle'].dtype)\n",
    "print(\"Null values:\", train['HouseStyle'].isnull().sum())\n",
    "print(\"Unique values:\", train['HouseStyle'].unique())\n"
   ]
  },
  {
   "cell_type": "code",
   "execution_count": 67,
   "id": "13c42c30",
   "metadata": {
    "execution": {
     "iopub.execute_input": "2025-07-06T16:44:53.925644Z",
     "iopub.status.busy": "2025-07-06T16:44:53.924599Z",
     "iopub.status.idle": "2025-07-06T16:44:53.933290Z",
     "shell.execute_reply": "2025-07-06T16:44:53.931931Z"
    },
    "papermill": {
     "duration": 0.050556,
     "end_time": "2025-07-06T16:44:53.935280",
     "exception": false,
     "start_time": "2025-07-06T16:44:53.884724",
     "status": "completed"
    },
    "tags": []
   },
   "outputs": [
    {
     "name": "stdout",
     "output_type": "stream",
     "text": [
      "HouseStyle\n",
      "1.5Unf    110150.000000\n",
      "SFoyer    135074.486486\n",
      "1.5Fin    143116.740260\n",
      "2.5Unf    157354.545455\n",
      "SLvl      166703.384615\n",
      "1Story    175985.477961\n",
      "2Story    210051.764045\n",
      "2.5Fin    220000.000000\n",
      "Name: SalePrice, dtype: float64\n"
     ]
    }
   ],
   "source": [
    "housestyle_price = train.groupby('HouseStyle')['SalePrice'].mean().sort_values()\n",
    "print(housestyle_price)\n"
   ]
  },
  {
   "cell_type": "code",
   "execution_count": 68,
   "id": "be7d0156",
   "metadata": {
    "execution": {
     "iopub.execute_input": "2025-07-06T16:44:54.008016Z",
     "iopub.status.busy": "2025-07-06T16:44:54.007659Z",
     "iopub.status.idle": "2025-07-06T16:44:54.016935Z",
     "shell.execute_reply": "2025-07-06T16:44:54.015856Z"
    },
    "papermill": {
     "duration": 0.046939,
     "end_time": "2025-07-06T16:44:54.018645",
     "exception": false,
     "start_time": "2025-07-06T16:44:53.971706",
     "status": "completed"
    },
    "tags": []
   },
   "outputs": [],
   "source": [
    "housestyle_mapping = {k: i for i, k in enumerate(housestyle_price.index)}\n",
    "train['HouseStyle'] = train['HouseStyle'].map(lambda x: housestyle_mapping.get(x, 0))\n",
    "test['HouseStyle'] = test['HouseStyle'].map(lambda x: housestyle_mapping.get(x, 0))\n"
   ]
  },
  {
   "cell_type": "code",
   "execution_count": 69,
   "id": "6aed044a",
   "metadata": {
    "execution": {
     "iopub.execute_input": "2025-07-06T16:44:54.091478Z",
     "iopub.status.busy": "2025-07-06T16:44:54.091078Z",
     "iopub.status.idle": "2025-07-06T16:44:54.099237Z",
     "shell.execute_reply": "2025-07-06T16:44:54.098081Z"
    },
    "papermill": {
     "duration": 0.04686,
     "end_time": "2025-07-06T16:44:54.101075",
     "exception": false,
     "start_time": "2025-07-06T16:44:54.054215",
     "status": "completed"
    },
    "tags": []
   },
   "outputs": [
    {
     "name": "stdout",
     "output_type": "stream",
     "text": [
      "Datatype: int64\n",
      "Null values: 0\n",
      "Unique values: [ 7  6  8  5  9  4 10  3  1  2]\n"
     ]
    }
   ],
   "source": [
    "print(\"Datatype:\", train['OverallQual'].dtype)\n",
    "print(\"Null values:\", train['OverallQual'].isnull().sum())\n",
    "print(\"Unique values:\", train['OverallQual'].unique())\n"
   ]
  },
  {
   "cell_type": "code",
   "execution_count": 70,
   "id": "b955d09d",
   "metadata": {
    "execution": {
     "iopub.execute_input": "2025-07-06T16:44:54.173431Z",
     "iopub.status.busy": "2025-07-06T16:44:54.173012Z",
     "iopub.status.idle": "2025-07-06T16:44:54.180379Z",
     "shell.execute_reply": "2025-07-06T16:44:54.179153Z"
    },
    "papermill": {
     "duration": 0.045774,
     "end_time": "2025-07-06T16:44:54.182028",
     "exception": false,
     "start_time": "2025-07-06T16:44:54.136254",
     "status": "completed"
    },
    "tags": []
   },
   "outputs": [
    {
     "name": "stdout",
     "output_type": "stream",
     "text": [
      "Datatype: int64\n",
      "Null values: 0\n",
      "Unique values: [5 8 6 7 4 2 3 9 1]\n"
     ]
    }
   ],
   "source": [
    "print(\"Datatype:\", train['OverallCond'].dtype)\n",
    "print(\"Null values:\", train['OverallCond'].isnull().sum())\n",
    "print(\"Unique values:\", train['OverallCond'].unique())\n"
   ]
  },
  {
   "cell_type": "code",
   "execution_count": 71,
   "id": "44a9bec6",
   "metadata": {
    "execution": {
     "iopub.execute_input": "2025-07-06T16:44:54.253478Z",
     "iopub.status.busy": "2025-07-06T16:44:54.253130Z",
     "iopub.status.idle": "2025-07-06T16:44:54.259930Z",
     "shell.execute_reply": "2025-07-06T16:44:54.258872Z"
    },
    "papermill": {
     "duration": 0.043876,
     "end_time": "2025-07-06T16:44:54.261615",
     "exception": false,
     "start_time": "2025-07-06T16:44:54.217739",
     "status": "completed"
    },
    "tags": []
   },
   "outputs": [
    {
     "name": "stdout",
     "output_type": "stream",
     "text": [
      "Datatype: int64\n",
      "Null values: 0\n",
      "Unique values (sample): [2003 1976 2001 1915 2000 1993 2004 1973 1931 1939]\n"
     ]
    }
   ],
   "source": [
    "print(\"Datatype:\", train['YearBuilt'].dtype)\n",
    "print(\"Null values:\", train['YearBuilt'].isnull().sum())\n",
    "print(\"Unique values (sample):\", train['YearBuilt'].unique()[:10])  # just first 10\n"
   ]
  },
  {
   "cell_type": "code",
   "execution_count": 72,
   "id": "fc7d9e3f",
   "metadata": {
    "execution": {
     "iopub.execute_input": "2025-07-06T16:44:54.337293Z",
     "iopub.status.busy": "2025-07-06T16:44:54.336303Z",
     "iopub.status.idle": "2025-07-06T16:44:54.347959Z",
     "shell.execute_reply": "2025-07-06T16:44:54.346871Z"
    },
    "papermill": {
     "duration": 0.050944,
     "end_time": "2025-07-06T16:44:54.349425",
     "exception": false,
     "start_time": "2025-07-06T16:44:54.298481",
     "status": "completed"
    },
    "tags": []
   },
   "outputs": [
    {
     "name": "stdout",
     "output_type": "stream",
     "text": [
      "[0, 1, 2, 3, 4, 5, 6, 7, 8, 9, 10, 11, 12, 13, 14, 15, 16, 17, 18, 20]\n"
     ]
    }
   ],
   "source": [
    "#✅ Encoding YearBuilt (custom ordinal encoding)\n",
    "# Define year range\n",
    "start_year = 1915\n",
    "end_year = 2004\n",
    "\n",
    "# Create year-to-label mapping\n",
    "year_labels = {year: label for label, year in enumerate(range(start_year, end_year + 1), start=1)}\n",
    "\n",
    "# Define the encoding function\n",
    "def encode_year(year):\n",
    "    if year < start_year:\n",
    "        return 0\n",
    "    elif year > end_year:\n",
    "        return year_labels[end_year] + (year - end_year)\n",
    "    else:\n",
    "        return year_labels[year]\n",
    "\n",
    "# Apply to train and test data\n",
    "train['YearBuilt_encoded'] = train['YearBuilt'].apply(encode_year)\n",
    "test['YearBuilt_encoded'] = test['YearBuilt'].apply(encode_year)\n",
    "\n",
    "# Optional: Display unique encoded values\n",
    "print(sorted(train['YearBuilt_encoded'].unique())[:20])  # Just first 20\n",
    "\n"
   ]
  },
  {
   "cell_type": "code",
   "execution_count": 73,
   "id": "b3617093",
   "metadata": {
    "execution": {
     "iopub.execute_input": "2025-07-06T16:44:54.427150Z",
     "iopub.status.busy": "2025-07-06T16:44:54.426254Z",
     "iopub.status.idle": "2025-07-06T16:44:54.433890Z",
     "shell.execute_reply": "2025-07-06T16:44:54.432616Z"
    },
    "papermill": {
     "duration": 0.049242,
     "end_time": "2025-07-06T16:44:54.435596",
     "exception": false,
     "start_time": "2025-07-06T16:44:54.386354",
     "status": "completed"
    },
    "tags": []
   },
   "outputs": [
    {
     "name": "stdout",
     "output_type": "stream",
     "text": [
      "Datatype: int64\n",
      "Null values: 0\n",
      "Unique values (sample): [2003 1976 2002 1970 2000 1995 2005 1973 1950 1965]\n"
     ]
    }
   ],
   "source": [
    "print(\"Datatype:\", train['YearRemodAdd'].dtype)\n",
    "print(\"Null values:\", train['YearRemodAdd'].isnull().sum())\n",
    "print(\"Unique values (sample):\", train['YearRemodAdd'].unique()[:10])\n"
   ]
  },
  {
   "cell_type": "code",
   "execution_count": 74,
   "id": "8901fa36",
   "metadata": {
    "execution": {
     "iopub.execute_input": "2025-07-06T16:44:54.511998Z",
     "iopub.status.busy": "2025-07-06T16:44:54.511645Z",
     "iopub.status.idle": "2025-07-06T16:44:54.522326Z",
     "shell.execute_reply": "2025-07-06T16:44:54.521150Z"
    },
    "papermill": {
     "duration": 0.051223,
     "end_time": "2025-07-06T16:44:54.524009",
     "exception": false,
     "start_time": "2025-07-06T16:44:54.472786",
     "status": "completed"
    },
    "tags": []
   },
   "outputs": [
    {
     "name": "stdout",
     "output_type": "stream",
     "text": [
      "YearRemodAdd encoding map:\n",
      " {1950: 1, 1951: 2, 1952: 3, 1953: 4, 1954: 5, 1955: 6, 1956: 7, 1957: 8, 1958: 9, 1959: 10, 1960: 11, 1961: 12, 1962: 13, 1963: 14, 1964: 15, 1965: 16, 1966: 17, 1967: 18, 1968: 19, 1969: 20, 1970: 21, 1971: 22, 1972: 23, 1973: 24, 1974: 25, 1975: 26, 1976: 27, 1977: 28, 1978: 29, 1979: 30, 1980: 31, 1981: 32, 1982: 33, 1983: 34, 1984: 35, 1985: 36, 1986: 37, 1987: 38, 1988: 39, 1989: 40, 1990: 41, 1991: 42, 1992: 43, 1993: 44, 1994: 45, 1995: 46, 1996: 47, 1997: 48, 1998: 49, 1999: 50, 2000: 51, 2001: 52, 2002: 53, 2003: 54, 2004: 55, 2005: 56, 2006: 57, 2007: 58, 2008: 59, 2009: 60, 2010: 61}\n"
     ]
    }
   ],
   "source": [
    "# Get sorted unique years\n",
    "unique_years = sorted(train['YearRemodAdd'].unique())\n",
    "year_mapping = {year: idx+1 for idx, year in enumerate(unique_years)}  # 1-based indexing\n",
    "\n",
    "# Apply to train and test with fallback\n",
    "train['YearRemodAdd_encoded'] = train['YearRemodAdd'].map(lambda x: year_mapping.get(x, 0))\n",
    "test['YearRemodAdd_encoded'] = test['YearRemodAdd'].map(lambda x: year_mapping.get(x, 0))\n",
    "\n",
    "# Optional: Display mapping\n",
    "print(\"YearRemodAdd encoding map:\\n\", year_mapping)\n"
   ]
  },
  {
   "cell_type": "code",
   "execution_count": 75,
   "id": "105498b7",
   "metadata": {
    "execution": {
     "iopub.execute_input": "2025-07-06T16:44:54.600349Z",
     "iopub.status.busy": "2025-07-06T16:44:54.599990Z",
     "iopub.status.idle": "2025-07-06T16:44:54.607524Z",
     "shell.execute_reply": "2025-07-06T16:44:54.606282Z"
    },
    "papermill": {
     "duration": 0.047926,
     "end_time": "2025-07-06T16:44:54.609090",
     "exception": false,
     "start_time": "2025-07-06T16:44:54.561164",
     "status": "completed"
    },
    "tags": []
   },
   "outputs": [
    {
     "name": "stdout",
     "output_type": "stream",
     "text": [
      "Datatype: object\n",
      "Null values: 0\n",
      "Unique values: ['Gable' 'Hip' 'Gambrel' 'Mansard' 'Flat' 'Shed']\n"
     ]
    }
   ],
   "source": [
    "print(\"Datatype:\", train['RoofStyle'].dtype)\n",
    "print(\"Null values:\", train['RoofStyle'].isnull().sum())\n",
    "print(\"Unique values:\", train['RoofStyle'].unique())\n"
   ]
  },
  {
   "cell_type": "code",
   "execution_count": 76,
   "id": "a20f4dc5",
   "metadata": {
    "execution": {
     "iopub.execute_input": "2025-07-06T16:44:54.688357Z",
     "iopub.status.busy": "2025-07-06T16:44:54.687978Z",
     "iopub.status.idle": "2025-07-06T16:44:54.697658Z",
     "shell.execute_reply": "2025-07-06T16:44:54.696489Z"
    },
    "papermill": {
     "duration": 0.050146,
     "end_time": "2025-07-06T16:44:54.699545",
     "exception": false,
     "start_time": "2025-07-06T16:44:54.649399",
     "status": "completed"
    },
    "tags": []
   },
   "outputs": [
    {
     "name": "stdout",
     "output_type": "stream",
     "text": [
      "RoofStyle\n",
      "Gambrel    148909.090909\n",
      "Gable      171483.956179\n",
      "Mansard    180568.428571\n",
      "Flat       194690.000000\n",
      "Hip        218876.933566\n",
      "Shed       225000.000000\n",
      "Name: SalePrice, dtype: float64\n"
     ]
    }
   ],
   "source": [
    "roof_price = train.groupby('RoofStyle')['SalePrice'].mean().sort_values()\n",
    "print(roof_price)\n"
   ]
  },
  {
   "cell_type": "code",
   "execution_count": 77,
   "id": "3f7d07e7",
   "metadata": {
    "execution": {
     "iopub.execute_input": "2025-07-06T16:44:54.777355Z",
     "iopub.status.busy": "2025-07-06T16:44:54.777018Z",
     "iopub.status.idle": "2025-07-06T16:44:54.797787Z",
     "shell.execute_reply": "2025-07-06T16:44:54.796900Z"
    },
    "papermill": {
     "duration": 0.061404,
     "end_time": "2025-07-06T16:44:54.799805",
     "exception": false,
     "start_time": "2025-07-06T16:44:54.738401",
     "status": "completed"
    },
    "tags": []
   },
   "outputs": [],
   "source": [
    "# One-hot encode in both train and test\n",
    "train = pd.get_dummies(train, columns=['RoofStyle'], prefix='RoofStyle')\n",
    "test = pd.get_dummies(test, columns=['RoofStyle'], prefix='RoofStyle')\n",
    "\n",
    "# Align columns to ensure both train and test have same structure\n",
    "train, test = train.align(test, join='left', axis=1, fill_value=0)\n"
   ]
  },
  {
   "cell_type": "code",
   "execution_count": 78,
   "id": "2759ee30",
   "metadata": {
    "execution": {
     "iopub.execute_input": "2025-07-06T16:44:54.876472Z",
     "iopub.status.busy": "2025-07-06T16:44:54.876118Z",
     "iopub.status.idle": "2025-07-06T16:44:54.883897Z",
     "shell.execute_reply": "2025-07-06T16:44:54.882936Z"
    },
    "papermill": {
     "duration": 0.047777,
     "end_time": "2025-07-06T16:44:54.885567",
     "exception": false,
     "start_time": "2025-07-06T16:44:54.837790",
     "status": "completed"
    },
    "tags": []
   },
   "outputs": [
    {
     "name": "stdout",
     "output_type": "stream",
     "text": [
      "RoofMatl\n",
      "Roll       137000.000000\n",
      "ClyTile    160000.000000\n",
      "CompShg    179803.679219\n",
      "Metal      180000.000000\n",
      "Tar&Grv    185406.363636\n",
      "WdShake    241400.000000\n",
      "Membran    241500.000000\n",
      "WdShngl    390250.000000\n",
      "Name: SalePrice, dtype: float64\n"
     ]
    }
   ],
   "source": [
    "roofmatl_price = train.groupby('RoofMatl')['SalePrice'].mean().sort_values()\n",
    "print(roofmatl_price)\n"
   ]
  },
  {
   "cell_type": "code",
   "execution_count": 79,
   "id": "2c765421",
   "metadata": {
    "execution": {
     "iopub.execute_input": "2025-07-06T16:44:54.964320Z",
     "iopub.status.busy": "2025-07-06T16:44:54.963377Z",
     "iopub.status.idle": "2025-07-06T16:44:54.980659Z",
     "shell.execute_reply": "2025-07-06T16:44:54.979669Z"
    },
    "papermill": {
     "duration": 0.058919,
     "end_time": "2025-07-06T16:44:54.982465",
     "exception": false,
     "start_time": "2025-07-06T16:44:54.923546",
     "status": "completed"
    },
    "tags": []
   },
   "outputs": [],
   "source": [
    "columns_to_onehot = ['RoofMatl']\n",
    "\n",
    "train = pd.get_dummies(train, columns=columns_to_onehot, prefix=columns_to_onehot)\n",
    "test = pd.get_dummies(test, columns=columns_to_onehot, prefix=columns_to_onehot)\n",
    "\n",
    "# Align train and test columns\n",
    "train, test = train.align(test, join='left', axis=1, fill_value=0)\n"
   ]
  },
  {
   "cell_type": "code",
   "execution_count": 80,
   "id": "17f7c244",
   "metadata": {
    "execution": {
     "iopub.execute_input": "2025-07-06T16:44:55.057050Z",
     "iopub.status.busy": "2025-07-06T16:44:55.056490Z",
     "iopub.status.idle": "2025-07-06T16:44:55.064646Z",
     "shell.execute_reply": "2025-07-06T16:44:55.063379Z"
    },
    "papermill": {
     "duration": 0.046568,
     "end_time": "2025-07-06T16:44:55.066488",
     "exception": false,
     "start_time": "2025-07-06T16:44:55.019920",
     "status": "completed"
    },
    "tags": []
   },
   "outputs": [
    {
     "name": "stdout",
     "output_type": "stream",
     "text": [
      "📊 Datatype: object\n",
      "🕳️ Null values: 0\n",
      "🔎 Unique values: ['VinylSd' 'MetalSd' 'Wd Sdng' 'HdBoard' 'BrkFace' 'WdShing' 'CemntBd'\n",
      " 'Plywood' 'AsbShng' 'Stucco' 'BrkComm' 'AsphShn' 'Stone' 'ImStucc'\n",
      " 'CBlock']\n"
     ]
    }
   ],
   "source": [
    "print(\"📊 Datatype:\", train['Exterior1st'].dtype)\n",
    "print(\"🕳️ Null values:\", train['Exterior1st'].isnull().sum())\n",
    "print(\"🔎 Unique values:\", train['Exterior1st'].unique())\n"
   ]
  },
  {
   "cell_type": "code",
   "execution_count": 81,
   "id": "bf9778de",
   "metadata": {
    "execution": {
     "iopub.execute_input": "2025-07-06T16:44:55.139998Z",
     "iopub.status.busy": "2025-07-06T16:44:55.139627Z",
     "iopub.status.idle": "2025-07-06T16:44:55.149118Z",
     "shell.execute_reply": "2025-07-06T16:44:55.147878Z"
    },
    "papermill": {
     "duration": 0.047987,
     "end_time": "2025-07-06T16:44:55.151050",
     "exception": false,
     "start_time": "2025-07-06T16:44:55.103063",
     "status": "completed"
    },
    "tags": []
   },
   "outputs": [
    {
     "name": "stdout",
     "output_type": "stream",
     "text": [
      "🏷️ Average SalePrice by Exterior1st:\n",
      " Exterior1st\n",
      "BrkComm     71000.000000\n",
      "AsphShn    100000.000000\n",
      "CBlock     105000.000000\n",
      "AsbShng    107385.550000\n",
      "MetalSd    149422.177273\n",
      "Wd Sdng    149841.645631\n",
      "WdShing    150655.076923\n",
      "Stucco     162990.000000\n",
      "HdBoard    163077.450450\n",
      "Plywood    175942.379630\n",
      "BrkFace    194573.000000\n",
      "VinylSd    213732.900971\n",
      "CemntBd    231690.655738\n",
      "Stone      258500.000000\n",
      "ImStucc    262000.000000\n",
      "Name: SalePrice, dtype: float64\n"
     ]
    }
   ],
   "source": [
    "exterior_price = train.groupby('Exterior1st')['SalePrice'].mean().sort_values()\n",
    "print(\"🏷️ Average SalePrice by Exterior1st:\\n\", exterior_price)\n"
   ]
  },
  {
   "cell_type": "code",
   "execution_count": 82,
   "id": "35d064b3",
   "metadata": {
    "execution": {
     "iopub.execute_input": "2025-07-06T16:44:55.226022Z",
     "iopub.status.busy": "2025-07-06T16:44:55.224840Z",
     "iopub.status.idle": "2025-07-06T16:44:55.236548Z",
     "shell.execute_reply": "2025-07-06T16:44:55.235315Z"
    },
    "papermill": {
     "duration": 0.049561,
     "end_time": "2025-07-06T16:44:55.238129",
     "exception": false,
     "start_time": "2025-07-06T16:44:55.188568",
     "status": "completed"
    },
    "tags": []
   },
   "outputs": [
    {
     "name": "stdout",
     "output_type": "stream",
     "text": [
      "🔍 Unique Encoded Exterior1st: [11  4  5  8 10  6 12  9  3  7  0  1 13 14  2]\n"
     ]
    }
   ],
   "source": [
    "# Step 1: Create mapping from material → label\n",
    "exterior_price = train.groupby('Exterior1st')['SalePrice'].mean().sort_values()\n",
    "exterior_mapping = {material: i for i, material in enumerate(exterior_price.index)}\n",
    "\n",
    "# Step 2: Apply the mapping to train and test sets\n",
    "train['Exterior1st'] = train['Exterior1st'].map(lambda x: exterior_mapping.get(x, 0))\n",
    "test['Exterior1st'] = test['Exterior1st'].map(lambda x: exterior_mapping.get(x, 0))\n",
    "\n",
    "# Optional: Check if any were unmapped (i.e., got 0 as fallback)\n",
    "print(\"🔍 Unique Encoded Exterior1st:\", train['Exterior1st'].unique())\n"
   ]
  },
  {
   "cell_type": "code",
   "execution_count": 83,
   "id": "fa9d8fbc",
   "metadata": {
    "execution": {
     "iopub.execute_input": "2025-07-06T16:44:55.317159Z",
     "iopub.status.busy": "2025-07-06T16:44:55.316066Z",
     "iopub.status.idle": "2025-07-06T16:44:55.323487Z",
     "shell.execute_reply": "2025-07-06T16:44:55.322371Z"
    },
    "papermill": {
     "duration": 0.048957,
     "end_time": "2025-07-06T16:44:55.325060",
     "exception": false,
     "start_time": "2025-07-06T16:44:55.276103",
     "status": "completed"
    },
    "tags": []
   },
   "outputs": [
    {
     "name": "stdout",
     "output_type": "stream",
     "text": [
      "📌 Datatype: object\n",
      "❓ Null values: 0\n",
      "🔍 Unique values: ['VinylSd' 'MetalSd' 'Wd Shng' 'HdBoard' 'Plywood' 'Wd Sdng' 'CmentBd'\n",
      " 'BrkFace' 'Stucco' 'AsbShng' 'Brk Cmn' 'ImStucc' 'AsphShn' 'Stone'\n",
      " 'Other' 'CBlock']\n"
     ]
    }
   ],
   "source": [
    "print(\"📌 Datatype:\", train['Exterior2nd'].dtype)\n",
    "print(\"❓ Null values:\", train['Exterior2nd'].isnull().sum())\n",
    "print(\"🔍 Unique values:\", train['Exterior2nd'].unique())\n"
   ]
  },
  {
   "cell_type": "code",
   "execution_count": 84,
   "id": "0ac45edc",
   "metadata": {
    "execution": {
     "iopub.execute_input": "2025-07-06T16:44:55.398398Z",
     "iopub.status.busy": "2025-07-06T16:44:55.398038Z",
     "iopub.status.idle": "2025-07-06T16:44:55.409632Z",
     "shell.execute_reply": "2025-07-06T16:44:55.408493Z"
    },
    "papermill": {
     "duration": 0.049932,
     "end_time": "2025-07-06T16:44:55.411154",
     "exception": false,
     "start_time": "2025-07-06T16:44:55.361222",
     "status": "completed"
    },
    "tags": []
   },
   "outputs": [
    {
     "name": "stdout",
     "output_type": "stream",
     "text": [
      "Label Mapping for Exterior2nd:\n",
      "{'CBlock': 0, 'AsbShng': 1, 'Brk Cmn': 2, 'AsphShn': 3, 'Wd Sdng': 4, 'MetalSd': 5, 'Stucco': 6, 'Stone': 7, 'Wd Shng': 8, 'HdBoard': 9, 'Plywood': 10, 'BrkFace': 11, 'VinylSd': 12, 'CmentBd': 13, 'ImStucc': 14, 'Other': 15}\n"
     ]
    }
   ],
   "source": [
    "# Step 1: Group by Exterior2nd and calculate average SalePrice\n",
    "ext2_price = train.groupby('Exterior2nd')['SalePrice'].mean().sort_values()\n",
    "\n",
    "# Step 2: Create label mapping from lowest price to highest\n",
    "ext2_mapping = {k: i for i, k in enumerate(ext2_price.index)}\n",
    "\n",
    "# Step 3: (Optional) Display mapping\n",
    "print(\"Label Mapping for Exterior2nd:\")\n",
    "print(ext2_mapping)\n",
    "\n",
    "# Step 4: Apply mapping to both train and test safely\n",
    "train['Exterior2nd'] = train['Exterior2nd'].map(lambda x: ext2_mapping.get(x, 0))\n",
    "test['Exterior2nd'] = test['Exterior2nd'].map(lambda x: ext2_mapping.get(x, 0))\n"
   ]
  },
  {
   "cell_type": "code",
   "execution_count": 85,
   "id": "b354bb53",
   "metadata": {
    "execution": {
     "iopub.execute_input": "2025-07-06T16:44:55.484484Z",
     "iopub.status.busy": "2025-07-06T16:44:55.484064Z",
     "iopub.status.idle": "2025-07-06T16:44:55.491857Z",
     "shell.execute_reply": "2025-07-06T16:44:55.490526Z"
    },
    "papermill": {
     "duration": 0.046092,
     "end_time": "2025-07-06T16:44:55.493399",
     "exception": false,
     "start_time": "2025-07-06T16:44:55.447307",
     "status": "completed"
    },
    "tags": []
   },
   "outputs": [
    {
     "name": "stdout",
     "output_type": "stream",
     "text": [
      "📊 Data Type: object\n",
      "❓ Null Values: 872\n",
      "🔎 Unique Values: ['BrkFace' nan 'Stone' 'BrkCmn']\n"
     ]
    }
   ],
   "source": [
    "# Check data type\n",
    "print(\"📊 Data Type:\", train['MasVnrType'].dtype)\n",
    "\n",
    "# Check null values\n",
    "print(\"❓ Null Values:\", train['MasVnrType'].isnull().sum())\n",
    "\n",
    "# Check unique values\n",
    "print(\"🔎 Unique Values:\", train['MasVnrType'].unique())\n"
   ]
  },
  {
   "cell_type": "code",
   "execution_count": 86,
   "id": "8e51d44e",
   "metadata": {
    "execution": {
     "iopub.execute_input": "2025-07-06T16:44:55.569700Z",
     "iopub.status.busy": "2025-07-06T16:44:55.569196Z",
     "iopub.status.idle": "2025-07-06T16:44:55.578199Z",
     "shell.execute_reply": "2025-07-06T16:44:55.577292Z"
    },
    "papermill": {
     "duration": 0.050222,
     "end_time": "2025-07-06T16:44:55.579758",
     "exception": false,
     "start_time": "2025-07-06T16:44:55.529536",
     "status": "completed"
    },
    "tags": []
   },
   "outputs": [],
   "source": [
    "train['MasVnrType'] = train['MasVnrType'].fillna('None')\n",
    "test['MasVnrType'] = test['MasVnrType'].fillna('None')\n"
   ]
  },
  {
   "cell_type": "code",
   "execution_count": 87,
   "id": "925e3972",
   "metadata": {
    "execution": {
     "iopub.execute_input": "2025-07-06T16:44:55.655653Z",
     "iopub.status.busy": "2025-07-06T16:44:55.655302Z",
     "iopub.status.idle": "2025-07-06T16:44:55.663542Z",
     "shell.execute_reply": "2025-07-06T16:44:55.662415Z"
    },
    "papermill": {
     "duration": 0.047507,
     "end_time": "2025-07-06T16:44:55.665056",
     "exception": false,
     "start_time": "2025-07-06T16:44:55.617549",
     "status": "completed"
    },
    "tags": []
   },
   "outputs": [
    {
     "name": "stdout",
     "output_type": "stream",
     "text": [
      "MasVnrType\n",
      "BrkCmn     146318.066667\n",
      "None       156958.243119\n",
      "BrkFace    204691.871910\n",
      "Stone      265583.625000\n",
      "Name: SalePrice, dtype: float64\n"
     ]
    }
   ],
   "source": [
    "vnr_price = train.groupby('MasVnrType')['SalePrice'].mean().sort_values()\n",
    "print(vnr_price)\n"
   ]
  },
  {
   "cell_type": "code",
   "execution_count": 88,
   "id": "622d0b87",
   "metadata": {
    "execution": {
     "iopub.execute_input": "2025-07-06T16:44:55.746929Z",
     "iopub.status.busy": "2025-07-06T16:44:55.745968Z",
     "iopub.status.idle": "2025-07-06T16:44:55.753742Z",
     "shell.execute_reply": "2025-07-06T16:44:55.752606Z"
    },
    "papermill": {
     "duration": 0.053679,
     "end_time": "2025-07-06T16:44:55.756208",
     "exception": false,
     "start_time": "2025-07-06T16:44:55.702529",
     "status": "completed"
    },
    "tags": []
   },
   "outputs": [],
   "source": [
    "# Replace 'None' with 'BrkCmn' in both train and test\n",
    "train['MasVnrType'] = train['MasVnrType'].replace('None', 'BrkCmn')\n",
    "test['MasVnrType'] = test['MasVnrType'].replace('None', 'BrkCmn')\n"
   ]
  },
  {
   "cell_type": "code",
   "execution_count": 89,
   "id": "6fbeb79d",
   "metadata": {
    "execution": {
     "iopub.execute_input": "2025-07-06T16:44:55.854209Z",
     "iopub.status.busy": "2025-07-06T16:44:55.853208Z",
     "iopub.status.idle": "2025-07-06T16:44:55.861966Z",
     "shell.execute_reply": "2025-07-06T16:44:55.860896Z"
    },
    "papermill": {
     "duration": 0.052919,
     "end_time": "2025-07-06T16:44:55.863402",
     "exception": false,
     "start_time": "2025-07-06T16:44:55.810483",
     "status": "completed"
    },
    "tags": []
   },
   "outputs": [
    {
     "name": "stdout",
     "output_type": "stream",
     "text": [
      "MasVnrType\n",
      "BrkCmn     156778.307779\n",
      "BrkFace    204691.871910\n",
      "Stone      265583.625000\n",
      "Name: SalePrice, dtype: float64\n"
     ]
    }
   ],
   "source": [
    "vnr_price = train.groupby('MasVnrType')['SalePrice'].mean().sort_values()\n",
    "print(vnr_price)"
   ]
  },
  {
   "cell_type": "code",
   "execution_count": 90,
   "id": "a0e5e2d3",
   "metadata": {
    "execution": {
     "iopub.execute_input": "2025-07-06T16:44:55.941490Z",
     "iopub.status.busy": "2025-07-06T16:44:55.940582Z",
     "iopub.status.idle": "2025-07-06T16:44:55.953414Z",
     "shell.execute_reply": "2025-07-06T16:44:55.952180Z"
    },
    "papermill": {
     "duration": 0.053605,
     "end_time": "2025-07-06T16:44:55.955228",
     "exception": false,
     "start_time": "2025-07-06T16:44:55.901623",
     "status": "completed"
    },
    "tags": []
   },
   "outputs": [
    {
     "name": "stdout",
     "output_type": "stream",
     "text": [
      "📊 Average SalePrice by MasVnrType:\n",
      "MasVnrType\n",
      "BrkCmn     156778.307779\n",
      "BrkFace    204691.871910\n",
      "Stone      265583.625000\n",
      "Name: SalePrice, dtype: float64\n",
      "\n",
      "🏷️ Label Mapping for MasVnrType:\n",
      "{'BrkCmn': 0, 'BrkFace': 1, 'Stone': 2}\n"
     ]
    }
   ],
   "source": [
    "masvnr_price = train.groupby('MasVnrType')['SalePrice'].mean().sort_values()\n",
    "print(\"📊 Average SalePrice by MasVnrType:\")\n",
    "print(masvnr_price)\n",
    "\n",
    "\n",
    "masvnr_mapping = {k: i for i, k in enumerate(masvnr_price.index)}\n",
    "print(\"\\n🏷️ Label Mapping for MasVnrType:\")\n",
    "print(masvnr_mapping)\n",
    "\n",
    "train['MasVnrType'] = train['MasVnrType'].map(lambda x: masvnr_mapping.get(x, 0))\n",
    "test['MasVnrType'] = test['MasVnrType'].map(lambda x: masvnr_mapping.get(x, 0))\n"
   ]
  },
  {
   "cell_type": "code",
   "execution_count": 91,
   "id": "039a9fd0",
   "metadata": {
    "execution": {
     "iopub.execute_input": "2025-07-06T16:44:56.036155Z",
     "iopub.status.busy": "2025-07-06T16:44:56.035835Z",
     "iopub.status.idle": "2025-07-06T16:44:56.047388Z",
     "shell.execute_reply": "2025-07-06T16:44:56.046097Z"
    },
    "papermill": {
     "duration": 0.053825,
     "end_time": "2025-07-06T16:44:56.049153",
     "exception": false,
     "start_time": "2025-07-06T16:44:55.995328",
     "status": "completed"
    },
    "tags": []
   },
   "outputs": [
    {
     "name": "stdout",
     "output_type": "stream",
     "text": [
      "📌 Data type: float64\n",
      "❓ Null values: 8\n",
      "\n",
      "📊 Statistics:\n",
      "count    1452.000000\n",
      "mean      103.685262\n",
      "std       181.066207\n",
      "min         0.000000\n",
      "25%         0.000000\n",
      "50%         0.000000\n",
      "75%       166.000000\n",
      "max      1600.000000\n",
      "Name: MasVnrArea, dtype: float64\n"
     ]
    }
   ],
   "source": [
    "print(\"📌 Data type:\", train['MasVnrArea'].dtype)\n",
    "print(\"❓ Null values:\", train['MasVnrArea'].isnull().sum())\n",
    "print(\"\\n📊 Statistics:\")\n",
    "print(train['MasVnrArea'].describe())\n"
   ]
  },
  {
   "cell_type": "code",
   "execution_count": 92,
   "id": "a1693967",
   "metadata": {
    "execution": {
     "iopub.execute_input": "2025-07-06T16:44:56.123231Z",
     "iopub.status.busy": "2025-07-06T16:44:56.122877Z",
     "iopub.status.idle": "2025-07-06T16:44:56.129946Z",
     "shell.execute_reply": "2025-07-06T16:44:56.128561Z"
    },
    "papermill": {
     "duration": 0.045524,
     "end_time": "2025-07-06T16:44:56.131797",
     "exception": false,
     "start_time": "2025-07-06T16:44:56.086273",
     "status": "completed"
    },
    "tags": []
   },
   "outputs": [
    {
     "name": "stdout",
     "output_type": "stream",
     "text": [
      "🔢 Number of Unique Values: 327\n",
      "📋 Unique Values (sample): [196.   0. 162. 350. 186. 240. 286. 306. 212. 180. 380. 281. 640. 200.\n",
      " 246. 132. 650. 101. 412. 272.]\n"
     ]
    }
   ],
   "source": [
    "print(\"🔢 Number of Unique Values:\", train['MasVnrArea'].nunique())\n",
    "print(\"📋 Unique Values (sample):\", train['MasVnrArea'].unique()[:20])  # Show first 20 unique values\n"
   ]
  },
  {
   "cell_type": "code",
   "execution_count": 93,
   "id": "3aae928c",
   "metadata": {
    "execution": {
     "iopub.execute_input": "2025-07-06T16:44:56.209218Z",
     "iopub.status.busy": "2025-07-06T16:44:56.208231Z",
     "iopub.status.idle": "2025-07-06T16:44:56.215655Z",
     "shell.execute_reply": "2025-07-06T16:44:56.214530Z"
    },
    "papermill": {
     "duration": 0.048763,
     "end_time": "2025-07-06T16:44:56.217286",
     "exception": false,
     "start_time": "2025-07-06T16:44:56.168523",
     "status": "completed"
    },
    "tags": []
   },
   "outputs": [
    {
     "name": "stderr",
     "output_type": "stream",
     "text": [
      "/tmp/ipykernel_13/3641824265.py:1: FutureWarning: A value is trying to be set on a copy of a DataFrame or Series through chained assignment using an inplace method.\n",
      "The behavior will change in pandas 3.0. This inplace method will never work because the intermediate object on which we are setting values always behaves as a copy.\n",
      "\n",
      "For example, when doing 'df[col].method(value, inplace=True)', try using 'df.method({col: value}, inplace=True)' or df[col] = df[col].method(value) instead, to perform the operation inplace on the original object.\n",
      "\n",
      "\n",
      "  train['MasVnrArea'].fillna(0, inplace=True)\n",
      "/tmp/ipykernel_13/3641824265.py:2: FutureWarning: A value is trying to be set on a copy of a DataFrame or Series through chained assignment using an inplace method.\n",
      "The behavior will change in pandas 3.0. This inplace method will never work because the intermediate object on which we are setting values always behaves as a copy.\n",
      "\n",
      "For example, when doing 'df[col].method(value, inplace=True)', try using 'df.method({col: value}, inplace=True)' or df[col] = df[col].method(value) instead, to perform the operation inplace on the original object.\n",
      "\n",
      "\n",
      "  test['MasVnrArea'].fillna(0, inplace=True)\n"
     ]
    }
   ],
   "source": [
    "train['MasVnrArea'].fillna(0, inplace=True)\n",
    "test['MasVnrArea'].fillna(0, inplace=True)\n"
   ]
  },
  {
   "cell_type": "code",
   "execution_count": 94,
   "id": "f12ea6d5",
   "metadata": {
    "execution": {
     "iopub.execute_input": "2025-07-06T16:44:56.298230Z",
     "iopub.status.busy": "2025-07-06T16:44:56.297247Z",
     "iopub.status.idle": "2025-07-06T16:44:56.304368Z",
     "shell.execute_reply": "2025-07-06T16:44:56.303434Z"
    },
    "papermill": {
     "duration": 0.049941,
     "end_time": "2025-07-06T16:44:56.305867",
     "exception": false,
     "start_time": "2025-07-06T16:44:56.255926",
     "status": "completed"
    },
    "tags": []
   },
   "outputs": [
    {
     "name": "stdout",
     "output_type": "stream",
     "text": [
      "📌 Data type: object\n",
      "❓ Null values: 0\n",
      "🔎 Unique values: ['Gd' 'TA' 'Ex' 'Fa']\n"
     ]
    }
   ],
   "source": [
    "print(\"📌 Data type:\", train['ExterQual'].dtype)\n",
    "print(\"❓ Null values:\", train['ExterQual'].isnull().sum())\n",
    "print(\"🔎 Unique values:\", train['ExterQual'].unique())\n"
   ]
  },
  {
   "cell_type": "code",
   "execution_count": 95,
   "id": "f7e91076",
   "metadata": {
    "execution": {
     "iopub.execute_input": "2025-07-06T16:44:56.380746Z",
     "iopub.status.busy": "2025-07-06T16:44:56.379764Z",
     "iopub.status.idle": "2025-07-06T16:44:56.388388Z",
     "shell.execute_reply": "2025-07-06T16:44:56.387318Z"
    },
    "papermill": {
     "duration": 0.047234,
     "end_time": "2025-07-06T16:44:56.389970",
     "exception": false,
     "start_time": "2025-07-06T16:44:56.342736",
     "status": "completed"
    },
    "tags": []
   },
   "outputs": [],
   "source": [
    "exterqual_map = {'Po': 0, 'Fa': 1, 'TA': 2, 'Gd': 3, 'Ex': 4}\n",
    "\n",
    "# Apply safe mapping → unknown values get a default value (e.g., 0 or -1)\n",
    "train['ExterQual'] = train['ExterQual'].map(lambda x: exterqual_map.get(x, 0))\n",
    "test['ExterQual'] = test['ExterQual'].map(lambda x: exterqual_map.get(x, 0))\n"
   ]
  },
  {
   "cell_type": "code",
   "execution_count": 96,
   "id": "42d4b2e4",
   "metadata": {
    "execution": {
     "iopub.execute_input": "2025-07-06T16:44:56.463821Z",
     "iopub.status.busy": "2025-07-06T16:44:56.463423Z",
     "iopub.status.idle": "2025-07-06T16:44:56.470904Z",
     "shell.execute_reply": "2025-07-06T16:44:56.469823Z"
    },
    "papermill": {
     "duration": 0.046395,
     "end_time": "2025-07-06T16:44:56.472714",
     "exception": false,
     "start_time": "2025-07-06T16:44:56.426319",
     "status": "completed"
    },
    "tags": []
   },
   "outputs": [
    {
     "name": "stdout",
     "output_type": "stream",
     "text": [
      "📌 Data type: object\n",
      "❓ Null values: 0\n",
      "🔎 Unique values: ['TA' 'Gd' 'Fa' 'Po' 'Ex']\n"
     ]
    }
   ],
   "source": [
    "print(\"📌 Data type:\", train['ExterCond'].dtype)\n",
    "print(\"❓ Null values:\", train['ExterCond'].isnull().sum())\n",
    "print(\"🔎 Unique values:\", train['ExterCond'].unique())\n"
   ]
  },
  {
   "cell_type": "code",
   "execution_count": 97,
   "id": "c4175a8e",
   "metadata": {
    "execution": {
     "iopub.execute_input": "2025-07-06T16:44:56.550456Z",
     "iopub.status.busy": "2025-07-06T16:44:56.550056Z",
     "iopub.status.idle": "2025-07-06T16:44:56.558682Z",
     "shell.execute_reply": "2025-07-06T16:44:56.557628Z"
    },
    "papermill": {
     "duration": 0.049386,
     "end_time": "2025-07-06T16:44:56.560358",
     "exception": false,
     "start_time": "2025-07-06T16:44:56.510972",
     "status": "completed"
    },
    "tags": []
   },
   "outputs": [],
   "source": [
    "extercond_map = {'Po': 0, 'Fa': 1, 'TA': 2, 'Gd': 3, 'Ex': 4}\n",
    "\n",
    "# Safe label encoding\n",
    "train['ExterCond'] = train['ExterCond'].map(lambda x: extercond_map.get(x, 0))\n",
    "test['ExterCond'] = test['ExterCond'].map(lambda x: extercond_map.get(x, 0))\n"
   ]
  },
  {
   "cell_type": "code",
   "execution_count": 98,
   "id": "5437f7af",
   "metadata": {
    "execution": {
     "iopub.execute_input": "2025-07-06T16:44:56.636165Z",
     "iopub.status.busy": "2025-07-06T16:44:56.635793Z",
     "iopub.status.idle": "2025-07-06T16:44:56.644099Z",
     "shell.execute_reply": "2025-07-06T16:44:56.642841Z"
    },
    "papermill": {
     "duration": 0.048088,
     "end_time": "2025-07-06T16:44:56.645942",
     "exception": false,
     "start_time": "2025-07-06T16:44:56.597854",
     "status": "completed"
    },
    "tags": []
   },
   "outputs": [
    {
     "name": "stdout",
     "output_type": "stream",
     "text": [
      "📌 Data type: object\n",
      "❓ Null values: 0\n",
      "🔎 Unique values: ['PConc' 'CBlock' 'BrkTil' 'Wood' 'Slab' 'Stone']\n"
     ]
    }
   ],
   "source": [
    "print(\"📌 Data type:\", train['Foundation'].dtype)\n",
    "print(\"❓ Null values:\", train['Foundation'].isnull().sum())\n",
    "print(\"🔎 Unique values:\", train['Foundation'].unique())\n"
   ]
  },
  {
   "cell_type": "code",
   "execution_count": 99,
   "id": "722a1523",
   "metadata": {
    "execution": {
     "iopub.execute_input": "2025-07-06T16:44:56.725205Z",
     "iopub.status.busy": "2025-07-06T16:44:56.724851Z",
     "iopub.status.idle": "2025-07-06T16:44:56.733581Z",
     "shell.execute_reply": "2025-07-06T16:44:56.732531Z"
    },
    "papermill": {
     "duration": 0.050422,
     "end_time": "2025-07-06T16:44:56.735099",
     "exception": false,
     "start_time": "2025-07-06T16:44:56.684677",
     "status": "completed"
    },
    "tags": []
   },
   "outputs": [
    {
     "name": "stdout",
     "output_type": "stream",
     "text": [
      "🏷️ Average SalePrice by Foundation:\n",
      " Foundation\n",
      "Slab      107365.625000\n",
      "BrkTil    132291.075342\n",
      "CBlock    149805.714511\n",
      "Stone     165959.166667\n",
      "Wood      185666.666667\n",
      "PConc     225230.442040\n",
      "Name: SalePrice, dtype: float64\n"
     ]
    }
   ],
   "source": [
    "foundation_price = train.groupby('Foundation')['SalePrice'].mean().sort_values()\n",
    "print(\"🏷️ Average SalePrice by Foundation:\\n\", foundation_price)\n"
   ]
  },
  {
   "cell_type": "code",
   "execution_count": 100,
   "id": "ea16a1ed",
   "metadata": {
    "execution": {
     "iopub.execute_input": "2025-07-06T16:44:56.812948Z",
     "iopub.status.busy": "2025-07-06T16:44:56.812563Z",
     "iopub.status.idle": "2025-07-06T16:44:56.821917Z",
     "shell.execute_reply": "2025-07-06T16:44:56.820719Z"
    },
    "papermill": {
     "duration": 0.05017,
     "end_time": "2025-07-06T16:44:56.823532",
     "exception": false,
     "start_time": "2025-07-06T16:44:56.773362",
     "status": "completed"
    },
    "tags": []
   },
   "outputs": [],
   "source": [
    "foundation_mapping = {k: i for i, k in enumerate(foundation_price.index)}\n",
    "\n",
    "train['Foundation'] = train['Foundation'].map(lambda x: foundation_mapping.get(x, 0))\n",
    "test['Foundation'] = test['Foundation'].map(lambda x: foundation_mapping.get(x, 0))\n"
   ]
  },
  {
   "cell_type": "code",
   "execution_count": 101,
   "id": "d8d14beb",
   "metadata": {
    "execution": {
     "iopub.execute_input": "2025-07-06T16:44:56.899711Z",
     "iopub.status.busy": "2025-07-06T16:44:56.899324Z",
     "iopub.status.idle": "2025-07-06T16:44:56.907046Z",
     "shell.execute_reply": "2025-07-06T16:44:56.905782Z"
    },
    "papermill": {
     "duration": 0.048975,
     "end_time": "2025-07-06T16:44:56.909153",
     "exception": false,
     "start_time": "2025-07-06T16:44:56.860178",
     "status": "completed"
    },
    "tags": []
   },
   "outputs": [
    {
     "name": "stdout",
     "output_type": "stream",
     "text": [
      "📌 Data type: object\n",
      "❓ Null values: 37\n",
      "🔎 Unique values: ['Gd' 'TA' 'Ex' nan 'Fa']\n"
     ]
    }
   ],
   "source": [
    "print(\"📌 Data type:\", train['BsmtQual'].dtype)\n",
    "print(\"❓ Null values:\", train['BsmtQual'].isnull().sum())\n",
    "print(\"🔎 Unique values:\", train['BsmtQual'].unique())\n"
   ]
  },
  {
   "cell_type": "code",
   "execution_count": 102,
   "id": "87f82cf5",
   "metadata": {
    "execution": {
     "iopub.execute_input": "2025-07-06T16:44:56.989725Z",
     "iopub.status.busy": "2025-07-06T16:44:56.988784Z",
     "iopub.status.idle": "2025-07-06T16:44:56.997824Z",
     "shell.execute_reply": "2025-07-06T16:44:56.996764Z"
    },
    "papermill": {
     "duration": 0.050356,
     "end_time": "2025-07-06T16:44:56.999370",
     "exception": false,
     "start_time": "2025-07-06T16:44:56.949014",
     "status": "completed"
    },
    "tags": []
   },
   "outputs": [
    {
     "name": "stdout",
     "output_type": "stream",
     "text": [
      "🏷️ Average SalePrice by BsmtQual:\n",
      " BsmtQual\n",
      "Fa    115692.028571\n",
      "TA    140759.818182\n",
      "Gd    202688.478964\n",
      "Ex    327041.041322\n",
      "Name: SalePrice, dtype: float64\n"
     ]
    }
   ],
   "source": [
    "bsmtqual_price = train.groupby('BsmtQual')['SalePrice'].mean().sort_values()\n",
    "print(\"🏷️ Average SalePrice by BsmtQual:\\n\", bsmtqual_price)\n"
   ]
  },
  {
   "cell_type": "code",
   "execution_count": 103,
   "id": "12ac1daf",
   "metadata": {
    "execution": {
     "iopub.execute_input": "2025-07-06T16:44:57.074279Z",
     "iopub.status.busy": "2025-07-06T16:44:57.073260Z",
     "iopub.status.idle": "2025-07-06T16:44:57.081173Z",
     "shell.execute_reply": "2025-07-06T16:44:57.080144Z"
    },
    "papermill": {
     "duration": 0.046903,
     "end_time": "2025-07-06T16:44:57.082874",
     "exception": false,
     "start_time": "2025-07-06T16:44:57.035971",
     "status": "completed"
    },
    "tags": []
   },
   "outputs": [],
   "source": [
    "train['BsmtQual'] = train['BsmtQual'].fillna('NA')\n",
    "test['BsmtQual'] = test['BsmtQual'].fillna('NA')\n"
   ]
  },
  {
   "cell_type": "code",
   "execution_count": 104,
   "id": "e2dbc9f6",
   "metadata": {
    "execution": {
     "iopub.execute_input": "2025-07-06T16:44:57.157164Z",
     "iopub.status.busy": "2025-07-06T16:44:57.156810Z",
     "iopub.status.idle": "2025-07-06T16:44:57.161752Z",
     "shell.execute_reply": "2025-07-06T16:44:57.160780Z"
    },
    "papermill": {
     "duration": 0.044229,
     "end_time": "2025-07-06T16:44:57.163364",
     "exception": false,
     "start_time": "2025-07-06T16:44:57.119135",
     "status": "completed"
    },
    "tags": []
   },
   "outputs": [],
   "source": [
    "bsmtqual_mapping = {\n",
    "    'NA': 0,  # No Basement\n",
    "    'Po': 1,\n",
    "    'Fa': 2,\n",
    "    'TA': 3,\n",
    "    'Gd': 4,\n",
    "    'Ex': 5\n",
    "}\n"
   ]
  },
  {
   "cell_type": "code",
   "execution_count": 105,
   "id": "41a8c316",
   "metadata": {
    "execution": {
     "iopub.execute_input": "2025-07-06T16:44:57.243429Z",
     "iopub.status.busy": "2025-07-06T16:44:57.243038Z",
     "iopub.status.idle": "2025-07-06T16:44:57.251776Z",
     "shell.execute_reply": "2025-07-06T16:44:57.250685Z"
    },
    "papermill": {
     "duration": 0.050442,
     "end_time": "2025-07-06T16:44:57.253504",
     "exception": false,
     "start_time": "2025-07-06T16:44:57.203062",
     "status": "completed"
    },
    "tags": []
   },
   "outputs": [],
   "source": [
    "train['BsmtQual'] = train['BsmtQual'].map(bsmtqual_mapping)\n",
    "test['BsmtQual'] = test['BsmtQual'].map(bsmtqual_mapping)\n"
   ]
  },
  {
   "cell_type": "code",
   "execution_count": 106,
   "id": "5578f983",
   "metadata": {
    "execution": {
     "iopub.execute_input": "2025-07-06T16:44:57.432386Z",
     "iopub.status.busy": "2025-07-06T16:44:57.432013Z",
     "iopub.status.idle": "2025-07-06T16:44:57.439136Z",
     "shell.execute_reply": "2025-07-06T16:44:57.437998Z"
    },
    "papermill": {
     "duration": 0.147748,
     "end_time": "2025-07-06T16:44:57.440903",
     "exception": false,
     "start_time": "2025-07-06T16:44:57.293155",
     "status": "completed"
    },
    "tags": []
   },
   "outputs": [
    {
     "name": "stdout",
     "output_type": "stream",
     "text": [
      "📌 Data type: object\n",
      "❓ Null values: 37\n",
      "🔑 Unique values: ['TA' 'Gd' nan 'Fa' 'Po']\n"
     ]
    }
   ],
   "source": [
    "# Data type\n",
    "print(\"📌 Data type:\", train['BsmtCond'].dtype)\n",
    "\n",
    "# Null values\n",
    "print(\"❓ Null values:\", train['BsmtCond'].isnull().sum())\n",
    "\n",
    "# Unique values\n",
    "print(\"🔑 Unique values:\", train['BsmtCond'].unique())\n"
   ]
  },
  {
   "cell_type": "code",
   "execution_count": 107,
   "id": "58934eeb",
   "metadata": {
    "execution": {
     "iopub.execute_input": "2025-07-06T16:44:57.520716Z",
     "iopub.status.busy": "2025-07-06T16:44:57.520314Z",
     "iopub.status.idle": "2025-07-06T16:44:57.530797Z",
     "shell.execute_reply": "2025-07-06T16:44:57.529498Z"
    },
    "papermill": {
     "duration": 0.052533,
     "end_time": "2025-07-06T16:44:57.532704",
     "exception": false,
     "start_time": "2025-07-06T16:44:57.480171",
     "status": "completed"
    },
    "tags": []
   },
   "outputs": [
    {
     "name": "stdout",
     "output_type": "stream",
     "text": [
      "💰 Average SalePrice by BsmtCond:\n",
      "BsmtCond_filled\n",
      "Po     64000.000000\n",
      "NA    105652.891892\n",
      "Fa    121809.533333\n",
      "TA    183632.620900\n",
      "Gd    213599.907692\n",
      "Name: SalePrice, dtype: float64\n"
     ]
    }
   ],
   "source": [
    "# Fill nulls temporarily to calculate price grouping\n",
    "train['BsmtCond_filled'] = train['BsmtCond'].fillna('NA')\n",
    "\n",
    "# Group by BsmtCond and calculate average SalePrice\n",
    "cond_price = train.groupby('BsmtCond_filled')['SalePrice'].mean().sort_values()\n",
    "\n",
    "# Display\n",
    "print(\"💰 Average SalePrice by BsmtCond:\")\n",
    "print(cond_price)\n"
   ]
  },
  {
   "cell_type": "code",
   "execution_count": 108,
   "id": "62c13952",
   "metadata": {
    "execution": {
     "iopub.execute_input": "2025-07-06T16:44:57.613023Z",
     "iopub.status.busy": "2025-07-06T16:44:57.612661Z",
     "iopub.status.idle": "2025-07-06T16:44:57.628194Z",
     "shell.execute_reply": "2025-07-06T16:44:57.627100Z"
    },
    "papermill": {
     "duration": 0.057475,
     "end_time": "2025-07-06T16:44:57.630122",
     "exception": false,
     "start_time": "2025-07-06T16:44:57.572647",
     "status": "completed"
    },
    "tags": []
   },
   "outputs": [
    {
     "name": "stdout",
     "output_type": "stream",
     "text": [
      "🏷️ Average SalePrice by BsmtCond:\n",
      "BsmtCond\n",
      "Po     64000.000000\n",
      "Fa    114519.341463\n",
      "TA    183632.620900\n",
      "Gd    213599.907692\n",
      "Name: SalePrice, dtype: float64\n",
      "\n",
      "🔢 BsmtCond Label Mapping: {'Po': 0, 'Fa': 1, 'TA': 2, 'Gd': 3}\n"
     ]
    }
   ],
   "source": [
    "# Step 1: Fill NaNs with \"Fa\"\n",
    "train['BsmtCond'] = train['BsmtCond'].fillna('Fa')\n",
    "test['BsmtCond'] = test['BsmtCond'].fillna('Fa')\n",
    "\n",
    "# Step 2: Check average SalePrice by condition\n",
    "cond_price = train.groupby('BsmtCond')['SalePrice'].mean().sort_values()\n",
    "print(\"🏷️ Average SalePrice by BsmtCond:\")\n",
    "print(cond_price)\n",
    "\n",
    "# Step 3: Create label mapping based on ascending price\n",
    "bsmtcond_mapping = {cond: i for i, cond in enumerate(cond_price.index)}\n",
    "print(\"\\n🔢 BsmtCond Label Mapping:\", bsmtcond_mapping)\n",
    "\n",
    "# Step 4: Apply label encoding with fallback to 0\n",
    "train['BsmtCond'] = train['BsmtCond'].map(lambda x: bsmtcond_mapping.get(x, 0))\n",
    "test['BsmtCond'] = test['BsmtCond'].map(lambda x: bsmtcond_mapping.get(x, 0))\n"
   ]
  },
  {
   "cell_type": "code",
   "execution_count": 109,
   "id": "56f3dd91",
   "metadata": {
    "execution": {
     "iopub.execute_input": "2025-07-06T16:44:57.709161Z",
     "iopub.status.busy": "2025-07-06T16:44:57.708763Z",
     "iopub.status.idle": "2025-07-06T16:44:57.716318Z",
     "shell.execute_reply": "2025-07-06T16:44:57.715133Z"
    },
    "papermill": {
     "duration": 0.048398,
     "end_time": "2025-07-06T16:44:57.718140",
     "exception": false,
     "start_time": "2025-07-06T16:44:57.669742",
     "status": "completed"
    },
    "tags": []
   },
   "outputs": [
    {
     "name": "stdout",
     "output_type": "stream",
     "text": [
      "📌 Data type: object\n",
      "❓ Null values: 38\n",
      "🔎 Unique values: ['No' 'Gd' 'Mn' 'Av' nan]\n"
     ]
    }
   ],
   "source": [
    "print(\"📌 Data type:\", train['BsmtExposure'].dtype)\n",
    "print(\"❓ Null values:\", train['BsmtExposure'].isnull().sum())\n",
    "print(\"🔎 Unique values:\", train['BsmtExposure'].unique())\n"
   ]
  },
  {
   "cell_type": "code",
   "execution_count": 110,
   "id": "7ef2af18",
   "metadata": {
    "execution": {
     "iopub.execute_input": "2025-07-06T16:44:57.799306Z",
     "iopub.status.busy": "2025-07-06T16:44:57.797993Z",
     "iopub.status.idle": "2025-07-06T16:44:57.808698Z",
     "shell.execute_reply": "2025-07-06T16:44:57.807673Z"
    },
    "papermill": {
     "duration": 0.052815,
     "end_time": "2025-07-06T16:44:57.810608",
     "exception": false,
     "start_time": "2025-07-06T16:44:57.757793",
     "status": "completed"
    },
    "tags": []
   },
   "outputs": [
    {
     "name": "stdout",
     "output_type": "stream",
     "text": [
      "🏷️ Avg SalePrice by BsmtExposure:\n",
      "BsmtExposure\n",
      "No    163439.248234\n",
      "Mn    192789.657895\n",
      "Av    206643.420814\n",
      "Gd    257689.805970\n",
      "Name: SalePrice, dtype: float64\n"
     ]
    }
   ],
   "source": [
    "# Fill nulls\n",
    "train['BsmtExposure'] = train['BsmtExposure'].fillna('No')\n",
    "test['BsmtExposure'] = test['BsmtExposure'].fillna('No')\n",
    "\n",
    "# Group by exposure level and average sale price\n",
    "exposure_price = train.groupby('BsmtExposure')['SalePrice'].mean().sort_values()\n",
    "print(\"🏷️ Avg SalePrice by BsmtExposure:\")\n",
    "print(exposure_price)\n"
   ]
  },
  {
   "cell_type": "code",
   "execution_count": 111,
   "id": "b0f8b07f",
   "metadata": {
    "execution": {
     "iopub.execute_input": "2025-07-06T16:44:57.889704Z",
     "iopub.status.busy": "2025-07-06T16:44:57.889373Z",
     "iopub.status.idle": "2025-07-06T16:44:57.898177Z",
     "shell.execute_reply": "2025-07-06T16:44:57.897058Z"
    },
    "papermill": {
     "duration": 0.050229,
     "end_time": "2025-07-06T16:44:57.899796",
     "exception": false,
     "start_time": "2025-07-06T16:44:57.849567",
     "status": "completed"
    },
    "tags": []
   },
   "outputs": [
    {
     "name": "stdout",
     "output_type": "stream",
     "text": [
      "🗺️ BsmtExposure Label Mapping: {'No': 0, 'Mn': 1, 'Av': 2, 'Gd': 3}\n"
     ]
    }
   ],
   "source": [
    "# Create label mapping based on price\n",
    "bsmt_exposure_mapping = {val: i for i, val in enumerate(exposure_price.index)}\n",
    "print(\"🗺️ BsmtExposure Label Mapping:\", bsmt_exposure_mapping)\n",
    "\n",
    "# Apply encoding with fallback\n",
    "train['BsmtExposure'] = train['BsmtExposure'].map(lambda x: bsmt_exposure_mapping.get(x, 0))\n",
    "test['BsmtExposure'] = test['BsmtExposure'].map(lambda x: bsmt_exposure_mapping.get(x, 0))\n"
   ]
  },
  {
   "cell_type": "code",
   "execution_count": 112,
   "id": "2f80186b",
   "metadata": {
    "execution": {
     "iopub.execute_input": "2025-07-06T16:44:57.979172Z",
     "iopub.status.busy": "2025-07-06T16:44:57.978840Z",
     "iopub.status.idle": "2025-07-06T16:44:57.985631Z",
     "shell.execute_reply": "2025-07-06T16:44:57.984238Z"
    },
    "papermill": {
     "duration": 0.04778,
     "end_time": "2025-07-06T16:44:57.987204",
     "exception": false,
     "start_time": "2025-07-06T16:44:57.939424",
     "status": "completed"
    },
    "tags": []
   },
   "outputs": [
    {
     "name": "stdout",
     "output_type": "stream",
     "text": [
      "📌 Data type: object\n",
      "❓ Null values: 37\n",
      "🔎 Unique values: ['GLQ' 'ALQ' 'Unf' 'Rec' 'BLQ' nan 'LwQ']\n"
     ]
    }
   ],
   "source": [
    "print(\"📌 Data type:\", train['BsmtFinType1'].dtype)\n",
    "print(\"❓ Null values:\", train['BsmtFinType1'].isnull().sum())\n",
    "print(\"🔎 Unique values:\", train['BsmtFinType1'].unique())\n"
   ]
  },
  {
   "cell_type": "code",
   "execution_count": 113,
   "id": "0badd969",
   "metadata": {
    "execution": {
     "iopub.execute_input": "2025-07-06T16:44:58.068219Z",
     "iopub.status.busy": "2025-07-06T16:44:58.067888Z",
     "iopub.status.idle": "2025-07-06T16:44:58.075227Z",
     "shell.execute_reply": "2025-07-06T16:44:58.074145Z"
    },
    "papermill": {
     "duration": 0.049223,
     "end_time": "2025-07-06T16:44:58.077052",
     "exception": false,
     "start_time": "2025-07-06T16:44:58.027829",
     "status": "completed"
    },
    "tags": []
   },
   "outputs": [],
   "source": [
    "train['BsmtFinType1'] = train['BsmtFinType1'].fillna('Unf')\n",
    "test['BsmtFinType1'] = test['BsmtFinType1'].fillna('Unf')\n"
   ]
  },
  {
   "cell_type": "code",
   "execution_count": 114,
   "id": "fde09407",
   "metadata": {
    "execution": {
     "iopub.execute_input": "2025-07-06T16:44:58.156668Z",
     "iopub.status.busy": "2025-07-06T16:44:58.156295Z",
     "iopub.status.idle": "2025-07-06T16:44:58.167911Z",
     "shell.execute_reply": "2025-07-06T16:44:58.166704Z"
    },
    "papermill": {
     "duration": 0.053832,
     "end_time": "2025-07-06T16:44:58.170210",
     "exception": false,
     "start_time": "2025-07-06T16:44:58.116378",
     "status": "completed"
    },
    "tags": []
   },
   "outputs": [
    {
     "name": "stdout",
     "output_type": "stream",
     "text": [
      "BsmtFinType1\n",
      "Rec    146889.248120\n",
      "BLQ    149493.655405\n",
      "LwQ    151852.702703\n",
      "ALQ    161573.068182\n",
      "Unf    165519.282655\n",
      "GLQ    235413.720096\n",
      "Name: SalePrice, dtype: float64\n"
     ]
    }
   ],
   "source": [
    "# Optional: Check average SalePrice per category\n",
    "fin1_price = train.groupby('BsmtFinType1')['SalePrice'].mean().sort_values()\n",
    "print(fin1_price)\n",
    "\n",
    "# Create mapping from low to high price\n",
    "fin1_mapping = {k: i for i, k in enumerate(fin1_price.index)}\n",
    "\n",
    "# Apply mapping safely\n",
    "train['BsmtFinType1'] = train['BsmtFinType1'].map(lambda x: fin1_mapping.get(x, 0))\n",
    "test['BsmtFinType1'] = test['BsmtFinType1'].map(lambda x: fin1_mapping.get(x, 0))\n"
   ]
  },
  {
   "cell_type": "code",
   "execution_count": 115,
   "id": "564880fa",
   "metadata": {
    "execution": {
     "iopub.execute_input": "2025-07-06T16:44:58.252400Z",
     "iopub.status.busy": "2025-07-06T16:44:58.252032Z",
     "iopub.status.idle": "2025-07-06T16:44:58.262999Z",
     "shell.execute_reply": "2025-07-06T16:44:58.261726Z"
    },
    "papermill": {
     "duration": 0.053383,
     "end_time": "2025-07-06T16:44:58.264842",
     "exception": false,
     "start_time": "2025-07-06T16:44:58.211459",
     "status": "completed"
    },
    "tags": []
   },
   "outputs": [
    {
     "name": "stdout",
     "output_type": "stream",
     "text": [
      "📌 Data type: int64\n",
      "❓ Null values: 0\n",
      "🔢 Unique values: 637\n",
      "📊 Statistics:\n",
      " count    1460.000000\n",
      "mean      443.639726\n",
      "std       456.098091\n",
      "min         0.000000\n",
      "25%         0.000000\n",
      "50%       383.500000\n",
      "75%       712.250000\n",
      "max      5644.000000\n",
      "Name: BsmtFinSF1, dtype: float64\n"
     ]
    }
   ],
   "source": [
    "print(\"📌 Data type:\", train['BsmtFinSF1'].dtype)\n",
    "print(\"❓ Null values:\", train['BsmtFinSF1'].isnull().sum())\n",
    "print(\"🔢 Unique values:\", train['BsmtFinSF1'].nunique())\n",
    "print(\"📊 Statistics:\\n\", train['BsmtFinSF1'].describe())\n"
   ]
  },
  {
   "cell_type": "code",
   "execution_count": 116,
   "id": "c4649f1e",
   "metadata": {
    "execution": {
     "iopub.execute_input": "2025-07-06T16:44:58.345648Z",
     "iopub.status.busy": "2025-07-06T16:44:58.345282Z",
     "iopub.status.idle": "2025-07-06T16:44:58.352135Z",
     "shell.execute_reply": "2025-07-06T16:44:58.350889Z"
    },
    "papermill": {
     "duration": 0.049188,
     "end_time": "2025-07-06T16:44:58.353855",
     "exception": false,
     "start_time": "2025-07-06T16:44:58.304667",
     "status": "completed"
    },
    "tags": []
   },
   "outputs": [
    {
     "name": "stdout",
     "output_type": "stream",
     "text": [
      "📌 Data type: object\n",
      "❓ Null values: 38\n",
      "🔎 Unique values: ['Unf' 'BLQ' nan 'ALQ' 'Rec' 'LwQ' 'GLQ']\n"
     ]
    }
   ],
   "source": [
    "print(\"📌 Data type:\", train['BsmtFinType2'].dtype)\n",
    "print(\"❓ Null values:\", train['BsmtFinType2'].isnull().sum())\n",
    "print(\"🔎 Unique values:\", train['BsmtFinType2'].unique())\n"
   ]
  },
  {
   "cell_type": "code",
   "execution_count": 117,
   "id": "5582b437",
   "metadata": {
    "execution": {
     "iopub.execute_input": "2025-07-06T16:44:58.434306Z",
     "iopub.status.busy": "2025-07-06T16:44:58.433947Z",
     "iopub.status.idle": "2025-07-06T16:44:58.444036Z",
     "shell.execute_reply": "2025-07-06T16:44:58.442322Z"
    },
    "papermill": {
     "duration": 0.052807,
     "end_time": "2025-07-06T16:44:58.446094",
     "exception": false,
     "start_time": "2025-07-06T16:44:58.393287",
     "status": "completed"
    },
    "tags": []
   },
   "outputs": [],
   "source": [
    "train['BsmtFinType2'] = train['BsmtFinType2'].fillna('Unf')\n",
    "test['BsmtFinType2'] = test['BsmtFinType2'].fillna('Unf')\n"
   ]
  },
  {
   "cell_type": "code",
   "execution_count": 118,
   "id": "794848bf",
   "metadata": {
    "execution": {
     "iopub.execute_input": "2025-07-06T16:44:58.523358Z",
     "iopub.status.busy": "2025-07-06T16:44:58.522912Z",
     "iopub.status.idle": "2025-07-06T16:44:58.533713Z",
     "shell.execute_reply": "2025-07-06T16:44:58.532722Z"
    },
    "papermill": {
     "duration": 0.051649,
     "end_time": "2025-07-06T16:44:58.535296",
     "exception": false,
     "start_time": "2025-07-06T16:44:58.483647",
     "status": "completed"
    },
    "tags": []
   },
   "outputs": [],
   "source": [
    "# Step 1: Calculate average SalePrice for each BsmtFinType2 category\n",
    "fin2_price = train.groupby('BsmtFinType2')['SalePrice'].mean().sort_values()\n",
    "\n",
    "# Step 2: Create mapping from lowest to highest\n",
    "fin2_mapping = {k: i for i, k in enumerate(fin2_price.index)}\n",
    "\n",
    "# Step 3: Apply mapping to both train and test\n",
    "train['BsmtFinType2'] = train['BsmtFinType2'].map(lambda x: fin2_mapping.get(x, 0))\n",
    "test['BsmtFinType2'] = test['BsmtFinType2'].map(lambda x: fin2_mapping.get(x, 0))\n"
   ]
  },
  {
   "cell_type": "code",
   "execution_count": 119,
   "id": "796c8a27",
   "metadata": {
    "execution": {
     "iopub.execute_input": "2025-07-06T16:44:58.610967Z",
     "iopub.status.busy": "2025-07-06T16:44:58.610583Z",
     "iopub.status.idle": "2025-07-06T16:44:58.621046Z",
     "shell.execute_reply": "2025-07-06T16:44:58.619695Z"
    },
    "papermill": {
     "duration": 0.050605,
     "end_time": "2025-07-06T16:44:58.623112",
     "exception": false,
     "start_time": "2025-07-06T16:44:58.572507",
     "status": "completed"
    },
    "tags": []
   },
   "outputs": [
    {
     "name": "stdout",
     "output_type": "stream",
     "text": [
      "📌 Data type: int64\n",
      "❓ Null values: 0\n",
      "📊 Statistics:\n",
      "count    1460.000000\n",
      "mean       46.549315\n",
      "std       161.319273\n",
      "min         0.000000\n",
      "25%         0.000000\n",
      "50%         0.000000\n",
      "75%         0.000000\n",
      "max      1474.000000\n",
      "Name: BsmtFinSF2, dtype: float64\n"
     ]
    }
   ],
   "source": [
    "print(\"📌 Data type:\", train['BsmtFinSF2'].dtype)\n",
    "print(\"❓ Null values:\", train['BsmtFinSF2'].isnull().sum())\n",
    "print(\"📊 Statistics:\")\n",
    "print(train['BsmtFinSF2'].describe())\n"
   ]
  },
  {
   "cell_type": "code",
   "execution_count": 120,
   "id": "b3f67c6c",
   "metadata": {
    "execution": {
     "iopub.execute_input": "2025-07-06T16:44:58.706103Z",
     "iopub.status.busy": "2025-07-06T16:44:58.705771Z",
     "iopub.status.idle": "2025-07-06T16:44:58.712619Z",
     "shell.execute_reply": "2025-07-06T16:44:58.711142Z"
    },
    "papermill": {
     "duration": 0.048601,
     "end_time": "2025-07-06T16:44:58.714241",
     "exception": false,
     "start_time": "2025-07-06T16:44:58.665640",
     "status": "completed"
    },
    "tags": []
   },
   "outputs": [
    {
     "name": "stdout",
     "output_type": "stream",
     "text": [
      "🔢 Number of unique values: 144\n",
      "🔍 First few unique values: [0, 28, 32, 35, 40, 41, 64, 68, 80, 81]\n"
     ]
    }
   ],
   "source": [
    "print(\"🔢 Number of unique values:\", train['BsmtFinSF2'].nunique())\n",
    "print(\"🔍 First few unique values:\", sorted(train['BsmtFinSF2'].unique())[:10])\n"
   ]
  },
  {
   "cell_type": "code",
   "execution_count": 121,
   "id": "7c94bcac",
   "metadata": {
    "execution": {
     "iopub.execute_input": "2025-07-06T16:44:58.794388Z",
     "iopub.status.busy": "2025-07-06T16:44:58.794016Z",
     "iopub.status.idle": "2025-07-06T16:44:58.806475Z",
     "shell.execute_reply": "2025-07-06T16:44:58.805424Z"
    },
    "papermill": {
     "duration": 0.056326,
     "end_time": "2025-07-06T16:44:58.808458",
     "exception": false,
     "start_time": "2025-07-06T16:44:58.752132",
     "status": "completed"
    },
    "tags": []
   },
   "outputs": [
    {
     "name": "stdout",
     "output_type": "stream",
     "text": [
      "📌 Data type: int64\n",
      "❓ Null values: 0\n",
      "🔢 Number of unique values: 780\n",
      "📍 Sample unique values: [0, 14, 15, 23, 26, 29, 30, 32, 35, 36]\n",
      "\n",
      "📊 Statistics:\n",
      "count    1460.000000\n",
      "mean      567.240411\n",
      "std       441.866955\n",
      "min         0.000000\n",
      "25%       223.000000\n",
      "50%       477.500000\n",
      "75%       808.000000\n",
      "max      2336.000000\n",
      "Name: BsmtUnfSF, dtype: float64\n"
     ]
    }
   ],
   "source": [
    "print(\"📌 Data type:\", train['BsmtUnfSF'].dtype)\n",
    "print(\"❓ Null values:\", train['BsmtUnfSF'].isnull().sum())\n",
    "print(\"🔢 Number of unique values:\", train['BsmtUnfSF'].nunique())\n",
    "print(\"📍 Sample unique values:\", sorted(train['BsmtUnfSF'].unique())[:10])\n",
    "print(\"\\n📊 Statistics:\")\n",
    "print(train['BsmtUnfSF'].describe())\n"
   ]
  },
  {
   "cell_type": "code",
   "execution_count": 122,
   "id": "ae6f2fc9",
   "metadata": {
    "execution": {
     "iopub.execute_input": "2025-07-06T16:44:58.886254Z",
     "iopub.status.busy": "2025-07-06T16:44:58.885866Z",
     "iopub.status.idle": "2025-07-06T16:44:58.898890Z",
     "shell.execute_reply": "2025-07-06T16:44:58.897568Z"
    },
    "papermill": {
     "duration": 0.053058,
     "end_time": "2025-07-06T16:44:58.900414",
     "exception": false,
     "start_time": "2025-07-06T16:44:58.847356",
     "status": "completed"
    },
    "tags": []
   },
   "outputs": [
    {
     "name": "stdout",
     "output_type": "stream",
     "text": [
      "📌 Data type: int64\n",
      "❓ Null values: 0\n",
      "🔢 Number of unique values: 721\n",
      "📍 Sample unique values: [0, 105, 190, 264, 270, 290, 319, 360, 372, 384]\n",
      "\n",
      "📊 Statistics:\n",
      "count    1460.000000\n",
      "mean     1057.429452\n",
      "std       438.705324\n",
      "min         0.000000\n",
      "25%       795.750000\n",
      "50%       991.500000\n",
      "75%      1298.250000\n",
      "max      6110.000000\n",
      "Name: TotalBsmtSF, dtype: float64\n"
     ]
    }
   ],
   "source": [
    "print(\"📌 Data type:\", train['TotalBsmtSF'].dtype)\n",
    "print(\"❓ Null values:\", train['TotalBsmtSF'].isnull().sum())\n",
    "print(\"🔢 Number of unique values:\", train['TotalBsmtSF'].nunique())\n",
    "print(\"📍 Sample unique values:\", sorted(train['TotalBsmtSF'].unique())[:10])\n",
    "print(\"\\n📊 Statistics:\")\n",
    "print(train['TotalBsmtSF'].describe())\n",
    "\n"
   ]
  },
  {
   "cell_type": "code",
   "execution_count": 123,
   "id": "66391b3e",
   "metadata": {
    "execution": {
     "iopub.execute_input": "2025-07-06T16:44:58.978188Z",
     "iopub.status.busy": "2025-07-06T16:44:58.977184Z",
     "iopub.status.idle": "2025-07-06T16:44:58.987150Z",
     "shell.execute_reply": "2025-07-06T16:44:58.985989Z"
    },
    "papermill": {
     "duration": 0.050736,
     "end_time": "2025-07-06T16:44:58.988842",
     "exception": false,
     "start_time": "2025-07-06T16:44:58.938106",
     "status": "completed"
    },
    "tags": []
   },
   "outputs": [
    {
     "name": "stdout",
     "output_type": "stream",
     "text": [
      "📌 Data type: object\n",
      "❓ Null values: 0\n",
      "🔎 Unique values: ['GasA' 'GasW' 'Grav' 'Wall' 'OthW' 'Floor']\n",
      "\n",
      "📊 Average SalePrice per Heating type:\n",
      "Heating\n",
      "Floor     72500.000000\n",
      "Grav      75271.428571\n",
      "Wall      92100.000000\n",
      "OthW     125750.000000\n",
      "GasW     166632.166667\n",
      "GasA     182021.195378\n",
      "Name: SalePrice, dtype: float64\n"
     ]
    }
   ],
   "source": [
    "print(\"📌 Data type:\", train['Heating'].dtype)\n",
    "print(\"❓ Null values:\", train['Heating'].isnull().sum())\n",
    "print(\"🔎 Unique values:\", train['Heating'].unique())\n",
    "print(\"\\n📊 Average SalePrice per Heating type:\")\n",
    "print(train.groupby('Heating')['SalePrice'].mean().sort_values())\n"
   ]
  },
  {
   "cell_type": "code",
   "execution_count": 124,
   "id": "f7a36d59",
   "metadata": {
    "execution": {
     "iopub.execute_input": "2025-07-06T16:44:59.065270Z",
     "iopub.status.busy": "2025-07-06T16:44:59.064935Z",
     "iopub.status.idle": "2025-07-06T16:44:59.076791Z",
     "shell.execute_reply": "2025-07-06T16:44:59.075529Z"
    },
    "papermill": {
     "duration": 0.052365,
     "end_time": "2025-07-06T16:44:59.078475",
     "exception": false,
     "start_time": "2025-07-06T16:44:59.026110",
     "status": "completed"
    },
    "tags": []
   },
   "outputs": [
    {
     "name": "stdout",
     "output_type": "stream",
     "text": [
      "🔥 Heating mapping:\n",
      "{'Floor': 0, 'Grav': 1, 'Wall': 2, 'OthW': 3, 'GasW': 4, 'GasA': 5}\n"
     ]
    }
   ],
   "source": [
    "# Step 1: Check average SalePrice for each Heating type\n",
    "heating_price = train.groupby('Heating')['SalePrice'].mean().sort_values()\n",
    "\n",
    "# Step 2: Create mapping (low price → 0, high price → higher number)\n",
    "heating_mapping = {k: i for i, k in enumerate(heating_price.index)}\n",
    "\n",
    "# Step 3: Apply the mapping to train and test sets\n",
    "train['Heating'] = train['Heating'].map(lambda x: heating_mapping.get(x, 0))\n",
    "test['Heating'] = test['Heating'].map(lambda x: heating_mapping.get(x, 0))\n",
    "\n",
    "# Optional: Print mapping\n",
    "print(\"🔥 Heating mapping:\")\n",
    "print(heating_mapping)\n"
   ]
  },
  {
   "cell_type": "code",
   "execution_count": 125,
   "id": "06fde4c3",
   "metadata": {
    "execution": {
     "iopub.execute_input": "2025-07-06T16:44:59.160274Z",
     "iopub.status.busy": "2025-07-06T16:44:59.159921Z",
     "iopub.status.idle": "2025-07-06T16:44:59.174029Z",
     "shell.execute_reply": "2025-07-06T16:44:59.172707Z"
    },
    "papermill": {
     "duration": 0.05692,
     "end_time": "2025-07-06T16:44:59.175926",
     "exception": false,
     "start_time": "2025-07-06T16:44:59.119006",
     "status": "completed"
    },
    "tags": []
   },
   "outputs": [
    {
     "name": "stdout",
     "output_type": "stream",
     "text": [
      "📌 Data type: object\n",
      "❓ Null values: 0\n",
      "🔎 Unique values: ['Ex' 'Gd' 'TA' 'Fa' 'Po']\n",
      "\n",
      "📈 Avg SalePrice by HeatingQC:\n",
      " HeatingQC\n",
      "Po     87000.000000\n",
      "Fa    123919.489796\n",
      "TA    142362.876168\n",
      "Gd    156858.871369\n",
      "Ex    214914.429150\n",
      "Name: SalePrice, dtype: float64\n",
      "\n",
      "🏷️ Label Mapping:\n",
      " {'Po': 0, 'Fa': 1, 'TA': 2, 'Gd': 3, 'Ex': 4}\n"
     ]
    }
   ],
   "source": [
    "# Step 1: Check data info\n",
    "print(\"📌 Data type:\", train['HeatingQC'].dtype)\n",
    "print(\"❓ Null values:\", train['HeatingQC'].isnull().sum())\n",
    "print(\"🔎 Unique values:\", train['HeatingQC'].unique())\n",
    "\n",
    "# Step 2: Group by HeatingQC and check average SalePrice\n",
    "heatingqc_price = train.groupby('HeatingQC')['SalePrice'].mean().sort_values()\n",
    "print(\"\\n📈 Avg SalePrice by HeatingQC:\\n\", heatingqc_price)\n",
    "\n",
    "# Step 3: Create label encoding based on price pattern\n",
    "heatingqc_mapping = {k: i for i, k in enumerate(heatingqc_price.index)}\n",
    "print(\"\\n🏷️ Label Mapping:\\n\", heatingqc_mapping)\n",
    "\n",
    "# Step 4: Apply encoding (safe fallback = 0)\n",
    "train['HeatingQC'] = train['HeatingQC'].map(lambda x: heatingqc_mapping.get(x, 0))\n",
    "test['HeatingQC'] = test['HeatingQC'].map(lambda x: heatingqc_mapping.get(x, 0))\n"
   ]
  },
  {
   "cell_type": "code",
   "execution_count": 126,
   "id": "2af79bf3",
   "metadata": {
    "execution": {
     "iopub.execute_input": "2025-07-06T16:44:59.252539Z",
     "iopub.status.busy": "2025-07-06T16:44:59.252148Z",
     "iopub.status.idle": "2025-07-06T16:44:59.259497Z",
     "shell.execute_reply": "2025-07-06T16:44:59.258393Z"
    },
    "papermill": {
     "duration": 0.047216,
     "end_time": "2025-07-06T16:44:59.261139",
     "exception": false,
     "start_time": "2025-07-06T16:44:59.213923",
     "status": "completed"
    },
    "tags": []
   },
   "outputs": [
    {
     "name": "stdout",
     "output_type": "stream",
     "text": [
      "📌 Data type: object\n",
      "❓ Null values: 0\n",
      "🔎 Unique values: ['Y' 'N']\n"
     ]
    }
   ],
   "source": [
    "print(\"📌 Data type:\", train['CentralAir'].dtype)\n",
    "print(\"❓ Null values:\", train['CentralAir'].isnull().sum())\n",
    "print(\"🔎 Unique values:\", train['CentralAir'].unique())\n"
   ]
  },
  {
   "cell_type": "code",
   "execution_count": 127,
   "id": "ca44b188",
   "metadata": {
    "execution": {
     "iopub.execute_input": "2025-07-06T16:44:59.336908Z",
     "iopub.status.busy": "2025-07-06T16:44:59.336599Z",
     "iopub.status.idle": "2025-07-06T16:44:59.344562Z",
     "shell.execute_reply": "2025-07-06T16:44:59.343547Z"
    },
    "papermill": {
     "duration": 0.04781,
     "end_time": "2025-07-06T16:44:59.346559",
     "exception": false,
     "start_time": "2025-07-06T16:44:59.298749",
     "status": "completed"
    },
    "tags": []
   },
   "outputs": [],
   "source": [
    "# Mapping: N → 0, Y → 1\n",
    "centralair_mapping = {'N': 0, 'Y': 1}\n",
    "\n",
    "# Apply to both train and test\n",
    "train['CentralAir'] = train['CentralAir'].map(lambda x: centralair_mapping.get(x, 0))\n",
    "test['CentralAir'] = test['CentralAir'].map(lambda x: centralair_mapping.get(x, 0))\n"
   ]
  },
  {
   "cell_type": "code",
   "execution_count": 128,
   "id": "ba28feef",
   "metadata": {
    "execution": {
     "iopub.execute_input": "2025-07-06T16:44:59.424026Z",
     "iopub.status.busy": "2025-07-06T16:44:59.423709Z",
     "iopub.status.idle": "2025-07-06T16:44:59.449327Z",
     "shell.execute_reply": "2025-07-06T16:44:59.448119Z"
    },
    "papermill": {
     "duration": 0.067029,
     "end_time": "2025-07-06T16:44:59.450947",
     "exception": false,
     "start_time": "2025-07-06T16:44:59.383918",
     "status": "completed"
    },
    "tags": []
   },
   "outputs": [
    {
     "name": "stdout",
     "output_type": "stream",
     "text": [
      "📌 Data type: object\n",
      "❓ Null values: 1\n",
      "🔎 Unique values: ['SBrkr' 'FuseF' 'FuseA' 'FuseP' 'Mix' nan]\n"
     ]
    }
   ],
   "source": [
    "import pandas as pd\n",
    "\n",
    "# Step 1: Check nulls, data type, unique values\n",
    "print(\"📌 Data type:\", train['Electrical'].dtype)\n",
    "print(\"❓ Null values:\", train['Electrical'].isnull().sum())\n",
    "print(\"🔎 Unique values:\", train['Electrical'].unique())\n",
    "\n",
    "# Step 2: Fill null values with mode (most frequent category)\n",
    "mode_electrical = train['Electrical'].mode()[0]\n",
    "train['Electrical'] = train['Electrical'].fillna(mode_electrical)\n",
    "test['Electrical'] = test['Electrical'].fillna(mode_electrical)\n",
    "\n",
    "# Step 3: One-hot encoding on both train and test\n",
    "train_dummies = pd.get_dummies(train['Electrical'], prefix='Electrical')\n",
    "test_dummies = pd.get_dummies(test['Electrical'], prefix='Electrical')\n",
    "\n",
    "# Step 4: Align columns in case test set has different dummies\n",
    "train_dummies, test_dummies = train_dummies.align(test_dummies, join='left', axis=1, fill_value=0)\n",
    "\n",
    "# Step 5: Drop original column and add encoded dummies\n",
    "train = pd.concat([train.drop('Electrical', axis=1), train_dummies], axis=1)\n",
    "test = pd.concat([test.drop('Electrical', axis=1), test_dummies], axis=1)\n"
   ]
  },
  {
   "cell_type": "code",
   "execution_count": 129,
   "id": "80bfeeaf",
   "metadata": {
    "execution": {
     "iopub.execute_input": "2025-07-06T16:44:59.528294Z",
     "iopub.status.busy": "2025-07-06T16:44:59.527947Z",
     "iopub.status.idle": "2025-07-06T16:44:59.538734Z",
     "shell.execute_reply": "2025-07-06T16:44:59.537741Z"
    },
    "papermill": {
     "duration": 0.051105,
     "end_time": "2025-07-06T16:44:59.540620",
     "exception": false,
     "start_time": "2025-07-06T16:44:59.489515",
     "status": "completed"
    },
    "tags": []
   },
   "outputs": [
    {
     "name": "stdout",
     "output_type": "stream",
     "text": [
      "📌 Data type: int64\n",
      "❓ Null values: 0\n",
      "🔎 Unique values: 753\n",
      "📊 Stats:\n",
      " count    1460.000000\n",
      "mean     1162.626712\n",
      "std       386.587738\n",
      "min       334.000000\n",
      "25%       882.000000\n",
      "50%      1087.000000\n",
      "75%      1391.250000\n",
      "max      4692.000000\n",
      "Name: 1stFlrSF, dtype: float64\n"
     ]
    }
   ],
   "source": [
    "print(\"📌 Data type:\", train['1stFlrSF'].dtype)\n",
    "print(\"❓ Null values:\", train['1stFlrSF'].isnull().sum())\n",
    "print(\"🔎 Unique values:\", train['1stFlrSF'].nunique())\n",
    "print(\"📊 Stats:\\n\", train['1stFlrSF'].describe())\n"
   ]
  },
  {
   "cell_type": "code",
   "execution_count": 130,
   "id": "15b4150e",
   "metadata": {
    "execution": {
     "iopub.execute_input": "2025-07-06T16:44:59.619270Z",
     "iopub.status.busy": "2025-07-06T16:44:59.618906Z",
     "iopub.status.idle": "2025-07-06T16:44:59.631148Z",
     "shell.execute_reply": "2025-07-06T16:44:59.629756Z"
    },
    "papermill": {
     "duration": 0.054375,
     "end_time": "2025-07-06T16:44:59.633176",
     "exception": false,
     "start_time": "2025-07-06T16:44:59.578801",
     "status": "completed"
    },
    "tags": []
   },
   "outputs": [
    {
     "name": "stdout",
     "output_type": "stream",
     "text": [
      "📌 Data type: int64\n",
      "❓ Null values: 0\n",
      "🔎 Unique values: 417\n",
      "📊 Stats:\n",
      " count    1460.000000\n",
      "mean      346.992466\n",
      "std       436.528436\n",
      "min         0.000000\n",
      "25%         0.000000\n",
      "50%         0.000000\n",
      "75%       728.000000\n",
      "max      2065.000000\n",
      "Name: 2ndFlrSF, dtype: float64\n"
     ]
    }
   ],
   "source": [
    "print(\"📌 Data type:\", train['2ndFlrSF'].dtype)\n",
    "print(\"❓ Null values:\", train['2ndFlrSF'].isnull().sum())\n",
    "print(\"🔎 Unique values:\", train['2ndFlrSF'].nunique())\n",
    "print(\"📊 Stats:\\n\", train['2ndFlrSF'].describe())\n"
   ]
  },
  {
   "cell_type": "code",
   "execution_count": 131,
   "id": "4a030a76",
   "metadata": {
    "execution": {
     "iopub.execute_input": "2025-07-06T16:44:59.716950Z",
     "iopub.status.busy": "2025-07-06T16:44:59.716641Z",
     "iopub.status.idle": "2025-07-06T16:44:59.722698Z",
     "shell.execute_reply": "2025-07-06T16:44:59.721359Z"
    },
    "papermill": {
     "duration": 0.048855,
     "end_time": "2025-07-06T16:44:59.724650",
     "exception": false,
     "start_time": "2025-07-06T16:44:59.675795",
     "status": "completed"
    },
    "tags": []
   },
   "outputs": [
    {
     "name": "stdout",
     "output_type": "stream",
     "text": [
      "📌 Data type: int64\n"
     ]
    }
   ],
   "source": [
    "print(\"📌 Data type:\", train['LowQualFinSF'].dtype)\n"
   ]
  },
  {
   "cell_type": "code",
   "execution_count": 132,
   "id": "c5016b44",
   "metadata": {
    "execution": {
     "iopub.execute_input": "2025-07-06T16:44:59.806982Z",
     "iopub.status.busy": "2025-07-06T16:44:59.806692Z",
     "iopub.status.idle": "2025-07-06T16:44:59.813611Z",
     "shell.execute_reply": "2025-07-06T16:44:59.812214Z"
    },
    "papermill": {
     "duration": 0.049938,
     "end_time": "2025-07-06T16:44:59.815126",
     "exception": false,
     "start_time": "2025-07-06T16:44:59.765188",
     "status": "completed"
    },
    "tags": []
   },
   "outputs": [
    {
     "name": "stdout",
     "output_type": "stream",
     "text": [
      "📌 Data type: int64\n",
      "❓ Null values: 0\n",
      "🔎 Unique values: [  0 360 513 234 528 572 144 392 371 390 420 473 156 515  80  53 232 481\n",
      " 120 514 397 479 205 384]\n"
     ]
    }
   ],
   "source": [
    "# LowQualFinSF: Low quality finished square feet (all floors)\n",
    "\n",
    "# Step 1: Basic Info\n",
    "print(\"📌 Data type:\", train['LowQualFinSF'].dtype)\n",
    "print(\"❓ Null values:\", train['LowQualFinSF'].isnull().sum())\n",
    "print(\"🔎 Unique values:\", train['LowQualFinSF'].unique())\n",
    "\n"
   ]
  },
  {
   "cell_type": "code",
   "execution_count": 133,
   "id": "be7e4b68",
   "metadata": {
    "execution": {
     "iopub.execute_input": "2025-07-06T16:44:59.894410Z",
     "iopub.status.busy": "2025-07-06T16:44:59.894084Z",
     "iopub.status.idle": "2025-07-06T16:44:59.900732Z",
     "shell.execute_reply": "2025-07-06T16:44:59.899364Z"
    },
    "papermill": {
     "duration": 0.047764,
     "end_time": "2025-07-06T16:44:59.902219",
     "exception": false,
     "start_time": "2025-07-06T16:44:59.854455",
     "status": "completed"
    },
    "tags": []
   },
   "outputs": [
    {
     "name": "stdout",
     "output_type": "stream",
     "text": [
      "📌 Data type: int64\n",
      "❓ Null values: 0\n",
      "🔎 Unique values: 861\n"
     ]
    }
   ],
   "source": [
    "# GrLivArea: Above grade (ground) living area square feet\n",
    "\n",
    "# Step 1: Basic info\n",
    "print(\"📌 Data type:\", train['GrLivArea'].dtype)\n",
    "print(\"❓ Null values:\", train['GrLivArea'].isnull().sum())\n",
    "print(\"🔎 Unique values:\", train['GrLivArea'].nunique())\n"
   ]
  },
  {
   "cell_type": "code",
   "execution_count": 134,
   "id": "22c37e4b",
   "metadata": {
    "execution": {
     "iopub.execute_input": "2025-07-06T16:44:59.980157Z",
     "iopub.status.busy": "2025-07-06T16:44:59.979873Z",
     "iopub.status.idle": "2025-07-06T16:44:59.986359Z",
     "shell.execute_reply": "2025-07-06T16:44:59.985219Z"
    },
    "papermill": {
     "duration": 0.046891,
     "end_time": "2025-07-06T16:44:59.987912",
     "exception": false,
     "start_time": "2025-07-06T16:44:59.941021",
     "status": "completed"
    },
    "tags": []
   },
   "outputs": [
    {
     "name": "stdout",
     "output_type": "stream",
     "text": [
      "📌 Data type: int64\n",
      "❓ Null values: 0\n",
      "🔎 Unique values: 861\n"
     ]
    }
   ],
   "source": [
    "# 📦 Feature: GrLivArea (Above grade living area square feet)\n",
    "\n",
    "# Step 1: Check basic info\n",
    "print(\"📌 Data type:\", train['GrLivArea'].dtype)\n",
    "print(\"❓ Null values:\", train['GrLivArea'].isnull().sum())\n",
    "print(\"🔎 Unique values:\", train['GrLivArea'].nunique())\n",
    "\n",
    "\n"
   ]
  },
  {
   "cell_type": "code",
   "execution_count": 135,
   "id": "a9a65f85",
   "metadata": {
    "execution": {
     "iopub.execute_input": "2025-07-06T16:45:00.065946Z",
     "iopub.status.busy": "2025-07-06T16:45:00.065631Z",
     "iopub.status.idle": "2025-07-06T16:45:00.072476Z",
     "shell.execute_reply": "2025-07-06T16:45:00.071466Z"
    },
    "papermill": {
     "duration": 0.048264,
     "end_time": "2025-07-06T16:45:00.074015",
     "exception": false,
     "start_time": "2025-07-06T16:45:00.025751",
     "status": "completed"
    },
    "tags": []
   },
   "outputs": [
    {
     "name": "stdout",
     "output_type": "stream",
     "text": [
      "📌 Data type: int64\n",
      "❓ Null values: 0\n",
      "🔎 Unique values: [1 0 2 3]\n"
     ]
    }
   ],
   "source": [
    "# 🚿 Feature: BsmtFullBath (Basement full bathrooms)\n",
    "\n",
    "# Step 1: Check basic info\n",
    "print(\"📌 Data type:\", train['BsmtFullBath'].dtype)\n",
    "print(\"❓ Null values:\", train['BsmtFullBath'].isnull().sum())\n",
    "print(\"🔎 Unique values:\", train['BsmtFullBath'].unique())\n"
   ]
  },
  {
   "cell_type": "code",
   "execution_count": 136,
   "id": "90300752",
   "metadata": {
    "execution": {
     "iopub.execute_input": "2025-07-06T16:45:00.151482Z",
     "iopub.status.busy": "2025-07-06T16:45:00.151160Z",
     "iopub.status.idle": "2025-07-06T16:45:00.158076Z",
     "shell.execute_reply": "2025-07-06T16:45:00.157032Z"
    },
    "papermill": {
     "duration": 0.047092,
     "end_time": "2025-07-06T16:45:00.159596",
     "exception": false,
     "start_time": "2025-07-06T16:45:00.112504",
     "status": "completed"
    },
    "tags": []
   },
   "outputs": [
    {
     "name": "stdout",
     "output_type": "stream",
     "text": [
      "📌 Data type: int64\n",
      "❓ Null values: 0\n",
      "🔎 Unique values: [0 1 2]\n"
     ]
    }
   ],
   "source": [
    "# 🚽 Feature: BsmtHalfBath (Basement half bathrooms)\n",
    "\n",
    "# Step 1: Check basic info\n",
    "print(\"📌 Data type:\", train['BsmtHalfBath'].dtype)\n",
    "print(\"❓ Null values:\", train['BsmtHalfBath'].isnull().sum())\n",
    "print(\"🔎 Unique values:\", train['BsmtHalfBath'].unique())\n"
   ]
  },
  {
   "cell_type": "code",
   "execution_count": 137,
   "id": "7f94bbc3",
   "metadata": {
    "execution": {
     "iopub.execute_input": "2025-07-06T16:45:00.236911Z",
     "iopub.status.busy": "2025-07-06T16:45:00.235910Z",
     "iopub.status.idle": "2025-07-06T16:45:00.242814Z",
     "shell.execute_reply": "2025-07-06T16:45:00.241700Z"
    },
    "papermill": {
     "duration": 0.046876,
     "end_time": "2025-07-06T16:45:00.244369",
     "exception": false,
     "start_time": "2025-07-06T16:45:00.197493",
     "status": "completed"
    },
    "tags": []
   },
   "outputs": [
    {
     "name": "stdout",
     "output_type": "stream",
     "text": [
      "📌 Data type: int64\n",
      "❓ Null values: 0\n",
      "🔎 Unique values: [2 1 3 0]\n"
     ]
    }
   ],
   "source": [
    "# 🚿 Feature: FullBath (Full bathrooms above grade)\n",
    "\n",
    "# Step 1: Check basic info\n",
    "print(\"📌 Data type:\", train['FullBath'].dtype)\n",
    "print(\"❓ Null values:\", train['FullBath'].isnull().sum())\n",
    "print(\"🔎 Unique values:\", train['FullBath'].unique())\n",
    "\n"
   ]
  },
  {
   "cell_type": "code",
   "execution_count": 138,
   "id": "6be0e086",
   "metadata": {
    "execution": {
     "iopub.execute_input": "2025-07-06T16:45:00.323464Z",
     "iopub.status.busy": "2025-07-06T16:45:00.323107Z",
     "iopub.status.idle": "2025-07-06T16:45:00.329910Z",
     "shell.execute_reply": "2025-07-06T16:45:00.328868Z"
    },
    "papermill": {
     "duration": 0.049069,
     "end_time": "2025-07-06T16:45:00.332060",
     "exception": false,
     "start_time": "2025-07-06T16:45:00.282991",
     "status": "completed"
    },
    "tags": []
   },
   "outputs": [
    {
     "name": "stdout",
     "output_type": "stream",
     "text": [
      "📌 Data type: int64\n",
      "❓ Null values: 0\n",
      "🔎 Unique values: [1 0 2]\n"
     ]
    }
   ],
   "source": [
    "# 🚽 Feature: HalfBath (Half baths above grade)\n",
    "\n",
    "# Step 1: Check basic info\n",
    "print(\"📌 Data type:\", train['HalfBath'].dtype)\n",
    "print(\"❓ Null values:\", train['HalfBath'].isnull().sum())\n",
    "print(\"🔎 Unique values:\", train['HalfBath'].unique())\n"
   ]
  },
  {
   "cell_type": "code",
   "execution_count": 139,
   "id": "fac6a4b4",
   "metadata": {
    "execution": {
     "iopub.execute_input": "2025-07-06T16:45:00.416325Z",
     "iopub.status.busy": "2025-07-06T16:45:00.415239Z",
     "iopub.status.idle": "2025-07-06T16:45:00.423044Z",
     "shell.execute_reply": "2025-07-06T16:45:00.421915Z"
    },
    "papermill": {
     "duration": 0.051346,
     "end_time": "2025-07-06T16:45:00.424792",
     "exception": false,
     "start_time": "2025-07-06T16:45:00.373446",
     "status": "completed"
    },
    "tags": []
   },
   "outputs": [
    {
     "name": "stdout",
     "output_type": "stream",
     "text": [
      "📌 Data type: int64\n",
      "❓ Null values: 0\n",
      "🔎 Unique values: [3 4 1 2 0 5 6 8]\n"
     ]
    }
   ],
   "source": [
    "# 🛏️ Feature: Bedroom (Bedrooms above grade)\n",
    "\n",
    "# Step 1: Check basic info\n",
    "print(\"📌 Data type:\", train['BedroomAbvGr'].dtype)\n",
    "print(\"❓ Null values:\", train['BedroomAbvGr'].isnull().sum())\n",
    "print(\"🔎 Unique values:\", train['BedroomAbvGr'].unique())\n"
   ]
  },
  {
   "cell_type": "code",
   "execution_count": 140,
   "id": "b5c204b2",
   "metadata": {
    "execution": {
     "iopub.execute_input": "2025-07-06T16:45:00.508952Z",
     "iopub.status.busy": "2025-07-06T16:45:00.508587Z",
     "iopub.status.idle": "2025-07-06T16:45:00.515923Z",
     "shell.execute_reply": "2025-07-06T16:45:00.514972Z"
    },
    "papermill": {
     "duration": 0.051837,
     "end_time": "2025-07-06T16:45:00.517816",
     "exception": false,
     "start_time": "2025-07-06T16:45:00.465979",
     "status": "completed"
    },
    "tags": []
   },
   "outputs": [
    {
     "name": "stdout",
     "output_type": "stream",
     "text": [
      "📌 Data type: int64\n",
      "❓ Null values: 0\n",
      "🔎 Unique values: [1 2 3 0]\n"
     ]
    }
   ],
   "source": [
    "# 🍽️ Feature: Kitchen (Kitchens above grade)\n",
    "\n",
    "# Step 1: Check basic info\n",
    "print(\"📌 Data type:\", train['KitchenAbvGr'].dtype)\n",
    "print(\"❓ Null values:\", train['KitchenAbvGr'].isnull().sum())\n",
    "print(\"🔎 Unique values:\", train['KitchenAbvGr'].unique())\n"
   ]
  },
  {
   "cell_type": "code",
   "execution_count": 141,
   "id": "4f4e26ab",
   "metadata": {
    "execution": {
     "iopub.execute_input": "2025-07-06T16:45:00.596517Z",
     "iopub.status.busy": "2025-07-06T16:45:00.596107Z",
     "iopub.status.idle": "2025-07-06T16:45:00.603517Z",
     "shell.execute_reply": "2025-07-06T16:45:00.602433Z"
    },
    "papermill": {
     "duration": 0.048543,
     "end_time": "2025-07-06T16:45:00.605012",
     "exception": false,
     "start_time": "2025-07-06T16:45:00.556469",
     "status": "completed"
    },
    "tags": []
   },
   "outputs": [
    {
     "name": "stdout",
     "output_type": "stream",
     "text": [
      "📌 Data type: object\n",
      "❓ Null values: 0\n",
      "🔎 Unique values: ['Gd' 'TA' 'Ex' 'Fa']\n"
     ]
    }
   ],
   "source": [
    "\n",
    "# Step 1: Check basic info\n",
    "print(\"📌 Data type:\", train['KitchenQual'].dtype)\n",
    "print(\"❓ Null values:\", train['KitchenQual'].isnull().sum())\n",
    "print(\"🔎 Unique values:\", train['KitchenQual'].unique())"
   ]
  },
  {
   "cell_type": "code",
   "execution_count": 142,
   "id": "86196c05",
   "metadata": {
    "execution": {
     "iopub.execute_input": "2025-07-06T16:45:00.695131Z",
     "iopub.status.busy": "2025-07-06T16:45:00.693971Z",
     "iopub.status.idle": "2025-07-06T16:45:00.705247Z",
     "shell.execute_reply": "2025-07-06T16:45:00.704124Z"
    },
    "papermill": {
     "duration": 0.063074,
     "end_time": "2025-07-06T16:45:00.707216",
     "exception": false,
     "start_time": "2025-07-06T16:45:00.644142",
     "status": "completed"
    },
    "tags": []
   },
   "outputs": [],
   "source": [
    " #Step 3: Label encoding with unseen value handling\n",
    "# Assume quality ranking: Ex > Gd > TA > Fa > Po\n",
    "kitchenqual_mapping = {'Po': 0, 'Fa': 1, 'TA': 2, 'Gd': 3, 'Ex': 4}\n",
    "train['KitchenQual'] = train['KitchenQual'].map(lambda x: kitchenqual_mapping.get(x, 0))\n",
    "test['KitchenQual'] = test['KitchenQual'].map(lambda x: kitchenqual_mapping.get(x, 0))"
   ]
  },
  {
   "cell_type": "code",
   "execution_count": 143,
   "id": "26c0110b",
   "metadata": {
    "execution": {
     "iopub.execute_input": "2025-07-06T16:45:00.793162Z",
     "iopub.status.busy": "2025-07-06T16:45:00.792186Z",
     "iopub.status.idle": "2025-07-06T16:45:00.799797Z",
     "shell.execute_reply": "2025-07-06T16:45:00.798571Z"
    },
    "papermill": {
     "duration": 0.055001,
     "end_time": "2025-07-06T16:45:00.801706",
     "exception": false,
     "start_time": "2025-07-06T16:45:00.746705",
     "status": "completed"
    },
    "tags": []
   },
   "outputs": [
    {
     "name": "stdout",
     "output_type": "stream",
     "text": [
      "📌 Data type: int64\n",
      "❓ Null values: 0\n",
      "🔎 Unique values: [ 8  6  7  9  5 11  4 10 12  3  2 14]\n"
     ]
    }
   ],
   "source": [
    "# 🏘️ Feature: TotRmsAbvGrd (Total rooms above grade - excludes bathrooms)\n",
    "\n",
    "# Step 1: Check basic info\n",
    "print(\"📌 Data type:\", train['TotRmsAbvGrd'].dtype)\n",
    "print(\"❓ Null values:\", train['TotRmsAbvGrd'].isnull().sum())\n",
    "print(\"🔎 Unique values:\", train['TotRmsAbvGrd'].unique())\n",
    "\n"
   ]
  },
  {
   "cell_type": "code",
   "execution_count": 144,
   "id": "fb08eeb7",
   "metadata": {
    "execution": {
     "iopub.execute_input": "2025-07-06T16:45:00.882696Z",
     "iopub.status.busy": "2025-07-06T16:45:00.882273Z",
     "iopub.status.idle": "2025-07-06T16:45:00.889994Z",
     "shell.execute_reply": "2025-07-06T16:45:00.888991Z"
    },
    "papermill": {
     "duration": 0.049724,
     "end_time": "2025-07-06T16:45:00.891726",
     "exception": false,
     "start_time": "2025-07-06T16:45:00.842002",
     "status": "completed"
    },
    "tags": []
   },
   "outputs": [
    {
     "name": "stdout",
     "output_type": "stream",
     "text": [
      "📌 Data type: object\n",
      "❓ Null values: 0\n",
      "🔎 Unique values: ['Typ' 'Min1' 'Maj1' 'Min2' 'Mod' 'Maj2' 'Sev']\n"
     ]
    }
   ],
   "source": [
    "\n",
    "# Step 1: Check basic info\n",
    "print(\"📌 Data type:\", train['Functional'].dtype)\n",
    "print(\"❓ Null values:\", train['Functional'].isnull().sum())\n",
    "print(\"🔎 Unique values:\", train['Functional'].unique())"
   ]
  },
  {
   "cell_type": "code",
   "execution_count": 145,
   "id": "fdc7467d",
   "metadata": {
    "execution": {
     "iopub.execute_input": "2025-07-06T16:45:00.973850Z",
     "iopub.status.busy": "2025-07-06T16:45:00.973483Z",
     "iopub.status.idle": "2025-07-06T16:45:00.982376Z",
     "shell.execute_reply": "2025-07-06T16:45:00.981425Z"
    },
    "papermill": {
     "duration": 0.051257,
     "end_time": "2025-07-06T16:45:00.984146",
     "exception": false,
     "start_time": "2025-07-06T16:45:00.932889",
     "status": "completed"
    },
    "tags": []
   },
   "outputs": [],
   "source": [
    "# Step 3: Label encoding (based on assumed functionality ranking)\n",
    "functional_mapping = {\n",
    "    'Sal': 0,  # Severely damaged\n",
    "    'Sev': 1,  # Severe\n",
    "    'Maj2': 2, # Major 2\n",
    "    'Maj1': 3, # Major 1\n",
    "    'Mod': 4,  # Moderate\n",
    "    'Min2': 5, # Minor 2\n",
    "    'Min1': 6, # Minor 1\n",
    "    'Typ': 7   # Typical (best)\n",
    "}\n",
    "\n",
    "# Apply label encoding with fallback for unknowns\n",
    "train['Functional'] = train['Functional'].map(lambda x: functional_mapping.get(x, 0))\n",
    "test['Functional'] = test['Functional'].map(lambda x: functional_mapping.get(x, 0))"
   ]
  },
  {
   "cell_type": "code",
   "execution_count": 146,
   "id": "0c893dac",
   "metadata": {
    "execution": {
     "iopub.execute_input": "2025-07-06T16:45:01.064474Z",
     "iopub.status.busy": "2025-07-06T16:45:01.064067Z",
     "iopub.status.idle": "2025-07-06T16:45:01.071834Z",
     "shell.execute_reply": "2025-07-06T16:45:01.070666Z"
    },
    "papermill": {
     "duration": 0.049971,
     "end_time": "2025-07-06T16:45:01.073434",
     "exception": false,
     "start_time": "2025-07-06T16:45:01.023463",
     "status": "completed"
    },
    "tags": []
   },
   "outputs": [
    {
     "name": "stdout",
     "output_type": "stream",
     "text": [
      "📌 Data type: int64\n",
      "❓ Null values: 0\n",
      "🔎 Unique values: [0 1 2 3]\n"
     ]
    }
   ],
   "source": [
    "# 🔥 Feature: Fireplaces (Number of fireplaces)\n",
    "\n",
    "# Step 1: Check basic info\n",
    "print(\"📌 Data type:\", train['Fireplaces'].dtype)\n",
    "print(\"❓ Null values:\", train['Fireplaces'].isnull().sum())\n",
    "print(\"🔎 Unique values:\", train['Fireplaces'].unique())\n",
    "\n",
    "# Step 2: (No nulls → skip filling)\n",
    "\n",
    "# Step 3: (Numerical feature → no encoding needed)\n",
    "# You can proceed to next feature if values seem clean.\n"
   ]
  },
  {
   "cell_type": "code",
   "execution_count": 147,
   "id": "55757d86",
   "metadata": {
    "execution": {
     "iopub.execute_input": "2025-07-06T16:45:01.161291Z",
     "iopub.status.busy": "2025-07-06T16:45:01.160931Z",
     "iopub.status.idle": "2025-07-06T16:45:01.168138Z",
     "shell.execute_reply": "2025-07-06T16:45:01.167219Z"
    },
    "papermill": {
     "duration": 0.052594,
     "end_time": "2025-07-06T16:45:01.169735",
     "exception": false,
     "start_time": "2025-07-06T16:45:01.117141",
     "status": "completed"
    },
    "tags": []
   },
   "outputs": [
    {
     "name": "stdout",
     "output_type": "stream",
     "text": [
      "📌 Data type: object\n",
      "❓ Null values: 690\n",
      "🔎 Unique values: [nan 'TA' 'Gd' 'Fa' 'Ex' 'Po']\n"
     ]
    }
   ],
   "source": [
    "# 🔥 Feature: FireplaceQu (Fireplace quality)\n",
    "\n",
    "# Step 1: Check basic info\n",
    "print(\"📌 Data type:\", train['FireplaceQu'].dtype)\n",
    "print(\"❓ Null values:\", train['FireplaceQu'].isnull().sum())\n",
    "print(\"🔎 Unique values:\", train['FireplaceQu'].unique())"
   ]
  },
  {
   "cell_type": "code",
   "execution_count": 148,
   "id": "d9c51e9c",
   "metadata": {
    "execution": {
     "iopub.execute_input": "2025-07-06T16:45:01.254801Z",
     "iopub.status.busy": "2025-07-06T16:45:01.254438Z",
     "iopub.status.idle": "2025-07-06T16:45:01.262160Z",
     "shell.execute_reply": "2025-07-06T16:45:01.261231Z"
    },
    "papermill": {
     "duration": 0.051774,
     "end_time": "2025-07-06T16:45:01.263667",
     "exception": false,
     "start_time": "2025-07-06T16:45:01.211893",
     "status": "completed"
    },
    "tags": []
   },
   "outputs": [],
   "source": [
    "\n",
    "# Step 2: Fill missing values with 'NA' (No fireplace)\n",
    "train['FireplaceQu'] = train['FireplaceQu'].fillna('NA')\n",
    "test['FireplaceQu'] = test['FireplaceQu'].fillna('NA')\n"
   ]
  },
  {
   "cell_type": "code",
   "execution_count": 149,
   "id": "d00b1b80",
   "metadata": {
    "execution": {
     "iopub.execute_input": "2025-07-06T16:45:01.348034Z",
     "iopub.status.busy": "2025-07-06T16:45:01.347706Z",
     "iopub.status.idle": "2025-07-06T16:45:01.355415Z",
     "shell.execute_reply": "2025-07-06T16:45:01.354403Z"
    },
    "papermill": {
     "duration": 0.05174,
     "end_time": "2025-07-06T16:45:01.357097",
     "exception": false,
     "start_time": "2025-07-06T16:45:01.305357",
     "status": "completed"
    },
    "tags": []
   },
   "outputs": [],
   "source": [
    "\n",
    "# Step 3: Label encoding based on quality ranking\n",
    "# NA < Po < Fa < TA < Gd < Ex\n",
    "fireplace_mapping = {'NA': 0, 'Po': 1, 'Fa': 2, 'TA': 3, 'Gd': 4, 'Ex': 5}\n",
    "train['FireplaceQu'] = train['FireplaceQu'].map(lambda x: fireplace_mapping.get(x, 0))\n",
    "test['FireplaceQu'] = test['FireplaceQu'].map(lambda x: fireplace_mapping.get(x, 0))"
   ]
  },
  {
   "cell_type": "code",
   "execution_count": 150,
   "id": "f2e9a4ad",
   "metadata": {
    "execution": {
     "iopub.execute_input": "2025-07-06T16:45:01.444131Z",
     "iopub.status.busy": "2025-07-06T16:45:01.443809Z",
     "iopub.status.idle": "2025-07-06T16:45:01.451089Z",
     "shell.execute_reply": "2025-07-06T16:45:01.449819Z"
    },
    "papermill": {
     "duration": 0.052577,
     "end_time": "2025-07-06T16:45:01.452805",
     "exception": false,
     "start_time": "2025-07-06T16:45:01.400228",
     "status": "completed"
    },
    "tags": []
   },
   "outputs": [
    {
     "name": "stdout",
     "output_type": "stream",
     "text": [
      "📌 Data type: object\n",
      "❓ Null values: 81\n",
      "🔎 Unique values: ['Attchd' 'Detchd' 'BuiltIn' 'CarPort' nan 'Basment' '2Types']\n"
     ]
    }
   ],
   "source": [
    "# Step 1: Check basic info\n",
    "print(\"📌 Data type:\", train['GarageType'].dtype)\n",
    "print(\"❓ Null values:\", train['GarageType'].isnull().sum())\n",
    "print(\"🔎 Unique values:\", train['GarageType'].unique())"
   ]
  },
  {
   "cell_type": "code",
   "execution_count": 151,
   "id": "428cbe09",
   "metadata": {
    "execution": {
     "iopub.execute_input": "2025-07-06T16:45:01.540724Z",
     "iopub.status.busy": "2025-07-06T16:45:01.540378Z",
     "iopub.status.idle": "2025-07-06T16:45:01.548287Z",
     "shell.execute_reply": "2025-07-06T16:45:01.547152Z"
    },
    "papermill": {
     "duration": 0.054304,
     "end_time": "2025-07-06T16:45:01.549972",
     "exception": false,
     "start_time": "2025-07-06T16:45:01.495668",
     "status": "completed"
    },
    "tags": []
   },
   "outputs": [],
   "source": [
    "# Step 2: Fill missing values with 'NA' (no garage)\n",
    "train['GarageType'] = train['GarageType'].fillna('NA')\n",
    "test['GarageType'] = test['GarageType'].fillna('NA')"
   ]
  },
  {
   "cell_type": "code",
   "execution_count": 152,
   "id": "2c2cb9c6",
   "metadata": {
    "execution": {
     "iopub.execute_input": "2025-07-06T16:45:01.634818Z",
     "iopub.status.busy": "2025-07-06T16:45:01.634474Z",
     "iopub.status.idle": "2025-07-06T16:45:01.652311Z",
     "shell.execute_reply": "2025-07-06T16:45:01.651119Z"
    },
    "papermill": {
     "duration": 0.062737,
     "end_time": "2025-07-06T16:45:01.654474",
     "exception": false,
     "start_time": "2025-07-06T16:45:01.591737",
     "status": "completed"
    },
    "tags": []
   },
   "outputs": [],
   "source": [
    "# Step 3: One-hot encoding\n",
    "garage_dummies_train = pd.get_dummies(train['GarageType'], prefix='GarageType')\n",
    "garage_dummies_test = pd.get_dummies(test['GarageType'], prefix='GarageType')\n",
    "\n",
    "# Step 4: Align train and test\n",
    "garage_dummies_train, garage_dummies_test = garage_dummies_train.align(garage_dummies_test, join='left', axis=1, fill_value=0)\n",
    "\n",
    "# Step 5: Replace original with encoded\n",
    "train = pd.concat([train.drop('GarageType', axis=1), garage_dummies_train], axis=1)\n",
    "test = pd.concat([test.drop('GarageType', axis=1), garage_dummies_test], axis=1)"
   ]
  },
  {
   "cell_type": "code",
   "execution_count": 153,
   "id": "5458bec7",
   "metadata": {
    "execution": {
     "iopub.execute_input": "2025-07-06T16:45:01.738299Z",
     "iopub.status.busy": "2025-07-06T16:45:01.737954Z",
     "iopub.status.idle": "2025-07-06T16:45:01.744751Z",
     "shell.execute_reply": "2025-07-06T16:45:01.743623Z"
    },
    "papermill": {
     "duration": 0.04875,
     "end_time": "2025-07-06T16:45:01.746632",
     "exception": false,
     "start_time": "2025-07-06T16:45:01.697882",
     "status": "completed"
    },
    "tags": []
   },
   "outputs": [
    {
     "name": "stdout",
     "output_type": "stream",
     "text": [
      "📌 Data type: float64\n",
      "❓ Null values: 81\n",
      "🔎 Unique values: 97\n"
     ]
    }
   ],
   "source": [
    "# 🏗️ Feature: GarageYrBlt (Year garage was built)\n",
    "\n",
    "# Step 1: Check basic info\n",
    "print(\"📌 Data type:\", train['GarageYrBlt'].dtype)\n",
    "print(\"❓ Null values:\", train['GarageYrBlt'].isnull().sum())\n",
    "print(\"🔎 Unique values:\", train['GarageYrBlt'].nunique())"
   ]
  },
  {
   "cell_type": "code",
   "execution_count": 154,
   "id": "da3bd4fa",
   "metadata": {
    "execution": {
     "iopub.execute_input": "2025-07-06T16:45:01.833392Z",
     "iopub.status.busy": "2025-07-06T16:45:01.833031Z",
     "iopub.status.idle": "2025-07-06T16:45:01.841065Z",
     "shell.execute_reply": "2025-07-06T16:45:01.840098Z"
    },
    "papermill": {
     "duration": 0.053974,
     "end_time": "2025-07-06T16:45:01.842552",
     "exception": false,
     "start_time": "2025-07-06T16:45:01.788578",
     "status": "completed"
    },
    "tags": []
   },
   "outputs": [],
   "source": [
    "# Step 2: Fill missing values\n",
    "# We'll fill missing years with 0 to indicate 'no garage'\n",
    "train['GarageYrBlt'] = train['GarageYrBlt'].fillna(0)\n",
    "test['GarageYrBlt'] = test['GarageYrBlt'].fillna(0)"
   ]
  },
  {
   "cell_type": "code",
   "execution_count": 155,
   "id": "01def865",
   "metadata": {
    "execution": {
     "iopub.execute_input": "2025-07-06T16:45:01.929532Z",
     "iopub.status.busy": "2025-07-06T16:45:01.929178Z",
     "iopub.status.idle": "2025-07-06T16:45:01.935791Z",
     "shell.execute_reply": "2025-07-06T16:45:01.934809Z"
    },
    "papermill": {
     "duration": 0.053367,
     "end_time": "2025-07-06T16:45:01.937782",
     "exception": false,
     "start_time": "2025-07-06T16:45:01.884415",
     "status": "completed"
    },
    "tags": []
   },
   "outputs": [
    {
     "name": "stdout",
     "output_type": "stream",
     "text": [
      "🔎 Unique values: [2003. 1976. 2001. 1998. 2000. 1993. 2004. 1973. 1931. 1939. 1965. 2005.\n",
      " 1962. 2006. 1960. 1991. 1970. 1967. 1958. 1930. 2002. 1968. 2007. 2008.\n",
      " 1957. 1920. 1966. 1959. 1995. 1954. 1953.    0. 1983. 1977. 1997. 1985.\n",
      " 1963. 1981. 1964. 1999. 1935. 1990. 1945. 1987. 1989. 1915. 1956. 1948.\n",
      " 1974. 2009. 1950. 1961. 1921. 1900. 1979. 1951. 1969. 1936. 1975. 1971.\n",
      " 1923. 1984. 1926. 1955. 1986. 1988. 1916. 1932. 1972. 1918. 1980. 1924.\n",
      " 1996. 1940. 1949. 1994. 1910. 1978. 1982. 1992. 1925. 1941. 2010. 1927.\n",
      " 1947. 1937. 1942. 1938. 1952. 1928. 1922. 1934. 1906. 1914. 1946. 1908.\n",
      " 1929. 1933.]\n"
     ]
    }
   ],
   "source": [
    "print(\"🔎 Unique values:\", train['GarageYrBlt'].unique())\n"
   ]
  },
  {
   "cell_type": "code",
   "execution_count": 156,
   "id": "41617b75",
   "metadata": {
    "execution": {
     "iopub.execute_input": "2025-07-06T16:45:02.024585Z",
     "iopub.status.busy": "2025-07-06T16:45:02.024214Z",
     "iopub.status.idle": "2025-07-06T16:45:02.034878Z",
     "shell.execute_reply": "2025-07-06T16:45:02.033679Z"
    },
    "papermill": {
     "duration": 0.055702,
     "end_time": "2025-07-06T16:45:02.036800",
     "exception": false,
     "start_time": "2025-07-06T16:45:01.981098",
     "status": "completed"
    },
    "tags": []
   },
   "outputs": [
    {
     "name": "stdout",
     "output_type": "stream",
     "text": [
      "✅ Transformed GarageYrBlt:\n",
      "0    89.0\n",
      "1    62.0\n",
      "2    87.0\n",
      "3    84.0\n",
      "4    86.0\n",
      "Name: GarageYrBlt, dtype: float64\n"
     ]
    }
   ],
   "source": [
    "# Step 2: Create mapping function\n",
    "def encode_year(year, base_year=1915, max_year=2010):\n",
    "    if year == 0:\n",
    "        return 0\n",
    "    elif year < base_year:\n",
    "        return 0\n",
    "    elif base_year <= year <= max_year:\n",
    "        return year - base_year + 1\n",
    "    else:  # year > max_year\n",
    "        return (max_year - base_year + 2) + (year - max_year)\n",
    "\n",
    "# Step 3: Apply transformation\n",
    "train['GarageYrBlt'] = train['GarageYrBlt'].apply(encode_year)\n",
    "test['GarageYrBlt'] = test['GarageYrBlt'].apply(encode_year)\n",
    "\n",
    "# Step 4: Preview\n",
    "print(\"✅ Transformed GarageYrBlt:\")\n",
    "print(train['GarageYrBlt'].head())"
   ]
  },
  {
   "cell_type": "code",
   "execution_count": 157,
   "id": "72893f46",
   "metadata": {
    "execution": {
     "iopub.execute_input": "2025-07-06T16:45:02.122204Z",
     "iopub.status.busy": "2025-07-06T16:45:02.121846Z",
     "iopub.status.idle": "2025-07-06T16:45:02.129399Z",
     "shell.execute_reply": "2025-07-06T16:45:02.128069Z"
    },
    "papermill": {
     "duration": 0.051908,
     "end_time": "2025-07-06T16:45:02.131060",
     "exception": false,
     "start_time": "2025-07-06T16:45:02.079152",
     "status": "completed"
    },
    "tags": []
   },
   "outputs": [
    {
     "name": "stdout",
     "output_type": "stream",
     "text": [
      "📌 Data type: object\n",
      "❓ Null values: 81\n",
      "🔎 Unique values: ['RFn' 'Unf' 'Fin' nan]\n"
     ]
    }
   ],
   "source": [
    "# Step 1: Basic Info\n",
    "print(\"📌 Data type:\", train['GarageFinish'].dtype)\n",
    "print(\"❓ Null values:\", train['GarageFinish'].isnull().sum())\n",
    "print(\"🔎 Unique values:\", train['GarageFinish'].unique())"
   ]
  },
  {
   "cell_type": "code",
   "execution_count": 158,
   "id": "6ff404e0",
   "metadata": {
    "execution": {
     "iopub.execute_input": "2025-07-06T16:45:02.216851Z",
     "iopub.status.busy": "2025-07-06T16:45:02.216457Z",
     "iopub.status.idle": "2025-07-06T16:45:02.223563Z",
     "shell.execute_reply": "2025-07-06T16:45:02.222548Z"
    },
    "papermill": {
     "duration": 0.052252,
     "end_time": "2025-07-06T16:45:02.225195",
     "exception": false,
     "start_time": "2025-07-06T16:45:02.172943",
     "status": "completed"
    },
    "tags": []
   },
   "outputs": [],
   "source": [
    "\n",
    "# Step 2: Fill nulls with 'None' (assuming no garage)\n",
    "train['GarageFinish'] = train['GarageFinish'].fillna('None')\n",
    "test['GarageFinish'] = test['GarageFinish'].fillna('None')\n"
   ]
  },
  {
   "cell_type": "code",
   "execution_count": 159,
   "id": "527be972",
   "metadata": {
    "execution": {
     "iopub.execute_input": "2025-07-06T16:45:02.309840Z",
     "iopub.status.busy": "2025-07-06T16:45:02.308920Z",
     "iopub.status.idle": "2025-07-06T16:45:02.320505Z",
     "shell.execute_reply": "2025-07-06T16:45:02.319038Z"
    },
    "papermill": {
     "duration": 0.056046,
     "end_time": "2025-07-06T16:45:02.322367",
     "exception": false,
     "start_time": "2025-07-06T16:45:02.266321",
     "status": "completed"
    },
    "tags": []
   },
   "outputs": [
    {
     "name": "stdout",
     "output_type": "stream",
     "text": [
      "✅ Encoded GarageFinish:\n",
      "GarageFinish\n",
      "1    605\n",
      "2    422\n",
      "3    352\n",
      "0     81\n",
      "Name: count, dtype: int64\n"
     ]
    }
   ],
   "source": [
    "# Step 3: Label Encoding (based on finish quality)\n",
    "# Assumed order: None < Unf < RFn < Fin\n",
    "garage_finish_mapping = {'None': 0, 'Unf': 1, 'RFn': 2, 'Fin': 3}\n",
    "\n",
    "# Apply safely with fallback to 0\n",
    "train['GarageFinish'] = train['GarageFinish'].map(lambda x: garage_finish_mapping.get(x, 0))\n",
    "test['GarageFinish'] = test['GarageFinish'].map(lambda x: garage_finish_mapping.get(x, 0))\n",
    "\n",
    "# Step 4: Check encoded values\n",
    "print(\"✅ Encoded GarageFinish:\")\n",
    "print(train['GarageFinish'].value_counts())"
   ]
  },
  {
   "cell_type": "code",
   "execution_count": 160,
   "id": "ef0cca7b",
   "metadata": {
    "execution": {
     "iopub.execute_input": "2025-07-06T16:45:02.405095Z",
     "iopub.status.busy": "2025-07-06T16:45:02.404159Z",
     "iopub.status.idle": "2025-07-06T16:45:02.411898Z",
     "shell.execute_reply": "2025-07-06T16:45:02.410724Z"
    },
    "papermill": {
     "duration": 0.05011,
     "end_time": "2025-07-06T16:45:02.413822",
     "exception": false,
     "start_time": "2025-07-06T16:45:02.363712",
     "status": "completed"
    },
    "tags": []
   },
   "outputs": [
    {
     "name": "stdout",
     "output_type": "stream",
     "text": [
      "📌 Data type: int64\n",
      "❓ Null values: 0\n",
      "🔎 Unique values: [2 3 1 0 4]\n"
     ]
    }
   ],
   "source": [
    "# Step 1: Check basic info\n",
    "print(\"📌 Data type:\", train['GarageCars'].dtype)\n",
    "print(\"❓ Null values:\", train['GarageCars'].isnull().sum())\n",
    "print(\"🔎 Unique values:\", train['GarageCars'].unique())"
   ]
  },
  {
   "cell_type": "code",
   "execution_count": 161,
   "id": "3d71e057",
   "metadata": {
    "execution": {
     "iopub.execute_input": "2025-07-06T16:45:02.597916Z",
     "iopub.status.busy": "2025-07-06T16:45:02.597557Z",
     "iopub.status.idle": "2025-07-06T16:45:02.604127Z",
     "shell.execute_reply": "2025-07-06T16:45:02.603265Z"
    },
    "papermill": {
     "duration": 0.051133,
     "end_time": "2025-07-06T16:45:02.605746",
     "exception": false,
     "start_time": "2025-07-06T16:45:02.554613",
     "status": "completed"
    },
    "tags": []
   },
   "outputs": [
    {
     "name": "stdout",
     "output_type": "stream",
     "text": [
      "📌 Data type: int64\n",
      "❓ Null values: 0\n",
      "🔎 Unique values: 441\n"
     ]
    }
   ],
   "source": [
    "\n",
    "# Step 1: Check basic info\n",
    "print(\"📌 Data type:\", train['GarageArea'].dtype)\n",
    "print(\"❓ Null values:\", train['GarageArea'].isnull().sum())\n",
    "print(\"🔎 Unique values:\", train['GarageArea'].nunique())"
   ]
  },
  {
   "cell_type": "code",
   "execution_count": 162,
   "id": "b6f2383e",
   "metadata": {
    "execution": {
     "iopub.execute_input": "2025-07-06T16:45:02.698284Z",
     "iopub.status.busy": "2025-07-06T16:45:02.697935Z",
     "iopub.status.idle": "2025-07-06T16:45:02.714095Z",
     "shell.execute_reply": "2025-07-06T16:45:02.712788Z"
    },
    "papermill": {
     "duration": 0.065363,
     "end_time": "2025-07-06T16:45:02.716060",
     "exception": false,
     "start_time": "2025-07-06T16:45:02.650697",
     "status": "completed"
    },
    "tags": []
   },
   "outputs": [
    {
     "name": "stdout",
     "output_type": "stream",
     "text": [
      "📌 Data type: object\n",
      "❓ Null values: 81\n",
      "🔎 Unique values: ['TA' 'Fa' 'Gd' nan 'Ex' 'Po']\n",
      "✅ Encoded GarageQual values (train):\n",
      "GarageQual\n",
      "3    1311\n",
      "0      81\n",
      "2      48\n",
      "4      14\n",
      "5       3\n",
      "1       3\n",
      "Name: count, dtype: int64\n"
     ]
    }
   ],
   "source": [
    "# 📦 Feature: GarageQual (Garage quality)\n",
    "\n",
    "# Step 1: Check basic info\n",
    "print(\"📌 Data type:\", train['GarageQual'].dtype)\n",
    "print(\"❓ Null values:\", train['GarageQual'].isnull().sum())\n",
    "print(\"🔎 Unique values:\", train['GarageQual'].unique())\n",
    "\n",
    "# Step 2: Fill nulls with 'None' (indicates no garage)\n",
    "train['GarageQual'] = train['GarageQual'].fillna('None')\n",
    "test['GarageQual'] = test['GarageQual'].fillna('None')\n",
    "\n",
    "# Step 3: Label encoding based on quality ranking\n",
    "# Assume: Ex > Gd > TA > Fa > Po > None\n",
    "garagequal_mapping = {'None': 0, 'Po': 1, 'Fa': 2, 'TA': 3, 'Gd': 4, 'Ex': 5}\n",
    "train['GarageQual'] = train['GarageQual'].map(lambda x: garagequal_mapping.get(x, 0))\n",
    "test['GarageQual'] = test['GarageQual'].map(lambda x: garagequal_mapping.get(x, 0))\n",
    "\n",
    "# Step 4: Final check\n",
    "print(\"✅ Encoded GarageQual values (train):\")\n",
    "print(train['GarageQual'].value_counts())\n"
   ]
  },
  {
   "cell_type": "code",
   "execution_count": 163,
   "id": "dcc2b19c",
   "metadata": {
    "execution": {
     "iopub.execute_input": "2025-07-06T16:45:02.806289Z",
     "iopub.status.busy": "2025-07-06T16:45:02.805978Z",
     "iopub.status.idle": "2025-07-06T16:45:02.820711Z",
     "shell.execute_reply": "2025-07-06T16:45:02.819402Z"
    },
    "papermill": {
     "duration": 0.060794,
     "end_time": "2025-07-06T16:45:02.822496",
     "exception": false,
     "start_time": "2025-07-06T16:45:02.761702",
     "status": "completed"
    },
    "tags": []
   },
   "outputs": [
    {
     "name": "stdout",
     "output_type": "stream",
     "text": [
      "📌 Data type: object\n",
      "❓ Null values: 0\n",
      "🔎 Unique values: ['Y' 'N' 'P']\n",
      "✅ Encoded PavedDrive values (train):\n",
      "PavedDrive\n",
      "2    1340\n",
      "0      90\n",
      "1      30\n",
      "Name: count, dtype: int64\n"
     ]
    }
   ],
   "source": [
    "# 📦 Feature: PavedDrive (Paved driveway)\n",
    "\n",
    "# Step 1: Check basic info\n",
    "print(\"📌 Data type:\", train['PavedDrive'].dtype)\n",
    "print(\"❓ Null values:\", train['PavedDrive'].isnull().sum())\n",
    "print(\"🔎 Unique values:\", train['PavedDrive'].unique())\n",
    "\n",
    "# Step 2: No nulls typically, but handle just in case\n",
    "train['PavedDrive'] = train['PavedDrive'].fillna('N')\n",
    "test['PavedDrive'] = test['PavedDrive'].fillna('N')\n",
    "\n",
    "# Step 3: Label Encoding\n",
    "# Mapping: Y = Paved, P = Partial, N = No\n",
    "paved_mapping = {'N': 0, 'P': 1, 'Y': 2}\n",
    "train['PavedDrive'] = train['PavedDrive'].map(lambda x: paved_mapping.get(x, 0))\n",
    "test['PavedDrive'] = test['PavedDrive'].map(lambda x: paved_mapping.get(x, 0))\n",
    "\n",
    "# Step 4: Final check\n",
    "print(\"✅ Encoded PavedDrive values (train):\")\n",
    "print(train['PavedDrive'].value_counts())\n"
   ]
  },
  {
   "cell_type": "code",
   "execution_count": 164,
   "id": "6e9acfbe",
   "metadata": {
    "execution": {
     "iopub.execute_input": "2025-07-06T16:45:02.904860Z",
     "iopub.status.busy": "2025-07-06T16:45:02.904460Z",
     "iopub.status.idle": "2025-07-06T16:45:02.915412Z",
     "shell.execute_reply": "2025-07-06T16:45:02.914263Z"
    },
    "papermill": {
     "duration": 0.053952,
     "end_time": "2025-07-06T16:45:02.917011",
     "exception": false,
     "start_time": "2025-07-06T16:45:02.863059",
     "status": "completed"
    },
    "tags": []
   },
   "outputs": [
    {
     "name": "stdout",
     "output_type": "stream",
     "text": [
      "📌 Data type: int64\n",
      "❓ Null values: 0\n",
      "🔎 Unique values: 274\n",
      "📊 Statistics:\n",
      "count    1460.000000\n",
      "mean       94.244521\n",
      "std       125.338794\n",
      "min         0.000000\n",
      "25%         0.000000\n",
      "50%         0.000000\n",
      "75%       168.000000\n",
      "max       857.000000\n",
      "Name: WoodDeckSF, dtype: float64\n"
     ]
    }
   ],
   "source": [
    "# 📦 Feature: WoodDeckSF (Wood deck area in square feet)\n",
    "\n",
    "# Step 1: Check basic info\n",
    "print(\"📌 Data type:\", train['WoodDeckSF'].dtype)\n",
    "print(\"❓ Null values:\", train['WoodDeckSF'].isnull().sum())\n",
    "print(\"🔎 Unique values:\", train['WoodDeckSF'].nunique())\n",
    "\n",
    "# Step 2: Describe the distribution\n",
    "print(\"📊 Statistics:\")\n",
    "print(train['WoodDeckSF'].describe())\n",
    "\n",
    "# 👉 Since it's numerical, no encoding needed.\n",
    "# We'll leave it as-is unless we want to do feature engineering later (like binning).\n"
   ]
  },
  {
   "cell_type": "code",
   "execution_count": 165,
   "id": "905d8ae7",
   "metadata": {
    "execution": {
     "iopub.execute_input": "2025-07-06T16:45:03.001053Z",
     "iopub.status.busy": "2025-07-06T16:45:03.000732Z",
     "iopub.status.idle": "2025-07-06T16:45:03.011708Z",
     "shell.execute_reply": "2025-07-06T16:45:03.010361Z"
    },
    "papermill": {
     "duration": 0.055895,
     "end_time": "2025-07-06T16:45:03.013291",
     "exception": false,
     "start_time": "2025-07-06T16:45:02.957396",
     "status": "completed"
    },
    "tags": []
   },
   "outputs": [
    {
     "name": "stdout",
     "output_type": "stream",
     "text": [
      "📌 Data type: int64\n",
      "❓ Null values: 0\n",
      "🔎 Unique values: 202\n",
      "📊 Statistics:\n",
      "count    1460.000000\n",
      "mean       46.660274\n",
      "std        66.256028\n",
      "min         0.000000\n",
      "25%         0.000000\n",
      "50%        25.000000\n",
      "75%        68.000000\n",
      "max       547.000000\n",
      "Name: OpenPorchSF, dtype: float64\n"
     ]
    }
   ],
   "source": [
    "# 📦 Feature: OpenPorchSF (Open porch area in square feet)\n",
    "\n",
    "# Step 1: Check basic info\n",
    "print(\"📌 Data type:\", train['OpenPorchSF'].dtype)\n",
    "print(\"❓ Null values:\", train['OpenPorchSF'].isnull().sum())\n",
    "print(\"🔎 Unique values:\", train['OpenPorchSF'].nunique())\n",
    "\n",
    "# Step 2: Describe the distribution\n",
    "print(\"📊 Statistics:\")\n",
    "print(train['OpenPorchSF'].describe())\n",
    "\n",
    "# 👉 No encoding or transformation needed at this point.\n",
    "# It's a numerical feature and can be used as-is.\n"
   ]
  },
  {
   "cell_type": "code",
   "execution_count": 166,
   "id": "cce6655c",
   "metadata": {
    "execution": {
     "iopub.execute_input": "2025-07-06T16:45:03.095030Z",
     "iopub.status.busy": "2025-07-06T16:45:03.094630Z",
     "iopub.status.idle": "2025-07-06T16:45:03.106371Z",
     "shell.execute_reply": "2025-07-06T16:45:03.105310Z"
    },
    "papermill": {
     "duration": 0.054174,
     "end_time": "2025-07-06T16:45:03.108174",
     "exception": false,
     "start_time": "2025-07-06T16:45:03.054000",
     "status": "completed"
    },
    "tags": []
   },
   "outputs": [
    {
     "name": "stdout",
     "output_type": "stream",
     "text": [
      "📌 Data type: int64\n",
      "❓ Null values: 0\n",
      "🔎 Unique values: 120\n",
      "📊 Statistics:\n",
      "count    1460.000000\n",
      "mean       21.954110\n",
      "std        61.119149\n",
      "min         0.000000\n",
      "25%         0.000000\n",
      "50%         0.000000\n",
      "75%         0.000000\n",
      "max       552.000000\n",
      "Name: EnclosedPorch, dtype: float64\n"
     ]
    }
   ],
   "source": [
    "# 📦 Feature: EnclosedPorch (Enclosed porch area in square feet)\n",
    "\n",
    "# Step 1: Check basic info\n",
    "print(\"📌 Data type:\", train['EnclosedPorch'].dtype)\n",
    "print(\"❓ Null values:\", train['EnclosedPorch'].isnull().sum())\n",
    "print(\"🔎 Unique values:\", train['EnclosedPorch'].nunique())\n",
    "\n",
    "# Step 2: Describe the distribution\n",
    "print(\"📊 Statistics:\")\n",
    "print(train['EnclosedPorch'].describe())\n",
    "\n",
    "# 👉 No missing values or categorical info — numerical feature, can be used directly.\n"
   ]
  },
  {
   "cell_type": "code",
   "execution_count": 167,
   "id": "720e011f",
   "metadata": {
    "execution": {
     "iopub.execute_input": "2025-07-06T16:45:03.197486Z",
     "iopub.status.busy": "2025-07-06T16:45:03.197105Z",
     "iopub.status.idle": "2025-07-06T16:45:03.207602Z",
     "shell.execute_reply": "2025-07-06T16:45:03.206632Z"
    },
    "papermill": {
     "duration": 0.05656,
     "end_time": "2025-07-06T16:45:03.209424",
     "exception": false,
     "start_time": "2025-07-06T16:45:03.152864",
     "status": "completed"
    },
    "tags": []
   },
   "outputs": [
    {
     "name": "stdout",
     "output_type": "stream",
     "text": [
      "📌 Data type: int64\n",
      "❓ Null values: 0\n",
      "🔎 Unique values: 20\n",
      "📊 Statistics:\n",
      "count    1460.000000\n",
      "mean        3.409589\n",
      "std        29.317331\n",
      "min         0.000000\n",
      "25%         0.000000\n",
      "50%         0.000000\n",
      "75%         0.000000\n",
      "max       508.000000\n",
      "Name: 3SsnPorch, dtype: float64\n"
     ]
    }
   ],
   "source": [
    "# 📦 Feature: 3SsnPorch (Three season porch area in square feet)\n",
    "\n",
    "# Step 1: Check basic info\n",
    "print(\"📌 Data type:\", train['3SsnPorch'].dtype)\n",
    "print(\"❓ Null values:\", train['3SsnPorch'].isnull().sum())\n",
    "print(\"🔎 Unique values:\", train['3SsnPorch'].nunique())\n",
    "\n",
    "# Step 2: Describe the distribution\n",
    "print(\"📊 Statistics:\")\n",
    "print(train['3SsnPorch'].describe())\n",
    "\n",
    "# 👉 It's a numerical feature with 0s being common. No missing values, so it can be used directly.\n"
   ]
  },
  {
   "cell_type": "code",
   "execution_count": 168,
   "id": "9e97eb49",
   "metadata": {
    "execution": {
     "iopub.execute_input": "2025-07-06T16:45:03.299552Z",
     "iopub.status.busy": "2025-07-06T16:45:03.299161Z",
     "iopub.status.idle": "2025-07-06T16:45:03.311254Z",
     "shell.execute_reply": "2025-07-06T16:45:03.309848Z"
    },
    "papermill": {
     "duration": 0.059869,
     "end_time": "2025-07-06T16:45:03.313183",
     "exception": false,
     "start_time": "2025-07-06T16:45:03.253314",
     "status": "completed"
    },
    "tags": []
   },
   "outputs": [
    {
     "name": "stdout",
     "output_type": "stream",
     "text": [
      "📌 Data type: int64\n",
      "❓ Null values: 0\n",
      "🔎 Unique values: 76\n",
      "📊 Statistics:\n",
      "count    1460.000000\n",
      "mean       15.060959\n",
      "std        55.757415\n",
      "min         0.000000\n",
      "25%         0.000000\n",
      "50%         0.000000\n",
      "75%         0.000000\n",
      "max       480.000000\n",
      "Name: ScreenPorch, dtype: float64\n"
     ]
    }
   ],
   "source": [
    "# 📦 Feature: ScreenPorch (Screen porch area in square feet)\n",
    "\n",
    "# Step 1: Check basic info\n",
    "print(\"📌 Data type:\", train['ScreenPorch'].dtype)\n",
    "print(\"❓ Null values:\", train['ScreenPorch'].isnull().sum())\n",
    "print(\"🔎 Unique values:\", train['ScreenPorch'].nunique())\n",
    "\n",
    "# Step 2: Describe the distribution\n",
    "print(\"📊 Statistics:\")\n",
    "print(train['ScreenPorch'].describe())\n",
    "\n",
    "# 👉 It's a numerical feature with no missing values. Ready for modeling as-is.\n"
   ]
  },
  {
   "cell_type": "code",
   "execution_count": 169,
   "id": "f6b98966",
   "metadata": {
    "execution": {
     "iopub.execute_input": "2025-07-06T16:45:03.396231Z",
     "iopub.status.busy": "2025-07-06T16:45:03.395884Z",
     "iopub.status.idle": "2025-07-06T16:45:03.407696Z",
     "shell.execute_reply": "2025-07-06T16:45:03.406451Z"
    },
    "papermill": {
     "duration": 0.055403,
     "end_time": "2025-07-06T16:45:03.409712",
     "exception": false,
     "start_time": "2025-07-06T16:45:03.354309",
     "status": "completed"
    },
    "tags": []
   },
   "outputs": [
    {
     "name": "stdout",
     "output_type": "stream",
     "text": [
      "📌 Data type: int64\n",
      "❓ Null values: 0\n",
      "🔎 Unique values: 8\n",
      "📊 Statistics:\n",
      "count    1460.000000\n",
      "mean        2.758904\n",
      "std        40.177307\n",
      "min         0.000000\n",
      "25%         0.000000\n",
      "50%         0.000000\n",
      "75%         0.000000\n",
      "max       738.000000\n",
      "Name: PoolArea, dtype: float64\n"
     ]
    }
   ],
   "source": [
    "# 📦 Feature: PoolArea (Pool area in square feet)\n",
    "\n",
    "# Step 1: Check basic info\n",
    "print(\"📌 Data type:\", train['PoolArea'].dtype)\n",
    "print(\"❓ Null values:\", train['PoolArea'].isnull().sum())\n",
    "print(\"🔎 Unique values:\", train['PoolArea'].nunique())\n",
    "\n",
    "# Step 2: Describe the distribution\n",
    "print(\"📊 Statistics:\")\n",
    "print(train['PoolArea'].describe())\n",
    "\n",
    "# 👉 Most houses may not have a pool (likely many 0s). Still, it's a numeric feature and can be used directly.\n"
   ]
  },
  {
   "cell_type": "code",
   "execution_count": 170,
   "id": "77e9573a",
   "metadata": {
    "execution": {
     "iopub.execute_input": "2025-07-06T16:45:03.493308Z",
     "iopub.status.busy": "2025-07-06T16:45:03.492381Z",
     "iopub.status.idle": "2025-07-06T16:45:03.505095Z",
     "shell.execute_reply": "2025-07-06T16:45:03.503928Z"
    },
    "papermill": {
     "duration": 0.056361,
     "end_time": "2025-07-06T16:45:03.506942",
     "exception": false,
     "start_time": "2025-07-06T16:45:03.450581",
     "status": "completed"
    },
    "tags": []
   },
   "outputs": [
    {
     "name": "stdout",
     "output_type": "stream",
     "text": [
      "📌 Data type: object\n",
      "❓ Null values: 1453\n",
      "🔎 Unique values: [nan 'Ex' 'Fa' 'Gd']\n",
      "\n",
      "🔢 Value Counts:\n",
      " PoolQC\n",
      "NaN    1453\n",
      "Gd        3\n",
      "Ex        2\n",
      "Fa        2\n",
      "Name: count, dtype: int64\n"
     ]
    }
   ],
   "source": [
    "import numpy as np\n",
    "\n",
    "# 📦 Feature: PoolQC (Pool quality)\n",
    "\n",
    "# Step 1: Check basic info\n",
    "print(\"📌 Data type:\", train['PoolQC'].dtype)\n",
    "print(\"❓ Null values:\", train['PoolQC'].isnull().sum())\n",
    "print(\"🔎 Unique values:\", train['PoolQC'].unique())\n",
    "print(\"\\n🔢 Value Counts:\\n\", train['PoolQC'].value_counts(dropna=False))\n",
    "\n",
    "# Step 2: Fill nulls with 0 (representing no pool)\n",
    "# Define mapping: Ex > Gd > TA > Fa > None (0)\n",
    "poolqc_mapping = {'Fa': 1, 'TA': 2, 'Gd': 3, 'Ex': 4, np.nan: 0}\n",
    "\n",
    "train['PoolQC'] = train['PoolQC'].map(lambda x: poolqc_mapping.get(x, 0))\n",
    "test['PoolQC'] = test['PoolQC'].map(lambda x: poolqc_mapping.get(x, 0))\n",
    "\n",
    "# ✅ Now PoolQC is label encoded with:\n",
    "#    0 → No Pool\n",
    "#    1 → Fair, 2 → Typical/Average, 3 → Good, 4 → Excellent\n"
   ]
  },
  {
   "cell_type": "code",
   "execution_count": 171,
   "id": "7cb1941f",
   "metadata": {
    "execution": {
     "iopub.execute_input": "2025-07-06T16:45:03.596149Z",
     "iopub.status.busy": "2025-07-06T16:45:03.595815Z",
     "iopub.status.idle": "2025-07-06T16:45:03.608196Z",
     "shell.execute_reply": "2025-07-06T16:45:03.606838Z"
    },
    "papermill": {
     "duration": 0.05831,
     "end_time": "2025-07-06T16:45:03.609887",
     "exception": false,
     "start_time": "2025-07-06T16:45:03.551577",
     "status": "completed"
    },
    "tags": []
   },
   "outputs": [
    {
     "name": "stdout",
     "output_type": "stream",
     "text": [
      "📌 Data type: object\n",
      "❓ Null values: 1179\n",
      "🔎 Unique values: [nan 'MnPrv' 'GdWo' 'GdPrv' 'MnWw']\n",
      "\n",
      "🔢 Value Counts:\n",
      " Fence\n",
      "NaN      1179\n",
      "MnPrv     157\n",
      "GdPrv      59\n",
      "GdWo       54\n",
      "MnWw       11\n",
      "Name: count, dtype: int64\n"
     ]
    }
   ],
   "source": [
    "import numpy as np\n",
    "\n",
    "# 📦 Feature: Fence (Fence quality)\n",
    "\n",
    "# Step 1: Check basic info\n",
    "print(\"📌 Data type:\", train['Fence'].dtype)\n",
    "print(\"❓ Null values:\", train['Fence'].isnull().sum())\n",
    "print(\"🔎 Unique values:\", train['Fence'].unique())\n",
    "print(\"\\n🔢 Value Counts:\\n\", train['Fence'].value_counts(dropna=False))\n",
    "\n",
    "# Step 2: Define encoding based on quality\n",
    "# Assumption: GdPrv > MnPrv > GdWo > MnWw > No Fence\n",
    "fence_mapping = {\n",
    "    'MnWw': 1,\n",
    "    'GdWo': 2,\n",
    "    'MnPrv': 3,\n",
    "    'GdPrv': 4,\n",
    "    np.nan: 0  # No fence\n",
    "}\n",
    "\n",
    "# Step 3: Apply label encoding safely\n",
    "train['Fence'] = train['Fence'].map(lambda x: fence_mapping.get(x, 0))\n",
    "test['Fence'] = test['Fence'].map(lambda x: fence_mapping.get(x, 0))\n",
    "\n",
    "# ✅ Fence is now label encoded with:\n",
    "# 0 → No Fence, 1 → Minimum Wood/Wire, 2 → Good Wood, 3 → Minimum Privacy, 4 → Good Privacy\n"
   ]
  },
  {
   "cell_type": "code",
   "execution_count": 172,
   "id": "4d53940f",
   "metadata": {
    "execution": {
     "iopub.execute_input": "2025-07-06T16:45:03.700454Z",
     "iopub.status.busy": "2025-07-06T16:45:03.700091Z",
     "iopub.status.idle": "2025-07-06T16:45:03.713582Z",
     "shell.execute_reply": "2025-07-06T16:45:03.712419Z"
    },
    "papermill": {
     "duration": 0.062848,
     "end_time": "2025-07-06T16:45:03.715504",
     "exception": false,
     "start_time": "2025-07-06T16:45:03.652656",
     "status": "completed"
    },
    "tags": []
   },
   "outputs": [
    {
     "name": "stdout",
     "output_type": "stream",
     "text": [
      "📌 Data type: object\n",
      "❓ Null values: 1406\n",
      "🔎 Unique values: [nan 'Shed' 'Gar2' 'Othr' 'TenC']\n",
      "\n",
      "🔢 Value Counts:\n",
      " MiscFeature\n",
      "NaN     1406\n",
      "Shed      49\n",
      "Gar2       2\n",
      "Othr       2\n",
      "TenC       1\n",
      "Name: count, dtype: int64\n"
     ]
    }
   ],
   "source": [
    "import numpy as np\n",
    "\n",
    "# 📦 Feature: MiscFeature (Miscellaneous feature not covered in other categories)\n",
    "\n",
    "# Step 1: Check basic info\n",
    "print(\"📌 Data type:\", train['MiscFeature'].dtype)\n",
    "print(\"❓ Null values:\", train['MiscFeature'].isnull().sum())\n",
    "print(\"🔎 Unique values:\", train['MiscFeature'].unique())\n",
    "print(\"\\n🔢 Value Counts:\\n\", train['MiscFeature'].value_counts(dropna=False))\n",
    "\n",
    "# Step 2: Define label encoding\n",
    "# Assumption: Order based on rarity or average price if available\n",
    "misc_mapping = {\n",
    "    'Shed': 1,\n",
    "    'Gar2': 2,\n",
    "    'Othr': 3,\n",
    "    'TenC': 4,\n",
    "    np.nan: 0  # No MiscFeature\n",
    "}\n",
    "\n",
    "# Step 3: Apply label encoding safely\n",
    "train['MiscFeature'] = train['MiscFeature'].map(lambda x: misc_mapping.get(x, 0))\n",
    "test['MiscFeature'] = test['MiscFeature'].map(lambda x: misc_mapping.get(x, 0))\n",
    "\n",
    "# ✅ Encoding complete:\n",
    "# 0 → No Misc Feature, 1 → Shed, 2 → Second Garage, 3 → Other, 4 → Tennis Court\n"
   ]
  },
  {
   "cell_type": "code",
   "execution_count": 173,
   "id": "fdb9f0ed",
   "metadata": {
    "execution": {
     "iopub.execute_input": "2025-07-06T16:45:03.804008Z",
     "iopub.status.busy": "2025-07-06T16:45:03.803099Z",
     "iopub.status.idle": "2025-07-06T16:45:03.815065Z",
     "shell.execute_reply": "2025-07-06T16:45:03.814026Z"
    },
    "papermill": {
     "duration": 0.058685,
     "end_time": "2025-07-06T16:45:03.816813",
     "exception": false,
     "start_time": "2025-07-06T16:45:03.758128",
     "status": "completed"
    },
    "tags": []
   },
   "outputs": [
    {
     "name": "stdout",
     "output_type": "stream",
     "text": [
      "📌 Data type: int64\n",
      "❓ Null values: 0\n",
      "🔎 Unique values: [    0   700   350   500   400   480   450 15500  1200   800  2000   600\n",
      "  3500  1300    54   620   560  1400  8300  1150  2500]\n",
      "\n",
      "📊 Stats:\n",
      " count     1460.000000\n",
      "mean        43.489041\n",
      "std        496.123024\n",
      "min          0.000000\n",
      "25%          0.000000\n",
      "50%          0.000000\n",
      "75%          0.000000\n",
      "max      15500.000000\n",
      "Name: MiscVal, dtype: float64\n"
     ]
    }
   ],
   "source": [
    "# 📦 Feature: MiscVal (Dollar value of miscellaneous feature)\n",
    "\n",
    "# Step 1: Check basic info\n",
    "print(\"📌 Data type:\", train['MiscVal'].dtype)\n",
    "print(\"❓ Null values:\", train['MiscVal'].isnull().sum())\n",
    "print(\"🔎 Unique values:\", train['MiscVal'].unique())\n",
    "print(\"\\n📊 Stats:\\n\", train['MiscVal'].describe())\n"
   ]
  },
  {
   "cell_type": "code",
   "execution_count": 174,
   "id": "51b2b892",
   "metadata": {
    "execution": {
     "iopub.execute_input": "2025-07-06T16:45:03.901131Z",
     "iopub.status.busy": "2025-07-06T16:45:03.900752Z",
     "iopub.status.idle": "2025-07-06T16:45:03.908402Z",
     "shell.execute_reply": "2025-07-06T16:45:03.907183Z"
    },
    "papermill": {
     "duration": 0.050651,
     "end_time": "2025-07-06T16:45:03.910235",
     "exception": false,
     "start_time": "2025-07-06T16:45:03.859584",
     "status": "completed"
    },
    "tags": []
   },
   "outputs": [
    {
     "name": "stdout",
     "output_type": "stream",
     "text": [
      "📌 Data type: int64\n",
      "❓ Null values: 0\n",
      "🔎 Unique values: [1, 2, 3, 4, 5, 6, 7, 8, 9, 10, 11, 12]\n"
     ]
    }
   ],
   "source": [
    "print(\"📌 Data type:\", train['MoSold'].dtype)\n",
    "print(\"❓ Null values:\", train['MoSold'].isnull().sum())\n",
    "print(\"🔎 Unique values:\", sorted(train['MoSold'].unique()))\n",
    "\n",
    "# Nothing else to do, keep it as-is\n"
   ]
  },
  {
   "cell_type": "code",
   "execution_count": 175,
   "id": "a961a102",
   "metadata": {
    "execution": {
     "iopub.execute_input": "2025-07-06T16:45:03.995139Z",
     "iopub.status.busy": "2025-07-06T16:45:03.994145Z",
     "iopub.status.idle": "2025-07-06T16:45:04.011380Z",
     "shell.execute_reply": "2025-07-06T16:45:04.010407Z"
    },
    "papermill": {
     "duration": 0.060893,
     "end_time": "2025-07-06T16:45:04.013154",
     "exception": false,
     "start_time": "2025-07-06T16:45:03.952261",
     "status": "completed"
    },
    "tags": []
   },
   "outputs": [],
   "source": [
    "# One-hot encode 'MoSold'\n",
    "mo_dummies_train = pd.get_dummies(train['MoSold'], prefix='MoSold')\n",
    "mo_dummies_test = pd.get_dummies(test['MoSold'], prefix='MoSold')\n",
    "\n",
    "# Align columns to make sure train/test have same structure\n",
    "mo_dummies_train, mo_dummies_test = mo_dummies_train.align(mo_dummies_test, join='left', axis=1, fill_value=0)\n",
    "\n",
    "# Drop original and concatenate new dummies\n",
    "train = pd.concat([train.drop('MoSold', axis=1), mo_dummies_train], axis=1)\n",
    "test = pd.concat([test.drop('MoSold', axis=1), mo_dummies_test], axis=1)\n"
   ]
  },
  {
   "cell_type": "code",
   "execution_count": 176,
   "id": "ec5aa786",
   "metadata": {
    "execution": {
     "iopub.execute_input": "2025-07-06T16:45:04.098246Z",
     "iopub.status.busy": "2025-07-06T16:45:04.097821Z",
     "iopub.status.idle": "2025-07-06T16:45:04.105242Z",
     "shell.execute_reply": "2025-07-06T16:45:04.104111Z"
    },
    "papermill": {
     "duration": 0.052525,
     "end_time": "2025-07-06T16:45:04.106779",
     "exception": false,
     "start_time": "2025-07-06T16:45:04.054254",
     "status": "completed"
    },
    "tags": []
   },
   "outputs": [
    {
     "name": "stdout",
     "output_type": "stream",
     "text": [
      "📌 Data type: int64\n",
      "❓ Null values: 0\n",
      "🔎 Unique values: [2006, 2007, 2008, 2009, 2010]\n"
     ]
    }
   ],
   "source": [
    "# Step 1: Inspect the feature\n",
    "print(\"📌 Data type:\", train['YrSold'].dtype)\n",
    "print(\"❓ Null values:\", train['YrSold'].isnull().sum())\n",
    "print(\"🔎 Unique values:\", sorted(train['YrSold'].unique()))\n"
   ]
  },
  {
   "cell_type": "code",
   "execution_count": 177,
   "id": "6b2e9f81",
   "metadata": {
    "execution": {
     "iopub.execute_input": "2025-07-06T16:45:04.190206Z",
     "iopub.status.busy": "2025-07-06T16:45:04.189770Z",
     "iopub.status.idle": "2025-07-06T16:45:04.218639Z",
     "shell.execute_reply": "2025-07-06T16:45:04.217299Z"
    },
    "papermill": {
     "duration": 0.073145,
     "end_time": "2025-07-06T16:45:04.220274",
     "exception": false,
     "start_time": "2025-07-06T16:45:04.147129",
     "status": "completed"
    },
    "tags": []
   },
   "outputs": [
    {
     "name": "stdout",
     "output_type": "stream",
     "text": [
      "📌 SaleType — Data type: object\n",
      "❓ SaleType — Null values: 0\n",
      "🔎 SaleType — Unique values: ['WD' 'New' 'COD' 'ConLD' 'ConLI' 'CWD' 'ConLw' 'Con' 'Oth']\n",
      "\n",
      "📌 SaleCondition — Data type: object\n",
      "❓ SaleCondition — Null values: 0\n",
      "🔎 SaleCondition — Unique values: ['Normal' 'Abnorml' 'Partial' 'AdjLand' 'Alloca' 'Family']\n"
     ]
    }
   ],
   "source": [
    "import pandas as pd\n",
    "\n",
    "# Step 1: Basic info for both features\n",
    "print(\"📌 SaleType — Data type:\", train['SaleType'].dtype)\n",
    "print(\"❓ SaleType — Null values:\", train['SaleType'].isnull().sum())\n",
    "print(\"🔎 SaleType — Unique values:\", train['SaleType'].unique())\n",
    "\n",
    "print(\"\\n📌 SaleCondition — Data type:\", train['SaleCondition'].dtype)\n",
    "print(\"❓ SaleCondition — Null values:\", train['SaleCondition'].isnull().sum())\n",
    "print(\"🔎 SaleCondition — Unique values:\", train['SaleCondition'].unique())\n",
    "\n",
    "# Step 2: Fill any missing values with mode\n",
    "train['SaleType'] = train['SaleType'].fillna(train['SaleType'].mode()[0])\n",
    "test['SaleType'] = test['SaleType'].fillna(train['SaleType'].mode()[0])\n",
    "\n",
    "train['SaleCondition'] = train['SaleCondition'].fillna(train['SaleCondition'].mode()[0])\n",
    "test['SaleCondition'] = test['SaleCondition'].fillna(train['SaleCondition'].mode()[0])\n",
    "\n",
    "# Step 3: One-hot encoding\n",
    "sale_type_dummies_train = pd.get_dummies(train['SaleType'], prefix='SaleType')\n",
    "sale_type_dummies_test = pd.get_dummies(test['SaleType'], prefix='SaleType')\n",
    "\n",
    "sale_condition_dummies_train = pd.get_dummies(train['SaleCondition'], prefix='SaleCondition')\n",
    "sale_condition_dummies_test = pd.get_dummies(test['SaleCondition'], prefix='SaleCondition')\n",
    "\n",
    "# Step 4: Align columns in train and test\n",
    "sale_type_dummies_train, sale_type_dummies_test = sale_type_dummies_train.align(sale_type_dummies_test, join='left', axis=1, fill_value=0)\n",
    "sale_condition_dummies_train, sale_condition_dummies_test = sale_condition_dummies_train.align(sale_condition_dummies_test, join='left', axis=1, fill_value=0)\n",
    "\n",
    "# Step 5: Drop original and add encoded columns\n",
    "train = pd.concat([train.drop(['SaleType', 'SaleCondition'], axis=1), sale_type_dummies_train, sale_condition_dummies_train], axis=1)\n",
    "test = pd.concat([test.drop(['SaleType', 'SaleCondition'], axis=1), sale_type_dummies_test, sale_condition_dummies_test], axis=1)\n"
   ]
  },
  {
   "cell_type": "code",
   "execution_count": 178,
   "id": "e6a278aa",
   "metadata": {
    "execution": {
     "iopub.execute_input": "2025-07-06T16:45:04.304485Z",
     "iopub.status.busy": "2025-07-06T16:45:04.304130Z",
     "iopub.status.idle": "2025-07-06T16:45:04.314480Z",
     "shell.execute_reply": "2025-07-06T16:45:04.313220Z"
    },
    "papermill": {
     "duration": 0.053131,
     "end_time": "2025-07-06T16:45:04.316049",
     "exception": false,
     "start_time": "2025-07-06T16:45:04.262918",
     "status": "completed"
    },
    "tags": []
   },
   "outputs": [
    {
     "name": "stdout",
     "output_type": "stream",
     "text": [
      "Train shape: (1460, 140)\n",
      "Test shape: (1459, 139)\n",
      "Nulls in train:\n",
      " 81\n",
      "Nulls in test:\n",
      " 315\n"
     ]
    }
   ],
   "source": [
    "print(\"Train shape:\", train.shape)\n",
    "print(\"Test shape:\", test.shape)\n",
    "print(\"Nulls in train:\\n\", train.isnull().sum().sum())\n",
    "print(\"Nulls in test:\\n\", test.isnull().sum().sum())\n"
   ]
  },
  {
   "cell_type": "code",
   "execution_count": 179,
   "id": "67778a8b",
   "metadata": {
    "execution": {
     "iopub.execute_input": "2025-07-06T16:45:04.400102Z",
     "iopub.status.busy": "2025-07-06T16:45:04.399254Z",
     "iopub.status.idle": "2025-07-06T16:45:04.408830Z",
     "shell.execute_reply": "2025-07-06T16:45:04.407663Z"
    },
    "papermill": {
     "duration": 0.054322,
     "end_time": "2025-07-06T16:45:04.410860",
     "exception": false,
     "start_time": "2025-07-06T16:45:04.356538",
     "status": "completed"
    },
    "tags": []
   },
   "outputs": [],
   "source": [
    "# Ensure both have the same columns\n",
    "train, test = train.align(test, join='inner', axis=1)\n"
   ]
  },
  {
   "cell_type": "code",
   "execution_count": 180,
   "id": "130adb60",
   "metadata": {
    "execution": {
     "iopub.execute_input": "2025-07-06T16:45:04.495077Z",
     "iopub.status.busy": "2025-07-06T16:45:04.494716Z",
     "iopub.status.idle": "2025-07-06T16:45:04.501924Z",
     "shell.execute_reply": "2025-07-06T16:45:04.500964Z"
    },
    "papermill": {
     "duration": 0.051143,
     "end_time": "2025-07-06T16:45:04.503511",
     "exception": false,
     "start_time": "2025-07-06T16:45:04.452368",
     "status": "completed"
    },
    "tags": []
   },
   "outputs": [],
   "source": [
    "# Align test to match train columns\n",
    "train, test = train.align(test, join='left', axis=1, fill_value=0)\n"
   ]
  },
  {
   "cell_type": "code",
   "execution_count": 181,
   "id": "294e57f8",
   "metadata": {
    "execution": {
     "iopub.execute_input": "2025-07-06T16:45:04.588201Z",
     "iopub.status.busy": "2025-07-06T16:45:04.587857Z",
     "iopub.status.idle": "2025-07-06T16:45:04.632114Z",
     "shell.execute_reply": "2025-07-06T16:45:04.630864Z"
    },
    "papermill": {
     "duration": 0.088104,
     "end_time": "2025-07-06T16:45:04.634113",
     "exception": false,
     "start_time": "2025-07-06T16:45:04.546009",
     "status": "completed"
    },
    "tags": []
   },
   "outputs": [],
   "source": [
    "# Fill nulls in train\n",
    "for col in train.columns:\n",
    "    if train[col].isnull().sum() > 0:\n",
    "        if train[col].dtype == 'object':\n",
    "            train[col] = train[col].fillna(train[col].mode()[0])\n",
    "        else:\n",
    "            train[col] = train[col].fillna(train[col].median())\n",
    "\n",
    "# Fill nulls in test\n",
    "for col in test.columns:\n",
    "    if test[col].isnull().sum() > 0:\n",
    "        if test[col].dtype == 'object':\n",
    "            test[col] = test[col].fillna(test[col].mode()[0])\n",
    "        else:\n",
    "            test[col] = test[col].fillna(test[col].median())\n"
   ]
  },
  {
   "cell_type": "code",
   "execution_count": 182,
   "id": "16d6bca0",
   "metadata": {
    "execution": {
     "iopub.execute_input": "2025-07-06T16:45:04.729633Z",
     "iopub.status.busy": "2025-07-06T16:45:04.728321Z",
     "iopub.status.idle": "2025-07-06T16:45:04.742416Z",
     "shell.execute_reply": "2025-07-06T16:45:04.741016Z"
    },
    "papermill": {
     "duration": 0.064033,
     "end_time": "2025-07-06T16:45:04.744214",
     "exception": false,
     "start_time": "2025-07-06T16:45:04.680181",
     "status": "completed"
    },
    "tags": []
   },
   "outputs": [
    {
     "name": "stdout",
     "output_type": "stream",
     "text": [
      "📌 Data type: object\n",
      "❓ Null values: 0\n",
      "🔎 Unique values: ['TA' 'Fa' 'Gd' 'Po' 'Ex']\n",
      "✅ After encoding:\n",
      "GarageCond\n",
      "3    1407\n",
      "2      35\n",
      "4       9\n",
      "1       7\n",
      "5       2\n",
      "Name: count, dtype: int64\n"
     ]
    }
   ],
   "source": [
    "# Step 1: Check basic info\n",
    "print(\"📌 Data type:\", train['GarageCond'].dtype)\n",
    "print(\"❓ Null values:\", train['GarageCond'].isnull().sum())\n",
    "print(\"🔎 Unique values:\", train['GarageCond'].unique())\n",
    "\n",
    "# Step 2: Fill NaN with 'None' (meaning no garage)\n",
    "train['GarageCond'] = train['GarageCond'].fillna('None')\n",
    "test['GarageCond'] = test['GarageCond'].fillna('None')\n",
    "\n",
    "# Step 3: Label encoding based on quality\n",
    "garagecond_mapping = {\n",
    "    'None': 0,\n",
    "    'Po': 1,\n",
    "    'Fa': 2,\n",
    "    'TA': 3,\n",
    "    'Gd': 4,\n",
    "    'Ex': 5\n",
    "}\n",
    "\n",
    "train['GarageCond'] = train['GarageCond'].map(lambda x: garagecond_mapping.get(x, 0))\n",
    "test['GarageCond'] = test['GarageCond'].map(lambda x: garagecond_mapping.get(x, 0))\n",
    "\n",
    "# Step 4: Confirm changes\n",
    "print(\"✅ After encoding:\")\n",
    "print(train['GarageCond'].value_counts())\n"
   ]
  },
  {
   "cell_type": "code",
   "execution_count": 183,
   "id": "39cee1d3",
   "metadata": {
    "execution": {
     "iopub.execute_input": "2025-07-06T16:45:04.843473Z",
     "iopub.status.busy": "2025-07-06T16:45:04.843110Z",
     "iopub.status.idle": "2025-07-06T16:45:04.854107Z",
     "shell.execute_reply": "2025-07-06T16:45:04.852938Z"
    },
    "papermill": {
     "duration": 0.064699,
     "end_time": "2025-07-06T16:45:04.856006",
     "exception": false,
     "start_time": "2025-07-06T16:45:04.791307",
     "status": "completed"
    },
    "tags": []
   },
   "outputs": [
    {
     "name": "stdout",
     "output_type": "stream",
     "text": [
      "✅ Train shape: (1460, 139)\n",
      "✅ Test shape: (1459, 139)\n",
      "❌ Nulls in train: 0\n",
      "❌ Nulls in test: 0\n"
     ]
    }
   ],
   "source": [
    "print(\"✅ Train shape:\", train.shape)\n",
    "print(\"✅ Test shape:\", test.shape)\n",
    "print(\"❌ Nulls in train:\", train.isnull().sum().sum())\n",
    "print(\"❌ Nulls in test:\", test.isnull().sum().sum())\n"
   ]
  },
  {
   "cell_type": "code",
   "execution_count": 184,
   "id": "11ffb02a",
   "metadata": {
    "execution": {
     "iopub.execute_input": "2025-07-06T16:45:04.941585Z",
     "iopub.status.busy": "2025-07-06T16:45:04.941241Z",
     "iopub.status.idle": "2025-07-06T16:45:04.957878Z",
     "shell.execute_reply": "2025-07-06T16:45:04.956667Z"
    },
    "papermill": {
     "duration": 0.061841,
     "end_time": "2025-07-06T16:45:04.960089",
     "exception": false,
     "start_time": "2025-07-06T16:45:04.898248",
     "status": "completed"
    },
    "tags": []
   },
   "outputs": [],
   "source": [
    "#🔹 Step 1: Separate Target & Features\n",
    "from sklearn.model_selection import train_test_split\n",
    "from sklearn.preprocessing import StandardScaler\n",
    "\n",
    "# Separate target\n",
    "y = train['SalePrice']\n",
    "X = train.drop('SalePrice', axis=1)\n",
    "\n",
    "# Optional: Apply log1p transform to reduce skew\n",
    "y = np.log1p(y)\n"
   ]
  },
  {
   "cell_type": "code",
   "execution_count": 185,
   "id": "b42729b1",
   "metadata": {
    "execution": {
     "iopub.execute_input": "2025-07-06T16:45:05.056323Z",
     "iopub.status.busy": "2025-07-06T16:45:05.055952Z",
     "iopub.status.idle": "2025-07-06T16:45:05.064623Z",
     "shell.execute_reply": "2025-07-06T16:45:05.063603Z"
    },
    "papermill": {
     "duration": 0.058513,
     "end_time": "2025-07-06T16:45:05.066600",
     "exception": false,
     "start_time": "2025-07-06T16:45:05.008087",
     "status": "completed"
    },
    "tags": []
   },
   "outputs": [],
   "source": [
    "# Make sure test data doesn't contain the target column\n",
    "test = test.drop('SalePrice', axis=1, errors='ignore')\n"
   ]
  },
  {
   "cell_type": "code",
   "execution_count": 186,
   "id": "3aa8913d",
   "metadata": {
    "execution": {
     "iopub.execute_input": "2025-07-06T16:45:05.152149Z",
     "iopub.status.busy": "2025-07-06T16:45:05.151768Z",
     "iopub.status.idle": "2025-07-06T16:45:05.203558Z",
     "shell.execute_reply": "2025-07-06T16:45:05.202664Z"
    },
    "papermill": {
     "duration": 0.097607,
     "end_time": "2025-07-06T16:45:05.205608",
     "exception": false,
     "start_time": "2025-07-06T16:45:05.108001",
     "status": "completed"
    },
    "tags": []
   },
   "outputs": [],
   "source": [
    "#🔹 Step 2: Feature Scaling\n",
    "# Standardize features\n",
    "scaler = StandardScaler()\n",
    "X_scaled = scaler.fit_transform(X)\n",
    "X_test_scaled = scaler.transform(test)\n"
   ]
  },
  {
   "cell_type": "code",
   "execution_count": 187,
   "id": "8ef8a733",
   "metadata": {
    "execution": {
     "iopub.execute_input": "2025-07-06T16:45:05.297394Z",
     "iopub.status.busy": "2025-07-06T16:45:05.297068Z",
     "iopub.status.idle": "2025-07-06T16:45:05.367957Z",
     "shell.execute_reply": "2025-07-06T16:45:05.366797Z"
    },
    "papermill": {
     "duration": 0.11906,
     "end_time": "2025-07-06T16:45:05.369504",
     "exception": false,
     "start_time": "2025-07-06T16:45:05.250444",
     "status": "completed"
    },
    "tags": []
   },
   "outputs": [
    {
     "name": "stdout",
     "output_type": "stream",
     "text": [
      "✅ CV RMSE: 0.14586235418312163\n"
     ]
    },
    {
     "data": {
      "text/html": [
       "<style>#sk-container-id-1 {color: black;background-color: white;}#sk-container-id-1 pre{padding: 0;}#sk-container-id-1 div.sk-toggleable {background-color: white;}#sk-container-id-1 label.sk-toggleable__label {cursor: pointer;display: block;width: 100%;margin-bottom: 0;padding: 0.3em;box-sizing: border-box;text-align: center;}#sk-container-id-1 label.sk-toggleable__label-arrow:before {content: \"▸\";float: left;margin-right: 0.25em;color: #696969;}#sk-container-id-1 label.sk-toggleable__label-arrow:hover:before {color: black;}#sk-container-id-1 div.sk-estimator:hover label.sk-toggleable__label-arrow:before {color: black;}#sk-container-id-1 div.sk-toggleable__content {max-height: 0;max-width: 0;overflow: hidden;text-align: left;background-color: #f0f8ff;}#sk-container-id-1 div.sk-toggleable__content pre {margin: 0.2em;color: black;border-radius: 0.25em;background-color: #f0f8ff;}#sk-container-id-1 input.sk-toggleable__control:checked~div.sk-toggleable__content {max-height: 200px;max-width: 100%;overflow: auto;}#sk-container-id-1 input.sk-toggleable__control:checked~label.sk-toggleable__label-arrow:before {content: \"▾\";}#sk-container-id-1 div.sk-estimator input.sk-toggleable__control:checked~label.sk-toggleable__label {background-color: #d4ebff;}#sk-container-id-1 div.sk-label input.sk-toggleable__control:checked~label.sk-toggleable__label {background-color: #d4ebff;}#sk-container-id-1 input.sk-hidden--visually {border: 0;clip: rect(1px 1px 1px 1px);clip: rect(1px, 1px, 1px, 1px);height: 1px;margin: -1px;overflow: hidden;padding: 0;position: absolute;width: 1px;}#sk-container-id-1 div.sk-estimator {font-family: monospace;background-color: #f0f8ff;border: 1px dotted black;border-radius: 0.25em;box-sizing: border-box;margin-bottom: 0.5em;}#sk-container-id-1 div.sk-estimator:hover {background-color: #d4ebff;}#sk-container-id-1 div.sk-parallel-item::after {content: \"\";width: 100%;border-bottom: 1px solid gray;flex-grow: 1;}#sk-container-id-1 div.sk-label:hover label.sk-toggleable__label {background-color: #d4ebff;}#sk-container-id-1 div.sk-serial::before {content: \"\";position: absolute;border-left: 1px solid gray;box-sizing: border-box;top: 0;bottom: 0;left: 50%;z-index: 0;}#sk-container-id-1 div.sk-serial {display: flex;flex-direction: column;align-items: center;background-color: white;padding-right: 0.2em;padding-left: 0.2em;position: relative;}#sk-container-id-1 div.sk-item {position: relative;z-index: 1;}#sk-container-id-1 div.sk-parallel {display: flex;align-items: stretch;justify-content: center;background-color: white;position: relative;}#sk-container-id-1 div.sk-item::before, #sk-container-id-1 div.sk-parallel-item::before {content: \"\";position: absolute;border-left: 1px solid gray;box-sizing: border-box;top: 0;bottom: 0;left: 50%;z-index: -1;}#sk-container-id-1 div.sk-parallel-item {display: flex;flex-direction: column;z-index: 1;position: relative;background-color: white;}#sk-container-id-1 div.sk-parallel-item:first-child::after {align-self: flex-end;width: 50%;}#sk-container-id-1 div.sk-parallel-item:last-child::after {align-self: flex-start;width: 50%;}#sk-container-id-1 div.sk-parallel-item:only-child::after {width: 0;}#sk-container-id-1 div.sk-dashed-wrapped {border: 1px dashed gray;margin: 0 0.4em 0.5em 0.4em;box-sizing: border-box;padding-bottom: 0.4em;background-color: white;}#sk-container-id-1 div.sk-label label {font-family: monospace;font-weight: bold;display: inline-block;line-height: 1.2em;}#sk-container-id-1 div.sk-label-container {text-align: center;}#sk-container-id-1 div.sk-container {/* jupyter's `normalize.less` sets `[hidden] { display: none; }` but bootstrap.min.css set `[hidden] { display: none !important; }` so we also need the `!important` here to be able to override the default hidden behavior on the sphinx rendered scikit-learn.org. See: https://github.com/scikit-learn/scikit-learn/issues/21755 */display: inline-block !important;position: relative;}#sk-container-id-1 div.sk-text-repr-fallback {display: none;}</style><div id=\"sk-container-id-1\" class=\"sk-top-container\"><div class=\"sk-text-repr-fallback\"><pre>Ridge(alpha=10)</pre><b>In a Jupyter environment, please rerun this cell to show the HTML representation or trust the notebook. <br />On GitHub, the HTML representation is unable to render, please try loading this page with nbviewer.org.</b></div><div class=\"sk-container\" hidden><div class=\"sk-item\"><div class=\"sk-estimator sk-toggleable\"><input class=\"sk-toggleable__control sk-hidden--visually\" id=\"sk-estimator-id-1\" type=\"checkbox\" checked><label for=\"sk-estimator-id-1\" class=\"sk-toggleable__label sk-toggleable__label-arrow\">Ridge</label><div class=\"sk-toggleable__content\"><pre>Ridge(alpha=10)</pre></div></div></div></div></div>"
      ],
      "text/plain": [
       "Ridge(alpha=10)"
      ]
     },
     "execution_count": 187,
     "metadata": {},
     "output_type": "execute_result"
    }
   ],
   "source": [
    "#🔹 Step 3: Train a Ridge Regression Model\n",
    "from sklearn.linear_model import Ridge\n",
    "from sklearn.model_selection import cross_val_score\n",
    "\n",
    "# Initialize the model\n",
    "ridge = Ridge(alpha=10)\n",
    "\n",
    "# Cross-validation (optional but good to estimate performance)\n",
    "cv_scores = cross_val_score(ridge, X_scaled, y, scoring='neg_root_mean_squared_error', cv=5)\n",
    "print(\"✅ CV RMSE:\", -cv_scores.mean())\n",
    "\n",
    "# Train the model on full training data\n",
    "ridge.fit(X_scaled, y)\n"
   ]
  },
  {
   "cell_type": "code",
   "execution_count": 188,
   "id": "683ae570",
   "metadata": {
    "execution": {
     "iopub.execute_input": "2025-07-06T16:45:05.457394Z",
     "iopub.status.busy": "2025-07-06T16:45:05.456435Z",
     "iopub.status.idle": "2025-07-06T16:45:05.470856Z",
     "shell.execute_reply": "2025-07-06T16:45:05.469728Z"
    },
    "papermill": {
     "duration": 0.05972,
     "end_time": "2025-07-06T16:45:05.472837",
     "exception": false,
     "start_time": "2025-07-06T16:45:05.413117",
     "status": "completed"
    },
    "tags": []
   },
   "outputs": [],
   "source": [
    "# Predict using the model\n",
    "preds = ridge.predict(X_test_scaled)\n",
    "\n",
    "# Convert predictions back from log scale\n",
    "final_preds = np.expm1(preds)\n"
   ]
  },
  {
   "cell_type": "code",
   "execution_count": 189,
   "id": "dce1d780",
   "metadata": {
    "execution": {
     "iopub.execute_input": "2025-07-06T16:45:05.559079Z",
     "iopub.status.busy": "2025-07-06T16:45:05.558610Z",
     "iopub.status.idle": "2025-07-06T16:45:05.599649Z",
     "shell.execute_reply": "2025-07-06T16:45:05.598450Z"
    },
    "papermill": {
     "duration": 0.084908,
     "end_time": "2025-07-06T16:45:05.601308",
     "exception": false,
     "start_time": "2025-07-06T16:45:05.516400",
     "status": "completed"
    },
    "tags": []
   },
   "outputs": [
    {
     "name": "stdout",
     "output_type": "stream",
     "text": [
      "✅ Submission file created successfully!\n"
     ]
    }
   ],
   "source": [
    "#🔹 Step 5: Create Submission File\n",
    "# Load Ids from the original test file (if dropped earlier)\n",
    "test_ids = pd.read_csv('/kaggle/input/house-prices-advanced-regression-techniques/test.csv')['Id']\n",
    "\n",
    "# Prepare the submission DataFrame\n",
    "submission = pd.DataFrame({\n",
    "    'Id': test_ids,\n",
    "    'SalePrice': final_preds\n",
    "})\n",
    "\n",
    "# Save to CSV\n",
    "submission.to_csv('submission.csv', index=False)\n",
    "print(\"✅ Submission file created successfully!\")\n"
   ]
  },
  {
   "cell_type": "code",
   "execution_count": 190,
   "id": "9e5ac3f9",
   "metadata": {
    "execution": {
     "iopub.execute_input": "2025-07-06T16:45:05.686377Z",
     "iopub.status.busy": "2025-07-06T16:45:05.685956Z",
     "iopub.status.idle": "2025-07-06T16:45:05.704606Z",
     "shell.execute_reply": "2025-07-06T16:45:05.703248Z"
    },
    "papermill": {
     "duration": 0.064346,
     "end_time": "2025-07-06T16:45:05.706465",
     "exception": false,
     "start_time": "2025-07-06T16:45:05.642119",
     "status": "completed"
    },
    "tags": []
   },
   "outputs": [
    {
     "data": {
      "text/html": [
       "<div>\n",
       "<style scoped>\n",
       "    .dataframe tbody tr th:only-of-type {\n",
       "        vertical-align: middle;\n",
       "    }\n",
       "\n",
       "    .dataframe tbody tr th {\n",
       "        vertical-align: top;\n",
       "    }\n",
       "\n",
       "    .dataframe thead th {\n",
       "        text-align: right;\n",
       "    }\n",
       "</style>\n",
       "<table border=\"1\" class=\"dataframe\">\n",
       "  <thead>\n",
       "    <tr style=\"text-align: right;\">\n",
       "      <th></th>\n",
       "      <th>Id</th>\n",
       "      <th>SalePrice</th>\n",
       "    </tr>\n",
       "  </thead>\n",
       "  <tbody>\n",
       "    <tr>\n",
       "      <th>0</th>\n",
       "      <td>1461</td>\n",
       "      <td>169277.052498</td>\n",
       "    </tr>\n",
       "    <tr>\n",
       "      <th>1</th>\n",
       "      <td>1462</td>\n",
       "      <td>187758.393989</td>\n",
       "    </tr>\n",
       "    <tr>\n",
       "      <th>2</th>\n",
       "      <td>1463</td>\n",
       "      <td>183583.683570</td>\n",
       "    </tr>\n",
       "    <tr>\n",
       "      <th>3</th>\n",
       "      <td>1464</td>\n",
       "      <td>179317.477511</td>\n",
       "    </tr>\n",
       "    <tr>\n",
       "      <th>4</th>\n",
       "      <td>1465</td>\n",
       "      <td>150730.079977</td>\n",
       "    </tr>\n",
       "  </tbody>\n",
       "</table>\n",
       "</div>"
      ],
      "text/plain": [
       "     Id      SalePrice\n",
       "0  1461  169277.052498\n",
       "1  1462  187758.393989\n",
       "2  1463  183583.683570\n",
       "3  1464  179317.477511\n",
       "4  1465  150730.079977"
      ]
     },
     "execution_count": 190,
     "metadata": {},
     "output_type": "execute_result"
    }
   ],
   "source": [
    "#✅ To View sample_submission.csv:\n",
    "sample_submission = pd.read_csv('/kaggle/input/house-prices-advanced-regression-techniques/sample_submission.csv')\n",
    "sample_submission.head()\n"
   ]
  },
  {
   "cell_type": "code",
   "execution_count": 191,
   "id": "41fbdbfa",
   "metadata": {
    "execution": {
     "iopub.execute_input": "2025-07-06T16:45:05.817984Z",
     "iopub.status.busy": "2025-07-06T16:45:05.817506Z",
     "iopub.status.idle": "2025-07-06T16:45:05.832795Z",
     "shell.execute_reply": "2025-07-06T16:45:05.831564Z"
    },
    "papermill": {
     "duration": 0.078069,
     "end_time": "2025-07-06T16:45:05.834602",
     "exception": false,
     "start_time": "2025-07-06T16:45:05.756533",
     "status": "completed"
    },
    "tags": []
   },
   "outputs": [
    {
     "data": {
      "text/html": [
       "<div>\n",
       "<style scoped>\n",
       "    .dataframe tbody tr th:only-of-type {\n",
       "        vertical-align: middle;\n",
       "    }\n",
       "\n",
       "    .dataframe tbody tr th {\n",
       "        vertical-align: top;\n",
       "    }\n",
       "\n",
       "    .dataframe thead th {\n",
       "        text-align: right;\n",
       "    }\n",
       "</style>\n",
       "<table border=\"1\" class=\"dataframe\">\n",
       "  <thead>\n",
       "    <tr style=\"text-align: right;\">\n",
       "      <th></th>\n",
       "      <th>Id</th>\n",
       "      <th>SalePrice</th>\n",
       "    </tr>\n",
       "  </thead>\n",
       "  <tbody>\n",
       "    <tr>\n",
       "      <th>0</th>\n",
       "      <td>1461</td>\n",
       "      <td>110315.661930</td>\n",
       "    </tr>\n",
       "    <tr>\n",
       "      <th>1</th>\n",
       "      <td>1462</td>\n",
       "      <td>165216.677060</td>\n",
       "    </tr>\n",
       "    <tr>\n",
       "      <th>2</th>\n",
       "      <td>1463</td>\n",
       "      <td>160965.416781</td>\n",
       "    </tr>\n",
       "    <tr>\n",
       "      <th>3</th>\n",
       "      <td>1464</td>\n",
       "      <td>186587.326884</td>\n",
       "    </tr>\n",
       "    <tr>\n",
       "      <th>4</th>\n",
       "      <td>1465</td>\n",
       "      <td>187823.612637</td>\n",
       "    </tr>\n",
       "  </tbody>\n",
       "</table>\n",
       "</div>"
      ],
      "text/plain": [
       "     Id      SalePrice\n",
       "0  1461  110315.661930\n",
       "1  1462  165216.677060\n",
       "2  1463  160965.416781\n",
       "3  1464  186587.326884\n",
       "4  1465  187823.612637"
      ]
     },
     "execution_count": 191,
     "metadata": {},
     "output_type": "execute_result"
    }
   ],
   "source": [
    "#✅ To View Your Submission File:\n",
    "my_submission = pd.read_csv('/kaggle/working/submission.csv')\n",
    "my_submission.head()\n"
   ]
  },
  {
   "cell_type": "code",
   "execution_count": null,
   "id": "03c232ab",
   "metadata": {
    "papermill": {
     "duration": 0.041286,
     "end_time": "2025-07-06T16:45:05.920482",
     "exception": false,
     "start_time": "2025-07-06T16:45:05.879196",
     "status": "completed"
    },
    "tags": []
   },
   "outputs": [],
   "source": []
  }
 ],
 "metadata": {
  "kaggle": {
   "accelerator": "none",
   "dataSources": [
    {
     "databundleVersionId": 868283,
     "sourceId": 5407,
     "sourceType": "competition"
    }
   ],
   "dockerImageVersionId": 31040,
   "isGpuEnabled": false,
   "isInternetEnabled": false,
   "language": "python",
   "sourceType": "notebook"
  },
  "kernelspec": {
   "display_name": "Python 3",
   "language": "python",
   "name": "python3"
  },
  "language_info": {
   "codemirror_mode": {
    "name": "ipython",
    "version": 3
   },
   "file_extension": ".py",
   "mimetype": "text/x-python",
   "name": "python",
   "nbconvert_exporter": "python",
   "pygments_lexer": "ipython3",
   "version": "3.11.11"
  },
  "papermill": {
   "default_parameters": {},
   "duration": 28.571593,
   "end_time": "2025-07-06T16:45:06.885886",
   "environment_variables": {},
   "exception": null,
   "input_path": "__notebook__.ipynb",
   "output_path": "__notebook__.ipynb",
   "parameters": {},
   "start_time": "2025-07-06T16:44:38.314293",
   "version": "2.6.0"
  }
 },
 "nbformat": 4,
 "nbformat_minor": 5
}

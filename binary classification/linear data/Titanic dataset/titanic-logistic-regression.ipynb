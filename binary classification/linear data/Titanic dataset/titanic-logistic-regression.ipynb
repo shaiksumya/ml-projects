{
 "cells": [
  {
   "cell_type": "code",
   "execution_count": 1,
   "metadata": {
    "_cell_guid": "b1076dfc-b9ad-4769-8c92-a6c4dae69d19",
    "_uuid": "8f2839f25d086af736a60e9eeb907d3b93b6e0e5",
    "execution": {
     "iopub.execute_input": "2025-07-25T13:45:02.923644Z",
     "iopub.status.busy": "2025-07-25T13:45:02.923311Z",
     "iopub.status.idle": "2025-07-25T13:45:03.948548Z",
     "shell.execute_reply": "2025-07-25T13:45:03.947588Z",
     "shell.execute_reply.started": "2025-07-25T13:45:02.923621Z"
    },
    "trusted": true
   },
   "outputs": [
    {
     "name": "stdout",
     "output_type": "stream",
     "text": [
      "/kaggle/input/titanic/train.csv\n",
      "/kaggle/input/titanic/test.csv\n",
      "/kaggle/input/titanic/gender_submission.csv\n"
     ]
    }
   ],
   "source": [
    "# This Python 3 environment comes with many helpful analytics libraries installed\n",
    "# It is defined by the kaggle/python Docker image: https://github.com/kaggle/docker-python\n",
    "# For example, here's several helpful packages to load\n",
    "\n",
    "import numpy as np # linear algebra\n",
    "import pandas as pd # data processing, CSV file I/O (e.g. pd.read_csv)\n",
    "\n",
    "# Input data files are available in the read-only \"../input/\" directory\n",
    "# For example, running this (by clicking run or pressing Shift+Enter) will list all files under the input directory\n",
    "\n",
    "import os\n",
    "for dirname, _, filenames in os.walk('/kaggle/input'):\n",
    "    for filename in filenames:\n",
    "        print(os.path.join(dirname, filename))\n",
    "\n",
    "# You can write up to 20GB to the current directory (/kaggle/working/) that gets preserved as output when you create a version using \"Save & Run All\" \n",
    "# You can also write temporary files to /kaggle/temp/, but they won't be saved outside of the current session"
   ]
  },
  {
   "cell_type": "code",
   "execution_count": 2,
   "metadata": {
    "execution": {
     "iopub.execute_input": "2025-07-25T13:45:03.949965Z",
     "iopub.status.busy": "2025-07-25T13:45:03.949506Z",
     "iopub.status.idle": "2025-07-25T13:45:03.990819Z",
     "shell.execute_reply": "2025-07-25T13:45:03.989088Z",
     "shell.execute_reply.started": "2025-07-25T13:45:03.949942Z"
    },
    "trusted": true
   },
   "outputs": [],
   "source": [
    "#load train,test\n",
    "train_data=pd.read_csv('/kaggle/input/titanic/train.csv')\n",
    "test_data=pd.read_csv('/kaggle/input/titanic/test.csv')\n"
   ]
  },
  {
   "cell_type": "code",
   "execution_count": 3,
   "metadata": {
    "execution": {
     "iopub.execute_input": "2025-07-25T13:45:03.993399Z",
     "iopub.status.busy": "2025-07-25T13:45:03.993045Z",
     "iopub.status.idle": "2025-07-25T13:45:04.028973Z",
     "shell.execute_reply": "2025-07-25T13:45:04.027964Z",
     "shell.execute_reply.started": "2025-07-25T13:45:03.993371Z"
    },
    "trusted": true
   },
   "outputs": [
    {
     "data": {
      "text/html": [
       "<div>\n",
       "<style scoped>\n",
       "    .dataframe tbody tr th:only-of-type {\n",
       "        vertical-align: middle;\n",
       "    }\n",
       "\n",
       "    .dataframe tbody tr th {\n",
       "        vertical-align: top;\n",
       "    }\n",
       "\n",
       "    .dataframe thead th {\n",
       "        text-align: right;\n",
       "    }\n",
       "</style>\n",
       "<table border=\"1\" class=\"dataframe\">\n",
       "  <thead>\n",
       "    <tr style=\"text-align: right;\">\n",
       "      <th></th>\n",
       "      <th>PassengerId</th>\n",
       "      <th>Survived</th>\n",
       "      <th>Pclass</th>\n",
       "      <th>Name</th>\n",
       "      <th>Sex</th>\n",
       "      <th>Age</th>\n",
       "      <th>SibSp</th>\n",
       "      <th>Parch</th>\n",
       "      <th>Ticket</th>\n",
       "      <th>Fare</th>\n",
       "      <th>Cabin</th>\n",
       "      <th>Embarked</th>\n",
       "    </tr>\n",
       "  </thead>\n",
       "  <tbody>\n",
       "    <tr>\n",
       "      <th>0</th>\n",
       "      <td>1</td>\n",
       "      <td>0</td>\n",
       "      <td>3</td>\n",
       "      <td>Braund, Mr. Owen Harris</td>\n",
       "      <td>male</td>\n",
       "      <td>22.0</td>\n",
       "      <td>1</td>\n",
       "      <td>0</td>\n",
       "      <td>A/5 21171</td>\n",
       "      <td>7.2500</td>\n",
       "      <td>NaN</td>\n",
       "      <td>S</td>\n",
       "    </tr>\n",
       "    <tr>\n",
       "      <th>1</th>\n",
       "      <td>2</td>\n",
       "      <td>1</td>\n",
       "      <td>1</td>\n",
       "      <td>Cumings, Mrs. John Bradley (Florence Briggs Th...</td>\n",
       "      <td>female</td>\n",
       "      <td>38.0</td>\n",
       "      <td>1</td>\n",
       "      <td>0</td>\n",
       "      <td>PC 17599</td>\n",
       "      <td>71.2833</td>\n",
       "      <td>C85</td>\n",
       "      <td>C</td>\n",
       "    </tr>\n",
       "    <tr>\n",
       "      <th>2</th>\n",
       "      <td>3</td>\n",
       "      <td>1</td>\n",
       "      <td>3</td>\n",
       "      <td>Heikkinen, Miss. Laina</td>\n",
       "      <td>female</td>\n",
       "      <td>26.0</td>\n",
       "      <td>0</td>\n",
       "      <td>0</td>\n",
       "      <td>STON/O2. 3101282</td>\n",
       "      <td>7.9250</td>\n",
       "      <td>NaN</td>\n",
       "      <td>S</td>\n",
       "    </tr>\n",
       "    <tr>\n",
       "      <th>3</th>\n",
       "      <td>4</td>\n",
       "      <td>1</td>\n",
       "      <td>1</td>\n",
       "      <td>Futrelle, Mrs. Jacques Heath (Lily May Peel)</td>\n",
       "      <td>female</td>\n",
       "      <td>35.0</td>\n",
       "      <td>1</td>\n",
       "      <td>0</td>\n",
       "      <td>113803</td>\n",
       "      <td>53.1000</td>\n",
       "      <td>C123</td>\n",
       "      <td>S</td>\n",
       "    </tr>\n",
       "    <tr>\n",
       "      <th>4</th>\n",
       "      <td>5</td>\n",
       "      <td>0</td>\n",
       "      <td>3</td>\n",
       "      <td>Allen, Mr. William Henry</td>\n",
       "      <td>male</td>\n",
       "      <td>35.0</td>\n",
       "      <td>0</td>\n",
       "      <td>0</td>\n",
       "      <td>373450</td>\n",
       "      <td>8.0500</td>\n",
       "      <td>NaN</td>\n",
       "      <td>S</td>\n",
       "    </tr>\n",
       "  </tbody>\n",
       "</table>\n",
       "</div>"
      ],
      "text/plain": [
       "   PassengerId  Survived  Pclass  \\\n",
       "0            1         0       3   \n",
       "1            2         1       1   \n",
       "2            3         1       3   \n",
       "3            4         1       1   \n",
       "4            5         0       3   \n",
       "\n",
       "                                                Name     Sex   Age  SibSp  \\\n",
       "0                            Braund, Mr. Owen Harris    male  22.0      1   \n",
       "1  Cumings, Mrs. John Bradley (Florence Briggs Th...  female  38.0      1   \n",
       "2                             Heikkinen, Miss. Laina  female  26.0      0   \n",
       "3       Futrelle, Mrs. Jacques Heath (Lily May Peel)  female  35.0      1   \n",
       "4                           Allen, Mr. William Henry    male  35.0      0   \n",
       "\n",
       "   Parch            Ticket     Fare Cabin Embarked  \n",
       "0      0         A/5 21171   7.2500   NaN        S  \n",
       "1      0          PC 17599  71.2833   C85        C  \n",
       "2      0  STON/O2. 3101282   7.9250   NaN        S  \n",
       "3      0            113803  53.1000  C123        S  \n",
       "4      0            373450   8.0500   NaN        S  "
      ]
     },
     "execution_count": 3,
     "metadata": {},
     "output_type": "execute_result"
    }
   ],
   "source": [
    "#view first few rows and get info of that dataset\n",
    "train_data.head()\n"
   ]
  },
  {
   "cell_type": "code",
   "execution_count": 4,
   "metadata": {
    "execution": {
     "iopub.execute_input": "2025-07-25T13:45:04.030253Z",
     "iopub.status.busy": "2025-07-25T13:45:04.029964Z",
     "iopub.status.idle": "2025-07-25T13:45:04.058310Z",
     "shell.execute_reply": "2025-07-25T13:45:04.057248Z",
     "shell.execute_reply.started": "2025-07-25T13:45:04.030229Z"
    },
    "trusted": true
   },
   "outputs": [
    {
     "name": "stdout",
     "output_type": "stream",
     "text": [
      "<class 'pandas.core.frame.DataFrame'>\n",
      "RangeIndex: 891 entries, 0 to 890\n",
      "Data columns (total 12 columns):\n",
      " #   Column       Non-Null Count  Dtype  \n",
      "---  ------       --------------  -----  \n",
      " 0   PassengerId  891 non-null    int64  \n",
      " 1   Survived     891 non-null    int64  \n",
      " 2   Pclass       891 non-null    int64  \n",
      " 3   Name         891 non-null    object \n",
      " 4   Sex          891 non-null    object \n",
      " 5   Age          714 non-null    float64\n",
      " 6   SibSp        891 non-null    int64  \n",
      " 7   Parch        891 non-null    int64  \n",
      " 8   Ticket       891 non-null    object \n",
      " 9   Fare         891 non-null    float64\n",
      " 10  Cabin        204 non-null    object \n",
      " 11  Embarked     889 non-null    object \n",
      "dtypes: float64(2), int64(5), object(5)\n",
      "memory usage: 83.7+ KB\n"
     ]
    }
   ],
   "source": [
    "train_data.info()"
   ]
  },
  {
   "cell_type": "code",
   "execution_count": 5,
   "metadata": {
    "execution": {
     "iopub.execute_input": "2025-07-25T13:45:04.059693Z",
     "iopub.status.busy": "2025-07-25T13:45:04.059347Z",
     "iopub.status.idle": "2025-07-25T13:45:04.084482Z",
     "shell.execute_reply": "2025-07-25T13:45:04.083600Z",
     "shell.execute_reply.started": "2025-07-25T13:45:04.059664Z"
    },
    "trusted": true
   },
   "outputs": [],
   "source": [
    "# Drop the 'Name' column\n",
    "train_data=train_data.drop('Name',axis=1)\n",
    "test_data=test_data.drop('Name',axis=1)\n",
    "\n",
    "#axis=0 → means \"do operation along rows\"\n",
    "#axis=1 → means \"do operation along columns\""
   ]
  },
  {
   "cell_type": "code",
   "execution_count": 6,
   "metadata": {
    "execution": {
     "iopub.execute_input": "2025-07-25T13:45:04.086066Z",
     "iopub.status.busy": "2025-07-25T13:45:04.085728Z",
     "iopub.status.idle": "2025-07-25T13:45:04.119596Z",
     "shell.execute_reply": "2025-07-25T13:45:04.118566Z",
     "shell.execute_reply.started": "2025-07-25T13:45:04.086040Z"
    },
    "trusted": true
   },
   "outputs": [],
   "source": [
    "# Convert 'Sex' column to numeric: male → 0, female → 1\n",
    "train_data['Sex']=train_data['Sex'].map({'male':0,'female':1})\n",
    "test_data['Sex']=test_data['Sex'].map({'male':0,'female':1})"
   ]
  },
  {
   "cell_type": "code",
   "execution_count": 7,
   "metadata": {
    "execution": {
     "iopub.execute_input": "2025-07-25T13:45:04.122385Z",
     "iopub.status.busy": "2025-07-25T13:45:04.121460Z",
     "iopub.status.idle": "2025-07-25T13:45:04.147156Z",
     "shell.execute_reply": "2025-07-25T13:45:04.145993Z",
     "shell.execute_reply.started": "2025-07-25T13:45:04.122347Z"
    },
    "trusted": true
   },
   "outputs": [
    {
     "name": "stdout",
     "output_type": "stream",
     "text": [
      "Sex\n",
      "0    577\n",
      "1    314\n",
      "Name: count, dtype: int64\n",
      "Sex\n",
      "0    266\n",
      "1    152\n",
      "Name: count, dtype: int64\n"
     ]
    }
   ],
   "source": [
    "#🔹 To see unique values (including nulls):\n",
    "\n",
    "print(train_data['Sex'].value_counts(dropna=False))\n",
    "print(test_data['Sex'].value_counts(dropna=False))"
   ]
  },
  {
   "cell_type": "code",
   "execution_count": 8,
   "metadata": {
    "execution": {
     "iopub.execute_input": "2025-07-25T13:45:04.149550Z",
     "iopub.status.busy": "2025-07-25T13:45:04.148307Z",
     "iopub.status.idle": "2025-07-25T13:45:04.167642Z",
     "shell.execute_reply": "2025-07-25T13:45:04.166185Z",
     "shell.execute_reply.started": "2025-07-25T13:45:04.149486Z"
    },
    "trusted": true
   },
   "outputs": [
    {
     "name": "stdout",
     "output_type": "stream",
     "text": [
      "0\n",
      "0\n"
     ]
    }
   ],
   "source": [
    "#🔹 To check if there are any missing (null) values:\n",
    "print(train_data['Sex'].isnull().sum())\n",
    "print(test_data['Sex'].isnull().sum())"
   ]
  },
  {
   "cell_type": "code",
   "execution_count": 9,
   "metadata": {
    "execution": {
     "iopub.execute_input": "2025-07-25T13:45:04.172686Z",
     "iopub.status.busy": "2025-07-25T13:45:04.171431Z",
     "iopub.status.idle": "2025-07-25T13:45:04.189790Z",
     "shell.execute_reply": "2025-07-25T13:45:04.188720Z",
     "shell.execute_reply.started": "2025-07-25T13:45:04.172637Z"
    },
    "trusted": true
   },
   "outputs": [],
   "source": [
    "# The 'Ticket' column contains messy alphanumeric strings which don't provide clear, usable information.\n",
    "# While it may contain some hidden patterns (like prefixes), extracting them would require deep feature engineering.\n",
    "# Fortunately, we already have the 'Pclass' column, which captures the passenger's class (1st, 2nd, 3rd),\n",
    "# making 'Ticket' largely redundant for our current model.\n",
    "# So, we will drop the 'Ticket' column from both datasets.\n",
    "\n",
    "train_data=train_data.drop('Ticket',axis=1)\n",
    "test_data=test_data.drop('Ticket',axis=1)"
   ]
  },
  {
   "cell_type": "code",
   "execution_count": 10,
   "metadata": {
    "execution": {
     "iopub.execute_input": "2025-07-25T13:45:04.191196Z",
     "iopub.status.busy": "2025-07-25T13:45:04.190889Z",
     "iopub.status.idle": "2025-07-25T13:45:04.233290Z",
     "shell.execute_reply": "2025-07-25T13:45:04.232173Z",
     "shell.execute_reply.started": "2025-07-25T13:45:04.191170Z"
    },
    "trusted": true
   },
   "outputs": [],
   "source": [
    "# The 'Cabin' column contains cabin numbers (like 'C85', 'E46', etc.).\n",
    "# However, only 204 out of 891 entries have non-null values, meaning ~77% of the data is missing.\n",
    "# While the deck letter (first character) might offer some insights,\n",
    "# the large number of missing values makes this column unreliable without heavy preprocessing.\n",
    "# So, for simplicity and better model performance, we'll drop the 'Cabin' column.\n",
    "train_data=train_data.drop('Cabin',axis=1)\n",
    "test_data=test_data.drop('Cabin',axis=1)"
   ]
  },
  {
   "cell_type": "code",
   "execution_count": 11,
   "metadata": {
    "execution": {
     "iopub.execute_input": "2025-07-25T13:45:04.236232Z",
     "iopub.status.busy": "2025-07-25T13:45:04.235896Z",
     "iopub.status.idle": "2025-07-25T13:45:04.258999Z",
     "shell.execute_reply": "2025-07-25T13:45:04.256930Z",
     "shell.execute_reply.started": "2025-07-25T13:45:04.236203Z"
    },
    "trusted": true
   },
   "outputs": [
    {
     "name": "stdout",
     "output_type": "stream",
     "text": [
      "object\n",
      "['S' 'C' 'Q' nan]\n",
      "3\n",
      "Embarked\n",
      "S      644\n",
      "C      168\n",
      "Q       77\n",
      "NaN      2\n",
      "Name: count, dtype: int64\n"
     ]
    }
   ],
   "source": [
    "# Initially, we are not sure if the 'Embarked' column contains discrete or continuous values.\n",
    "# So, we follow a few steps to understand its nature.\n",
    "\n",
    "# Step 1: Check the data type of the column\n",
    "print(train_data['Embarked'].dtype)\n",
    "# If it's of type 'object' or 'category', it's likely to be discrete (categorical).\n",
    "# If it's numeric (int or float), we need to investigate further.\n",
    "\n",
    "# Step 2: Check the unique values in the column\n",
    "print(train_data['Embarked'].unique())\n",
    "# A small set of distinct values (like ['S', 'C', 'Q']) usually indicates discrete data.\n",
    "\n",
    "# Step 3: Count the number of unique values\n",
    "print(train_data['Embarked'].nunique())\n",
    "# If the number is small and countable, it's discrete.\n",
    "# A large number of unique values, especially with decimals, suggests continuous data.\n",
    "\n",
    "# Step 4: View value counts including missing values\n",
    "print(train_data['Embarked'].value_counts(dropna=False))\n",
    "# This shows how many times each value (including NaN) appears, helping confirm whether the data is categorical.\n"
   ]
  },
  {
   "cell_type": "code",
   "execution_count": 12,
   "metadata": {
    "execution": {
     "iopub.execute_input": "2025-07-25T13:45:04.262123Z",
     "iopub.status.busy": "2025-07-25T13:45:04.261126Z",
     "iopub.status.idle": "2025-07-25T13:45:04.291032Z",
     "shell.execute_reply": "2025-07-25T13:45:04.289538Z",
     "shell.execute_reply.started": "2025-07-25T13:45:04.262089Z"
    },
    "trusted": true
   },
   "outputs": [
    {
     "name": "stdout",
     "output_type": "stream",
     "text": [
      "Embarked\n",
      "C    0.553571\n",
      "Q    0.389610\n",
      "S    0.336957\n",
      "Name: Survived, dtype: float64\n"
     ]
    }
   ],
   "source": [
    "#Since Embarked is categorical, you can't directly check correlation with Survived — but here are two helpful tricks:\n",
    "\n",
    "# a) Survival rate by each port:\n",
    "print(train_data.groupby('Embarked')['Survived'].mean())\n"
   ]
  },
  {
   "cell_type": "code",
   "execution_count": 13,
   "metadata": {
    "execution": {
     "iopub.execute_input": "2025-07-25T13:45:04.294768Z",
     "iopub.status.busy": "2025-07-25T13:45:04.293331Z",
     "iopub.status.idle": "2025-07-25T13:45:04.313576Z",
     "shell.execute_reply": "2025-07-25T13:45:04.312727Z",
     "shell.execute_reply.started": "2025-07-25T13:45:04.294725Z"
    },
    "trusted": true
   },
   "outputs": [
    {
     "name": "stdout",
     "output_type": "stream",
     "text": [
      "Embarked\n",
      "S    644\n",
      "C    168\n",
      "Q     77\n",
      "Name: count, dtype: int64\n"
     ]
    }
   ],
   "source": [
    "#🔍 b) Count of passengers per port:\n",
    "print(train_data['Embarked'].value_counts())\n"
   ]
  },
  {
   "cell_type": "code",
   "execution_count": 14,
   "metadata": {
    "execution": {
     "iopub.execute_input": "2025-07-25T13:45:04.316457Z",
     "iopub.status.busy": "2025-07-25T13:45:04.314811Z",
     "iopub.status.idle": "2025-07-25T13:45:04.335091Z",
     "shell.execute_reply": "2025-07-25T13:45:04.333945Z",
     "shell.execute_reply.started": "2025-07-25T13:45:04.315082Z"
    },
    "trusted": true
   },
   "outputs": [
    {
     "name": "stdout",
     "output_type": "stream",
     "text": [
      "Embarked\n",
      "C    0.553571\n",
      "Q    0.389610\n",
      "S    0.336957\n",
      "Name: Survived, dtype: float64\n"
     ]
    }
   ],
   "source": [
    "# Before encoding, we want to understand how the 'Embarked' feature affects the target variable 'Survived'.\n",
    "# Let's assume:\n",
    "# - If 100 passengers embarked from 'S', and only 10 survived → survival rate = 10%\n",
    "# - If 10 passengers from 'C', and 5 survived → survival rate = 50%\n",
    "# - If 500 passengers from 'Q', and 50 survived → survival rate = 10%\n",
    "# This shows that passengers from 'C' had a better chance of survival.\n",
    "\n",
    "# So we calculate the survival rate for each port using groupby and mean:\n",
    "# This gives us the average of the 'Survived' column for each 'Embarked' category\n",
    "# (Since Survived is 0 or 1, the mean directly gives the survival rate)\n",
    "\n",
    "print(train_data.groupby('Embarked')['Survived'].mean())\n",
    "\n",
    "# The result tells us:\n",
    "# - Which port had higher survival rates\n",
    "# - Which categories may be more influential in predicting survival\n",
    "\n",
    "# This insight can help us decide whether to encode the column using One-Hot Encoding (which preserves category identity)\n",
    "# or Label Encoding (which may accidentally imply order — which we do not want if 'C' is safer than 'S', but 'S' has a higher label).\n"
   ]
  },
  {
   "cell_type": "code",
   "execution_count": 15,
   "metadata": {
    "execution": {
     "iopub.execute_input": "2025-07-25T13:45:04.336981Z",
     "iopub.status.busy": "2025-07-25T13:45:04.336634Z",
     "iopub.status.idle": "2025-07-25T13:45:04.366775Z",
     "shell.execute_reply": "2025-07-25T13:45:04.365496Z",
     "shell.execute_reply.started": "2025-07-25T13:45:04.336952Z"
    },
    "trusted": true
   },
   "outputs": [
    {
     "name": "stdout",
     "output_type": "stream",
     "text": [
      "          Total_Passengers  Survived_Passengers  Survival_Rate (%)\n",
      "Embarked                                                          \n",
      "C                      168                   93          55.357143\n",
      "Q                       77                   30          38.961039\n",
      "S                      644                  217          33.695652\n"
     ]
    }
   ],
   "source": [
    "# We want to analyze how many passengers boarded from each port ('Embarked') \n",
    "# and how many of them survived — both in raw counts and percentages.\n",
    "\n",
    "# First, create a summary DataFrame using groupby\n",
    "embarked_stats = train_data.groupby('Embarked')['Survived'].agg(['count', 'sum'])\n",
    "\n",
    "# Rename columns for clarity\n",
    "embarked_stats.columns = ['Total_Passengers', 'Survived_Passengers']\n",
    "\n",
    "# Calculate survival percentage\n",
    "embarked_stats['Survival_Rate (%)'] = (embarked_stats['Survived_Passengers'] / embarked_stats['Total_Passengers']) * 100\n",
    "\n",
    "# Display the results\n",
    "print(embarked_stats)\n"
   ]
  },
  {
   "cell_type": "code",
   "execution_count": 16,
   "metadata": {
    "execution": {
     "iopub.execute_input": "2025-07-25T13:45:04.368084Z",
     "iopub.status.busy": "2025-07-25T13:45:04.367802Z",
     "iopub.status.idle": "2025-07-25T13:45:04.390667Z",
     "shell.execute_reply": "2025-07-25T13:45:04.389657Z",
     "shell.execute_reply.started": "2025-07-25T13:45:04.368056Z"
    },
    "trusted": true
   },
   "outputs": [],
   "source": [
    "# Based on survival rates, we assign ordinal labels:\n",
    "# C (highest survival rate) → 2\n",
    "# Q (medium) → 1\n",
    "# S (lowest) → 0\n",
    "\n",
    "embarked_mapping = {'S': 0, 'Q': 1, 'C': 2}\n",
    "\n",
    "# Apply the mapping to both train and test datasets\n",
    "train_data['Embarked'] = train_data['Embarked'].map(embarked_mapping)\n",
    "test_data['Embarked'] = test_data['Embarked'].map(embarked_mapping)\n"
   ]
  },
  {
   "cell_type": "code",
   "execution_count": 17,
   "metadata": {
    "execution": {
     "iopub.execute_input": "2025-07-25T13:45:04.392616Z",
     "iopub.status.busy": "2025-07-25T13:45:04.392222Z",
     "iopub.status.idle": "2025-07-25T13:45:04.420153Z",
     "shell.execute_reply": "2025-07-25T13:45:04.418968Z",
     "shell.execute_reply.started": "2025-07-25T13:45:04.392585Z"
    },
    "trusted": true
   },
   "outputs": [
    {
     "name": "stderr",
     "output_type": "stream",
     "text": [
      "/tmp/ipykernel_36/2384024199.py:4: FutureWarning: A value is trying to be set on a copy of a DataFrame or Series through chained assignment using an inplace method.\n",
      "The behavior will change in pandas 3.0. This inplace method will never work because the intermediate object on which we are setting values always behaves as a copy.\n",
      "\n",
      "For example, when doing 'df[col].method(value, inplace=True)', try using 'df.method({col: value}, inplace=True)' or df[col] = df[col].method(value) instead, to perform the operation inplace on the original object.\n",
      "\n",
      "\n",
      "  train_data['Embarked'].fillna(train_data['Embarked'].mode()[0], inplace=True)\n",
      "/tmp/ipykernel_36/2384024199.py:5: FutureWarning: A value is trying to be set on a copy of a DataFrame or Series through chained assignment using an inplace method.\n",
      "The behavior will change in pandas 3.0. This inplace method will never work because the intermediate object on which we are setting values always behaves as a copy.\n",
      "\n",
      "For example, when doing 'df[col].method(value, inplace=True)', try using 'df.method({col: value}, inplace=True)' or df[col] = df[col].method(value) instead, to perform the operation inplace on the original object.\n",
      "\n",
      "\n",
      "  test_data['Embarked'].fillna(test_data['Embarked'].mode()[0], inplace=True)\n"
     ]
    }
   ],
   "source": [
    "# Fill missing values in 'Embarked' with the mode (most frequent port)\n",
    "# Since we already label-encoded 'Embarked', mode() will return the most frequent number (e.g., 0 for 'S')\n",
    "\n",
    "train_data['Embarked'].fillna(train_data['Embarked'].mode()[0], inplace=True)\n",
    "test_data['Embarked'].fillna(test_data['Embarked'].mode()[0], inplace=True)\n"
   ]
  },
  {
   "cell_type": "code",
   "execution_count": 18,
   "metadata": {
    "execution": {
     "iopub.execute_input": "2025-07-25T13:45:04.421651Z",
     "iopub.status.busy": "2025-07-25T13:45:04.421308Z",
     "iopub.status.idle": "2025-07-25T13:45:04.442380Z",
     "shell.execute_reply": "2025-07-25T13:45:04.441377Z",
     "shell.execute_reply.started": "2025-07-25T13:45:04.421621Z"
    },
    "trusted": true
   },
   "outputs": [
    {
     "name": "stdout",
     "output_type": "stream",
     "text": [
      "Missing values in training data:\n",
      "PassengerId      0\n",
      "Survived         0\n",
      "Pclass           0\n",
      "Sex              0\n",
      "Age            177\n",
      "SibSp            0\n",
      "Parch            0\n",
      "Fare             0\n",
      "Embarked         0\n",
      "dtype: int64\n",
      "\n",
      "Missing values in test data:\n",
      "PassengerId     0\n",
      "Pclass          0\n",
      "Sex             0\n",
      "Age            86\n",
      "SibSp           0\n",
      "Parch           0\n",
      "Fare            1\n",
      "Embarked        0\n",
      "dtype: int64\n"
     ]
    }
   ],
   "source": [
    "# Check how many missing (null) values exist in each column of the training dataset\n",
    "print(\"Missing values in training data:\")\n",
    "print(train_data.isnull().sum())\n",
    "\n",
    "# Check the same for the test dataset\n",
    "print(\"\\nMissing values in test data:\")\n",
    "print(test_data.isnull().sum())\n"
   ]
  },
  {
   "cell_type": "code",
   "execution_count": 19,
   "metadata": {
    "execution": {
     "iopub.execute_input": "2025-07-25T13:45:04.443685Z",
     "iopub.status.busy": "2025-07-25T13:45:04.443332Z",
     "iopub.status.idle": "2025-07-25T13:45:04.464376Z",
     "shell.execute_reply": "2025-07-25T13:45:04.463341Z",
     "shell.execute_reply.started": "2025-07-25T13:45:04.443654Z"
    },
    "trusted": true
   },
   "outputs": [
    {
     "name": "stdout",
     "output_type": "stream",
     "text": [
      "<class 'pandas.core.frame.DataFrame'>\n",
      "RangeIndex: 891 entries, 0 to 890\n",
      "Data columns (total 9 columns):\n",
      " #   Column       Non-Null Count  Dtype  \n",
      "---  ------       --------------  -----  \n",
      " 0   PassengerId  891 non-null    int64  \n",
      " 1   Survived     891 non-null    int64  \n",
      " 2   Pclass       891 non-null    int64  \n",
      " 3   Sex          891 non-null    int64  \n",
      " 4   Age          714 non-null    float64\n",
      " 5   SibSp        891 non-null    int64  \n",
      " 6   Parch        891 non-null    int64  \n",
      " 7   Fare         891 non-null    float64\n",
      " 8   Embarked     891 non-null    float64\n",
      "dtypes: float64(3), int64(6)\n",
      "memory usage: 62.8 KB\n"
     ]
    }
   ],
   "source": [
    "train_data.info()"
   ]
  },
  {
   "cell_type": "code",
   "execution_count": 20,
   "metadata": {
    "execution": {
     "iopub.execute_input": "2025-07-25T13:45:04.465815Z",
     "iopub.status.busy": "2025-07-25T13:45:04.465465Z",
     "iopub.status.idle": "2025-07-25T13:45:04.486634Z",
     "shell.execute_reply": "2025-07-25T13:45:04.485664Z",
     "shell.execute_reply.started": "2025-07-25T13:45:04.465781Z"
    },
    "trusted": true
   },
   "outputs": [
    {
     "name": "stdout",
     "output_type": "stream",
     "text": [
      "<class 'pandas.core.frame.DataFrame'>\n",
      "RangeIndex: 418 entries, 0 to 417\n",
      "Data columns (total 8 columns):\n",
      " #   Column       Non-Null Count  Dtype  \n",
      "---  ------       --------------  -----  \n",
      " 0   PassengerId  418 non-null    int64  \n",
      " 1   Pclass       418 non-null    int64  \n",
      " 2   Sex          418 non-null    int64  \n",
      " 3   Age          332 non-null    float64\n",
      " 4   SibSp        418 non-null    int64  \n",
      " 5   Parch        418 non-null    int64  \n",
      " 6   Fare         417 non-null    float64\n",
      " 7   Embarked     418 non-null    int64  \n",
      "dtypes: float64(2), int64(6)\n",
      "memory usage: 26.3 KB\n"
     ]
    }
   ],
   "source": [
    "test_data.info()"
   ]
  },
  {
   "cell_type": "code",
   "execution_count": 21,
   "metadata": {
    "execution": {
     "iopub.execute_input": "2025-07-25T13:45:04.487886Z",
     "iopub.status.busy": "2025-07-25T13:45:04.487627Z",
     "iopub.status.idle": "2025-07-25T13:45:04.506107Z",
     "shell.execute_reply": "2025-07-25T13:45:04.504492Z",
     "shell.execute_reply.started": "2025-07-25T13:45:04.487865Z"
    },
    "trusted": true
   },
   "outputs": [
    {
     "name": "stderr",
     "output_type": "stream",
     "text": [
      "/tmp/ipykernel_36/949199770.py:2: FutureWarning: A value is trying to be set on a copy of a DataFrame or Series through chained assignment using an inplace method.\n",
      "The behavior will change in pandas 3.0. This inplace method will never work because the intermediate object on which we are setting values always behaves as a copy.\n",
      "\n",
      "For example, when doing 'df[col].method(value, inplace=True)', try using 'df.method({col: value}, inplace=True)' or df[col] = df[col].method(value) instead, to perform the operation inplace on the original object.\n",
      "\n",
      "\n",
      "  test_data['Fare'].fillna(test_data['Fare'].median(), inplace=True)\n"
     ]
    }
   ],
   "source": [
    "# Fill the single missing value in 'Fare' with the median fare in the test dataset\n",
    "test_data['Fare'].fillna(test_data['Fare'].median(), inplace=True)\n"
   ]
  },
  {
   "cell_type": "code",
   "execution_count": 22,
   "metadata": {
    "execution": {
     "iopub.execute_input": "2025-07-25T13:45:04.507751Z",
     "iopub.status.busy": "2025-07-25T13:45:04.507404Z",
     "iopub.status.idle": "2025-07-25T13:45:04.540955Z",
     "shell.execute_reply": "2025-07-25T13:45:04.539816Z",
     "shell.execute_reply.started": "2025-07-25T13:45:04.507726Z"
    },
    "trusted": true
   },
   "outputs": [],
   "source": [
    "# Fill missing Age in train set using median age grouped by Pclass and Sex\n",
    "train_data['Age'] = train_data.groupby(['Pclass', 'Sex'])['Age'].transform(\n",
    "    lambda x: x.fillna(x.median())\n",
    ")\n",
    "\n",
    "# Apply the same for test data\n",
    "test_data['Age'] = test_data.groupby(['Pclass', 'Sex'])['Age'].transform(\n",
    "    lambda x: x.fillna(x.median())\n",
    ")\n"
   ]
  },
  {
   "cell_type": "code",
   "execution_count": 23,
   "metadata": {
    "execution": {
     "iopub.execute_input": "2025-07-25T13:45:04.542901Z",
     "iopub.status.busy": "2025-07-25T13:45:04.542509Z",
     "iopub.status.idle": "2025-07-25T13:45:04.561459Z",
     "shell.execute_reply": "2025-07-25T13:45:04.560576Z",
     "shell.execute_reply.started": "2025-07-25T13:45:04.542869Z"
    },
    "trusted": true
   },
   "outputs": [
    {
     "name": "stdout",
     "output_type": "stream",
     "text": [
      "<class 'pandas.core.frame.DataFrame'>\n",
      "RangeIndex: 418 entries, 0 to 417\n",
      "Data columns (total 8 columns):\n",
      " #   Column       Non-Null Count  Dtype  \n",
      "---  ------       --------------  -----  \n",
      " 0   PassengerId  418 non-null    int64  \n",
      " 1   Pclass       418 non-null    int64  \n",
      " 2   Sex          418 non-null    int64  \n",
      " 3   Age          418 non-null    float64\n",
      " 4   SibSp        418 non-null    int64  \n",
      " 5   Parch        418 non-null    int64  \n",
      " 6   Fare         418 non-null    float64\n",
      " 7   Embarked     418 non-null    int64  \n",
      "dtypes: float64(2), int64(6)\n",
      "memory usage: 26.3 KB\n",
      "<class 'pandas.core.frame.DataFrame'>\n",
      "RangeIndex: 891 entries, 0 to 890\n",
      "Data columns (total 9 columns):\n",
      " #   Column       Non-Null Count  Dtype  \n",
      "---  ------       --------------  -----  \n",
      " 0   PassengerId  891 non-null    int64  \n",
      " 1   Survived     891 non-null    int64  \n",
      " 2   Pclass       891 non-null    int64  \n",
      " 3   Sex          891 non-null    int64  \n",
      " 4   Age          891 non-null    float64\n",
      " 5   SibSp        891 non-null    int64  \n",
      " 6   Parch        891 non-null    int64  \n",
      " 7   Fare         891 non-null    float64\n",
      " 8   Embarked     891 non-null    float64\n",
      "dtypes: float64(3), int64(6)\n",
      "memory usage: 62.8 KB\n"
     ]
    }
   ],
   "source": [
    "test_data.info()\n",
    "train_data.info()"
   ]
  },
  {
   "cell_type": "code",
   "execution_count": 24,
   "metadata": {
    "execution": {
     "iopub.execute_input": "2025-07-25T13:45:04.563086Z",
     "iopub.status.busy": "2025-07-25T13:45:04.562720Z",
     "iopub.status.idle": "2025-07-25T13:45:05.778761Z",
     "shell.execute_reply": "2025-07-25T13:45:05.777781Z",
     "shell.execute_reply.started": "2025-07-25T13:45:04.563041Z"
    },
    "trusted": true
   },
   "outputs": [],
   "source": [
    "from sklearn.preprocessing import StandardScaler\n",
    "\n",
    "# Initialize the scaler\n",
    "scaler = StandardScaler()\n",
    "\n",
    "# Columns that need scaling (continuous numerical values)\n",
    "columns_to_scale = ['Age', 'Fare']\n",
    "\n",
    "# Fit on train, transform both train and test\n",
    "train_data[columns_to_scale] = scaler.fit_transform(train_data[columns_to_scale])\n",
    "test_data[columns_to_scale] = scaler.transform(test_data[columns_to_scale])\n"
   ]
  },
  {
   "cell_type": "code",
   "execution_count": 25,
   "metadata": {
    "execution": {
     "iopub.execute_input": "2025-07-25T13:45:05.780379Z",
     "iopub.status.busy": "2025-07-25T13:45:05.779882Z",
     "iopub.status.idle": "2025-07-25T13:45:05.787194Z",
     "shell.execute_reply": "2025-07-25T13:45:05.786331Z",
     "shell.execute_reply.started": "2025-07-25T13:45:05.780349Z"
    },
    "trusted": true
   },
   "outputs": [],
   "source": [
    "# Separate features and target variable\n",
    "X_train = train_data.drop('Survived', axis=1)\n",
    "y_train = train_data['Survived']\n"
   ]
  },
  {
   "cell_type": "code",
   "execution_count": 26,
   "metadata": {
    "execution": {
     "iopub.execute_input": "2025-07-25T13:45:05.788766Z",
     "iopub.status.busy": "2025-07-25T13:45:05.788432Z",
     "iopub.status.idle": "2025-07-25T13:45:06.642039Z",
     "shell.execute_reply": "2025-07-25T13:45:06.640018Z",
     "shell.execute_reply.started": "2025-07-25T13:45:05.788739Z"
    },
    "trusted": true
   },
   "outputs": [
    {
     "name": "stderr",
     "output_type": "stream",
     "text": [
      "/usr/local/lib/python3.11/dist-packages/sklearn/linear_model/_logistic.py:458: ConvergenceWarning: lbfgs failed to converge (status=1):\n",
      "STOP: TOTAL NO. OF ITERATIONS REACHED LIMIT.\n",
      "\n",
      "Increase the number of iterations (max_iter) or scale the data as shown in:\n",
      "    https://scikit-learn.org/stable/modules/preprocessing.html\n",
      "Please also refer to the documentation for alternative solver options:\n",
      "    https://scikit-learn.org/stable/modules/linear_model.html#logistic-regression\n",
      "  n_iter_i = _check_optimize_result(\n"
     ]
    },
    {
     "data": {
      "text/html": [
       "<style>#sk-container-id-1 {color: black;background-color: white;}#sk-container-id-1 pre{padding: 0;}#sk-container-id-1 div.sk-toggleable {background-color: white;}#sk-container-id-1 label.sk-toggleable__label {cursor: pointer;display: block;width: 100%;margin-bottom: 0;padding: 0.3em;box-sizing: border-box;text-align: center;}#sk-container-id-1 label.sk-toggleable__label-arrow:before {content: \"▸\";float: left;margin-right: 0.25em;color: #696969;}#sk-container-id-1 label.sk-toggleable__label-arrow:hover:before {color: black;}#sk-container-id-1 div.sk-estimator:hover label.sk-toggleable__label-arrow:before {color: black;}#sk-container-id-1 div.sk-toggleable__content {max-height: 0;max-width: 0;overflow: hidden;text-align: left;background-color: #f0f8ff;}#sk-container-id-1 div.sk-toggleable__content pre {margin: 0.2em;color: black;border-radius: 0.25em;background-color: #f0f8ff;}#sk-container-id-1 input.sk-toggleable__control:checked~div.sk-toggleable__content {max-height: 200px;max-width: 100%;overflow: auto;}#sk-container-id-1 input.sk-toggleable__control:checked~label.sk-toggleable__label-arrow:before {content: \"▾\";}#sk-container-id-1 div.sk-estimator input.sk-toggleable__control:checked~label.sk-toggleable__label {background-color: #d4ebff;}#sk-container-id-1 div.sk-label input.sk-toggleable__control:checked~label.sk-toggleable__label {background-color: #d4ebff;}#sk-container-id-1 input.sk-hidden--visually {border: 0;clip: rect(1px 1px 1px 1px);clip: rect(1px, 1px, 1px, 1px);height: 1px;margin: -1px;overflow: hidden;padding: 0;position: absolute;width: 1px;}#sk-container-id-1 div.sk-estimator {font-family: monospace;background-color: #f0f8ff;border: 1px dotted black;border-radius: 0.25em;box-sizing: border-box;margin-bottom: 0.5em;}#sk-container-id-1 div.sk-estimator:hover {background-color: #d4ebff;}#sk-container-id-1 div.sk-parallel-item::after {content: \"\";width: 100%;border-bottom: 1px solid gray;flex-grow: 1;}#sk-container-id-1 div.sk-label:hover label.sk-toggleable__label {background-color: #d4ebff;}#sk-container-id-1 div.sk-serial::before {content: \"\";position: absolute;border-left: 1px solid gray;box-sizing: border-box;top: 0;bottom: 0;left: 50%;z-index: 0;}#sk-container-id-1 div.sk-serial {display: flex;flex-direction: column;align-items: center;background-color: white;padding-right: 0.2em;padding-left: 0.2em;position: relative;}#sk-container-id-1 div.sk-item {position: relative;z-index: 1;}#sk-container-id-1 div.sk-parallel {display: flex;align-items: stretch;justify-content: center;background-color: white;position: relative;}#sk-container-id-1 div.sk-item::before, #sk-container-id-1 div.sk-parallel-item::before {content: \"\";position: absolute;border-left: 1px solid gray;box-sizing: border-box;top: 0;bottom: 0;left: 50%;z-index: -1;}#sk-container-id-1 div.sk-parallel-item {display: flex;flex-direction: column;z-index: 1;position: relative;background-color: white;}#sk-container-id-1 div.sk-parallel-item:first-child::after {align-self: flex-end;width: 50%;}#sk-container-id-1 div.sk-parallel-item:last-child::after {align-self: flex-start;width: 50%;}#sk-container-id-1 div.sk-parallel-item:only-child::after {width: 0;}#sk-container-id-1 div.sk-dashed-wrapped {border: 1px dashed gray;margin: 0 0.4em 0.5em 0.4em;box-sizing: border-box;padding-bottom: 0.4em;background-color: white;}#sk-container-id-1 div.sk-label label {font-family: monospace;font-weight: bold;display: inline-block;line-height: 1.2em;}#sk-container-id-1 div.sk-label-container {text-align: center;}#sk-container-id-1 div.sk-container {/* jupyter's `normalize.less` sets `[hidden] { display: none; }` but bootstrap.min.css set `[hidden] { display: none !important; }` so we also need the `!important` here to be able to override the default hidden behavior on the sphinx rendered scikit-learn.org. See: https://github.com/scikit-learn/scikit-learn/issues/21755 */display: inline-block !important;position: relative;}#sk-container-id-1 div.sk-text-repr-fallback {display: none;}</style><div id=\"sk-container-id-1\" class=\"sk-top-container\"><div class=\"sk-text-repr-fallback\"><pre>LogisticRegression()</pre><b>In a Jupyter environment, please rerun this cell to show the HTML representation or trust the notebook. <br />On GitHub, the HTML representation is unable to render, please try loading this page with nbviewer.org.</b></div><div class=\"sk-container\" hidden><div class=\"sk-item\"><div class=\"sk-estimator sk-toggleable\"><input class=\"sk-toggleable__control sk-hidden--visually\" id=\"sk-estimator-id-1\" type=\"checkbox\" checked><label for=\"sk-estimator-id-1\" class=\"sk-toggleable__label sk-toggleable__label-arrow\">LogisticRegression</label><div class=\"sk-toggleable__content\"><pre>LogisticRegression()</pre></div></div></div></div></div>"
      ],
      "text/plain": [
       "LogisticRegression()"
      ]
     },
     "execution_count": 26,
     "metadata": {},
     "output_type": "execute_result"
    }
   ],
   "source": [
    "from sklearn.linear_model import LogisticRegression\n",
    "\n",
    "# Initialize model\n",
    "model = LogisticRegression()\n",
    "\n",
    "# Train the model\n",
    "model.fit(X_train, y_train)\n"
   ]
  },
  {
   "cell_type": "code",
   "execution_count": 27,
   "metadata": {
    "execution": {
     "iopub.execute_input": "2025-07-25T13:45:06.649939Z",
     "iopub.status.busy": "2025-07-25T13:45:06.648416Z",
     "iopub.status.idle": "2025-07-25T13:45:06.657993Z",
     "shell.execute_reply": "2025-07-25T13:45:06.656898Z",
     "shell.execute_reply.started": "2025-07-25T13:45:06.649909Z"
    },
    "trusted": true
   },
   "outputs": [],
   "source": [
    "# Predict survival on the test dataset\n",
    "predictions = model.predict(test_data)\n"
   ]
  },
  {
   "cell_type": "code",
   "execution_count": 28,
   "metadata": {
    "execution": {
     "iopub.execute_input": "2025-07-25T13:45:06.659876Z",
     "iopub.status.busy": "2025-07-25T13:45:06.659353Z",
     "iopub.status.idle": "2025-07-25T13:45:07.067463Z",
     "shell.execute_reply": "2025-07-25T13:45:07.065957Z",
     "shell.execute_reply.started": "2025-07-25T13:45:06.659851Z"
    },
    "trusted": true
   },
   "outputs": [
    {
     "name": "stdout",
     "output_type": "stream",
     "text": [
      "Accuracy: 0.8100558659217877\n",
      "Confusion Matrix:\n",
      " [[90 15]\n",
      " [19 55]]\n"
     ]
    },
    {
     "name": "stderr",
     "output_type": "stream",
     "text": [
      "/usr/local/lib/python3.11/dist-packages/sklearn/linear_model/_logistic.py:458: ConvergenceWarning: lbfgs failed to converge (status=1):\n",
      "STOP: TOTAL NO. OF ITERATIONS REACHED LIMIT.\n",
      "\n",
      "Increase the number of iterations (max_iter) or scale the data as shown in:\n",
      "    https://scikit-learn.org/stable/modules/preprocessing.html\n",
      "Please also refer to the documentation for alternative solver options:\n",
      "    https://scikit-learn.org/stable/modules/linear_model.html#logistic-regression\n",
      "  n_iter_i = _check_optimize_result(\n"
     ]
    }
   ],
   "source": [
    "from sklearn.model_selection import train_test_split\n",
    "from sklearn.metrics import accuracy_score, confusion_matrix\n",
    "\n",
    "# Split train data into training and validation sets\n",
    "X_train_split, X_val, y_train_split, y_val = train_test_split(X_train, y_train, test_size=0.2, random_state=42)\n",
    "\n",
    "# Train on split\n",
    "model.fit(X_train_split, y_train_split)\n",
    "\n",
    "# Predict on validation set\n",
    "val_preds = model.predict(X_val)\n",
    "\n",
    "# Accuracy and confusion matrix\n",
    "print(\"Accuracy:\", accuracy_score(y_val, val_preds))\n",
    "print(\"Confusion Matrix:\\n\", confusion_matrix(y_val, val_preds))\n"
   ]
  },
  {
   "cell_type": "code",
   "execution_count": 29,
   "metadata": {
    "execution": {
     "iopub.execute_input": "2025-07-25T13:45:07.068290Z",
     "iopub.status.busy": "2025-07-25T13:45:07.068066Z",
     "iopub.status.idle": "2025-07-25T13:45:07.078379Z",
     "shell.execute_reply": "2025-07-25T13:45:07.076276Z",
     "shell.execute_reply.started": "2025-07-25T13:45:07.068270Z"
    },
    "trusted": true
   },
   "outputs": [],
   "source": [
    "# Create submission DataFrame\n",
    "submission = pd.DataFrame({\n",
    "    'PassengerId': test_data['PassengerId'],\n",
    "    'Survived': predictions\n",
    "})\n"
   ]
  },
  {
   "cell_type": "code",
   "execution_count": 30,
   "metadata": {
    "execution": {
     "iopub.execute_input": "2025-07-25T13:45:07.080906Z",
     "iopub.status.busy": "2025-07-25T13:45:07.079246Z",
     "iopub.status.idle": "2025-07-25T13:45:07.122348Z",
     "shell.execute_reply": "2025-07-25T13:45:07.121573Z",
     "shell.execute_reply.started": "2025-07-25T13:45:07.080873Z"
    },
    "trusted": true
   },
   "outputs": [],
   "source": [
    "# Save to CSV (no index!)\n",
    "submission.to_csv('submission.csv', index=False)\n"
   ]
  },
  {
   "cell_type": "code",
   "execution_count": 31,
   "metadata": {
    "execution": {
     "iopub.execute_input": "2025-07-25T13:45:07.123571Z",
     "iopub.status.busy": "2025-07-25T13:45:07.123268Z",
     "iopub.status.idle": "2025-07-25T13:45:07.156845Z",
     "shell.execute_reply": "2025-07-25T13:45:07.156141Z",
     "shell.execute_reply.started": "2025-07-25T13:45:07.123548Z"
    },
    "trusted": true
   },
   "outputs": [
    {
     "name": "stdout",
     "output_type": "stream",
     "text": [
      "🔹 My Submission:\n",
      "   PassengerId  Survived\n",
      "0          892         0\n",
      "1          893         0\n",
      "2          894         0\n",
      "3          895         0\n",
      "4          896         1\n",
      "\n",
      "🔸 Sample Submission from Kaggle:\n",
      "   PassengerId  Survived\n",
      "0          892         0\n",
      "1          893         1\n",
      "2          894         0\n",
      "3          895         0\n",
      "4          896         1\n"
     ]
    }
   ],
   "source": [
    "# Load your submission file (just to confirm its format)\n",
    "my_submission = pd.read_csv('/kaggle/working/submission.csv')\n",
    "\n",
    "# Load the sample submission provided by Kaggle\n",
    "sample_submission = pd.read_csv('/kaggle/input/titanic/gender_submission.csv')\n",
    "\n",
    "# Display first few rows of both\n",
    "print(\"🔹 My Submission:\")\n",
    "print(my_submission.head())\n",
    "\n",
    "print(\"\\n🔸 Sample Submission from Kaggle:\")\n",
    "print(sample_submission.head())\n"
   ]
  },
  {
   "cell_type": "code",
   "execution_count": 32,
   "metadata": {
    "execution": {
     "iopub.execute_input": "2025-07-25T13:45:07.160574Z",
     "iopub.status.busy": "2025-07-25T13:45:07.158319Z",
     "iopub.status.idle": "2025-07-25T13:45:07.168987Z",
     "shell.execute_reply": "2025-07-25T13:45:07.168214Z",
     "shell.execute_reply.started": "2025-07-25T13:45:07.160548Z"
    },
    "trusted": true
   },
   "outputs": [
    {
     "name": "stdout",
     "output_type": "stream",
     "text": [
      "\n",
      "✅ Matching predictions with sample: 395 out of 418\n"
     ]
    }
   ],
   "source": [
    "# Check how many predicted values match the sample\n",
    "matching_predictions = (my_submission['Survived'] == sample_submission['Survived']).sum()\n",
    "total = len(my_submission)\n",
    "\n",
    "print(f\"\\n✅ Matching predictions with sample: {matching_predictions} out of {total}\")\n"
   ]
  }
 ],
 "metadata": {
  "kaggle": {
   "accelerator": "none",
   "dataSources": [
    {
     "databundleVersionId": 26502,
     "sourceId": 3136,
     "sourceType": "competition"
    }
   ],
   "dockerImageVersionId": 31089,
   "isGpuEnabled": false,
   "isInternetEnabled": false,
   "language": "python",
   "sourceType": "notebook"
  },
  "kernelspec": {
   "display_name": "Python 3",
   "language": "python",
   "name": "python3"
  },
  "language_info": {
   "codemirror_mode": {
    "name": "ipython",
    "version": 3
   },
   "file_extension": ".py",
   "mimetype": "text/x-python",
   "name": "python",
   "nbconvert_exporter": "python",
   "pygments_lexer": "ipython3",
   "version": "3.11.13"
  }
 },
 "nbformat": 4,
 "nbformat_minor": 4
}
